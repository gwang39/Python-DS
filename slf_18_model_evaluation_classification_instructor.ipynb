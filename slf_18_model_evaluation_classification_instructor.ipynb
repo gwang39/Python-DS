{
 "cells": [
  {
   "cell_type": "markdown",
   "metadata": {},
   "source": [
    "<br>\n",
    "<p style=\"text-align: left;\"><img src='https://s3.amazonaws.com/weclouddata/images/logos/sunlife_logo.png' width='35%'></p>\n",
    "<p style=\"text-align:left;\"><font size='10'><b> Machine Learning - Classification Model Evaluation</b></font> </p><font color='#559E54' size=6>Instructor Copy</font> </p>\n",
    "<h2 align='left' > Sunlife Data Science Training </h2>\n",
    "\n",
    "<h4 align='left'>  Prepared by: <img src='https://s3.amazonaws.com/weclouddata/images/logos/wcd_logo.png' width='15%'>\n",
    "\n",
    "---"
   ]
  },
  {
   "cell_type": "markdown",
   "metadata": {},
   "source": [
    "### Load The Dataset\n",
    "\n",
    "This data is taken from a telecommunications company and involves customer data for a collection of customers who either stayed with the company or left within a certain period. In many industries its often not the case that the cut off is so binary. Frequently it might be more likely that a client account lays dormant rather then getting explicitly closed - for example if the client only pays for usage.\n",
    "\n",
    "This dataset is taken from [here](http://www.dataminingconsultant.com/data/churn.txt) with descriptions of the data available [here](http://www.sgi.com/tech/mlc/db/churn.names).\n",
    "\n",
    "\n",
    "- Each row represents a subscribing telephone customer. \n",
    "- Each column contains customer attributes such as phone number, call minutes used during different times of day, charges incurred for services, lifetime account duration, and whether or not the customer is still a customer."
   ]
  },
  {
   "cell_type": "code",
   "execution_count": 1,
   "metadata": {},
   "outputs": [
    {
     "name": "stderr",
     "output_type": "stream",
     "text": [
      "/anaconda3/lib/python3.7/site-packages/sklearn/ensemble/weight_boosting.py:29: DeprecationWarning: numpy.core.umath_tests is an internal NumPy module and should not be imported. It will be removed in a future NumPy release.\n",
      "  from numpy.core.umath_tests import inner1d\n"
     ]
    }
   ],
   "source": [
    "import pandas as pd\n",
    "import numpy as np\n",
    "import matplotlib.pyplot as plt\n",
    "import json\n",
    "\n",
    "from sklearn.model_selection import KFold\n",
    "from sklearn.preprocessing import StandardScaler\n",
    "from sklearn.model_selection import train_test_split\n",
    "from sklearn.svm import SVC\n",
    "from sklearn.ensemble import RandomForestClassifier as RF\n",
    "%matplotlib inline "
   ]
  },
  {
   "cell_type": "markdown",
   "metadata": {},
   "source": [
    "# $\\Delta$ 1. Model Fitting"
   ]
  },
  {
   "cell_type": "markdown",
   "metadata": {},
   "source": [
    "## 1.1 - Load data"
   ]
  },
  {
   "cell_type": "code",
   "execution_count": 2,
   "metadata": {},
   "outputs": [
    {
     "name": "stdout",
     "output_type": "stream",
     "text": [
      "Column names:\n",
      "['State', 'Account Length', 'Area Code', 'Phone', \"Int'l Plan\", 'VMail Plan', 'VMail Message', 'Day Mins', 'Day Calls', 'Day Charge', 'Eve Mins', 'Eve Calls', 'Eve Charge', 'Night Mins', 'Night Calls', 'Night Charge', 'Intl Mins', 'Intl Calls', 'Intl Charge', 'CustServ Calls', 'Churn']\n"
     ]
    }
   ],
   "source": [
    "churn_df = pd.read_csv('https://s3.amazonaws.com/weclouddata/datasets/random/churn.csv')\n",
    "col_names = churn_df.columns.tolist()\n",
    "print (\"Column names:\")\n",
    "print (col_names)"
   ]
  },
  {
   "cell_type": "code",
   "execution_count": 3,
   "metadata": {},
   "outputs": [
    {
     "data": {
      "text/plain": [
       "(3333, 21)"
      ]
     },
     "execution_count": 3,
     "metadata": {},
     "output_type": "execute_result"
    }
   ],
   "source": [
    "churn_df.shape"
   ]
  },
  {
   "cell_type": "code",
   "execution_count": 4,
   "metadata": {},
   "outputs": [
    {
     "data": {
      "text/html": [
       "<div>\n",
       "<style scoped>\n",
       "    .dataframe tbody tr th:only-of-type {\n",
       "        vertical-align: middle;\n",
       "    }\n",
       "\n",
       "    .dataframe tbody tr th {\n",
       "        vertical-align: top;\n",
       "    }\n",
       "\n",
       "    .dataframe thead th {\n",
       "        text-align: right;\n",
       "    }\n",
       "</style>\n",
       "<table border=\"1\" class=\"dataframe\">\n",
       "  <thead>\n",
       "    <tr style=\"text-align: right;\">\n",
       "      <th></th>\n",
       "      <th>State</th>\n",
       "      <th>Account Length</th>\n",
       "      <th>Area Code</th>\n",
       "      <th>Phone</th>\n",
       "      <th>Int'l Plan</th>\n",
       "      <th>VMail Plan</th>\n",
       "      <th>VMail Message</th>\n",
       "      <th>Day Mins</th>\n",
       "      <th>Day Calls</th>\n",
       "      <th>Day Charge</th>\n",
       "      <th>...</th>\n",
       "      <th>Eve Calls</th>\n",
       "      <th>Eve Charge</th>\n",
       "      <th>Night Mins</th>\n",
       "      <th>Night Calls</th>\n",
       "      <th>Night Charge</th>\n",
       "      <th>Intl Mins</th>\n",
       "      <th>Intl Calls</th>\n",
       "      <th>Intl Charge</th>\n",
       "      <th>CustServ Calls</th>\n",
       "      <th>Churn</th>\n",
       "    </tr>\n",
       "  </thead>\n",
       "  <tbody>\n",
       "    <tr>\n",
       "      <th>0</th>\n",
       "      <td>KS</td>\n",
       "      <td>128</td>\n",
       "      <td>415</td>\n",
       "      <td>382-4657</td>\n",
       "      <td>no</td>\n",
       "      <td>yes</td>\n",
       "      <td>25</td>\n",
       "      <td>265.1</td>\n",
       "      <td>110</td>\n",
       "      <td>45.07</td>\n",
       "      <td>...</td>\n",
       "      <td>99</td>\n",
       "      <td>16.78</td>\n",
       "      <td>244.7</td>\n",
       "      <td>91</td>\n",
       "      <td>11.01</td>\n",
       "      <td>10.0</td>\n",
       "      <td>3</td>\n",
       "      <td>2.70</td>\n",
       "      <td>1</td>\n",
       "      <td>False</td>\n",
       "    </tr>\n",
       "    <tr>\n",
       "      <th>1</th>\n",
       "      <td>OH</td>\n",
       "      <td>107</td>\n",
       "      <td>415</td>\n",
       "      <td>371-7191</td>\n",
       "      <td>no</td>\n",
       "      <td>yes</td>\n",
       "      <td>26</td>\n",
       "      <td>161.6</td>\n",
       "      <td>123</td>\n",
       "      <td>27.47</td>\n",
       "      <td>...</td>\n",
       "      <td>103</td>\n",
       "      <td>16.62</td>\n",
       "      <td>254.4</td>\n",
       "      <td>103</td>\n",
       "      <td>11.45</td>\n",
       "      <td>13.7</td>\n",
       "      <td>3</td>\n",
       "      <td>3.70</td>\n",
       "      <td>1</td>\n",
       "      <td>False</td>\n",
       "    </tr>\n",
       "    <tr>\n",
       "      <th>2</th>\n",
       "      <td>NJ</td>\n",
       "      <td>137</td>\n",
       "      <td>415</td>\n",
       "      <td>358-1921</td>\n",
       "      <td>no</td>\n",
       "      <td>no</td>\n",
       "      <td>0</td>\n",
       "      <td>243.4</td>\n",
       "      <td>114</td>\n",
       "      <td>41.38</td>\n",
       "      <td>...</td>\n",
       "      <td>110</td>\n",
       "      <td>10.30</td>\n",
       "      <td>162.6</td>\n",
       "      <td>104</td>\n",
       "      <td>7.32</td>\n",
       "      <td>12.2</td>\n",
       "      <td>5</td>\n",
       "      <td>3.29</td>\n",
       "      <td>0</td>\n",
       "      <td>False</td>\n",
       "    </tr>\n",
       "    <tr>\n",
       "      <th>3</th>\n",
       "      <td>OH</td>\n",
       "      <td>84</td>\n",
       "      <td>408</td>\n",
       "      <td>375-9999</td>\n",
       "      <td>yes</td>\n",
       "      <td>no</td>\n",
       "      <td>0</td>\n",
       "      <td>299.4</td>\n",
       "      <td>71</td>\n",
       "      <td>50.90</td>\n",
       "      <td>...</td>\n",
       "      <td>88</td>\n",
       "      <td>5.26</td>\n",
       "      <td>196.9</td>\n",
       "      <td>89</td>\n",
       "      <td>8.86</td>\n",
       "      <td>6.6</td>\n",
       "      <td>7</td>\n",
       "      <td>1.78</td>\n",
       "      <td>2</td>\n",
       "      <td>False</td>\n",
       "    </tr>\n",
       "    <tr>\n",
       "      <th>4</th>\n",
       "      <td>OK</td>\n",
       "      <td>75</td>\n",
       "      <td>415</td>\n",
       "      <td>330-6626</td>\n",
       "      <td>yes</td>\n",
       "      <td>no</td>\n",
       "      <td>0</td>\n",
       "      <td>166.7</td>\n",
       "      <td>113</td>\n",
       "      <td>28.34</td>\n",
       "      <td>...</td>\n",
       "      <td>122</td>\n",
       "      <td>12.61</td>\n",
       "      <td>186.9</td>\n",
       "      <td>121</td>\n",
       "      <td>8.41</td>\n",
       "      <td>10.1</td>\n",
       "      <td>3</td>\n",
       "      <td>2.73</td>\n",
       "      <td>3</td>\n",
       "      <td>False</td>\n",
       "    </tr>\n",
       "  </tbody>\n",
       "</table>\n",
       "<p>5 rows × 21 columns</p>\n",
       "</div>"
      ],
      "text/plain": [
       "  State  Account Length  Area Code     Phone Int'l Plan VMail Plan  \\\n",
       "0    KS             128        415  382-4657         no        yes   \n",
       "1    OH             107        415  371-7191         no        yes   \n",
       "2    NJ             137        415  358-1921         no         no   \n",
       "3    OH              84        408  375-9999        yes         no   \n",
       "4    OK              75        415  330-6626        yes         no   \n",
       "\n",
       "   VMail Message  Day Mins  Day Calls  Day Charge  ...  Eve Calls  Eve Charge  \\\n",
       "0             25     265.1        110       45.07  ...         99       16.78   \n",
       "1             26     161.6        123       27.47  ...        103       16.62   \n",
       "2              0     243.4        114       41.38  ...        110       10.30   \n",
       "3              0     299.4         71       50.90  ...         88        5.26   \n",
       "4              0     166.7        113       28.34  ...        122       12.61   \n",
       "\n",
       "   Night Mins  Night Calls  Night Charge  Intl Mins  Intl Calls  Intl Charge  \\\n",
       "0       244.7           91         11.01       10.0           3         2.70   \n",
       "1       254.4          103         11.45       13.7           3         3.70   \n",
       "2       162.6          104          7.32       12.2           5         3.29   \n",
       "3       196.9           89          8.86        6.6           7         1.78   \n",
       "4       186.9          121          8.41       10.1           3         2.73   \n",
       "\n",
       "   CustServ Calls  Churn  \n",
       "0               1  False  \n",
       "1               1  False  \n",
       "2               0  False  \n",
       "3               2  False  \n",
       "4               3  False  \n",
       "\n",
       "[5 rows x 21 columns]"
      ]
     },
     "execution_count": 4,
     "metadata": {},
     "output_type": "execute_result"
    }
   ],
   "source": [
    "churn_df.head(5)"
   ]
  },
  {
   "cell_type": "markdown",
   "metadata": {},
   "source": [
    "#### $\\sigma$ Adjust display options for pandas\n",
    "> If pandas not displaying all columns, you need to change the options for max_columns"
   ]
  },
  {
   "cell_type": "code",
   "execution_count": 5,
   "metadata": {},
   "outputs": [
    {
     "name": "stdout",
     "output_type": "stream",
     "text": [
      "20\n"
     ]
    }
   ],
   "source": [
    "print(pd.get_option(\"display.max_columns\"))"
   ]
  },
  {
   "cell_type": "code",
   "execution_count": 6,
   "metadata": {},
   "outputs": [],
   "source": [
    "import pandas as pd\n",
    "pd.set_option('display.max_columns', 0)"
   ]
  },
  {
   "cell_type": "code",
   "execution_count": 7,
   "metadata": {},
   "outputs": [
    {
     "data": {
      "text/html": [
       "<div>\n",
       "<style scoped>\n",
       "    .dataframe tbody tr th:only-of-type {\n",
       "        vertical-align: middle;\n",
       "    }\n",
       "\n",
       "    .dataframe tbody tr th {\n",
       "        vertical-align: top;\n",
       "    }\n",
       "\n",
       "    .dataframe thead th {\n",
       "        text-align: right;\n",
       "    }\n",
       "</style>\n",
       "<table border=\"1\" class=\"dataframe\">\n",
       "  <thead>\n",
       "    <tr style=\"text-align: right;\">\n",
       "      <th></th>\n",
       "      <th>State</th>\n",
       "      <th>Account Length</th>\n",
       "      <th>Area Code</th>\n",
       "      <th>Phone</th>\n",
       "      <th>Int'l Plan</th>\n",
       "      <th>VMail Plan</th>\n",
       "      <th>VMail Message</th>\n",
       "      <th>Day Mins</th>\n",
       "      <th>Day Calls</th>\n",
       "      <th>Day Charge</th>\n",
       "      <th>Eve Mins</th>\n",
       "      <th>Eve Calls</th>\n",
       "      <th>Eve Charge</th>\n",
       "      <th>Night Mins</th>\n",
       "      <th>Night Calls</th>\n",
       "      <th>Night Charge</th>\n",
       "      <th>Intl Mins</th>\n",
       "      <th>Intl Calls</th>\n",
       "      <th>Intl Charge</th>\n",
       "      <th>CustServ Calls</th>\n",
       "      <th>Churn</th>\n",
       "    </tr>\n",
       "  </thead>\n",
       "  <tbody>\n",
       "    <tr>\n",
       "      <th>0</th>\n",
       "      <td>KS</td>\n",
       "      <td>128</td>\n",
       "      <td>415</td>\n",
       "      <td>382-4657</td>\n",
       "      <td>no</td>\n",
       "      <td>yes</td>\n",
       "      <td>25</td>\n",
       "      <td>265.1</td>\n",
       "      <td>110</td>\n",
       "      <td>45.07</td>\n",
       "      <td>197.4</td>\n",
       "      <td>99</td>\n",
       "      <td>16.78</td>\n",
       "      <td>244.7</td>\n",
       "      <td>91</td>\n",
       "      <td>11.01</td>\n",
       "      <td>10.0</td>\n",
       "      <td>3</td>\n",
       "      <td>2.70</td>\n",
       "      <td>1</td>\n",
       "      <td>False</td>\n",
       "    </tr>\n",
       "    <tr>\n",
       "      <th>1</th>\n",
       "      <td>OH</td>\n",
       "      <td>107</td>\n",
       "      <td>415</td>\n",
       "      <td>371-7191</td>\n",
       "      <td>no</td>\n",
       "      <td>yes</td>\n",
       "      <td>26</td>\n",
       "      <td>161.6</td>\n",
       "      <td>123</td>\n",
       "      <td>27.47</td>\n",
       "      <td>195.5</td>\n",
       "      <td>103</td>\n",
       "      <td>16.62</td>\n",
       "      <td>254.4</td>\n",
       "      <td>103</td>\n",
       "      <td>11.45</td>\n",
       "      <td>13.7</td>\n",
       "      <td>3</td>\n",
       "      <td>3.70</td>\n",
       "      <td>1</td>\n",
       "      <td>False</td>\n",
       "    </tr>\n",
       "    <tr>\n",
       "      <th>2</th>\n",
       "      <td>NJ</td>\n",
       "      <td>137</td>\n",
       "      <td>415</td>\n",
       "      <td>358-1921</td>\n",
       "      <td>no</td>\n",
       "      <td>no</td>\n",
       "      <td>0</td>\n",
       "      <td>243.4</td>\n",
       "      <td>114</td>\n",
       "      <td>41.38</td>\n",
       "      <td>121.2</td>\n",
       "      <td>110</td>\n",
       "      <td>10.30</td>\n",
       "      <td>162.6</td>\n",
       "      <td>104</td>\n",
       "      <td>7.32</td>\n",
       "      <td>12.2</td>\n",
       "      <td>5</td>\n",
       "      <td>3.29</td>\n",
       "      <td>0</td>\n",
       "      <td>False</td>\n",
       "    </tr>\n",
       "    <tr>\n",
       "      <th>3</th>\n",
       "      <td>OH</td>\n",
       "      <td>84</td>\n",
       "      <td>408</td>\n",
       "      <td>375-9999</td>\n",
       "      <td>yes</td>\n",
       "      <td>no</td>\n",
       "      <td>0</td>\n",
       "      <td>299.4</td>\n",
       "      <td>71</td>\n",
       "      <td>50.90</td>\n",
       "      <td>61.9</td>\n",
       "      <td>88</td>\n",
       "      <td>5.26</td>\n",
       "      <td>196.9</td>\n",
       "      <td>89</td>\n",
       "      <td>8.86</td>\n",
       "      <td>6.6</td>\n",
       "      <td>7</td>\n",
       "      <td>1.78</td>\n",
       "      <td>2</td>\n",
       "      <td>False</td>\n",
       "    </tr>\n",
       "    <tr>\n",
       "      <th>4</th>\n",
       "      <td>OK</td>\n",
       "      <td>75</td>\n",
       "      <td>415</td>\n",
       "      <td>330-6626</td>\n",
       "      <td>yes</td>\n",
       "      <td>no</td>\n",
       "      <td>0</td>\n",
       "      <td>166.7</td>\n",
       "      <td>113</td>\n",
       "      <td>28.34</td>\n",
       "      <td>148.3</td>\n",
       "      <td>122</td>\n",
       "      <td>12.61</td>\n",
       "      <td>186.9</td>\n",
       "      <td>121</td>\n",
       "      <td>8.41</td>\n",
       "      <td>10.1</td>\n",
       "      <td>3</td>\n",
       "      <td>2.73</td>\n",
       "      <td>3</td>\n",
       "      <td>False</td>\n",
       "    </tr>\n",
       "  </tbody>\n",
       "</table>\n",
       "</div>"
      ],
      "text/plain": [
       "  State  Account Length  Area Code     Phone Int'l Plan VMail Plan  VMail Message  ...  Night Calls  Night Charge  Intl Mins  Intl Calls  Intl Charge  CustServ Calls  Churn\n",
       "0    KS             128        415  382-4657         no        yes             25  ...           91         11.01       10.0           3         2.70               1  False\n",
       "1    OH             107        415  371-7191         no        yes             26  ...          103         11.45       13.7           3         3.70               1  False\n",
       "2    NJ             137        415  358-1921         no         no              0  ...          104          7.32       12.2           5         3.29               0  False\n",
       "3    OH              84        408  375-9999        yes         no              0  ...           89          8.86        6.6           7         1.78               2  False\n",
       "4    OK              75        415  330-6626        yes         no              0  ...          121          8.41       10.1           3         2.73               3  False\n",
       "\n",
       "[5 rows x 21 columns]"
      ]
     },
     "execution_count": 7,
     "metadata": {},
     "output_type": "execute_result"
    }
   ],
   "source": [
    "churn_df.head(5)"
   ]
  },
  {
   "cell_type": "markdown",
   "metadata": {},
   "source": [
    "> After the max_columns option is set to 0, all columns get displayed properly"
   ]
  },
  {
   "cell_type": "markdown",
   "metadata": {},
   "source": [
    "## 1.2 - Define the target variable\n",
    "> Convert boolean/catgorical variable to numerical binary values"
   ]
  },
  {
   "cell_type": "code",
   "execution_count": 8,
   "metadata": {},
   "outputs": [],
   "source": [
    "churn_df['Churn'] = churn_df.Churn.map({True: 1, False: 0})"
   ]
  },
  {
   "cell_type": "code",
   "execution_count": 9,
   "metadata": {},
   "outputs": [
    {
     "data": {
      "text/html": [
       "<div>\n",
       "<style scoped>\n",
       "    .dataframe tbody tr th:only-of-type {\n",
       "        vertical-align: middle;\n",
       "    }\n",
       "\n",
       "    .dataframe tbody tr th {\n",
       "        vertical-align: top;\n",
       "    }\n",
       "\n",
       "    .dataframe thead th {\n",
       "        text-align: right;\n",
       "    }\n",
       "</style>\n",
       "<table border=\"1\" class=\"dataframe\">\n",
       "  <thead>\n",
       "    <tr style=\"text-align: right;\">\n",
       "      <th></th>\n",
       "      <th>State</th>\n",
       "      <th>Account Length</th>\n",
       "      <th>Area Code</th>\n",
       "      <th>Phone</th>\n",
       "      <th>Int'l Plan</th>\n",
       "      <th>VMail Plan</th>\n",
       "      <th>VMail Message</th>\n",
       "      <th>Day Mins</th>\n",
       "      <th>Day Calls</th>\n",
       "      <th>Day Charge</th>\n",
       "      <th>Eve Mins</th>\n",
       "      <th>Eve Calls</th>\n",
       "      <th>Eve Charge</th>\n",
       "      <th>Night Mins</th>\n",
       "      <th>Night Calls</th>\n",
       "      <th>Night Charge</th>\n",
       "      <th>Intl Mins</th>\n",
       "      <th>Intl Calls</th>\n",
       "      <th>Intl Charge</th>\n",
       "      <th>CustServ Calls</th>\n",
       "      <th>Churn</th>\n",
       "    </tr>\n",
       "  </thead>\n",
       "  <tbody>\n",
       "    <tr>\n",
       "      <th>0</th>\n",
       "      <td>KS</td>\n",
       "      <td>128</td>\n",
       "      <td>415</td>\n",
       "      <td>382-4657</td>\n",
       "      <td>no</td>\n",
       "      <td>yes</td>\n",
       "      <td>25</td>\n",
       "      <td>265.1</td>\n",
       "      <td>110</td>\n",
       "      <td>45.07</td>\n",
       "      <td>197.4</td>\n",
       "      <td>99</td>\n",
       "      <td>16.78</td>\n",
       "      <td>244.7</td>\n",
       "      <td>91</td>\n",
       "      <td>11.01</td>\n",
       "      <td>10.0</td>\n",
       "      <td>3</td>\n",
       "      <td>2.70</td>\n",
       "      <td>1</td>\n",
       "      <td>0</td>\n",
       "    </tr>\n",
       "    <tr>\n",
       "      <th>1</th>\n",
       "      <td>OH</td>\n",
       "      <td>107</td>\n",
       "      <td>415</td>\n",
       "      <td>371-7191</td>\n",
       "      <td>no</td>\n",
       "      <td>yes</td>\n",
       "      <td>26</td>\n",
       "      <td>161.6</td>\n",
       "      <td>123</td>\n",
       "      <td>27.47</td>\n",
       "      <td>195.5</td>\n",
       "      <td>103</td>\n",
       "      <td>16.62</td>\n",
       "      <td>254.4</td>\n",
       "      <td>103</td>\n",
       "      <td>11.45</td>\n",
       "      <td>13.7</td>\n",
       "      <td>3</td>\n",
       "      <td>3.70</td>\n",
       "      <td>1</td>\n",
       "      <td>0</td>\n",
       "    </tr>\n",
       "    <tr>\n",
       "      <th>2</th>\n",
       "      <td>NJ</td>\n",
       "      <td>137</td>\n",
       "      <td>415</td>\n",
       "      <td>358-1921</td>\n",
       "      <td>no</td>\n",
       "      <td>no</td>\n",
       "      <td>0</td>\n",
       "      <td>243.4</td>\n",
       "      <td>114</td>\n",
       "      <td>41.38</td>\n",
       "      <td>121.2</td>\n",
       "      <td>110</td>\n",
       "      <td>10.30</td>\n",
       "      <td>162.6</td>\n",
       "      <td>104</td>\n",
       "      <td>7.32</td>\n",
       "      <td>12.2</td>\n",
       "      <td>5</td>\n",
       "      <td>3.29</td>\n",
       "      <td>0</td>\n",
       "      <td>0</td>\n",
       "    </tr>\n",
       "    <tr>\n",
       "      <th>3</th>\n",
       "      <td>OH</td>\n",
       "      <td>84</td>\n",
       "      <td>408</td>\n",
       "      <td>375-9999</td>\n",
       "      <td>yes</td>\n",
       "      <td>no</td>\n",
       "      <td>0</td>\n",
       "      <td>299.4</td>\n",
       "      <td>71</td>\n",
       "      <td>50.90</td>\n",
       "      <td>61.9</td>\n",
       "      <td>88</td>\n",
       "      <td>5.26</td>\n",
       "      <td>196.9</td>\n",
       "      <td>89</td>\n",
       "      <td>8.86</td>\n",
       "      <td>6.6</td>\n",
       "      <td>7</td>\n",
       "      <td>1.78</td>\n",
       "      <td>2</td>\n",
       "      <td>0</td>\n",
       "    </tr>\n",
       "    <tr>\n",
       "      <th>4</th>\n",
       "      <td>OK</td>\n",
       "      <td>75</td>\n",
       "      <td>415</td>\n",
       "      <td>330-6626</td>\n",
       "      <td>yes</td>\n",
       "      <td>no</td>\n",
       "      <td>0</td>\n",
       "      <td>166.7</td>\n",
       "      <td>113</td>\n",
       "      <td>28.34</td>\n",
       "      <td>148.3</td>\n",
       "      <td>122</td>\n",
       "      <td>12.61</td>\n",
       "      <td>186.9</td>\n",
       "      <td>121</td>\n",
       "      <td>8.41</td>\n",
       "      <td>10.1</td>\n",
       "      <td>3</td>\n",
       "      <td>2.73</td>\n",
       "      <td>3</td>\n",
       "      <td>0</td>\n",
       "    </tr>\n",
       "  </tbody>\n",
       "</table>\n",
       "</div>"
      ],
      "text/plain": [
       "  State  Account Length  Area Code     Phone Int'l Plan VMail Plan  VMail Message  ...  Night Calls  Night Charge  Intl Mins  Intl Calls  Intl Charge  CustServ Calls  Churn\n",
       "0    KS             128        415  382-4657         no        yes             25  ...           91         11.01       10.0           3         2.70               1      0\n",
       "1    OH             107        415  371-7191         no        yes             26  ...          103         11.45       13.7           3         3.70               1      0\n",
       "2    NJ             137        415  358-1921         no         no              0  ...          104          7.32       12.2           5         3.29               0      0\n",
       "3    OH              84        408  375-9999        yes         no              0  ...           89          8.86        6.6           7         1.78               2      0\n",
       "4    OK              75        415  330-6626        yes         no              0  ...          121          8.41       10.1           3         2.73               3      0\n",
       "\n",
       "[5 rows x 21 columns]"
      ]
     },
     "execution_count": 9,
     "metadata": {},
     "output_type": "execute_result"
    }
   ],
   "source": [
    "churn_df.head()"
   ]
  },
  {
   "cell_type": "markdown",
   "metadata": {},
   "source": [
    "## 1.3 - Remove some columns for this analysis\n",
    "> We will focus on model evaluation instead of feature engineering"
   ]
  },
  {
   "cell_type": "code",
   "execution_count": 10,
   "metadata": {},
   "outputs": [],
   "source": [
    "# Drop some variables \n",
    "# Target variable removed from feature columns\n",
    "to_drop = ['State','Area Code','Phone', 'Churn']\n",
    "churn_X = churn_df.drop(to_drop,axis=1)"
   ]
  },
  {
   "cell_type": "code",
   "execution_count": 11,
   "metadata": {},
   "outputs": [],
   "source": [
    "# 'yes'/'no' has to be converted to boolean values\n",
    "yes_no_cols = [\"Int'l Plan\",\"VMail Plan\"]\n",
    "churn_X[yes_no_cols] = churn_X[yes_no_cols] == 'yes'"
   ]
  },
  {
   "cell_type": "code",
   "execution_count": 12,
   "metadata": {},
   "outputs": [
    {
     "data": {
      "text/html": [
       "<div>\n",
       "<style scoped>\n",
       "    .dataframe tbody tr th:only-of-type {\n",
       "        vertical-align: middle;\n",
       "    }\n",
       "\n",
       "    .dataframe tbody tr th {\n",
       "        vertical-align: top;\n",
       "    }\n",
       "\n",
       "    .dataframe thead th {\n",
       "        text-align: right;\n",
       "    }\n",
       "</style>\n",
       "<table border=\"1\" class=\"dataframe\">\n",
       "  <thead>\n",
       "    <tr style=\"text-align: right;\">\n",
       "      <th></th>\n",
       "      <th>Account Length</th>\n",
       "      <th>Int'l Plan</th>\n",
       "      <th>VMail Plan</th>\n",
       "      <th>VMail Message</th>\n",
       "      <th>Day Mins</th>\n",
       "      <th>Day Calls</th>\n",
       "      <th>Day Charge</th>\n",
       "      <th>Eve Mins</th>\n",
       "      <th>Eve Calls</th>\n",
       "      <th>Eve Charge</th>\n",
       "      <th>Night Mins</th>\n",
       "      <th>Night Calls</th>\n",
       "      <th>Night Charge</th>\n",
       "      <th>Intl Mins</th>\n",
       "      <th>Intl Calls</th>\n",
       "      <th>Intl Charge</th>\n",
       "      <th>CustServ Calls</th>\n",
       "    </tr>\n",
       "  </thead>\n",
       "  <tbody>\n",
       "    <tr>\n",
       "      <th>0</th>\n",
       "      <td>128</td>\n",
       "      <td>False</td>\n",
       "      <td>True</td>\n",
       "      <td>25</td>\n",
       "      <td>265.1</td>\n",
       "      <td>110</td>\n",
       "      <td>45.07</td>\n",
       "      <td>197.4</td>\n",
       "      <td>99</td>\n",
       "      <td>16.78</td>\n",
       "      <td>244.7</td>\n",
       "      <td>91</td>\n",
       "      <td>11.01</td>\n",
       "      <td>10.0</td>\n",
       "      <td>3</td>\n",
       "      <td>2.70</td>\n",
       "      <td>1</td>\n",
       "    </tr>\n",
       "    <tr>\n",
       "      <th>1</th>\n",
       "      <td>107</td>\n",
       "      <td>False</td>\n",
       "      <td>True</td>\n",
       "      <td>26</td>\n",
       "      <td>161.6</td>\n",
       "      <td>123</td>\n",
       "      <td>27.47</td>\n",
       "      <td>195.5</td>\n",
       "      <td>103</td>\n",
       "      <td>16.62</td>\n",
       "      <td>254.4</td>\n",
       "      <td>103</td>\n",
       "      <td>11.45</td>\n",
       "      <td>13.7</td>\n",
       "      <td>3</td>\n",
       "      <td>3.70</td>\n",
       "      <td>1</td>\n",
       "    </tr>\n",
       "    <tr>\n",
       "      <th>2</th>\n",
       "      <td>137</td>\n",
       "      <td>False</td>\n",
       "      <td>False</td>\n",
       "      <td>0</td>\n",
       "      <td>243.4</td>\n",
       "      <td>114</td>\n",
       "      <td>41.38</td>\n",
       "      <td>121.2</td>\n",
       "      <td>110</td>\n",
       "      <td>10.30</td>\n",
       "      <td>162.6</td>\n",
       "      <td>104</td>\n",
       "      <td>7.32</td>\n",
       "      <td>12.2</td>\n",
       "      <td>5</td>\n",
       "      <td>3.29</td>\n",
       "      <td>0</td>\n",
       "    </tr>\n",
       "    <tr>\n",
       "      <th>3</th>\n",
       "      <td>84</td>\n",
       "      <td>True</td>\n",
       "      <td>False</td>\n",
       "      <td>0</td>\n",
       "      <td>299.4</td>\n",
       "      <td>71</td>\n",
       "      <td>50.90</td>\n",
       "      <td>61.9</td>\n",
       "      <td>88</td>\n",
       "      <td>5.26</td>\n",
       "      <td>196.9</td>\n",
       "      <td>89</td>\n",
       "      <td>8.86</td>\n",
       "      <td>6.6</td>\n",
       "      <td>7</td>\n",
       "      <td>1.78</td>\n",
       "      <td>2</td>\n",
       "    </tr>\n",
       "    <tr>\n",
       "      <th>4</th>\n",
       "      <td>75</td>\n",
       "      <td>True</td>\n",
       "      <td>False</td>\n",
       "      <td>0</td>\n",
       "      <td>166.7</td>\n",
       "      <td>113</td>\n",
       "      <td>28.34</td>\n",
       "      <td>148.3</td>\n",
       "      <td>122</td>\n",
       "      <td>12.61</td>\n",
       "      <td>186.9</td>\n",
       "      <td>121</td>\n",
       "      <td>8.41</td>\n",
       "      <td>10.1</td>\n",
       "      <td>3</td>\n",
       "      <td>2.73</td>\n",
       "      <td>3</td>\n",
       "    </tr>\n",
       "  </tbody>\n",
       "</table>\n",
       "</div>"
      ],
      "text/plain": [
       "   Account Length  Int'l Plan  VMail Plan  VMail Message  Day Mins  Day Calls  ...  Night Calls  Night Charge  Intl Mins  Intl Calls  Intl Charge  CustServ Calls\n",
       "0             128       False        True             25     265.1        110  ...           91         11.01       10.0           3         2.70               1\n",
       "1             107       False        True             26     161.6        123  ...          103         11.45       13.7           3         3.70               1\n",
       "2             137       False       False              0     243.4        114  ...          104          7.32       12.2           5         3.29               0\n",
       "3              84        True       False              0     299.4         71  ...           89          8.86        6.6           7         1.78               2\n",
       "4              75        True       False              0     166.7        113  ...          121          8.41       10.1           3         2.73               3\n",
       "\n",
       "[5 rows x 17 columns]"
      ]
     },
     "execution_count": 12,
     "metadata": {},
     "output_type": "execute_result"
    }
   ],
   "source": [
    "churn_X.head()"
   ]
  },
  {
   "cell_type": "code",
   "execution_count": 13,
   "metadata": {},
   "outputs": [
    {
     "data": {
      "text/plain": [
       "0    0\n",
       "1    0\n",
       "2    0\n",
       "3    0\n",
       "4    0\n",
       "Name: Churn, dtype: int64"
      ]
     },
     "execution_count": 13,
     "metadata": {},
     "output_type": "execute_result"
    }
   ],
   "source": [
    "churn_y = churn_df['Churn']\n",
    "churn_y.head()"
   ]
  },
  {
   "cell_type": "code",
   "execution_count": 14,
   "metadata": {},
   "outputs": [
    {
     "data": {
      "text/plain": [
       "<matplotlib.axes._subplots.AxesSubplot at 0x1a23ca4780>"
      ]
     },
     "execution_count": 14,
     "metadata": {},
     "output_type": "execute_result"
    },
    {
     "data": {
      "image/png": "[encoded data removed]",
      "text/plain": [
       "<Figure size 432x288 with 1 Axes>"
      ]
     },
     "metadata": {
      "needs_background": "light"
     },
     "output_type": "display_data"
    }
   ],
   "source": [
    "churn_df['Churn'].value_counts().plot.bar()"
   ]
  },
  {
   "cell_type": "markdown",
   "metadata": {},
   "source": [
    "## 1.4 - Train/Test Split"
   ]
  },
  {
   "cell_type": "markdown",
   "metadata": {},
   "source": [
    "### $\\sigma$ Split dataset into training and testing\n",
    "- 70% training, 30% testing\n",
    "- shuffle=True\n",
    "- random_state=2018"
   ]
  },
  {
   "cell_type": "code",
   "execution_count": 15,
   "metadata": {},
   "outputs": [],
   "source": [
    "################################\n",
    "## Your Code Below\n",
    "################################\n",
    "\n",
    "train_X, test_X, train_y, test_y = train_test_split(churn_X, churn_y, test_size=0.3, shuffle=True, random_state=2018)"
   ]
  },
  {
   "cell_type": "code",
   "execution_count": 16,
   "metadata": {},
   "outputs": [
    {
     "name": "stdout",
     "output_type": "stream",
     "text": [
      "Training data feature dimensions: (2333, 17)\n",
      "Training data target dimensions: (2333,)\n",
      "Testing data feature dimensions: (1000, 17)\n",
      "Testing data targetdimensions: (1000,)\n"
     ]
    }
   ],
   "source": [
    "print(\"Training data feature dimensions: {}\".format(train_X.shape))\n",
    "print(\"Training data target dimensions: {}\".format(train_y.shape))\n",
    "\n",
    "print(\"Testing data feature dimensions: {}\".format(test_X.shape))\n",
    "print(\"Testing data targetdimensions: {}\".format(test_y.shape))"
   ]
  },
  {
   "cell_type": "markdown",
   "metadata": {},
   "source": [
    "## 1.5 - Standardize Features"
   ]
  },
  {
   "cell_type": "code",
   "execution_count": 17,
   "metadata": {},
   "outputs": [
    {
     "name": "stdout",
     "output_type": "stream",
     "text": [
      "Index(['Account Length', 'Int'l Plan', 'VMail Plan', 'VMail Message',\n",
      "       'Day Mins', 'Day Calls', 'Day Charge', 'Eve Mins', 'Eve Calls',\n",
      "       'Eve Charge', 'Night Mins', 'Night Calls', 'Night Charge', 'Intl Mins',\n",
      "       'Intl Calls', 'Intl Charge', 'CustServ Calls'],\n",
      "      dtype='object')\n"
     ]
    }
   ],
   "source": [
    "# Pull out features for future use\n",
    "features = train_X.columns\n",
    "print (features)"
   ]
  },
  {
   "cell_type": "markdown",
   "metadata": {},
   "source": [
    "### $\\sigma$ Fit and transform on training set"
   ]
  },
  {
   "cell_type": "code",
   "execution_count": 18,
   "metadata": {},
   "outputs": [
    {
     "name": "stdout",
     "output_type": "stream",
     "text": [
      "Number of features:  (2333, 17)\n",
      "Unique target labels: [0 1]\n"
     ]
    }
   ],
   "source": [
    "# Standarsize features\n",
    "scaler = StandardScaler()\n",
    "train_X_std = scaler.fit_transform(train_X)\n",
    "print (\"Number of features: \", train_X_std.shape)\n",
    "print (\"Unique target labels:\", np.unique(train_y))"
   ]
  },
  {
   "cell_type": "markdown",
   "metadata": {},
   "source": [
    "### $\\sigma$ Transform the test set as well"
   ]
  },
  {
   "cell_type": "code",
   "execution_count": 19,
   "metadata": {},
   "outputs": [],
   "source": [
    "test_X_std = scaler.transform(test_X)"
   ]
  },
  {
   "cell_type": "code",
   "execution_count": 20,
   "metadata": {},
   "outputs": [
    {
     "name": "stdout",
     "output_type": "stream",
     "text": [
      "Number of features:  (1000, 17)\n",
      "Unique target labels: [0 1]\n"
     ]
    }
   ],
   "source": [
    "print (\"Number of features: \", test_X_std.shape)\n",
    "print (\"Unique target labels:\", np.unique(test_y))"
   ]
  },
  {
   "cell_type": "markdown",
   "metadata": {},
   "source": [
    "## 1.6 - Model Training"
   ]
  },
  {
   "cell_type": "markdown",
   "metadata": {},
   "source": [
    "### $\\sigma$ Fit a logistic regression model"
   ]
  },
  {
   "cell_type": "code",
   "execution_count": 39,
   "metadata": {},
   "outputs": [
    {
     "data": {
      "text/plain": [
       "LogisticRegression(C=1.0, class_weight=None, dual=False, fit_intercept=True,\n",
       "          intercept_scaling=1, max_iter=100, multi_class='ovr', n_jobs=1,\n",
       "          penalty='l2', random_state=None, solver='liblinear', tol=0.0001,\n",
       "          verbose=0, warm_start=False)"
      ]
     },
     "execution_count": 39,
     "metadata": {},
     "output_type": "execute_result"
    }
   ],
   "source": [
    "################################\n",
    "## Your Code Below\n",
    "################################\n",
    "\n",
    "from sklearn.linear_model import LogisticRegression \n",
    "\n",
    "# model instantiation\n",
    "lr = LogisticRegression()\n",
    "\n",
    "# model training\n",
    "lr.fit(train_X, train_y)"
   ]
  },
  {
   "cell_type": "markdown",
   "metadata": {},
   "source": [
    "### $\\sigma$ Make predictions"
   ]
  },
  {
   "cell_type": "code",
   "execution_count": 40,
   "metadata": {},
   "outputs": [],
   "source": [
    "################################\n",
    "## Your Code Below\n",
    "################################\n",
    "\n",
    "train_y_pred = lr.predict(train_X)\n",
    "test_y_pred = lr.predict(test_X)"
   ]
  },
  {
   "cell_type": "code",
   "execution_count": 45,
   "metadata": {},
   "outputs": [
    {
     "data": {
      "text/plain": [
       "array([0, 0, 0, ..., 0, 0, 0])"
      ]
     },
     "execution_count": 45,
     "metadata": {},
     "output_type": "execute_result"
    }
   ],
   "source": [
    "train_y_pred[:100]"
   ]
  },
  {
   "cell_type": "code",
   "execution_count": 44,
   "metadata": {},
   "outputs": [
    {
     "data": {
      "text/plain": [
       "array([0, 0, 0, 0, 0, 0, 0, 0, 0, 0, 0, 0, 0, 0, 0, 0, 0, 0, 0, 0, 0, 0,\n",
       "       0, 0, 0, 0, 0, 0, 0, 0, 0, 0, 0, 0, 0, 0, 0, 0, 0, 0, 0, 1, 0, 0,\n",
       "       0, 0, 0, 0, 0, 0, 0, 0, 0, 0, 0, 0, 0, 0, 0, 0, 0, 0, 0, 0, 0, 1,\n",
       "       0, 0, 0, 0, 0, 0, 0, 0, 0, 0, 0, 0, 0, 0, 0, 0, 0, 0, 0, 0, 0, 0,\n",
       "       0, 1, 0, 0, 0, 0, 0, 0, 0, 0, 0, 0])"
      ]
     },
     "execution_count": 44,
     "metadata": {},
     "output_type": "execute_result"
    }
   ],
   "source": [
    "test_y_pred[:100]"
   ]
  },
  {
   "cell_type": "code",
   "execution_count": 46,
   "metadata": {},
   "outputs": [
    {
     "data": {
      "text/plain": [
       "array([ True,  True,  True,  True,  True,  True,  True,  True,  True,\n",
       "        True,  True,  True,  True,  True,  True,  True,  True,  True,\n",
       "        True,  True,  True,  True,  True,  True,  True, False, False,\n",
       "       False,  True,  True,  True,  True,  True,  True,  True,  True,\n",
       "        True,  True, False,  True,  True, False,  True,  True,  True,\n",
       "        True,  True,  True,  True,  True,  True,  True,  True,  True,\n",
       "        True,  True,  True,  True,  True,  True,  True,  True,  True,\n",
       "        True,  True, False,  True,  True,  True,  True,  True,  True,\n",
       "       False,  True,  True,  True,  True,  True,  True,  True,  True,\n",
       "       False,  True,  True,  True,  True,  True,  True,  True, False,\n",
       "        True,  True,  True,  True,  True, False, False,  True,  True,\n",
       "        True])"
      ]
     },
     "execution_count": 46,
     "metadata": {},
     "output_type": "execute_result"
    }
   ],
   "source": [
    "train_y_pred[:100] == test_y_pred[:100]"
   ]
  },
  {
   "cell_type": "markdown",
   "metadata": {},
   "source": [
    "---"
   ]
  },
  {
   "cell_type": "markdown",
   "metadata": {},
   "source": [
    "# $\\Delta$ 2. Model Evaluation\n",
    "\n",
    "### $\\omega$ Classification Evaluation Metrics\n",
    "\n",
    "`\n",
    "**metrics.accuracy_score**                  Accuracy classification score.  \n",
    "**metrics.auc**                             Compute Area Under the Curve (AUC) using the trapezoidal rule  \n",
    "**metrics.average_precision_score**         Compute average precision (AP) from prediction scores  \n",
    "**metrics.classification_report**           Build a text report showing the main classification metrics  \n",
    "**metrics.confusion_matrix**                Compute confusion matrix to evaluate the accuracy of a classification  \n",
    "**metrics.f1_score**                        Compute the F1 score, also known as balanced F-score or F-measure  \n",
    "**metrics.precision_recall_curve**          Compute precision-recall pairs for different probability thresholds  \n",
    "**metrics.precision_recall_fscore_support** Compute precision, recall, F-measure and support for each class  \n",
    "**metrics.precision_score**                 Compute the precision  \n",
    "**metrics.recall_score**                    Compute the recall  \n",
    "**metrics.roc_auc_score**                   Compute (ROC AUC) from prediction scores.  \n",
    "**metrics.roc_curve**                       Compute Receiver operating characteristic (ROC)  \n",
    "`"
   ]
  },
  {
   "cell_type": "code",
   "execution_count": 47,
   "metadata": {},
   "outputs": [],
   "source": [
    "from sklearn.metrics import accuracy_score, confusion_matrix, classification_report, precision_score, recall_score, f1_score, roc_auc_score, auc, roc_curve"
   ]
  },
  {
   "cell_type": "code",
   "execution_count": 48,
   "metadata": {},
   "outputs": [
    {
     "name": "stdout",
     "output_type": "stream",
     "text": [
      "             precision    recall  f1-score   support\n",
      "\n",
      "          0       0.88      0.98      0.93      2003\n",
      "          1       0.60      0.18      0.28       330\n",
      "\n",
      "avg / total       0.84      0.87      0.83      2333\n",
      "\n"
     ]
    }
   ],
   "source": [
    "print(classification_report(train_y, train_y_pred))"
   ]
  },
  {
   "cell_type": "code",
   "execution_count": 49,
   "metadata": {
    "scrolled": true
   },
   "outputs": [
    {
     "name": "stdout",
     "output_type": "stream",
     "text": [
      "             precision    recall  f1-score   support\n",
      "\n",
      "          0       0.87      0.98      0.92       847\n",
      "          1       0.57      0.16      0.25       153\n",
      "\n",
      "avg / total       0.82      0.85      0.82      1000\n",
      "\n"
     ]
    }
   ],
   "source": [
    "print(classification_report(test_y, test_y_pred))"
   ]
  },
  {
   "cell_type": "markdown",
   "metadata": {},
   "source": [
    "## $\\Sigma$ 2.1 - Confusion Matrix"
   ]
  },
  {
   "cell_type": "code",
   "execution_count": 50,
   "metadata": {},
   "outputs": [],
   "source": [
    "import itertools\n",
    "\n",
    "def plot_confusion_matrix(cm, classes,\n",
    "                          normalize=False,\n",
    "                          title='Confusion matrix',\n",
    "                          cmap=plt.cm.Blues):\n",
    "    \"\"\"\n",
    "    This function prints and plots the confusion matrix.\n",
    "    Normalization can be applied by setting `normalize=True`.\n",
    "    \"\"\"\n",
    "    if normalize:\n",
    "        cm = cm.astype('float') / cm.sum(axis=1)[:, np.newaxis]\n",
    "        print(\"Normalized confusion matrix\")\n",
    "    else:\n",
    "        print('Confusion matrix, without normalization')\n",
    "\n",
    "    print(cm)\n",
    "\n",
    "    plt.imshow(cm, interpolation='nearest', cmap=cmap)\n",
    "    plt.title(title)\n",
    "    plt.colorbar()\n",
    "    tick_marks = np.arange(len(classes))\n",
    "    plt.xticks(tick_marks, classes, rotation=45)\n",
    "    plt.yticks(tick_marks, classes)\n",
    "\n",
    "    fmt = '.2f' if normalize else 'd'\n",
    "    thresh = cm.max() / 2.\n",
    "    for i, j in itertools.product(range(cm.shape[0]), range(cm.shape[1])):\n",
    "        plt.text(j, i, format(cm[i, j], fmt),\n",
    "                 horizontalalignment=\"center\",\n",
    "                 color=\"white\" if cm[i, j] > thresh else \"black\")\n",
    "\n",
    "    plt.tight_layout()\n",
    "    plt.ylabel('True label')\n",
    "    plt.xlabel('Predicted label')"
   ]
  },
  {
   "cell_type": "markdown",
   "metadata": {},
   "source": [
    "#### $\\sigma$ Plot confusion matrix"
   ]
  },
  {
   "cell_type": "code",
   "execution_count": 51,
   "metadata": {},
   "outputs": [
    {
     "name": "stdout",
     "output_type": "stream",
     "text": [
      "Confusion matrix, without normalization\n",
      "[[829  18]\n",
      " [129  24]]\n"
     ]
    },
    {
     "data": {
      "image/png": "[encoded data removed]",
      "text/plain": [
       "<Figure size 432x432 with 2 Axes>"
      ]
     },
     "metadata": {
      "needs_background": "light"
     },
     "output_type": "display_data"
    }
   ],
   "source": [
    "# Compute confusion matrix\n",
    "cnf_matrix = confusion_matrix(test_y, test_y_pred)\n",
    "np.set_printoptions(precision=2)\n",
    "\n",
    "class_names = list(range(2))\n",
    "# Plot non-normalized confusion matrix\n",
    "plt.figure(figsize=(6,6))\n",
    "plot_confusion_matrix(cnf_matrix, \n",
    "                      classes=class_names, \n",
    "                      title='Confusion matrix, without normalization')\n",
    "\n",
    "plt.show()"
   ]
  },
  {
   "cell_type": "markdown",
   "metadata": {},
   "source": [
    "## $\\Sigma$ 2.2 - Prediction Accuracy"
   ]
  },
  {
   "cell_type": "markdown",
   "metadata": {},
   "source": [
    "### $\\sigma$  2.2.1 - Calculate Accuracy manually"
   ]
  },
  {
   "cell_type": "code",
   "execution_count": 30,
   "metadata": {},
   "outputs": [
    {
     "data": {
      "text/plain": [
       "array([0, 0, 0, ..., 0, 1, 0])"
      ]
     },
     "execution_count": 30,
     "metadata": {},
     "output_type": "execute_result"
    }
   ],
   "source": [
    "train_y.values"
   ]
  },
  {
   "cell_type": "code",
   "execution_count": 31,
   "metadata": {},
   "outputs": [
    {
     "name": "stdout",
     "output_type": "stream",
     "text": [
      "training accuracy: 0.866695242177454\n",
      "testing accuracy: 0.853\n"
     ]
    }
   ],
   "source": [
    "train_acc = np.mean(train_y.values == train_y_pred)\n",
    "test_acc = np.mean(test_y.values == test_y_pred)\n",
    "print ('training accuracy: {}'.format(train_acc))\n",
    "print ('testing accuracy: {}'.format(test_acc))"
   ]
  },
  {
   "cell_type": "markdown",
   "metadata": {},
   "source": [
    "### $\\sigma$ 2.2.2 -Calculate Accuracy using `sklearn.metrics.accuracy_score`"
   ]
  },
  {
   "cell_type": "markdown",
   "metadata": {},
   "source": [
    "`metrics.accuracy_score(y_true, y_pred)`"
   ]
  },
  {
   "cell_type": "code",
   "execution_count": 32,
   "metadata": {},
   "outputs": [
    {
     "name": "stdout",
     "output_type": "stream",
     "text": [
      "training accuracy: 0.866695242177454\n",
      "testing accuracy: 0.853\n"
     ]
    }
   ],
   "source": [
    "train_acc = accuracy_score(train_y.values, train_y_pred)\n",
    "test_acc = accuracy_score(test_y.values, test_y_pred)\n",
    "print ('training accuracy: {}'.format(train_acc))\n",
    "print ('testing accuracy: {}'.format(test_acc))"
   ]
  },
  {
   "cell_type": "markdown",
   "metadata": {},
   "source": [
    "## $\\Sigma$ 2.3 - Precision & Recall\n",
    "\n",
    "\n",
    "**Precision**\n",
    "> - The precision is the ratio ``tp / (tp + fp)`` where ``tp`` is the number of true positives and ``fp`` the number of false positives. The precision is intuitively the ability of the classifier not to label as positive a sample that is negative.\n",
    "> - The best value is 1 and the worst value is 0.\n",
    "\n",
    "**Recall**\n",
    "> - The recall is the ratio ``tp / (tp + fn)`` where ``tp`` is the number of true positives and ``fn`` the number of false negatives. The recall is intuitively the ability of the classifier to find all the positive samples.\n",
    "> - The best value is 1 and the worst value is 0."
   ]
  },
  {
   "cell_type": "markdown",
   "metadata": {},
   "source": [
    "### $\\sigma$ 2.3.1 - Calculate Precision/Recall manually"
   ]
  },
  {
   "cell_type": "markdown",
   "metadata": {},
   "source": [
    "#### Precision/Recall on training"
   ]
  },
  {
   "cell_type": "code",
   "execution_count": 33,
   "metadata": {},
   "outputs": [
    {
     "name": "stdout",
     "output_type": "stream",
     "text": [
      "train precision: 0.60\n",
      "train recall: 0.18\n"
     ]
    }
   ],
   "source": [
    "true_positive = (train_y.values==1) & (train_y_pred==1)\n",
    "pred_positive = train_y_pred == 1\n",
    "total_positive = train_y == 1\n",
    "\n",
    "# calculate precision\n",
    "precision =  np.sum(true_positive) / np.sum(pred_positive)\n",
    "print ('train precision: {0:.2f}'.format(precision))\n",
    "\n",
    "# calculate recall\n",
    "recall = np.sum(true_positive) / np.sum(total_positive)\n",
    "print ('train recall: {0:.2f}'.format(recall))"
   ]
  },
  {
   "cell_type": "markdown",
   "metadata": {},
   "source": [
    "#### Precision/Recall on testing"
   ]
  },
  {
   "cell_type": "code",
   "execution_count": 34,
   "metadata": {},
   "outputs": [
    {
     "name": "stdout",
     "output_type": "stream",
     "text": [
      "test precision: 0.57\n",
      "test recall: 0.16\n"
     ]
    }
   ],
   "source": [
    "true_positive = (test_y.values==1) & (test_y_pred==1)\n",
    "pred_positive = test_y_pred == 1\n",
    "total_positive = test_y == 1\n",
    "\n",
    "# calculate precision\n",
    "precision =  np.sum(true_positive) / np.sum(pred_positive)\n",
    "print ('test precision: {0:.2f}'.format(precision))\n",
    "\n",
    "# calculate recall\n",
    "recall = np.sum(true_positive) / np.sum(total_positive)\n",
    "print ('test recall: {0:.2f}'.format(recall))"
   ]
  },
  {
   "cell_type": "markdown",
   "metadata": {},
   "source": [
    "### $\\sigma$ 2.3.2 - Calculate Precision/Recall using `sklearn.metrics`"
   ]
  },
  {
   "cell_type": "markdown",
   "metadata": {},
   "source": [
    "#### Calculate Precision Score by using `sklearn.metrics`\n"
   ]
  },
  {
   "cell_type": "code",
   "execution_count": 35,
   "metadata": {},
   "outputs": [
    {
     "name": "stdout",
     "output_type": "stream",
     "text": [
      "training recall: 0.60\n",
      "testing recall: 0.57\n"
     ]
    }
   ],
   "source": [
    "############################\n",
    "## Your Code Below\n",
    "############################\n",
    "train_precision = precision_score(train_y.values, train_y_pred)\n",
    "test_precision = precision_score(test_y.values, test_y_pred)\n",
    "print ('training recall: {0:.2f}'.format(train_precision))\n",
    "print ('testing recall: {0:.2f}'.format(test_precision))"
   ]
  },
  {
   "cell_type": "markdown",
   "metadata": {},
   "source": [
    "#### Calculate Recall Score by using `sklearn.metrics`\n"
   ]
  },
  {
   "cell_type": "code",
   "execution_count": 36,
   "metadata": {},
   "outputs": [
    {
     "name": "stdout",
     "output_type": "stream",
     "text": [
      "training recall: 0.18\n",
      "testing recall: 0.16\n"
     ]
    }
   ],
   "source": [
    "############################\n",
    "## Your Code Below\n",
    "############################\n",
    "train_recall = recall_score(train_y.values, train_y_pred)\n",
    "test_recall = recall_score(test_y.values, test_y_pred)\n",
    "print ('training recall: {0:.2f}'.format(train_recall))\n",
    "print ('testing recall: {0:.2f}'.format(test_recall))"
   ]
  },
  {
   "cell_type": "markdown",
   "metadata": {},
   "source": [
    "## $\\Sigma$  2.4 - f1_score\n",
    "\n",
    "> The F1 score can be interpreted as a weighted average of the precision and recall, where an F1 score reaches its best value at 1 and worst score at 0.\n",
    "\n",
    "> The relative contribution of precision and recall to the F1 score are equal."
   ]
  },
  {
   "cell_type": "markdown",
   "metadata": {},
   "source": [
    "### Calculate F1_score manually"
   ]
  },
  {
   "cell_type": "code",
   "execution_count": 37,
   "metadata": {},
   "outputs": [
    {
     "name": "stdout",
     "output_type": "stream",
     "text": [
      "training recall: 0.28\n",
      "testing recall: 0.25\n"
     ]
    }
   ],
   "source": [
    "# F1-Score\n",
    "train_f1 = 2 * (train_precision * train_recall) / (train_precision + train_recall)\n",
    "test_f1 = 2 * (test_precision * test_recall) / (test_precision + test_recall)\n",
    "print ('training recall: {0:.2f}'.format(train_f1))\n",
    "print ('testing recall: {0:.2f}'.format(test_f1))"
   ]
  },
  {
   "cell_type": "markdown",
   "metadata": {},
   "source": [
    "### Calculate F1_score using sklearn.metrics"
   ]
  },
  {
   "cell_type": "code",
   "execution_count": 38,
   "metadata": {},
   "outputs": [
    {
     "name": "stdout",
     "output_type": "stream",
     "text": [
      "training recall: 0.28\n",
      "testing recall: 0.25\n"
     ]
    }
   ],
   "source": [
    "# F1-Score\n",
    "train_f1 = f1_score(train_y.values, train_y_pred, pos_label=1)\n",
    "test_f1 = f1_score(test_y.values, test_y_pred, pos_label=1)\n",
    "print ('training recall: {0:.2f}'.format(train_f1))\n",
    "print ('testing recall: {0:.2f}'.format(test_f1))"
   ]
  },
  {
   "cell_type": "markdown",
   "metadata": {},
   "source": [
    "---"
   ]
  },
  {
   "cell_type": "markdown",
   "metadata": {},
   "source": [
    "# $\\Delta$ 3. Model Evaluation Plots\n"
   ]
  },
  {
   "cell_type": "markdown",
   "metadata": {},
   "source": [
    "## $\\Omega$ 3.1 - ROC Curve"
   ]
  },
  {
   "cell_type": "code",
   "execution_count": 52,
   "metadata": {},
   "outputs": [
    {
     "data": {
      "text/plain": [
       "<matplotlib.legend.Legend at 0x1a32df0898>"
      ]
     },
     "execution_count": 52,
     "metadata": {},
     "output_type": "execute_result"
    },
    {
     "data": {
      "image/png": "[encoded data removed]",
      "text/plain": [
       "<Figure size 576x576 with 1 Axes>"
      ]
     },
     "metadata": {
      "needs_background": "light"
     },
     "output_type": "display_data"
    }
   ],
   "source": [
    "import numpy as np\n",
    "np.random.seed(10)\n",
    "\n",
    "from sklearn.metrics import roc_curve\n",
    "from sklearn.linear_model import LogisticRegression \n",
    "\n",
    "# model instantiation\n",
    "lr = LogisticRegression()\n",
    "\n",
    "# model training\n",
    "lr.fit(train_X, train_y)\n",
    "\n",
    "# make predictions\n",
    "train_y_pred = lr.predict(train_X)\n",
    "train_y_pred_proba = lr.predict_proba(train_X)[:, 1]\n",
    "\n",
    "test_y_pred = lr.predict(test_X)\n",
    "test_y_pred_proba = lr.predict_proba(test_X)[:, 1]\n",
    "\n",
    "# roc curve\n",
    "fpr_lr_train, tpr_lr_train, _ = roc_curve(train_y, train_y_pred_proba)\n",
    "fpr_lr_test, tpr_lr_test, _ = roc_curve(test_y, test_y_pred_proba)\n",
    "\n",
    "plt.figure(1, figsize=(8,8))\n",
    "plt.plot([0, 1], [0, 1], 'k--')\n",
    "plt.plot(fpr_lr_train, tpr_lr_train, label='Logistic Regression - Train')\n",
    "plt.plot(fpr_lr_test, tpr_lr_test, label='Logistic Regression - Test')\n",
    "plt.xlabel('False positive rate')\n",
    "plt.ylabel('True positive rate')\n",
    "plt.title('ROC curve')\n",
    "plt.legend(loc='best')"
   ]
  },
  {
   "cell_type": "markdown",
   "metadata": {},
   "source": [
    "## $\\Omega$ ROC Curve - Multiple Models\n",
    "\n",
    "**Exercise**\n",
    "1. Fit a Logisitic Regression model, calculate roc/auc score\n",
    "2. Fit a Random Forest model, calculate roc/auc score\n",
    "3. Fit a KNN model, calculate roc/auc score\n",
    "4. Plot ROC curves in the same figure using matplotlib"
   ]
  },
  {
   "cell_type": "code",
   "execution_count": 41,
   "metadata": {},
   "outputs": [],
   "source": [
    "####################################\n",
    "## You Code Below\n",
    "####################################\n",
    "\n",
    "\n",
    "\n",
    "\n",
    "\n"
   ]
  },
  {
   "cell_type": "code",
   "execution_count": 42,
   "metadata": {},
   "outputs": [
    {
     "name": "stderr",
     "output_type": "stream",
     "text": [
      "/folders/myfolders/.local/lib/python3.5/site-packages/sklearn/linear_model/logistic.py:433: FutureWarning: Default solver will be changed to 'lbfgs' in 0.22. Specify a solver to silence this warning.\n",
      "  FutureWarning)\n"
     ]
    },
    {
     "data": {
      "text/plain": [
       "<matplotlib.legend.Legend at 0x7f35dd784a90>"
      ]
     },
     "execution_count": 42,
     "metadata": {},
     "output_type": "execute_result"
    },
    {
     "data": {
      "image/png": "[encoded data removed]",
      "text/plain": [
       "<matplotlib.figure.Figure at 0x7f35dd771240>"
      ]
     },
     "metadata": {
      "needs_background": "light"
     },
     "output_type": "display_data"
    }
   ],
   "source": [
    "import numpy as np\n",
    "np.random.seed(10)\n",
    "\n",
    "from sklearn.metrics import roc_curve\n",
    "from sklearn.linear_model import LogisticRegression \n",
    "from sklearn.ensemble import RandomForestClassifier, GradientBoostingClassifier\n",
    "\n",
    "# Logistic Regression\n",
    "lr = LogisticRegression()\n",
    "lr.fit(train_X, train_y)\n",
    "lr_y_pred = lr.predict(test_X)\n",
    "lr_y_pred_proba = lr.predict_proba(test_X)[:, 1]\n",
    "fpr_lr_test, tpr_lr_test, _ = roc_curve(test_y, lr_y_pred_proba)\n",
    "lr_auc = roc_auc_score(test_y, lr_y_pred)\n",
    "\n",
    "# Random Forest\n",
    "rf = RandomForestClassifier(n_estimators=200)\n",
    "rf.fit(train_X, train_y)\n",
    "rf_y_pred = rf.predict(test_X)\n",
    "rf_y_pred_proba = rf.predict_proba(test_X)[:, 1]\n",
    "fpr_rf_test, tpr_rf_test, _ = roc_curve(test_y, rf_y_pred_proba)\n",
    "rf_auc = roc_auc_score(test_y, rf_y_pred)\n",
    "\n",
    "# Gradient Boosting\n",
    "gb = GradientBoostingClassifier(n_estimators=1200)\n",
    "gb.fit(train_X, train_y)\n",
    "gb_y_pred = gb.predict(test_X)\n",
    "gb_y_pred_proba = gb.predict_proba(test_X)[:, 1]\n",
    "fpr_gb_test, tpr_gb_test, _ = roc_curve(test_y, gb_y_pred_proba)\n",
    "gb_auc = roc_auc_score(test_y, gb_y_pred)\n",
    "\n",
    "\n",
    "# Plot ROC curve\n",
    "plt.figure(1, figsize=(8,8))\n",
    "plt.plot([0, 1], [0, 1], 'k--')\n",
    "plt.plot(fpr_lr_test, tpr_lr_test, label='Logistic Regression (AUC: {0:.3f})'.format(lr_auc))\n",
    "plt.plot(fpr_rf_test, tpr_rf_test, label='Random Forest (AUC: {0:.3f})'.format(rf_auc))\n",
    "plt.plot(fpr_gb_test, tpr_gb_test, label='Gradient Boosting (AUC: {0:.3f})'.format(gb_auc))\n",
    "\n",
    "plt.xlabel('False positive rate')\n",
    "plt.ylabel('True positive rate')\n",
    "plt.title('ROC curve')\n",
    "plt.legend(loc='best')"
   ]
  },
  {
   "cell_type": "code",
   "execution_count": 43,
   "metadata": {},
   "outputs": [
    {
     "name": "stdout",
     "output_type": "stream",
     "text": [
      "              precision    recall  f1-score   support\n",
      "\n",
      "           0       0.87      0.98      0.92       847\n",
      "           1       0.59      0.16      0.25       153\n",
      "\n",
      "   micro avg       0.85      0.85      0.85      1000\n",
      "   macro avg       0.73      0.57      0.58      1000\n",
      "weighted avg       0.82      0.85      0.82      1000\n",
      "\n"
     ]
    }
   ],
   "source": [
    "print(classification_report(test_y, lr_y_pred))"
   ]
  },
  {
   "cell_type": "code",
   "execution_count": 44,
   "metadata": {},
   "outputs": [
    {
     "name": "stdout",
     "output_type": "stream",
     "text": [
      "              precision    recall  f1-score   support\n",
      "\n",
      "           0       0.95      0.99      0.97       847\n",
      "           1       0.94      0.74      0.83       153\n",
      "\n",
      "   micro avg       0.95      0.95      0.95      1000\n",
      "   macro avg       0.95      0.87      0.90      1000\n",
      "weighted avg       0.95      0.95      0.95      1000\n",
      "\n"
     ]
    }
   ],
   "source": [
    "print(classification_report(test_y, rf_y_pred))"
   ]
  },
  {
   "cell_type": "code",
   "execution_count": 45,
   "metadata": {},
   "outputs": [
    {
     "name": "stdout",
     "output_type": "stream",
     "text": [
      "              precision    recall  f1-score   support\n",
      "\n",
      "           0       0.96      0.98      0.97       847\n",
      "           1       0.89      0.76      0.82       153\n",
      "\n",
      "   micro avg       0.95      0.95      0.95      1000\n",
      "   macro avg       0.93      0.87      0.90      1000\n",
      "weighted avg       0.95      0.95      0.95      1000\n",
      "\n"
     ]
    }
   ],
   "source": [
    "print(classification_report(test_y, gb_y_pred))"
   ]
  },
  {
   "cell_type": "markdown",
   "metadata": {},
   "source": [
    "# $\\Delta$ 4. Cross-Validation ROC Curves (Optional)"
   ]
  },
  {
   "cell_type": "markdown",
   "metadata": {},
   "source": [
    "## $\\Omega$ 4.1 - Generate Stratified KFolds"
   ]
  },
  {
   "cell_type": "code",
   "execution_count": 46,
   "metadata": {},
   "outputs": [],
   "source": [
    "from sklearn.model_selection import StratifiedKFold\n",
    "cv = StratifiedKFold(n_splits=5, shuffle=True, random_state=2018)"
   ]
  },
  {
   "cell_type": "code",
   "execution_count": 47,
   "metadata": {},
   "outputs": [],
   "source": [
    "k_folds = list(cv.split(train_X, train_y))"
   ]
  },
  {
   "cell_type": "code",
   "execution_count": 48,
   "metadata": {},
   "outputs": [
    {
     "data": {
      "text/plain": [
       "(array([   1,    2,    4, ..., 2328, 2329, 2331]),\n",
       " array([   0,    3,    5,    8,   24,   26,   33,   35,   41,   43,   50,\n",
       "          51,   52,   54,   55,   59,   74,   79,   85,   86,  108,  117,\n",
       "         123,  130,  134,  137,  138,  140,  146,  167,  168,  181,  182,\n",
       "         185,  188,  193,  206,  216,  220,  226,  228,  231,  232,  236,\n",
       "         253,  255,  256,  258,  260,  270,  281,  293,  296,  308,  311,\n",
       "         321,  326,  327,  330,  331,  333,  338,  347,  348,  351,  357,\n",
       "         359,  366,  374,  375,  382,  390,  392,  393,  395,  407,  412,\n",
       "         423,  426,  427,  428,  434,  435,  441,  451,  453,  454,  455,\n",
       "         456,  457,  468,  473,  485,  501,  516,  521,  525,  527,  540,\n",
       "         545,  550,  564,  566,  568,  571,  573,  574,  583,  590,  599,\n",
       "         603,  608,  609,  612,  613,  620,  621,  626,  628,  630,  631,\n",
       "         635,  637,  639,  644,  648,  652,  659,  663,  664,  665,  681,\n",
       "         682,  684,  687,  693,  695,  706,  709,  714,  723,  728,  735,\n",
       "         737,  742,  748,  752,  758,  760,  763,  765,  769,  781,  784,\n",
       "         789,  793,  798,  799,  804,  833,  837,  838,  841,  843,  844,\n",
       "         849,  852,  855,  859,  860,  861,  866,  871,  886,  888,  889,\n",
       "         891,  892,  916,  921,  923,  932,  933,  938,  941,  944,  956,\n",
       "         959,  960,  963,  966,  969,  976,  978,  993,  995,  998, 1001,\n",
       "        1005, 1008, 1011, 1016, 1023, 1032, 1041, 1042, 1043, 1045, 1051,\n",
       "        1052, 1062, 1073, 1080, 1081, 1083, 1089, 1092, 1094, 1096, 1107,\n",
       "        1117, 1123, 1124, 1125, 1128, 1139, 1158, 1160, 1170, 1171, 1174,\n",
       "        1184, 1193, 1200, 1203, 1207, 1217, 1221, 1224, 1230, 1236, 1237,\n",
       "        1239, 1241, 1242, 1244, 1267, 1275, 1279, 1285, 1287, 1291, 1300,\n",
       "        1307, 1320, 1326, 1328, 1334, 1338, 1339, 1350, 1356, 1373, 1375,\n",
       "        1380, 1381, 1389, 1394, 1400, 1407, 1409, 1428, 1431, 1438, 1443,\n",
       "        1446, 1449, 1455, 1466, 1468, 1469, 1477, 1479, 1480, 1482, 1483,\n",
       "        1495, 1502, 1518, 1519, 1530, 1532, 1534, 1540, 1544, 1550, 1553,\n",
       "        1554, 1556, 1560, 1564, 1571, 1575, 1577, 1585, 1599, 1600, 1610,\n",
       "        1613, 1614, 1623, 1625, 1627, 1628, 1632, 1635, 1638, 1642, 1645,\n",
       "        1648, 1651, 1652, 1653, 1670, 1675, 1682, 1686, 1695, 1698, 1702,\n",
       "        1703, 1711, 1716, 1719, 1722, 1726, 1730, 1735, 1738, 1741, 1744,\n",
       "        1748, 1749, 1753, 1763, 1765, 1772, 1779, 1785, 1786, 1804, 1807,\n",
       "        1817, 1818, 1820, 1822, 1825, 1833, 1836, 1842, 1845, 1849, 1852,\n",
       "        1858, 1862, 1866, 1869, 1872, 1876, 1878, 1879, 1882, 1889, 1891,\n",
       "        1895, 1896, 1902, 1903, 1908, 1909, 1914, 1915, 1923, 1926, 1930,\n",
       "        1931, 1939, 1951, 1954, 1955, 1956, 1960, 1962, 1969, 1973, 1981,\n",
       "        1982, 1986, 2001, 2007, 2008, 2009, 2012, 2017, 2018, 2019, 2029,\n",
       "        2030, 2034, 2041, 2049, 2059, 2060, 2061, 2072, 2075, 2081, 2091,\n",
       "        2092, 2098, 2099, 2121, 2122, 2124, 2130, 2131, 2132, 2140, 2143,\n",
       "        2150, 2153, 2159, 2164, 2169, 2180, 2189, 2194, 2195, 2201, 2208,\n",
       "        2213, 2218, 2225, 2240, 2258, 2259, 2260, 2265, 2267, 2270, 2272,\n",
       "        2276, 2282, 2285, 2287, 2288, 2293, 2299, 2303, 2304, 2307, 2311,\n",
       "        2318, 2324, 2325, 2330, 2332]))"
      ]
     },
     "execution_count": 48,
     "metadata": {},
     "output_type": "execute_result"
    }
   ],
   "source": [
    "k_folds[0]"
   ]
  },
  {
   "cell_type": "code",
   "execution_count": 49,
   "metadata": {},
   "outputs": [
    {
     "name": "stdout",
     "output_type": "stream",
     "text": [
      "Train set Size for Fold #1: (1866,)\n",
      "Test set Size for Fold #1: (467,)\n"
     ]
    }
   ],
   "source": [
    "print(\"Train set Size for Fold #1: {}\".format(k_folds[0][0].shape))\n",
    "print(\"Test set Size for Fold #1: {}\".format(k_folds[0][1].shape))"
   ]
  },
  {
   "cell_type": "markdown",
   "metadata": {},
   "source": [
    "## $\\Omega$ 4.2 - Model Training with Cross-Valiation"
   ]
  },
  {
   "cell_type": "code",
   "execution_count": 50,
   "metadata": {},
   "outputs": [
    {
     "data": {
      "image/png": "[encoded data removed]",
      "text/plain": [
       "<matplotlib.figure.Figure at 0x7f35dd73c630>"
      ]
     },
     "metadata": {
      "needs_background": "light"
     },
     "output_type": "display_data"
    }
   ],
   "source": [
    "from scipy import interp\n",
    "import matplotlib.pyplot as plt\n",
    "from itertools import cycle\n",
    "%matplotlib inline\n",
    "\n",
    "\n",
    "# Classifier\n",
    "clf = RandomForestClassifier(n_estimators=200, random_state=2018)\n",
    "\n",
    "# Model fitting with 5-Fold CV\n",
    "tprs = []\n",
    "aucs = []\n",
    "mean_fpr = np.linspace(0, 1, 100)\n",
    "\n",
    "X = train_X\n",
    "y = train_y\n",
    "\n",
    "# Plot figure\n",
    "plt.figure(1, figsize=(8,8))\n",
    "\n",
    "i = 0\n",
    "for cv_train, cv_test in cv.split(X, y):\n",
    "    #cv_train_idx = cv_data_idx[0]\n",
    "    #cv_test_idx = cv_data_idx[1]\n",
    "    probas_ = clf.fit(X.iloc[cv_train], y.iloc[cv_train]).predict_proba(X.iloc[cv_test])\n",
    "    # Compute ROC curve and area the curve\n",
    "    fpr, tpr, thresholds = roc_curve(y.iloc[cv_test], probas_[:, 1])\n",
    "    tprs.append(interp(mean_fpr, fpr, tpr))\n",
    "    tprs[-1][0] = 0.0\n",
    "    roc_auc = auc(fpr, tpr)\n",
    "    aucs.append(roc_auc)\n",
    "    # Plot ROC for each fold\n",
    "    plt.plot(fpr, tpr, lw=1, alpha=0.8,\n",
    "             label='ROC fold %d (AUC = %0.2f)' % (i, roc_auc))\n",
    "    i+= 1\n",
    "\n",
    "\n",
    "\n",
    "# Plot Random Guess Line\n",
    "plt.plot([0, 1], [0, 1], 'k--', lw=2, label='Best', alpha=.6)\n",
    "\n",
    "\n",
    "mean_tpr = np.mean(tprs, axis=0)\n",
    "mean_tpr[-1] = 1.0\n",
    "mean_auc = auc(mean_fpr, mean_tpr)\n",
    "std_auc = np.std(aucs)\n",
    "plt.plot(mean_fpr, mean_tpr, color='b',\n",
    "         label=r'Mean ROC (AUC = %0.2f $\\pm$ %0.2f)' % (mean_auc, std_auc),\n",
    "         lw=2, alpha=.8)\n",
    "\n",
    "std_tpr = np.std(tprs, axis=0)\n",
    "tprs_upper = np.minimum(mean_tpr + std_tpr, 1)\n",
    "tprs_lower = np.maximum(mean_tpr - std_tpr, 0)\n",
    "plt.fill_between(mean_fpr, tprs_lower, tprs_upper, color='grey', alpha=.2,\n",
    "                 label=r'$\\pm$ 1 std. dev.')\n",
    "\n",
    "\n",
    "plt.xlabel('False positive rate')\n",
    "plt.ylabel('True positive rate')\n",
    "plt.title('Cross Validation ROC curve')\n",
    "plt.legend(loc='best')\n",
    "\n",
    "plt.show()\n"
   ]
  },
  {
   "cell_type": "markdown",
   "metadata": {},
   "source": [
    "# $\\Delta$ 5. Lift & Cumulative Lift (Gains Chart)"
   ]
  },
  {
   "cell_type": "markdown",
   "metadata": {},
   "source": [
    "## $\\Omega$ 5.1 Calculate and Plot Gains (Lift)"
   ]
  },
  {
   "cell_type": "code",
   "execution_count": 51,
   "metadata": {},
   "outputs": [],
   "source": [
    "def calc_lift(x, y, clf, bins):\n",
    "    '''\n",
    "    Generate model prediction and calculate deciles\n",
    "    '''\n",
    "    # Actual target value\n",
    "    y_actual = y    \n",
    "    # Predicted Probability\n",
    "    y_prob = clf.predict_proba(x)\n",
    "    # Predicted value of y\n",
    "    y_pred = clf.predict(x)\n",
    "    \n",
    "    # Generate model results dataframe\n",
    "    cols = ['actual','pred_proba','pred']\n",
    "    data = [y_actual, y_prob[:,1] ,y_pred]\n",
    "    df = pd.DataFrame(dict(zip(cols,data)))\n",
    "    \n",
    "    # Observations where y=1\n",
    "    total_positive_n = df['actual'].sum()\n",
    "    \n",
    "    # Total Observations\n",
    "    total_obs = df.shape[0]\n",
    "    \n",
    "    # Baseline positive rate\n",
    "    baseline_positive_r = total_positive_n / float(total_obs)\n",
    "    \n",
    "    # Create N deciles (Decile 1: highest prob --> Decile 10: lowest prob)\n",
    "    df['deciles'] = pd.qcut(df['pred_proba'], bins, labels=False)\n",
    "    \n",
    "    # Reverse the decile number so that high probability has lower index number\n",
    "    df['deciles'] = bins - df['deciles']\n",
    "    \n",
    "    '''\n",
    "    Calculate lift by decile\n",
    "    '''\n",
    "    # Calculate decile level positive rate\n",
    "    lift_df = df.groupby('deciles').agg({'actual': [np.mean, np.sum, len]})\n",
    "    lift_df['cumsum'] = lift_df['actual']['sum'].cumsum() \n",
    "    lift_df['cumsum_rate'] = lift_df['cumsum'] / lift_df['actual']['sum'].sum()\n",
    "    lift_df['lift'] = lift_df['actual']['mean'] / (lift_df['actual']['sum'].sum() / lift_df['actual']['len'].sum())\n",
    "    lift_df['baseline_positive_rate'] = lift_df['actual']['sum'].sum() / lift_df['actual']['len'].sum()\n",
    "    return lift_df"
   ]
  },
  {
   "cell_type": "code",
   "execution_count": 52,
   "metadata": {},
   "outputs": [],
   "source": [
    "df_lift = calc_lift(test_X, test_y, gb, bins=20)"
   ]
  },
  {
   "cell_type": "code",
   "execution_count": 53,
   "metadata": {},
   "outputs": [],
   "source": [
    "def plot_lift_chart(lift: pd.DataFrame, bins):\n",
    "    \n",
    "    #plt.style.use('classic')\n",
    "    plt.figure(figsize=(8,8))\n",
    "    plt.plot(lift['baseline_positive_rate'], \n",
    "             linestyle='dashed',\n",
    "             lw=2, \n",
    "             alpha=0.7, \n",
    "             label='Baseline Positive Rate')\n",
    "    plt.plot(lift['actual']['mean'], \n",
    "             linestyle='solid',\n",
    "             lw=2, \n",
    "             marker='o',\n",
    "             alpha=0.7, \n",
    "             label='Decile Positive Rate')\n",
    "    plt.plot(lift['cumsum_rate'], \n",
    "             linestyle='solid', \n",
    "             lw=2, \n",
    "             marker='o',\n",
    "             alpha=0.7, \n",
    "             label='Cumulative Positive Rate')\n",
    "    # legend\n",
    "    plt.legend(loc='best')\n",
    "    # tick marks\n",
    "    x_tick_marks = np.arange(bins) + 1\n",
    "    y_tick_marks = np.arange(0, 1.1, 0.1)\n",
    "    plt.tick_params(axis='x', \n",
    "                    which='both',      # both major and minor ticks are affected\n",
    "                    top='off',         # ticks along the top edge are off\n",
    "                    labelbottom='on',\n",
    "                    labelsize=11)      # labels along the bottom edge are off\n",
    "    plt.tick_params(axis='y', \n",
    "                    which='both',  \n",
    "                    left='on',         \n",
    "                    right='off',\n",
    "                    labelbottom='on',\n",
    "                    labelsize=11)      # labels along the bottom edge are off\n",
    "    plt.xticks(x_tick_marks)\n",
    "    plt.yticks(y_tick_marks)\n",
    "    # labels\n",
    "    plt.xlabel('Deciles', size=12)\n",
    "    plt.ylabel('Positive Rate', size=12)\n",
    "    # title\n",
    "    plt.title('Lift Curves')\n",
    "    plt.show()"
   ]
  },
  {
   "cell_type": "code",
   "execution_count": 54,
   "metadata": {},
   "outputs": [
    {
     "data": {
      "image/png": "[encoded data removed]",
      "text/plain": [
       "<matplotlib.figure.Figure at 0x7f35dd71db38>"
      ]
     },
     "metadata": {
      "needs_background": "light"
     },
     "output_type": "display_data"
    }
   ],
   "source": [
    "plot_lift_chart(df_lift, 20)"
   ]
  }
 ],
 "metadata": {
  "anaconda-cloud": {},
  "kernelspec": {
   "display_name": "Python 3",
   "language": "python",
   "name": "python3"
  },
  "language_info": {
   "codemirror_mode": {
    "name": "ipython",
    "version": 3
   },
   "file_extension": ".py",
   "mimetype": "text/x-python",
   "name": "python",
   "nbconvert_exporter": "python",
   "pygments_lexer": "ipython3",
   "version": "3.7.2"
  },
  "toc": {
   "base_numbering": 1,
   "nav_menu": {},
   "number_sections": false,
   "sideBar": true,
   "skip_h1_title": false,
   "title_cell": "Table of Contents",
   "title_sidebar": "Contents",
   "toc_cell": false,
   "toc_position": {},
   "toc_section_display": true,
   "toc_window_display": true
  }
 },
 "nbformat": 4,
 "nbformat_minor": 2
}
