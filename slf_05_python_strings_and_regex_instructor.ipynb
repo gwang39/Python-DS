{
 "cells": [
  {
   "cell_type": "markdown",
   "metadata": {},
   "source": [
    "\n",
    "<br>\n",
    "<p style=\"text-align: left;\"><img src='https://s3.amazonaws.com/weclouddata/images/logos/sunlife_logo.png' width='35%'></p>\n",
    "<p style=\"text-align:left;\"><font size='15'><b> Python - Strings and Regex </b></font> <br><font color='#559E54' size='6'>(Intructor Copy)</color></p>\n",
    "<h2 align='left' > Sunlife Data Science Training </h2>\n",
    "\n",
    "<h4 align='left'>  Prepared by: <img src='https://s3.amazonaws.com/weclouddata/images/logos/wcd_logo.png' width='15%'>\n",
    "\n",
    "---"
   ]
  },
  {
   "cell_type": "markdown",
   "metadata": {},
   "source": [
    "# <font color='#347B98'> 1. Python Strings\n"
   ]
  },
  {
   "cell_type": "markdown",
   "metadata": {},
   "source": [
    "## $\\Delta$ 1.1 Introduction to Python Unicode and Character Encoding"
   ]
  },
  {
   "cell_type": "markdown",
   "metadata": {},
   "source": [
    "### History of ASCII\n",
    "\n",
    "In computer system, information is represented with `bit`. Each bit has two states: 0 or 1. So 8 bits can represent 256 different states. One byte has 8 bits and therefore can represent 256 different states, from `00000000` to `11111111`. \n",
    "\n",
    "In 1968, the **`American Standard Code for Information Interchange`**, better known by its acronym **`ASCII`**, was standardized. ASCII defined numeric codes for various characters, with the numeric values running from 0 to 127.\n",
    "\n",
    "Check out Wikipedia for more details on ASCII [Wikipedia: ASCII](https://zh.wikipedia.org/wiki/ASCII)\n",
    "\n",
    "<img src=\"https://s3.amazonaws.com/weclouddata/images/python/ASCII.png\" width=\"50%\">\n",
    "\n",
    "Note that for ASCII codes, only 7 bits are used. The leading bit is set to 0. \n",
    "\n",
    "### Problem with ASCII \n",
    "ASCII can represent 128 characters which worked fine for English. But not other languages. So the leading bit (not used in ASCII) in ASCII was used in other languages. For example, in French, é is encoded as 130 (binary **`10000010`**) and therefore some European languages can use that extra bit to represent 256 characters. \n",
    "\n",
    "However, 255 characters aren’t very many. For example, you can’t fit both the accented characters used in Western Europe and the Cyrillic alphabet used for Russian into the 128–255 range because there are more than 127 such characters.\n",
    "\n",
    "The Chinese language has more than 100k characters and therefore cannot be encoded using the 8 bits. \n",
    "\n",
    "### Unicode\n",
    "Prior to Unicode, there were many different encoding methods. The problem with that is one binary character can mean different character in different language (encoding method). Therefore, to open and display a text file corrently, one needs to know the exact encoding methods. That's very painful. \n",
    "\n",
    "That led to the birth of Unicoding, which is an encoding method that **tries to assign a unique code to each available character across different languages**. \n",
    "\n",
    "Unicode started out using 16-bit characters instead of 8-bit characters. 16 bits means you have 2^16 = 65,536 distinct values available, making it possible to represent many different characters from many different alphabets; an initial goal was to have Unicode contain the alphabets for every single human language. It turns out that even 16 bits isn’t enough to meet that goal, and the modern Unicode specification uses a wider range of codes, `0` through `1,114,111` ( **`0x10FFFF`** in base 16).\n",
    "\n",
    "### Problem of Unicodes\n",
    "Note that Unicode is just a character set that assigns a unique binary format for each character. However, it doesn't specify how the character should be stored. \n",
    "\n",
    "For example, the Chinese character **`\"谢\" (thanks)`** is encoded as **`&#35874`** in unicode and **`1000110000100010`** in binary format. That's at least 2 bytes to encode this character. Now the problem is that how does a computer tell whether **`1000110000100010`** is a unicode or ASCII? It will mean different characters in encode and ASCII. \n",
    "\n",
    "Because of that, many different unicode storage methods were developed and **`UTF-8`** [wikipedia](https://en.wikipedia.org/wiki/UTF-8) is one of the most popular character encoding method based on unicode in the Internet era. Other encodings include UTF-16, UTF-32 etc. \n",
    "\n",
    "### Encodings\n",
    "A Unicode string is a sequence of code points, which are numbers from 0 through 0x10FFFF (1,114,111 decimal). This sequence needs to be represented as a set of bytes (meaning, values from 0 through 255) in memory. **The rules for translating a Unicode string into a sequence of bytes are called an encoding**.\n",
    "\n",
    "\n",
    "<img src='https://s3.amazonaws.com/weclouddata/images/python/encode_decode_string_bytes.png' width='30%'>"
   ]
  },
  {
   "cell_type": "markdown",
   "metadata": {},
   "source": [
    "---"
   ]
  },
  {
   "cell_type": "markdown",
   "metadata": {},
   "source": [
    "## $\\Delta$ 1.2 String Encoding"
   ]
  },
  {
   "cell_type": "markdown",
   "metadata": {},
   "source": [
    "### Encode unicode string to bytes\n",
    "\n",
    "> - Since Python 3.0, strings are stored as Unicode, i.e. each character in the string is represented by a code point. So, each string is just a sequence of Unicode code points.\n",
    "\n",
    "> - For efficient storage of these strings, the sequence of code points are converted into set of bytes. The process is known as encoding.\n",
    "\n",
    "> - There are various encodings present which treats a string differently. The popular encodings being utf-8, ascii, etc."
   ]
  },
  {
   "cell_type": "markdown",
   "metadata": {},
   "source": [
    "### Syntax\n",
    "> `string.encode(encoding='UTF-8',errors='strict')`\n",
    "\n",
    "> **Parameters**:\n",
    "> - **encoding** - the encoding type a string has to be encoded to  \n",
    "> - **errors** - response when encoding fails. There are six types of error response\n",
    ">  - `strict` - default response which raises a UnicodeDecodeError exception on failure\n",
    ">  - `ignore` - ignores the unencodable unicode from the result\n",
    ">  - `replace` - replaces the unencodable unicode to a question mark ?\n",
    ">  - `xmlcharrefreplace` - inserts XML character reference instead of unencodable unicode\n",
    ">  - `backslashreplace` - inserts a \\uNNNN espace sequence instead of unencodable unicode\n",
    ">  - `namereplace` - inserts a \\N{...} escape sequence instead of unencodable unicode\n"
   ]
  },
  {
   "cell_type": "markdown",
   "metadata": {},
   "source": [
    "#### <font color='#FC7307'> Encode to default utf-8 encoding"
   ]
  },
  {
   "cell_type": "code",
   "execution_count": 4,
   "metadata": {},
   "outputs": [
    {
     "data": {
      "text/plain": [
       "b'\\xe5\\x8a\\xa0\\xe6\\x8b\\xbf\\xe5\\xa4\\xa7\\xe6\\xb0\\xb8\\xe6\\x98\\x8e\\xe9\\x87\\x91\\xe8\\x9e\\x8d\\xe9\\x9b\\x86\\xe5\\x9b\\xa2'"
      ]
     },
     "execution_count": 4,
     "metadata": {},
     "output_type": "execute_result"
    }
   ],
   "source": [
    "u'加拿大永明金融集团'.encode('utf-8')"
   ]
  },
  {
   "cell_type": "code",
   "execution_count": 5,
   "metadata": {},
   "outputs": [
    {
     "data": {
      "text/plain": [
       "27"
      ]
     },
     "execution_count": 5,
     "metadata": {},
     "output_type": "execute_result"
    }
   ],
   "source": [
    "len(u'加拿大永明金融集团'.encode('utf-8'))"
   ]
  },
  {
   "cell_type": "code",
   "execution_count": 6,
   "metadata": {},
   "outputs": [
    {
     "data": {
      "text/plain": [
       "9"
      ]
     },
     "execution_count": 6,
     "metadata": {},
     "output_type": "execute_result"
    }
   ],
   "source": [
    "len(u'加拿大永明金融集团')"
   ]
  },
  {
   "cell_type": "markdown",
   "metadata": {},
   "source": [
    "#### <font color='#FC7307'> Encodng with Error Parameter"
   ]
  },
  {
   "cell_type": "code",
   "execution_count": 7,
   "metadata": {},
   "outputs": [
    {
     "name": "stdout",
     "output_type": "stream",
     "text": [
      "The string is: pythön!\n",
      "The encoded version (with ignore) is: b'pythn!'\n",
      "The encoded version (with replace) is: b'pyth?n!'\n"
     ]
    }
   ],
   "source": [
    "# unicode string\n",
    "string = 'pythön!'\n",
    "\n",
    "# print string\n",
    "print('The string is:', string)\n",
    "\n",
    "# ignore error\n",
    "print('The encoded version (with ignore) is:', string.encode(\"ascii\", \"ignore\"))\n",
    "\n",
    "# replace error\n",
    "print('The encoded version (with replace) is:', string.encode(\"ascii\", \"replace\"))"
   ]
  },
  {
   "cell_type": "markdown",
   "metadata": {},
   "source": [
    "### Return the code point for unicode strings"
   ]
  },
  {
   "cell_type": "code",
   "execution_count": 13,
   "metadata": {},
   "outputs": [
    {
     "data": {
      "text/plain": [
       "[115, 117, 110, 108, 105, 102, 101]"
      ]
     },
     "execution_count": 13,
     "metadata": {},
     "output_type": "execute_result"
    }
   ],
   "source": [
    "[ord(c) for c in u'sunlife'.encode('utf-8').decode('ascii')]"
   ]
  },
  {
   "cell_type": "markdown",
   "metadata": {},
   "source": [
    "## $\\Delta$ 1.3 Decoding Bytes"
   ]
  },
  {
   "cell_type": "markdown",
   "metadata": {},
   "source": [
    "### Decode a unicode string to ascii string"
   ]
  },
  {
   "cell_type": "code",
   "execution_count": 14,
   "metadata": {},
   "outputs": [
    {
     "data": {
      "text/plain": [
       "'sunlife financial'"
      ]
     },
     "execution_count": 14,
     "metadata": {},
     "output_type": "execute_result"
    }
   ],
   "source": [
    "unicode_str = u'sunlife financial'\n",
    "unicode_str"
   ]
  },
  {
   "cell_type": "code",
   "execution_count": 15,
   "metadata": {},
   "outputs": [
    {
     "data": {
      "text/plain": [
       "'sunlife financial'"
      ]
     },
     "execution_count": 15,
     "metadata": {},
     "output_type": "execute_result"
    }
   ],
   "source": [
    "ascii_str = unicode_str.encode('utf-8').decode('ascii')\n",
    "ascii_str"
   ]
  },
  {
   "cell_type": "markdown",
   "metadata": {},
   "source": [
    "#### <font color='#FC7307'>The examples below will fail because the code point goes beyond 128 after decoding to ascii"
   ]
  },
  {
   "cell_type": "code",
   "execution_count": 16,
   "metadata": {},
   "outputs": [
    {
     "ename": "UnicodeDecodeError",
     "evalue": "'ascii' codec can't decode byte 0xe5 in position 0: ordinal not in range(128)",
     "output_type": "error",
     "traceback": [
      "\u001b[0;31m---------------------------------------------------------------------------\u001b[0m",
      "\u001b[0;31mUnicodeDecodeError\u001b[0m                        Traceback (most recent call last)",
      "\u001b[0;32m<ipython-input-16-a0276f63343b>\u001b[0m in \u001b[0;36m<module>\u001b[0;34m\u001b[0m\n\u001b[0;32m----> 1\u001b[0;31m \u001b[0;34mu'加拿大永明金融集团'\u001b[0m\u001b[0;34m.\u001b[0m\u001b[0mencode\u001b[0m\u001b[0;34m(\u001b[0m\u001b[0;34m'utf-8'\u001b[0m\u001b[0;34m)\u001b[0m\u001b[0;34m.\u001b[0m\u001b[0mdecode\u001b[0m\u001b[0;34m(\u001b[0m\u001b[0;34m'ascii'\u001b[0m\u001b[0;34m)\u001b[0m\u001b[0;34m\u001b[0m\u001b[0m\n\u001b[0m",
      "\u001b[0;31mUnicodeDecodeError\u001b[0m: 'ascii' codec can't decode byte 0xe5 in position 0: ordinal not in range(128)"
     ]
    }
   ],
   "source": [
    "u'加拿大永明金融集团'.encode('utf-8').decode('ascii')"
   ]
  },
  {
   "cell_type": "code",
   "execution_count": 17,
   "metadata": {},
   "outputs": [
    {
     "ename": "UnicodeDecodeError",
     "evalue": "'ascii' codec can't decode byte 0xc2 in position 1: ordinal not in range(128)",
     "output_type": "error",
     "traceback": [
      "\u001b[0;31m---------------------------------------------------------------------------\u001b[0m",
      "\u001b[0;31mUnicodeDecodeError\u001b[0m                        Traceback (most recent call last)",
      "\u001b[0;32m<ipython-input-17-86a0374deadb>\u001b[0m in \u001b[0;36m<module>\u001b[0;34m\u001b[0m\n\u001b[1;32m      1\u001b[0m \u001b[0municode_str\u001b[0m \u001b[0;34m=\u001b[0m \u001b[0;34mu'a\\xac\\u1234\\u20ac\\U00008000'\u001b[0m\u001b[0;34m\u001b[0m\u001b[0m\n\u001b[0;32m----> 2\u001b[0;31m \u001b[0mascii_str\u001b[0m \u001b[0;34m=\u001b[0m \u001b[0municode_str\u001b[0m\u001b[0;34m.\u001b[0m\u001b[0mencode\u001b[0m\u001b[0;34m(\u001b[0m\u001b[0;34m'utf-8'\u001b[0m\u001b[0;34m)\u001b[0m\u001b[0;34m.\u001b[0m\u001b[0mdecode\u001b[0m\u001b[0;34m(\u001b[0m\u001b[0;34m'ascii'\u001b[0m\u001b[0;34m)\u001b[0m\u001b[0;34m\u001b[0m\u001b[0m\n\u001b[0m",
      "\u001b[0;31mUnicodeDecodeError\u001b[0m: 'ascii' codec can't decode byte 0xc2 in position 1: ordinal not in range(128)"
     ]
    }
   ],
   "source": [
    "unicode_str = u'a\\xac\\u1234\\u20ac\\U00008000'\n",
    "ascii_str = unicode_str.encode('utf-8').decode('ascii')"
   ]
  },
  {
   "cell_type": "markdown",
   "metadata": {},
   "source": [
    "#### <font color='#FC7307'> Use `ord` to return the Unicode Code Point of one character in a string"
   ]
  },
  {
   "cell_type": "code",
   "execution_count": 18,
   "metadata": {},
   "outputs": [
    {
     "data": {
      "text/plain": [
       "[21152, 25343, 22823, 27704, 26126, 37329, 34701, 38598, 22242]"
      ]
     },
     "execution_count": 18,
     "metadata": {},
     "output_type": "execute_result"
    }
   ],
   "source": [
    "unicode_str = u'加拿大永明金融集团'\n",
    "[ord(c) for c in unicode_str] ### in this case, all ordinal code points are larger than 128"
   ]
  },
  {
   "cell_type": "markdown",
   "metadata": {},
   "source": [
    "### <font color='#559E54'> Decoing bytes"
   ]
  },
  {
   "cell_type": "code",
   "execution_count": 19,
   "metadata": {},
   "outputs": [
    {
     "name": "stdout",
     "output_type": "stream",
     "text": [
      "b'\\xe5\\x8a\\xa0\\xe6\\x8b\\xbf\\xe5\\xa4\\xa7\\xe6\\xb0\\xb8\\xe6\\x98\\x8e\\xe9\\x87\\x91\\xe8\\x9e\\x8d\\xe9\\x9b\\x86\\xe5\\x9b\\xa2'\n",
      "加拿大永明金融集团\n"
     ]
    }
   ],
   "source": [
    "s = '加拿大永明金融集团'   # str  \n",
    "u = u'加拿大永明金融集团'  # unicode\n",
    "  \n",
    "# Convert unicode to bytes\n",
    "print(u.encode('utf-8'))\n",
    "\n",
    "# Conveft bytes to unicode \n",
    "print(u.encode('utf-8').decode('utf-8'))"
   ]
  },
  {
   "cell_type": "markdown",
   "metadata": {},
   "source": [
    "### Get system default encoding method\n",
    "> starting python 3.x, the default encoding is 'utf-8'"
   ]
  },
  {
   "cell_type": "code",
   "execution_count": 20,
   "metadata": {},
   "outputs": [
    {
     "data": {
      "text/plain": [
       "'utf-8'"
      ]
     },
     "execution_count": 20,
     "metadata": {},
     "output_type": "execute_result"
    }
   ],
   "source": [
    "import sys\n",
    "sys.getdefaultencoding()"
   ]
  },
  {
   "cell_type": "markdown",
   "metadata": {},
   "source": [
    "## $\\Delta$ 1.4 Raw strings\n",
    "> raw strings don't escape characters"
   ]
  },
  {
   "cell_type": "code",
   "execution_count": 21,
   "metadata": {},
   "outputs": [
    {
     "name": "stdout",
     "output_type": "stream",
     "text": [
      "This is a raw string...newlines \\r\\n are ignored.\n"
     ]
    }
   ],
   "source": [
    "# raw strings\n",
    "print (r'This is a raw string...newlines \\r\\n are ignored.')"
   ]
  },
  {
   "cell_type": "code",
   "execution_count": 22,
   "metadata": {},
   "outputs": [
    {
     "name": "stdout",
     "output_type": "stream",
     "text": [
      "This is a raw string...newlines \n",
      " are ignored.\n"
     ]
    }
   ],
   "source": [
    "print ('This is a raw string...newlines \\r\\n are ignored.')"
   ]
  },
  {
   "cell_type": "markdown",
   "metadata": {},
   "source": [
    "#### <font color='#FC7307'> `chr` to return a Unicode string of one character with ordinal i"
   ]
  },
  {
   "cell_type": "code",
   "execution_count": 23,
   "metadata": {},
   "outputs": [
    {
     "name": "stdout",
     "output_type": "stream",
     "text": [
      "Help on built-in function chr in module builtins:\n",
      "\n",
      "chr(i, /)\n",
      "    Return a Unicode string of one character with ordinal i; 0 <= i <= 0x10ffff.\n",
      "\n"
     ]
    }
   ],
   "source": [
    "help(chr)"
   ]
  },
  {
   "cell_type": "code",
   "execution_count": 25,
   "metadata": {},
   "outputs": [
    {
     "data": {
      "text/plain": [
       "[108, 105, 102, 101]"
      ]
     },
     "execution_count": 25,
     "metadata": {},
     "output_type": "execute_result"
    }
   ],
   "source": [
    "[ord(c) for c in u'life'.encode('utf-8').decode('ascii')]"
   ]
  },
  {
   "cell_type": "code",
   "execution_count": 26,
   "metadata": {},
   "outputs": [
    {
     "name": "stdout",
     "output_type": "stream",
     "text": [
      "sunlife\n",
      "b'sunlife'\n",
      "[115, 117, 110, 108, 105, 102, 101]\n"
     ]
    }
   ],
   "source": [
    "u = u'sun' + chr(108) + chr(105) + chr(102) + chr(101)\n",
    "print(u)\n",
    "print (u.encode('utf-8'))\n",
    "print(list(ord(c) for c in u))"
   ]
  },
  {
   "cell_type": "markdown",
   "metadata": {},
   "source": [
    "---\n",
    "## $\\Delta$ 1.5 Python String Representation\n"
   ]
  },
  {
   "cell_type": "markdown",
   "metadata": {},
   "source": [
    "<img src='https://s3.amazonaws.com/weclouddata/images/python/python_string_index_representation_1.png' width='25%'>\n",
    "<img src='https://s3.amazonaws.com/weclouddata/images/python/python_string_index_representation_2.png' width='26%'>"
   ]
  },
  {
   "cell_type": "code",
   "execution_count": 31,
   "metadata": {},
   "outputs": [
    {
     "name": "stdout",
     "output_type": "stream",
     "text": [
      "Sunlife Data Science Training\n",
      "Training\n"
     ]
    }
   ],
   "source": [
    "# String Object is Immutable\n",
    "\n",
    "s = \"Sunlife Data Science Training\"\n",
    "print(s)\n",
    "print(s[21:])"
   ]
  },
  {
   "cell_type": "markdown",
   "metadata": {},
   "source": [
    "## $\\Delta$ 1.6 - String Operators and Methods\n"
   ]
  },
  {
   "cell_type": "markdown",
   "metadata": {},
   "source": [
    "### String <font color='#559E54'> Concatenation </font> - example 1"
   ]
  },
  {
   "cell_type": "code",
   "execution_count": 32,
   "metadata": {},
   "outputs": [
    {
     "name": "stdout",
     "output_type": "stream",
     "text": [
      "WeCloudData offers data science training to Sunlife\n"
     ]
    }
   ],
   "source": [
    "vendor = 'WeCloudData'\n",
    "client = 'Sunlife'\n",
    "courses = ['Python', 'Data Science', 'Machine Learning','Big Data']\n",
    "\n",
    "print(vendor + ' offers data science training to ' + client)"
   ]
  },
  {
   "cell_type": "markdown",
   "metadata": {},
   "source": [
    "### String <font color='#559E54'> Concatenation </font> - example 2"
   ]
  },
  {
   "cell_type": "code",
   "execution_count": 33,
   "metadata": {},
   "outputs": [
    {
     "ename": "TypeError",
     "evalue": "Can't convert 'int' object to str implicitly",
     "output_type": "error",
     "traceback": [
      "\u001b[0;31m---------------------------------------------------------------------------\u001b[0m",
      "\u001b[0;31mTypeError\u001b[0m                                 Traceback (most recent call last)",
      "\u001b[0;32m<ipython-input-33-26864be1989a>\u001b[0m in \u001b[0;36m<module>\u001b[0;34m\u001b[0m\n\u001b[1;32m      1\u001b[0m \u001b[0;31m# expect an error\u001b[0m\u001b[0;34m\u001b[0m\u001b[0;34m\u001b[0m\u001b[0m\n\u001b[0;32m----> 2\u001b[0;31m \u001b[0mvendor\u001b[0m \u001b[0;34m+\u001b[0m \u001b[0;34m'will teach '\u001b[0m \u001b[0;34m+\u001b[0m \u001b[0mlen\u001b[0m\u001b[0;34m(\u001b[0m\u001b[0mcourses\u001b[0m\u001b[0;34m)\u001b[0m \u001b[0;34m+\u001b[0m \u001b[0;34m' courses!'\u001b[0m\u001b[0;34m\u001b[0m\u001b[0m\n\u001b[0m",
      "\u001b[0;31mTypeError\u001b[0m: Can't convert 'int' object to str implicitly"
     ]
    }
   ],
   "source": [
    "# expect an error\n",
    "vendor + 'will teach ' + len(courses) + ' courses!'"
   ]
  },
  {
   "cell_type": "code",
   "execution_count": 34,
   "metadata": {},
   "outputs": [
    {
     "data": {
      "text/plain": [
       "'WeCloudData will teach 4 courses!'"
      ]
     },
     "execution_count": 34,
     "metadata": {},
     "output_type": "execute_result"
    }
   ],
   "source": [
    "# casting int to str\n",
    "vendor + ' will teach ' + str(len(courses)) + ' courses!'"
   ]
  },
  {
   "cell_type": "markdown",
   "metadata": {},
   "source": [
    "### String <font color='#559E54'> Slicing/Indexing </font> \n",
    "> `string` is a sequence in python"
   ]
  },
  {
   "cell_type": "code",
   "execution_count": 36,
   "metadata": {},
   "outputs": [
    {
     "data": {
      "text/plain": [
       "'slf'"
      ]
     },
     "execution_count": 36,
     "metadata": {},
     "output_type": "execute_result"
    }
   ],
   "source": [
    "# string is a sequence in Python\n",
    "a = 'sunlife'\n",
    "b = a[0:1] + a[3] + a[5:6]\n",
    "b"
   ]
  },
  {
   "cell_type": "markdown",
   "metadata": {},
   "source": [
    "### String <font color='#FC7307'> Replication </font> \n"
   ]
  },
  {
   "cell_type": "code",
   "execution_count": 37,
   "metadata": {},
   "outputs": [
    {
     "name": "stdout",
     "output_type": "stream",
     "text": [
      "spamspamspamegg\n"
     ]
    }
   ],
   "source": [
    "s = \"spam\"\n",
    "e = \"egg\"\n",
    "\n",
    "print (s*3 + e)"
   ]
  },
  {
   "cell_type": "code",
   "execution_count": 38,
   "metadata": {},
   "outputs": [
    {
     "name": "stdout",
     "output_type": "stream",
     "text": [
      "++++++++++++++++++++++++++++++++++++++++++++++++++\n"
     ]
    }
   ],
   "source": [
    "print (\"+\"*50)"
   ]
  },
  {
   "cell_type": "markdown",
   "metadata": {},
   "source": [
    "## $\\Delta$ 1.7 - String Formatting"
   ]
  },
  {
   "cell_type": "code",
   "execution_count": 39,
   "metadata": {},
   "outputs": [
    {
     "name": "stdout",
     "output_type": "stream",
     "text": [
      "Welcome to day 2 of the Data Science with Python course delivered by WeCloudData\n"
     ]
    }
   ],
   "source": [
    "course = 'Data Science with Python'\n",
    "vendor = 'WeCloudData'\n",
    "print ('Welcome to day 2 of the {0} course delivered by {1}'.format(course, vendor))\n"
   ]
  },
  {
   "cell_type": "code",
   "execution_count": 40,
   "metadata": {},
   "outputs": [
    {
     "name": "stdout",
     "output_type": "stream",
     "text": [
      "The training starts on (MM/DD/YY) 05/28/2018\n"
     ]
    }
   ],
   "source": [
    "print (\"The training starts on (MM/DD/YY) {0:02d}/{1:02d}/{2:04d}\".format(5, 28, 2018) )"
   ]
  },
  {
   "cell_type": "code",
   "execution_count": 41,
   "metadata": {},
   "outputs": [
    {
     "name": "stdout",
     "output_type": "stream",
     "text": [
      "Total with tax: $2825.00\n"
     ]
    }
   ],
   "source": [
    "print ('Total with tax: ${0:.2f}'.format(2500 * 1.13) )"
   ]
  },
  {
   "cell_type": "markdown",
   "metadata": {},
   "source": [
    "## $\\Delta$ 1.8 - String Methods\n",
    "\n",
    ">\n",
    "`s.lower()`    \n",
    "`s.upper()`   \n",
    "`s.capitalize()`        \n",
    "`s.strip()`   \n",
    "`s.isalpha()`  \n",
    "`s.isdigit()`  \n",
    "`s.isspace()`  \n",
    "`s.startwith()`  \n",
    "`s.endswith()`  \n",
    "`s.replace()`  \n",
    "`s.split()`    \n",
    "`s.join()`  \n",
    "`s.index()`  \n",
    "`s.count()`  \n"
   ]
  },
  {
   "cell_type": "markdown",
   "metadata": {},
   "source": [
    "# <font color='#559E54'> $\\Omega$ Python String Labs </font>"
   ]
  },
  {
   "cell_type": "markdown",
   "metadata": {},
   "source": [
    "## String Lab 1 - Find all 'triangle rewards' keywords in a string"
   ]
  },
  {
   "cell_type": "markdown",
   "metadata": {},
   "source": [
    "### Retrieve data from a webpage using `request`"
   ]
  },
  {
   "cell_type": "code",
   "execution_count": 43,
   "metadata": {},
   "outputs": [
    {
     "name": "stdout",
     "output_type": "stream",
     "text": [
      "Collecting beautifulsoup4\n",
      "  Using cached https://files.pythonhosted.org/packages/1d/5d/3260694a59df0ec52f8b4883f5d23b130bc237602a1411fa670eae12351e/beautifulsoup4-4.7.1-py3-none-any.whl\n",
      "Collecting soupsieve>=1.2 (from beautifulsoup4)\n",
      "  Using cached https://files.pythonhosted.org/packages/b9/a5/7ea40d0f8676bde6e464a6435a48bc5db09b1a8f4f06d41dd997b8f3c616/soupsieve-1.9.1-py2.py3-none-any.whl\n",
      "Installing collected packages: soupsieve, beautifulsoup4\n",
      "Successfully installed beautifulsoup4-4.7.1 soupsieve-1.9.1\n",
      "Collecting urllib\n",
      "\u001b[31m  Could not find a version that satisfies the requirement urllib (from versions: )\u001b[0m\n",
      "\u001b[31mNo matching distribution found for urllib\u001b[0m\n"
     ]
    }
   ],
   "source": [
    "!pip install beautifulsoup4 --user\n",
    "!pip install urllib --user"
   ]
  },
  {
   "cell_type": "code",
   "execution_count": 55,
   "metadata": {},
   "outputs": [],
   "source": [
    "import urllib.request\n",
    "from bs4 import BeautifulSoup\n",
    "import re\n",
    "\n",
    "link = 'https://www.sunlife.ca/ca/Insurance/Life+insurance?vgnLocale=en_CA'\n",
    "link_html = urllib.request.urlopen(urllib.request.Request(link)).read()\n",
    "soup_obj = BeautifulSoup(link_html, 'html.parser')"
   ]
  },
  {
   "cell_type": "code",
   "execution_count": 65,
   "metadata": {},
   "outputs": [],
   "source": [
    "#link_html"
   ]
  },
  {
   "cell_type": "markdown",
   "metadata": {},
   "source": [
    "### Parse an HTML using `bs4`"
   ]
  },
  {
   "cell_type": "code",
   "execution_count": 57,
   "metadata": {},
   "outputs": [],
   "source": [
    "texts = soup_obj.findAll(text=True)\n",
    "\n",
    "def visible(element):\n",
    "    if element.parent.name in ['style', 'script', 'document']:\n",
    "        return False\n",
    "    elif re.match('<!--.*-->', element):\n",
    "        return False\n",
    "    elif re.match('\\n', element): \n",
    "        return False\n",
    "    return True\n",
    "\n",
    "#visible_texts = filter(visible, texts)\n",
    "visible_texts = [text for text in texts if visible(text)]"
   ]
  },
  {
   "cell_type": "code",
   "execution_count": 64,
   "metadata": {},
   "outputs": [],
   "source": [
    "#visible_texts"
   ]
  },
  {
   "cell_type": "markdown",
   "metadata": {},
   "source": [
    "### Question: concatenate all string elements in the above list `visible_texts` into a string"
   ]
  },
  {
   "cell_type": "code",
   "execution_count": 59,
   "metadata": {},
   "outputs": [],
   "source": [
    "#####################\n",
    "# Your code below\n",
    "#####################\n",
    "\n",
    "sunlife_page = ' '.join(visible_texts)"
   ]
  },
  {
   "cell_type": "code",
   "execution_count": 66,
   "metadata": {
    "scrolled": false
   },
   "outputs": [],
   "source": [
    "#print(sunlife_page)"
   ]
  },
  {
   "cell_type": "markdown",
   "metadata": {},
   "source": [
    "### Question: how many times has the phrase 'insurance' occurred on this page?"
   ]
  },
  {
   "cell_type": "code",
   "execution_count": 63,
   "metadata": {},
   "outputs": [
    {
     "data": {
      "text/plain": [
       "114"
      ]
     },
     "execution_count": 63,
     "metadata": {},
     "output_type": "execute_result"
    }
   ],
   "source": [
    "sunlife_page.lower().count('insurance')"
   ]
  },
  {
   "cell_type": "markdown",
   "metadata": {},
   "source": [
    "----"
   ]
  },
  {
   "cell_type": "markdown",
   "metadata": {},
   "source": [
    "<br>\n",
    "\n",
    "# <font color='#347B98'> 2. Python Regular Expression Tutorial \n",
    "\n",
    "### `re.search()`\n",
    "The `re` package has a number of top level methods, and to test whether a regular expression matches a specific string in Python, you can use `re.search()`. This method either returns `None` if the pattern doesn't match, or a re.MatchObject with additional information about which part of the string the match was found.\n",
    "\n",
    "> Note that this method stops after the first match, so this is best suited for testing a regular expression more than extracting data.\n",
    "\n",
    "### `re.findall()`\n",
    "Unlike the `re.search()` method above, we can use `re.findall()` to perform a global search over the whole input string. If there are capture groups in the pattern, then it will return a list of all the captured data, but otherwise, it will just return a list of the matches themselves, or an empty list if no matches are found.\n",
    "\n",
    "\n",
    "----------\n",
    "\n",
    "**Reference**\n",
    "> [Python Regex Documentation](https://docs.python.org/3/howto/regex.html)  \n",
    "> [Python Regex Tester](https://pythex.org/) -- very useful tool"
   ]
  },
  {
   "cell_type": "markdown",
   "metadata": {},
   "source": [
    "### <font color='#FC7307'> Matching Characters\n",
    "**`a, X, 9`** Ordinary characters just match themselves exactly.   \n",
    "\n",
    "**`.`** (a period) \n",
    "Matches any single character except newline '\\n'  \n",
    "\n",
    "**`\\b`** Boundary between word and non-word  \n",
    "\n",
    "**`\\t, \\n, \\r`** tab, newline, return  \n",
    "\n",
    "**`^`** Matches the start of the string  \n",
    "\n",
    "**`$`** Matches the end of the string  \n",
    "\n",
    "**`\\`** inhibit the \"specialness\" of a character. So, for example, use `\\.` to match a period or `\\\\` to match a slash.  \n",
    "\n",
    "**`\\d`**\n",
    "Matches any decimal digit; this is equivalent to the class [0-9].  \n",
    "\n",
    "**`\\D`**\n",
    "Matches any non-digit character; this is equivalent to the class [^0-9].  \n",
    "\n",
    "**`\\s`**\n",
    "Matches any whitespace character; this is equivalent to the class [ \\t\\n\\r\\f\\v].  \n",
    "\n",
    "**`\\S`**\n",
    "Matches any non-whitespace character; this is equivalent to the class [^ \\t\\n\\r\\f\\v].  \n",
    "\n",
    "**`\\w`**\n",
    "Matches any alphanumeric character; this is equivalent to the class [a-zA-Z0-9_].  \n",
    "\n",
    "**`\\W`**\n",
    "Matches any non-alphanumeric character; this is equivalent to the class [^a-zA-Z0-9_].  \n",
    "\n",
    "**`Meta-Characters`**\n",
    "The meta-characters do not match themselves because they have special meanings: \n",
    "   `. ^ '$' * + ? { [ ] \\ | ( )` "
   ]
  },
  {
   "cell_type": "markdown",
   "metadata": {},
   "source": [
    "## $\\Delta$ 2.1 Basic Regex Search - `re.search`\n",
    "* `search()` scans through a string, looking for any location where this RE matches."
   ]
  },
  {
   "cell_type": "markdown",
   "metadata": {},
   "source": [
    "### Find `dates`"
   ]
  },
  {
   "cell_type": "code",
   "execution_count": 68,
   "metadata": {
    "scrolled": true
   },
   "outputs": [
    {
     "name": "stdout",
     "output_type": "stream",
     "text": [
      "Match at index 0,7\n",
      "Full match: June 24\n",
      "Month: June\n",
      "Day: 24\n"
     ]
    }
   ],
   "source": [
    "import re\n",
    "\n",
    "regex = r\"([a-zA-Z]+) (\\d+)\"\n",
    "\n",
    "if re.search(regex, \"June 24\"):\n",
    "    match = re.search(regex, \"June 24\")\n",
    "    print(\"Match at index {},{}\".format(match.start(), match.end()))\n",
    "    \n",
    "    # So this will print \"June 24\"\n",
    "    print(\"Full match: {}\".format(match.group(0)))\n",
    "    # So this will print \"June\"\n",
    "    print(\"Month: %s\" % (match.group(1)))\n",
    "    # So this will print \"24\"\n",
    "    print(\"Day: %s\" % (match.group(2)))\n",
    "else:\n",
    "    # If re.search() does not match, then None is returned\n",
    "    print(\"The regex pattern does not match. :(\")"
   ]
  },
  {
   "cell_type": "markdown",
   "metadata": {},
   "source": [
    "### Find digits"
   ]
  },
  {
   "cell_type": "code",
   "execution_count": 69,
   "metadata": {},
   "outputs": [
    {
     "name": "stdout",
     "output_type": "stream",
     "text": [
      "Found number: 20\n"
     ]
    }
   ],
   "source": [
    "import re\n",
    "\n",
    "s = 'There\\'re 20 participants in the data science training.' \n",
    "match = re.search(r'\\d+', s)\n",
    "\n",
    "if match:                      \n",
    "    print ('Found number: {}'.format(match.group()))\n",
    "else:\n",
    "    print ('did not find')\n",
    "        "
   ]
  },
  {
   "cell_type": "markdown",
   "metadata": {},
   "source": [
    "### <font color='#FC7307'> Group Extraction\n",
    "* The \"group\" feature of a regular expression allows you to pick out parts of the matching text. \n",
    "* Suppose for the emails problem that we want to extract the username and host separately. To do this, add parenthesis ( ) around the username and host in the pattern, like this: `r'([\\w.-]+)@([\\w.-]+)'`. \n",
    "* In this case, the parenthesis do not change what the pattern will match, instead they establish logical \"groups\" inside of the match text. "
   ]
  },
  {
   "cell_type": "code",
   "execution_count": 71,
   "metadata": {},
   "outputs": [
    {
     "name": "stdout",
     "output_type": "stream",
     "text": [
      "Email: shaohua@weclouddata.com.\n",
      "Username: shaohua\n",
      "Host: weclouddata.com.\n"
     ]
    }
   ],
   "source": [
    "s = 'Shaohua\\'s weclouddata email address is shaohua@weclouddata.com.'\n",
    "match = re.search('([\\w.-]+)@([\\w.-]+)', s)\n",
    "if match:\n",
    "    print ('Email: {}'.format(match.group()))   ## 'alice-b@google.com' (the whole match)\n",
    "    print ('Username: {}'.format(match.group(1)))  ## 'alice-b' (the username, group 1)\n",
    "    print ('Host: {}'.format(match.group(2)))  ## 'google.com' (the host, group 2)\n",
    "else:\n",
    "    print ('find no match!')"
   ]
  },
  {
   "cell_type": "markdown",
   "metadata": {},
   "source": [
    "## $\\Delta$ 2.2 `re.findall()`\n",
    "- Unlike the `re.search()` method above, we can use `re.findall()` to perform a global search over the whole input string. If there are capture groups in the pattern, then it will return a list of all the captured data, but otherwise, it will just return a list of the matches themselves, or an empty list if no matches are found.\n",
    "\n",
    "- If you need additional context for each match, you can use `re.finditer()` which instead returns an iterator of re.MatchObjects to walk through. Both methods take the same parameters."
   ]
  },
  {
   "cell_type": "markdown",
   "metadata": {},
   "source": [
    "### Find all `dates`"
   ]
  },
  {
   "cell_type": "code",
   "execution_count": 72,
   "metadata": {},
   "outputs": [
    {
     "name": "stdout",
     "output_type": "stream",
     "text": [
      "Full match: June 24\n",
      "Full match: August 9\n",
      "Full match: Dec 12\n"
     ]
    }
   ],
   "source": [
    "import re\n",
    "# Lets use a regular expression to match a few date strings.\n",
    "regex = r\"[a-zA-Z]+ \\d+\"\n",
    "matches = re.findall(regex, \"June 24, August 9, Dec 12\")\n",
    "for match in matches:\n",
    "    print(\"Full match: %s\" % (match))"
   ]
  },
  {
   "cell_type": "code",
   "execution_count": 73,
   "metadata": {},
   "outputs": [
    {
     "name": "stdout",
     "output_type": "stream",
     "text": [
      "Match month: June\n",
      "Match month: August\n",
      "Match month: Dec\n"
     ]
    }
   ],
   "source": [
    "# To capture the specific months of each date we can use the following pattern\n",
    "regex = r\"([a-zA-Z]+) \\d+\"\n",
    "matches = re.findall(regex, \"June 24, August 9, Dec 12\")\n",
    "for match in matches:\n",
    "    print(\"Match month: %s\" % (match))"
   ]
  },
  {
   "cell_type": "code",
   "execution_count": 74,
   "metadata": {},
   "outputs": [
    {
     "name": "stdout",
     "output_type": "stream",
     "text": [
      "Match at index: 0, 7\n",
      "Match at index: 9, 17\n",
      "Match at index: 19, 25\n"
     ]
    }
   ],
   "source": [
    "# If we need the exact positions of each match\n",
    "regex = r\"([a-zA-Z]+) \\d+\"\n",
    "matches = re.finditer(regex, \"June 24, August 9, Dec 12\")\n",
    "for match in matches:\n",
    "    print(\"Match at index: %s, %s\" % (match.start(), match.end()))"
   ]
  },
  {
   "cell_type": "markdown",
   "metadata": {},
   "source": [
    "### Group Extraction\n",
    "* The \"group\" feature of a regular expression allows you to pick out parts of the matching text. \n",
    "* Suppose for the emails problem that we want to extract the username and host separately. To do this, add parenthesis ( ) around the username and host in the pattern, like this: r'([\\w.-]+)@([\\w.-]+)'. \n",
    "* In this case, the parenthesis do not change what the pattern will match, instead they establish logical \"groups\" inside of the match text. "
   ]
  },
  {
   "cell_type": "markdown",
   "metadata": {},
   "source": [
    "# <font color='#559E54'> $\\Omega$ Python Regex Labs </font>"
   ]
  },
  {
   "cell_type": "markdown",
   "metadata": {},
   "source": [
    "## $\\Delta$ Regex Lab 1 - Find Valid Emails\n",
    "\n",
    "<img src='https://s3.amazonaws.com/weclouddata/images/python/emailregex-explained-gui.jpeg' width='50%'>"
   ]
  },
  {
   "cell_type": "code",
   "execution_count": 75,
   "metadata": {},
   "outputs": [],
   "source": [
    "messy_emails = ['A keen nature photographer and a nature conservationist, he is a resource person with the NParks Biodiversity Centre for research in the field of butterflies. Sin Khoon was one of the pioneers in the creation of a free-ranging butterfly trail in Singapore with the Butterfly Trail at Alexandra Hospital, Butterfly Hill @ Pulau Ubin, Butterfly Garden @ Hort Park and various other trails at Park Connectors and urban gardens. @Kallang River-Bishan Park – is a partnership between the', \n",
    "'zengyiwen@u.nus.edu',\n",
    "'dbstanlw@nus.edu.sg',\n",
    "'dbssong@nus.edu.sg',\n",
    "'dbslbhr@nus.edu.sg',\n",
    "'rebecca.loh.ker@u.nus.edu',\n",
    "'Email: hello_world@comp.nus.edu.sg where hello_world=wenzy', \n",
    "'Email: lingtw@comp.nus.edu.sg',\n",
    "'Copyright @ ljklonepiece', \n",
    "'Teacher @ MOE', \n",
    "'@comp.nus.edu.sg','Email: loolf(@)comp(dot)nus(dot)edu(dot)sg',\n",
    "'[firstname][lastname]@comp.nus.edu.sg'\n",
    "]"
   ]
  },
  {
   "cell_type": "code",
   "execution_count": 76,
   "metadata": {},
   "outputs": [],
   "source": [
    "###########################\n",
    "## Your Code Below\n",
    "###########################\n",
    "\n",
    "import re\n",
    "\n",
    "matched_emails = [re.search(r\"(^[a-zA-Z0-9_.+-]+@[a-zA-Z0-9-]+\\.[a-zA-Z0-9-.]+$)\", email).group() \n",
    "                  for email in messy_emails \n",
    "                  if re.search(r\"(^[a-zA-Z0-9_.+-]+@[a-zA-Z0-9-]+\\.[a-zA-Z0-9-.]+$)\", email) ]"
   ]
  },
  {
   "cell_type": "code",
   "execution_count": 77,
   "metadata": {},
   "outputs": [
    {
     "data": {
      "text/plain": [
       "['zengyiwen@u.nus.edu',\n",
       " 'dbstanlw@nus.edu.sg',\n",
       " 'dbssong@nus.edu.sg',\n",
       " 'dbslbhr@nus.edu.sg',\n",
       " 'rebecca.loh.ker@u.nus.edu']"
      ]
     },
     "execution_count": 77,
     "metadata": {},
     "output_type": "execute_result"
    }
   ],
   "source": [
    "matched_emails"
   ]
  },
  {
   "cell_type": "code",
   "execution_count": null,
   "metadata": {},
   "outputs": [],
   "source": []
  }
 ],
 "metadata": {
  "kernelspec": {
   "display_name": "Python 3",
   "language": "python",
   "name": "python3"
  },
  "language_info": {
   "codemirror_mode": {
    "name": "ipython",
    "version": 3
   },
   "file_extension": ".py",
   "mimetype": "text/x-python",
   "name": "python",
   "nbconvert_exporter": "python",
   "pygments_lexer": "ipython3",
   "version": "3.7.2"
  },
  "toc": {
   "base_numbering": 1,
   "nav_menu": {},
   "number_sections": false,
   "sideBar": true,
   "skip_h1_title": false,
   "title_cell": "Table of Contents",
   "title_sidebar": "Contents",
   "toc_cell": false,
   "toc_position": {},
   "toc_section_display": true,
   "toc_window_display": true
  }
 },
 "nbformat": 4,
 "nbformat_minor": 2
}
