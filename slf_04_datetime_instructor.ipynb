{
 "cells": [
  {
   "cell_type": "markdown",
   "metadata": {},
   "source": [
    "\n",
    "<br>\n",
    "<p style=\"text-align: left;\"><img src='https://s3.amazonaws.com/weclouddata/images/logos/sunlife_logo.png' width='35%'></p>\n",
    "<p style=\"text-align:left;\"><font size='15'><b> Python - Date & Time </b></font> <br> <font color='#559E54' size=6>Instructor Copy</font> </p>\n",
    "<h2 align='left' > Sunlife Data Science Training </h2>\n",
    "\n",
    "<h4 align='left'>  Prepared by: <img src='https://s3.amazonaws.com/weclouddata/images/logos/wcd_logo.png' width='15%'>\n",
    "\n",
    "---"
   ]
  },
  {
   "cell_type": "markdown",
   "metadata": {},
   "source": [
    "**Python Datetime Format Reference:**\n",
    "\n",
    "> https://docs.python.org/2/library/datetime.html\n",
    "\n",
    "<img src='https://s3.amazonaws.com/weclouddata/images/python/python_datetime_format.png' width='90%'>"
   ]
  },
  {
   "cell_type": "markdown",
   "metadata": {},
   "source": [
    "# <font color='#347B98'> 1. Python Datetime Module\n",
    "\n",
    "\n",
    "\n",
    "\n",
    "## $\\Delta$ 1.1 Python Datetime Attributes\n"
   ]
  },
  {
   "cell_type": "code",
   "execution_count": 1,
   "metadata": {},
   "outputs": [
    {
     "name": "stdout",
     "output_type": "stream",
     "text": [
      "Current date & time = 2019-05-02 22:29:11.230900\n",
      "Date and time in ISO format = 2019-05-02T22:29:11.230900\n",
      "Current year = 2019\n",
      "Current month = 5\n",
      "Current date (day) =  2\n",
      "dd/mm/yyyy format =  2/5/2019\n",
      "Current hour = 22\n",
      "Current minute = 29\n",
      "Current second =  11\n",
      "hh:mm:ss format = 22:5:11\n"
     ]
    }
   ],
   "source": [
    "import datetime\n",
    "i = datetime.datetime.now()\n",
    " \n",
    "print (\"Current date & time = %s\" % i)\n",
    "print (\"Date and time in ISO format = %s\" % i.isoformat() )\n",
    "print (\"Current year = %s\" % i.year)\n",
    "print (\"Current month = %s\" % i.month)\n",
    "print (\"Current date (day) =  %s\" % i.day)\n",
    "print (\"dd/mm/yyyy format =  %s/%s/%s\" % (i.day, i.month, i.year) )\n",
    "print (\"Current hour = %s\" %i.hour)\n",
    "print (\"Current minute = %s\" %i.minute)\n",
    "print (\"Current second =  %s\" %i.second)\n",
    "print (\"hh:mm:ss format = %s:%s:%s\" % (i.hour, i.month, i.second) )"
   ]
  },
  {
   "cell_type": "markdown",
   "metadata": {},
   "source": [
    "---"
   ]
  },
  {
   "cell_type": "markdown",
   "metadata": {},
   "source": [
    "## $\\Delta$ 1.2 Datetime to String - `strftime`\n"
   ]
  },
  {
   "cell_type": "code",
   "execution_count": 2,
   "metadata": {},
   "outputs": [
    {
     "name": "stdout",
     "output_type": "stream",
     "text": [
      "2019\n",
      "5\n",
      "2\n"
     ]
    }
   ],
   "source": [
    "# without strftime\n",
    "import datetime\n",
    "d = datetime.date.today()\n",
    "print(d.year)\n",
    "print(d.month)\n",
    "print(d.day)\n"
   ]
  },
  {
   "cell_type": "code",
   "execution_count": 7,
   "metadata": {},
   "outputs": [
    {
     "name": "stdout",
     "output_type": "stream",
     "text": [
      "2019-05-02\n",
      "05\n",
      "02\n"
     ]
    }
   ],
   "source": [
    "# using strftime\n",
    "year = d.strftime('%Y-%m-%d')\n",
    "month = d.strftime('%m')\n",
    "day = d.strftime('%d')\n",
    "\n",
    "print(year)\n",
    "print(month)\n",
    "print(day)"
   ]
  },
  {
   "cell_type": "markdown",
   "metadata": {},
   "source": [
    "## $\\Delta$ 1.2 String to Datetime - `strptime`"
   ]
  },
  {
   "cell_type": "code",
   "execution_count": 8,
   "metadata": {},
   "outputs": [
    {
     "name": "stdout",
     "output_type": "stream",
     "text": [
      "<class 'datetime.datetime'>\n"
     ]
    },
    {
     "data": {
      "text/plain": [
       "datetime.datetime(2018, 5, 28, 15, 31, 25, 207778)"
      ]
     },
     "execution_count": 8,
     "metadata": {},
     "output_type": "execute_result"
    }
   ],
   "source": [
    "from datetime import datetime\n",
    "\n",
    "dt_str = '2018-05-28 15:31:25.207778'\n",
    "dt = datetime.strptime(dt_str, '%Y-%m-%d %H:%M:%S.%f')\n",
    "\n",
    "print(type(dt))\n",
    "dt"
   ]
  },
  {
   "cell_type": "markdown",
   "metadata": {},
   "source": [
    "### <font color='#559E54'> Lab 1.2 - Convert String to Datetime </font> \n",
    "\n",
    "- **Question 1: Convert `2019/01/01` to python `date`** \n",
    "- **Question 2: Convert `2018-05-28T15:31:25` to `datetime`**"
   ]
  },
  {
   "cell_type": "code",
   "execution_count": 12,
   "metadata": {},
   "outputs": [
    {
     "name": "stdout",
     "output_type": "stream",
     "text": [
      "2019-01-01\n"
     ]
    }
   ],
   "source": [
    "### Question 1: Your Code Below\n",
    "\n",
    "dt_str = '2019/01/01'\n",
    "dt = datetime.strptime(dt_str, '%Y/%m/%d')\n",
    "print(dt.date())\n"
   ]
  },
  {
   "cell_type": "code",
   "execution_count": 17,
   "metadata": {},
   "outputs": [
    {
     "name": "stdout",
     "output_type": "stream",
     "text": [
      "2018-05-28 15:31:25\n"
     ]
    }
   ],
   "source": [
    "### Question 2: Your Code Below\n",
    "\n",
    "dt_str = '2018-05-28T15:31:25'\n",
    "dt = datetime.strptime(dt_str, '%Y-%m-%dT%H:%M:%S')\n",
    "print(dt)"
   ]
  },
  {
   "cell_type": "markdown",
   "metadata": {},
   "source": [
    "## $\\Delta$ 1.3 Calculate Time Difference"
   ]
  },
  {
   "cell_type": "markdown",
   "metadata": {},
   "source": [
    "### Difference in seconds"
   ]
  },
  {
   "cell_type": "code",
   "execution_count": 20,
   "metadata": {},
   "outputs": [
    {
     "name": "stdout",
     "output_type": "stream",
     "text": [
      "605018.176999\n"
     ]
    }
   ],
   "source": [
    "from datetime import datetime\n",
    "start = '2018-05-28 15:31:25.207778'\n",
    "end = '2018-06-04 15:35:03.384777'\n",
    "\n",
    "start = datetime.strptime(start, '%Y-%m-%d %H:%M:%S.%f')\n",
    "end = datetime.strptime(end, '%Y-%m-%d %H:%M:%S.%f')\n",
    "\n",
    "diff = (end - start).total_seconds()\n",
    "\n",
    "print(diff)"
   ]
  },
  {
   "cell_type": "markdown",
   "metadata": {},
   "source": [
    "### Time delta"
   ]
  },
  {
   "cell_type": "code",
   "execution_count": 1,
   "metadata": {},
   "outputs": [
    {
     "name": "stdout",
     "output_type": "stream",
     "text": [
      "2018-05-29 15:31:25.207778\n",
      "2018-05-30 15:31:25.207778\n"
     ]
    }
   ],
   "source": [
    "from datetime import datetime\n",
    "from datetime import timedelta\n",
    "\n",
    "dt_str = '2018-05-28 15:31:25.207778'\n",
    "dt = datetime.strptime(dt_str, '%Y-%m-%d %H:%M:%S.%f')\n",
    "\n",
    "for i in range(2):\n",
    "    dt += timedelta(days=1)\n",
    "    print (dt)"
   ]
  },
  {
   "cell_type": "markdown",
   "metadata": {},
   "source": [
    "<br>\n",
    "\n",
    "### <font color='#559E54'> Lab 1.3 - Calculate `day` Difference </font> \n",
    "\n",
    "- **Question 1: Calculate total number of days between `Jan 20, 2018` and `Feb 11, 2019`**"
   ]
  },
  {
   "cell_type": "code",
   "execution_count": 38,
   "metadata": {},
   "outputs": [
    {
     "data": {
      "text/plain": [
       "387"
      ]
     },
     "execution_count": 38,
     "metadata": {},
     "output_type": "execute_result"
    }
   ],
   "source": [
    "dt_str_1 = 'Jan 20, 2018'\n",
    "dt_str_2 = 'Feb 11, 2019'\n",
    "\n",
    "### Your answers below\n",
    "\n",
    "dt_1 = datetime.strptime(dt_str_1, '%b %d, %Y')\n",
    "dt_2 = datetime.strptime(dt_str_2, '%b %d, %Y')\n",
    "\n",
    "diff = (dt_2 - dt_1)\n",
    "diff.days"
   ]
  },
  {
   "cell_type": "markdown",
   "metadata": {},
   "source": [
    "- **Question 2: What is the DOW (day of week) of the last day of month May 15, 2019?**"
   ]
  },
  {
   "cell_type": "code",
   "execution_count": 50,
   "metadata": {},
   "outputs": [
    {
     "name": "stdout",
     "output_type": "stream",
     "text": [
      "End of month 2019-05-15 is: 2019-05-31\n",
      "4\n"
     ]
    }
   ],
   "source": [
    "dt_str = 'May 15, 2019'\n",
    "\n",
    "dt = datetime.strptime(dt_str, '%b %d, %Y')\n",
    "\n",
    "### Your code below\n",
    "\n",
    "import calendar\n",
    "from datetime import timedelta\n",
    "\n",
    "dt_1 = dt.replace(month=dt.month+1, day=1) + timedelta(-1)\n",
    "print(\"End of month {} is: {}\".format(dt.date(), dt_1.date()))\n",
    "\n",
    "print(dt_1.weekday())"
   ]
  },
  {
   "cell_type": "markdown",
   "metadata": {},
   "source": [
    "- **Question 3: Customer tenure is 278 days as of `today`, what is this customer's registration/start date?**"
   ]
  },
  {
   "cell_type": "code",
   "execution_count": 56,
   "metadata": {},
   "outputs": [
    {
     "name": "stdout",
     "output_type": "stream",
     "text": [
      "2019-05-02 23:20:17.170915\n",
      "The customer's start date is: 2018-07-28\n"
     ]
    }
   ],
   "source": [
    "today = datetime.today()\n",
    "print(today)\n",
    "\n",
    "### Your Code Below\n",
    "from datetime import timedelta\n",
    "\n",
    "start_date = today - timedelta(278)\n",
    "print(\"The customer's start date is: {}\".format(start_date.date()))"
   ]
  },
  {
   "cell_type": "markdown",
   "metadata": {},
   "source": [
    "## $\\Delta$ 1.4 Unixtime Conversion"
   ]
  },
  {
   "cell_type": "code",
   "execution_count": 57,
   "metadata": {},
   "outputs": [
    {
     "name": "stdout",
     "output_type": "stream",
     "text": [
      "2018-06-04\n"
     ]
    }
   ],
   "source": [
    "import time\n",
    "import datetime\n",
    "d = datetime.date(2018,6,4)\n",
    "print(d)\n"
   ]
  },
  {
   "cell_type": "code",
   "execution_count": 58,
   "metadata": {},
   "outputs": [
    {
     "name": "stdout",
     "output_type": "stream",
     "text": [
      "1528070400.0\n"
     ]
    }
   ],
   "source": [
    "unixtime = time.mktime(d.timetuple())\n",
    "print(unixtime)"
   ]
  },
  {
   "cell_type": "code",
   "execution_count": 59,
   "metadata": {},
   "outputs": [
    {
     "data": {
      "text/plain": [
       "'2018-06-04 00:00:00'"
      ]
     },
     "execution_count": 59,
     "metadata": {},
     "output_type": "execute_result"
    }
   ],
   "source": [
    "def unix_to_datetime(ts):\n",
    "    return datetime.datetime.fromtimestamp(int(ts)).strftime('%Y-%m-%d %H:%M:%S')\n",
    "\n",
    "unix_to_datetime(1528070400)"
   ]
  },
  {
   "cell_type": "code",
   "execution_count": 60,
   "metadata": {},
   "outputs": [
    {
     "data": {
      "text/plain": [
       "1528070400"
      ]
     },
     "execution_count": 60,
     "metadata": {},
     "output_type": "execute_result"
    }
   ],
   "source": [
    "def date_to_unix(year,mon,day):\n",
    "    d = datetime.date(year,mon,day)\n",
    "    return int(time.mktime(d.timetuple()))\n",
    "\n",
    "date_to_unix(2018,6,4)"
   ]
  },
  {
   "cell_type": "code",
   "execution_count": 61,
   "metadata": {},
   "outputs": [
    {
     "data": {
      "text/plain": [
       "'2018-06-04 00:00:00'"
      ]
     },
     "execution_count": 61,
     "metadata": {},
     "output_type": "execute_result"
    }
   ],
   "source": [
    "unix_to_datetime(date_to_unix(2018,6,4))"
   ]
  }
 ],
 "metadata": {
  "kernelspec": {
   "display_name": "Python 3",
   "language": "python",
   "name": "python3"
  },
  "language_info": {
   "codemirror_mode": {
    "name": "ipython",
    "version": 3
   },
   "file_extension": ".py",
   "mimetype": "text/x-python",
   "name": "python",
   "nbconvert_exporter": "python",
   "pygments_lexer": "ipython3",
   "version": "3.5.5"
  }
 },
 "nbformat": 4,
 "nbformat_minor": 2
}
