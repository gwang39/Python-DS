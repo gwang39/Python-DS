{
 "cells": [
  {
   "cell_type": "markdown",
   "metadata": {},
   "source": [
    "<br>\n",
    "<p style=\"text-align: left;\"><img src='https://s3.amazonaws.com/weclouddata/images/logos/sunlife_logo.png' width='35%'></p>\n",
    "<p style=\"text-align:left;\"><font size='15'><b> Machine Learning - PCA </b></font> <br>\n",
    "<h2 align='left' > Sunlife Data Science Training </h2>\n",
    "\n",
    "<h4 align='left'>  Prepared by: <img src='https://s3.amazonaws.com/weclouddata/images/logos/wcd_logo.png' width='15%'></h4>\n",
    "\n",
    "---\n",
    "\n",
    "# <a name=\"section1\"></a> <font color='#347B98'> 1. Dimension Reduction and PCA\n",
    "    \n",
    "#### Table of Contents\n",
    "\n",
    "1. Understanding PCA\n",
    "  - [1.1 - Calculating covariance matrix](#section1.1)\n",
    "  - [1.2 - Eigenvalue Decomposition](#section1.2)\n",
    "  - [1.3 - Selecting Principal Components](#section1.3)\n",
    "  - [1.4 - Calculating Expained Variance](#section1.4)\n",
    "  - [1.5 - Constructing the Projection Matrix](#section1.5)\n",
    "  - [1.6 - Dimension Reduction](#section1.6)\n",
    "  - [1.7 - Visualizing Projected Dimension Space](#section1.7)\n",
    "  \n",
    "2. [PCA with Sklearn](#section2)"
   ]
  },
  {
   "cell_type": "markdown",
   "metadata": {},
   "source": [
    "Dimensionality reduction is the transformation of high dimensional data into a meaningful representation of reduced dimensionality. In many real applications such as face recognition, text categorization, and image segmentation, the dimensionality of data is very high, to deals with such high dimensional data we need to reduce it without loss of information. \n",
    "\n",
    "Many dimensionality reduction approaches have been proposed among that Principal Component Analysis (PCA) is one of the most popular methods which have been widely used in many classification applications. For example, in face recognition eigenfaces is based on **principal component analysis (PCA)** for dimensionality reduction and extracting personal features.\n",
    "\n",
    "Principal Component Analysis (PCA) is an unsupervised dimensionality reduction method. It seeks to reduce the dimension of the data by finding a few orthogonal linear combinations (the principal components PCs) of the original variables with the largest variance. As per the number of the original variables there are as many PCs. The first several PCs explain most of the variance, so that disregarded the rest can be with minimal loss of information, for many datasets. To reduce the dimensionality of the huge data along with retaining as much information as possible in the original dataset, PCA is used. \n",
    "\n",
    "In a nutshell, this is what PCA is all about: Finding the directions of maximum variance in high-dimensional data and project it onto a smaller dimensional subspace while retaining most of the information\n",
    "\n",
    "<img src=\"https://s3.amazonaws.com/weclouddata/images/python/pca.png\" width=\"30%\">  \n",
    "\n",
    "\n",
    "[PCA Visual Explanation](http://setosa.io/ev/principal-component-analysis/)\n",
    "<img src='https://s3.amazonaws.com/weclouddata/images/python/pca_visual_1.png' width='70%'>\n"
   ]
  },
  {
   "cell_type": "markdown",
   "metadata": {},
   "source": [
    "### Dataset \n",
    "The Iris dataset consists of 3 different types of irises' (Setosa, Versicolour, and Virginica) petal and sepal length, stored in a `150x4` numpy.ndarray. The rows being the samples and the columns being: `Sepal Length, Sepal Width, Petal Length and Petal Width`. The below plot uses the first two features.\n",
    "\n",
    "\n",
    "<img src=\"https://s3.amazonaws.com/weclouddata/images/python/iris.png\" width=\"40%\">              \n"
   ]
  },
  {
   "cell_type": "code",
   "execution_count": 23,
   "metadata": {},
   "outputs": [],
   "source": [
    "from sklearn.datasets import load_iris\n",
    "data = load_iris()\n",
    "X = data['data']\n",
    "y = data['target']\n"
   ]
  },
  {
   "cell_type": "code",
   "execution_count": 24,
   "metadata": {},
   "outputs": [
    {
     "data": {
      "text/plain": [
       "array([[5.1, 3.5, 1.4, 0.2],\n",
       "       [4.9, 3. , 1.4, 0.2],\n",
       "       [4.7, 3.2, 1.3, 0.2],\n",
       "       [4.6, 3.1, 1.5, 0.2],\n",
       "       [5. , 3.6, 1.4, 0.2],\n",
       "       [5.4, 3.9, 1.7, 0.4],\n",
       "       [4.6, 3.4, 1.4, 0.3],\n",
       "       [5. , 3.4, 1.5, 0.2],\n",
       "       [4.4, 2.9, 1.4, 0.2],\n",
       "       [4.9, 3.1, 1.5, 0.1],\n",
       "       [5.4, 3.7, 1.5, 0.2],\n",
       "       [4.8, 3.4, 1.6, 0.2],\n",
       "       [4.8, 3. , 1.4, 0.1],\n",
       "       [4.3, 3. , 1.1, 0.1],\n",
       "       [5.8, 4. , 1.2, 0.2],\n",
       "       [5.7, 4.4, 1.5, 0.4],\n",
       "       [5.4, 3.9, 1.3, 0.4],\n",
       "       [5.1, 3.5, 1.4, 0.3],\n",
       "       [5.7, 3.8, 1.7, 0.3],\n",
       "       [5.1, 3.8, 1.5, 0.3],\n",
       "       [5.4, 3.4, 1.7, 0.2],\n",
       "       [5.1, 3.7, 1.5, 0.4],\n",
       "       [4.6, 3.6, 1. , 0.2],\n",
       "       [5.1, 3.3, 1.7, 0.5],\n",
       "       [4.8, 3.4, 1.9, 0.2],\n",
       "       [5. , 3. , 1.6, 0.2],\n",
       "       [5. , 3.4, 1.6, 0.4],\n",
       "       [5.2, 3.5, 1.5, 0.2],\n",
       "       [5.2, 3.4, 1.4, 0.2],\n",
       "       [4.7, 3.2, 1.6, 0.2],\n",
       "       [4.8, 3.1, 1.6, 0.2],\n",
       "       [5.4, 3.4, 1.5, 0.4],\n",
       "       [5.2, 4.1, 1.5, 0.1],\n",
       "       [5.5, 4.2, 1.4, 0.2],\n",
       "       [4.9, 3.1, 1.5, 0.1],\n",
       "       [5. , 3.2, 1.2, 0.2],\n",
       "       [5.5, 3.5, 1.3, 0.2],\n",
       "       [4.9, 3.1, 1.5, 0.1],\n",
       "       [4.4, 3. , 1.3, 0.2],\n",
       "       [5.1, 3.4, 1.5, 0.2],\n",
       "       [5. , 3.5, 1.3, 0.3],\n",
       "       [4.5, 2.3, 1.3, 0.3],\n",
       "       [4.4, 3.2, 1.3, 0.2],\n",
       "       [5. , 3.5, 1.6, 0.6],\n",
       "       [5.1, 3.8, 1.9, 0.4],\n",
       "       [4.8, 3. , 1.4, 0.3],\n",
       "       [5.1, 3.8, 1.6, 0.2],\n",
       "       [4.6, 3.2, 1.4, 0.2],\n",
       "       [5.3, 3.7, 1.5, 0.2],\n",
       "       [5. , 3.3, 1.4, 0.2],\n",
       "       [7. , 3.2, 4.7, 1.4],\n",
       "       [6.4, 3.2, 4.5, 1.5],\n",
       "       [6.9, 3.1, 4.9, 1.5],\n",
       "       [5.5, 2.3, 4. , 1.3],\n",
       "       [6.5, 2.8, 4.6, 1.5],\n",
       "       [5.7, 2.8, 4.5, 1.3],\n",
       "       [6.3, 3.3, 4.7, 1.6],\n",
       "       [4.9, 2.4, 3.3, 1. ],\n",
       "       [6.6, 2.9, 4.6, 1.3],\n",
       "       [5.2, 2.7, 3.9, 1.4],\n",
       "       [5. , 2. , 3.5, 1. ],\n",
       "       [5.9, 3. , 4.2, 1.5],\n",
       "       [6. , 2.2, 4. , 1. ],\n",
       "       [6.1, 2.9, 4.7, 1.4],\n",
       "       [5.6, 2.9, 3.6, 1.3],\n",
       "       [6.7, 3.1, 4.4, 1.4],\n",
       "       [5.6, 3. , 4.5, 1.5],\n",
       "       [5.8, 2.7, 4.1, 1. ],\n",
       "       [6.2, 2.2, 4.5, 1.5],\n",
       "       [5.6, 2.5, 3.9, 1.1],\n",
       "       [5.9, 3.2, 4.8, 1.8],\n",
       "       [6.1, 2.8, 4. , 1.3],\n",
       "       [6.3, 2.5, 4.9, 1.5],\n",
       "       [6.1, 2.8, 4.7, 1.2],\n",
       "       [6.4, 2.9, 4.3, 1.3],\n",
       "       [6.6, 3. , 4.4, 1.4],\n",
       "       [6.8, 2.8, 4.8, 1.4],\n",
       "       [6.7, 3. , 5. , 1.7],\n",
       "       [6. , 2.9, 4.5, 1.5],\n",
       "       [5.7, 2.6, 3.5, 1. ],\n",
       "       [5.5, 2.4, 3.8, 1.1],\n",
       "       [5.5, 2.4, 3.7, 1. ],\n",
       "       [5.8, 2.7, 3.9, 1.2],\n",
       "       [6. , 2.7, 5.1, 1.6],\n",
       "       [5.4, 3. , 4.5, 1.5],\n",
       "       [6. , 3.4, 4.5, 1.6],\n",
       "       [6.7, 3.1, 4.7, 1.5],\n",
       "       [6.3, 2.3, 4.4, 1.3],\n",
       "       [5.6, 3. , 4.1, 1.3],\n",
       "       [5.5, 2.5, 4. , 1.3],\n",
       "       [5.5, 2.6, 4.4, 1.2],\n",
       "       [6.1, 3. , 4.6, 1.4],\n",
       "       [5.8, 2.6, 4. , 1.2],\n",
       "       [5. , 2.3, 3.3, 1. ],\n",
       "       [5.6, 2.7, 4.2, 1.3],\n",
       "       [5.7, 3. , 4.2, 1.2],\n",
       "       [5.7, 2.9, 4.2, 1.3],\n",
       "       [6.2, 2.9, 4.3, 1.3],\n",
       "       [5.1, 2.5, 3. , 1.1],\n",
       "       [5.7, 2.8, 4.1, 1.3],\n",
       "       [6.3, 3.3, 6. , 2.5],\n",
       "       [5.8, 2.7, 5.1, 1.9],\n",
       "       [7.1, 3. , 5.9, 2.1],\n",
       "       [6.3, 2.9, 5.6, 1.8],\n",
       "       [6.5, 3. , 5.8, 2.2],\n",
       "       [7.6, 3. , 6.6, 2.1],\n",
       "       [4.9, 2.5, 4.5, 1.7],\n",
       "       [7.3, 2.9, 6.3, 1.8],\n",
       "       [6.7, 2.5, 5.8, 1.8],\n",
       "       [7.2, 3.6, 6.1, 2.5],\n",
       "       [6.5, 3.2, 5.1, 2. ],\n",
       "       [6.4, 2.7, 5.3, 1.9],\n",
       "       [6.8, 3. , 5.5, 2.1],\n",
       "       [5.7, 2.5, 5. , 2. ],\n",
       "       [5.8, 2.8, 5.1, 2.4],\n",
       "       [6.4, 3.2, 5.3, 2.3],\n",
       "       [6.5, 3. , 5.5, 1.8],\n",
       "       [7.7, 3.8, 6.7, 2.2],\n",
       "       [7.7, 2.6, 6.9, 2.3],\n",
       "       [6. , 2.2, 5. , 1.5],\n",
       "       [6.9, 3.2, 5.7, 2.3],\n",
       "       [5.6, 2.8, 4.9, 2. ],\n",
       "       [7.7, 2.8, 6.7, 2. ],\n",
       "       [6.3, 2.7, 4.9, 1.8],\n",
       "       [6.7, 3.3, 5.7, 2.1],\n",
       "       [7.2, 3.2, 6. , 1.8],\n",
       "       [6.2, 2.8, 4.8, 1.8],\n",
       "       [6.1, 3. , 4.9, 1.8],\n",
       "       [6.4, 2.8, 5.6, 2.1],\n",
       "       [7.2, 3. , 5.8, 1.6],\n",
       "       [7.4, 2.8, 6.1, 1.9],\n",
       "       [7.9, 3.8, 6.4, 2. ],\n",
       "       [6.4, 2.8, 5.6, 2.2],\n",
       "       [6.3, 2.8, 5.1, 1.5],\n",
       "       [6.1, 2.6, 5.6, 1.4],\n",
       "       [7.7, 3. , 6.1, 2.3],\n",
       "       [6.3, 3.4, 5.6, 2.4],\n",
       "       [6.4, 3.1, 5.5, 1.8],\n",
       "       [6. , 3. , 4.8, 1.8],\n",
       "       [6.9, 3.1, 5.4, 2.1],\n",
       "       [6.7, 3.1, 5.6, 2.4],\n",
       "       [6.9, 3.1, 5.1, 2.3],\n",
       "       [5.8, 2.7, 5.1, 1.9],\n",
       "       [6.8, 3.2, 5.9, 2.3],\n",
       "       [6.7, 3.3, 5.7, 2.5],\n",
       "       [6.7, 3. , 5.2, 2.3],\n",
       "       [6.3, 2.5, 5. , 1.9],\n",
       "       [6.5, 3. , 5.2, 2. ],\n",
       "       [6.2, 3.4, 5.4, 2.3],\n",
       "       [5.9, 3. , 5.1, 1.8]])"
      ]
     },
     "execution_count": 24,
     "metadata": {},
     "output_type": "execute_result"
    }
   ],
   "source": [
    "X"
   ]
  },
  {
   "cell_type": "markdown",
   "metadata": {},
   "source": [
    "## <a name=\"section1.1\"></a> $\\Delta$ <font color='#559E54'> 1.1 - Step 1 - Calculating Covariance Matrix"
   ]
  },
  {
   "cell_type": "markdown",
   "metadata": {},
   "source": [
    "The classic approach to PCA is to perform the eigen decomposition on the covariance matrix Σ, which is a d×d matrix where each element represents the covariance between two features. The covariance between two features is calculated as follows:\n",
    "\n",
    "<img src=\"https://s3.amazonaws.com/weclouddata/images/python/pca_covariance.png\" width=\"40%\">              \n",
    "\n",
    "\n",
    "We can summarize the calculation of the covariance matrix via the following matrix equation:\n",
    "<img src=\"https://s3.amazonaws.com/weclouddata/images/python/pca_covariance_2.png\" width=\"30%\">              \n",
    "\n",
    "\n",
    "where X is the mean vector \n",
    "<img src=\"https://s3.amazonaws.com/weclouddata/images/python/pca_covariance_3.png\" width=\"10%\">              \n",
    "\n",
    "\n",
    "The mean vector is a d-dimensional vector where each value in this vector represents the sample mean of a feature column in the dataset.\n",
    "\n",
    "**Matrix-Matrix Multiplication**\n",
    "<img src='https://www.mathsisfun.com/algebra/images/matrix-multiply-a.svg' width='.5'>\n"
   ]
  },
  {
   "cell_type": "markdown",
   "metadata": {},
   "source": [
    "### $\\delta$ 1.1.1 - Covariance with Numpy"
   ]
  },
  {
   "cell_type": "code",
   "execution_count": 25,
   "metadata": {},
   "outputs": [
    {
     "name": "stdout",
     "output_type": "stream",
     "text": [
      "NumPy covariance matrix: \n",
      " [[ 0.68569351 -0.03926846  1.27368233  0.5169038 ]\n",
      " [-0.03926846  0.18800403 -0.32171275 -0.11798121]\n",
      " [ 1.27368233 -0.32171275  3.11317942  1.29638747]\n",
      " [ 0.5169038  -0.11798121  1.29638747  0.58241432]]\n"
     ]
    }
   ],
   "source": [
    "import numpy as np\n",
    "print('NumPy covariance matrix: \\n %s' % np.cov(X.T))"
   ]
  },
  {
   "cell_type": "markdown",
   "metadata": {},
   "source": [
    "### $\\delta$ 1.1.2 - Covariance implementation\n",
    "\n",
    "In this step, try to implement your own calculation of covariance and compare the results to numpy output"
   ]
  },
  {
   "cell_type": "code",
   "execution_count": 26,
   "metadata": {},
   "outputs": [
    {
     "data": {
      "text/plain": [
       "(150, 4)"
      ]
     },
     "execution_count": 26,
     "metadata": {},
     "output_type": "execute_result"
    }
   ],
   "source": [
    "X.shape"
   ]
  },
  {
   "cell_type": "code",
   "execution_count": 27,
   "metadata": {},
   "outputs": [
    {
     "data": {
      "text/plain": [
       "array([5.84333333, 3.054     , 3.75866667, 1.19866667])"
      ]
     },
     "execution_count": 27,
     "metadata": {},
     "output_type": "execute_result"
    }
   ],
   "source": [
    "mean_vec = np.mean(X, axis=0)\n",
    "mean_vec"
   ]
  },
  {
   "cell_type": "code",
   "execution_count": 28,
   "metadata": {},
   "outputs": [
    {
     "name": "stdout",
     "output_type": "stream",
     "text": [
      "Covariance matrix \n",
      "[[ 0.68569351 -0.03926846  1.27368233  0.5169038 ]\n",
      " [-0.03926846  0.18800403 -0.32171275 -0.11798121]\n",
      " [ 1.27368233 -0.32171275  3.11317942  1.29638747]\n",
      " [ 0.5169038  -0.11798121  1.29638747  0.58241432]]\n"
     ]
    }
   ],
   "source": [
    "import numpy as np\n",
    "\n",
    "mean_vec = np.mean(X, axis=0)\n",
    "cov_mat = (X - mean_vec).T.dot((X - mean_vec)) / (X.shape[0]-1)\n",
    "print('Covariance matrix \\n%s' %cov_mat)\n"
   ]
  },
  {
   "cell_type": "markdown",
   "metadata": {
    "collapsed": true
   },
   "source": []
  },
  {
   "cell_type": "markdown",
   "metadata": {},
   "source": [
    "## <a name=\"section1.2\"></a> <font color='#559E54'> $\\Delta$ 1.2 - Step 2 - Applying Eigen-value Decomposition on the Covariance Matrix\n",
    "\n",
    "Next, we perform an eigendecomposition on the covariance matrix. Note that eigenvalue decomposition takes covariance matrix or correlation matrix as the input\n",
    "\n",
    "\n",
    "**Eigenvectors** and **Eigenvalues** exist in pairs: every eigenvector has a corresponding eigenvalue. \n",
    "\n",
    "#### An eigenvector is a direction\n",
    "> the eigenvector was the direction of the line (vertical, horizontal, 45 degrees etc.) . \n",
    "\n",
    "#### An eigenvalue is a number, telling you how much variance there is in the data in that direction. \n",
    "> the eigenvalue is a number telling us how spread out the data is on the line. The eigenvector with the highest eigenvalue is therefore the principal component.\n"
   ]
  },
  {
   "cell_type": "markdown",
   "metadata": {},
   "source": [
    "<img src='https://s3.amazonaws.com/weclouddata/images/python/pca.gif' width='70%'>"
   ]
  },
  {
   "cell_type": "markdown",
   "metadata": {},
   "source": [
    "In this step, you need to leverage the \"np.linalg.eig\" function and apply it on the covariance matrix. Put the `eig_values` and `eigenvectors` into two variables"
   ]
  },
  {
   "cell_type": "code",
   "execution_count": 29,
   "metadata": {},
   "outputs": [],
   "source": [
    "### Numpy eigenvalue decomposition\n",
    "\n",
    "eig_vals, eig_vecs = np.linalg.eig(cov_mat)\n"
   ]
  },
  {
   "cell_type": "code",
   "execution_count": 30,
   "metadata": {},
   "outputs": [
    {
     "name": "stdout",
     "output_type": "stream",
     "text": [
      "Eigenvectors \n",
      " [[ 0.36158968 -0.65653988 -0.58099728  0.31725455]\n",
      " [-0.08226889 -0.72971237  0.59641809 -0.32409435]\n",
      " [ 0.85657211  0.1757674   0.07252408 -0.47971899]\n",
      " [ 0.35884393  0.07470647  0.54906091  0.75112056]]\n",
      "Eigenvalues \n",
      " [4.22484077 0.24224357 0.07852391 0.02368303]\n",
      "(4, 4)\n"
     ]
    }
   ],
   "source": [
    "print('Eigenvectors \\n {}'.format(eig_vecs))\n",
    "print('Eigenvalues \\n {}'.format(eig_vals))\n",
    "\n",
    "print(eig_vecs.shape)"
   ]
  },
  {
   "cell_type": "markdown",
   "metadata": {},
   "source": [
    "## <a name=\"section1.3\"></a> <font color='#559E54'> 1.3 - Step 3 - Selecting Principal Components\n",
    "The typical goal of a PCA is to reduce the dimensionality of the original feature space by projecting it onto a smaller subspace, where the eigenvectors will form the axes. However, the eigenvectors only define the directions of the new axis, since they have all the same unit length 1. In order to decide which eigenvector can be dropped without losing too much information for the construction of lower-dimensional subspace, we need to inspect the corresponding eigenvalues: The eigenvectors with the lowest eigenvalues bear the least information about the distribution of the data; those are the ones can be dropped.\n",
    "In order to do so, the common approach is to rank the eigenvalues from highest to lowest in order choose the top k eigenvectors.\n"
   ]
  },
  {
   "cell_type": "markdown",
   "metadata": {},
   "source": [
    "##### Select the principal components\n",
    "\n",
    "Now that we have an eigenvector (4x4) we can select the top k to reduce dimensions. In this step, we need to rank order eigenvectors by eigenvalues in descending order and select the top K eigenvector as principal components"
   ]
  },
  {
   "cell_type": "code",
   "execution_count": 31,
   "metadata": {},
   "outputs": [
    {
     "name": "stdout",
     "output_type": "stream",
     "text": [
      "Eigenvalues in descending order:\n",
      "4.224840768320109\n",
      "0.24224357162751506\n",
      "0.07852390809415462\n",
      "0.023683027126001302\n"
     ]
    }
   ],
   "source": [
    "### Sort eigenvalues by descending order with their corresponding eigenvectors\n",
    "# Make a list of (eigenvalue, eigenvector) tuples\n",
    "eig_pairs = [(np.abs(eig_vals[i]), eig_vecs[:,i]) for i in range(len(eig_vals))]\n",
    "\n",
    "# Sort the (eigenvalue, eigenvector) tuples from high to low\n",
    "eig_pairs.sort(key=lambda x: x[0], reverse=True)\n",
    "\n",
    "# Visually confirm that the list is correctly sorted by decreasing eigenvalues\n",
    "print('Eigenvalues in descending order:')\n",
    "for i in eig_pairs:\n",
    "    print(i[0])\n"
   ]
  },
  {
   "cell_type": "markdown",
   "metadata": {},
   "source": [
    "## <a name=\"section1.4\"></a> <font color='#559E54'> 1.4 - Step 4 - Calculate Explained Variance"
   ]
  },
  {
   "cell_type": "markdown",
   "metadata": {},
   "source": [
    "After sorting the eigen pairs, the next question is \"how many principal components are we going to choose for our new feature subspace?\" A useful measure is the so-called **\"explained variance**, which can be calculated from the eigenvalues. The explained variance tells us how much information (variance) can be attributed to each of the principal components.\n"
   ]
  },
  {
   "cell_type": "markdown",
   "metadata": {},
   "source": [
    "##### Calculate cumulative explained variance\n",
    "For example, say the eigenvalue vector (after sorting) looks like below\n",
    "$[4, 2, 1.5, 0.5]$\n",
    "\n",
    "the highest eigenvalue is $4$ and total eigenvalue sum equals to $4+2+1.5+0.5$, then the explained variance of first principal component is $4 / 8 = 0.5$\n",
    "\n",
    "In this step, implement cumulative explained variance calculation, so that we end up with a new vector:\n",
    "$[0.5, 0.75, 0.9375, 1.0]$"
   ]
  },
  {
   "cell_type": "code",
   "execution_count": 32,
   "metadata": {},
   "outputs": [
    {
     "name": "stdout",
     "output_type": "stream",
     "text": [
      "[ 92.46162072  97.7631775   99.48169145 100.        ]\n"
     ]
    }
   ],
   "source": [
    "### Calculate explained variance\n",
    "\n",
    "tot = sum(eig_vals)\n",
    "var_exp = [(i / tot)*100 for i in sorted(eig_vals, reverse=True)]\n",
    "cum_var_exp = np.cumsum(var_exp)\n",
    "\n",
    "print (cum_var_exp)\n"
   ]
  },
  {
   "cell_type": "code",
   "execution_count": 33,
   "metadata": {},
   "outputs": [
    {
     "data": {
      "image/png": "[encoded data removed]",
      "text/plain": [
       "<matplotlib.figure.Figure at 0x10d6409b0>"
      ]
     },
     "metadata": {},
     "output_type": "display_data"
    }
   ],
   "source": [
    "# Plot variance explained\n",
    "import matplotlib.pyplot as plt\n",
    "%matplotlib inline\n",
    "\n",
    "plt.figure(figsize=(9,7))\n",
    "plt.plot(range(1, X.shape[1]+1), cum_var_exp, 'bo-', alpha=0.5, c='green', lw=5)\n",
    "plt.xlabel('PC')\n",
    "plt.ylabel('Variance Explained')\n",
    "plt.grid(True)\n",
    "plt.title('Variance Explained - PCA')\n",
    "plt.axvline(2, lw=4, color='#D696D3')\n",
    "plt.show()"
   ]
  },
  {
   "cell_type": "markdown",
   "metadata": {},
   "source": [
    "## <a name=\"section1.5\"></a> <font color='#559E54'> 1.5 - Step 5 - Construct the projection matrix\n",
    "The next step is to construct the projection matrix that will be used to transform the Iris data onto the new feature subspace. \n",
    "Here, we are reducing the 4-dimensional feature space to a 2-dimensional feature subspace, by choosing the \"top 2\" eigenvectors with the highest eigenvalues to construct our $d×k$-dimensional eigenvector matrix W. \n"
   ]
  },
  {
   "cell_type": "code",
   "execution_count": 55,
   "metadata": {},
   "outputs": [
    {
     "name": "stdout",
     "output_type": "stream",
     "text": [
      "Matrix W:\n",
      " [[ 0.36158968 -0.65653988]\n",
      " [-0.08226889 -0.72971237]\n",
      " [ 0.85657211  0.1757674 ]\n",
      " [ 0.35884393  0.07470647]]\n"
     ]
    }
   ],
   "source": [
    "# set the number of components to keep\n",
    "n_components = 2\n",
    "\n",
    "\n",
    "# Build the projection matrix (top-2 eigenvectors concatenated into a projection matrix)\n",
    "matrix_w = np.array([x[1] for x in eig_pairs[:n_components]]).T\n",
    "print('Matrix W:\\n', matrix_w)\n"
   ]
  },
  {
   "cell_type": "markdown",
   "metadata": {},
   "source": [
    "## <a name=\"section1.6\"></a> <font color='#559E54'> 1.6 - Step 6 - Projection onto the Low-dimensional Subspace\n",
    "In this last step we will use the $4×2$-dimensional projection matrix $W$ to transform our samples onto the new subspace via the equation $Y=X×W$, where $Y$ is a 150×2 matrix of our transformed samples.\n"
   ]
  },
  {
   "cell_type": "markdown",
   "metadata": {},
   "source": [
    "##### Take the original iris matrix X and dot product with the projection matrix to project the original matrix onto a lower-dimensional subspace"
   ]
  },
  {
   "cell_type": "code",
   "execution_count": 56,
   "metadata": {},
   "outputs": [],
   "source": [
    "### Projecting origianl space onto 2-D Subspace\n",
    "\n",
    "X_transformed = X.dot(matrix_w)"
   ]
  },
  {
   "cell_type": "code",
   "execution_count": 57,
   "metadata": {},
   "outputs": [
    {
     "data": {
      "text/plain": [
       "array([[ 2.82713597, -5.64133105],\n",
       "       [ 2.79595248, -5.14516688],\n",
       "       [ 2.62152356, -5.17737812],\n",
       "       [ 2.7649059 , -5.00359942],\n",
       "       [ 2.78275012, -5.64864829],\n",
       "       [ 3.23144574, -6.06250644],\n",
       "       [ 2.69045242, -5.23261922],\n",
       "       [ 2.8848611 , -5.48512908],\n",
       "       [ 2.62338453, -4.7439257 ],\n",
       "       [ 2.83749841, -5.20803203],\n",
       "       [ 3.00481631, -5.96665874],\n",
       "       [ 2.89820038, -5.33624436],\n",
       "       [ 2.72390912, -5.08698354],\n",
       "       [ 2.28614265, -4.81144382],\n",
       "       [ 2.86779988, -6.50091863],\n",
       "       [ 3.12747377, -6.65947808],\n",
       "       [ 2.88881689, -6.13281341],\n",
       "       [ 2.86302037, -5.6338604 ],\n",
       "       [ 3.31226514, -6.19396782],\n",
       "       [ 2.92399691, -5.83519737],\n",
       "       [ 3.2008114 , -5.71259155],\n",
       "       [ 2.96810819, -5.75475549],\n",
       "       [ 2.2954854 , -5.4563393 ],\n",
       "       [ 3.20821456, -5.42024641],\n",
       "       [ 3.15517201, -5.28351414],\n",
       "       [ 3.00342587, -5.17566739],\n",
       "       [ 3.0422871 , -5.45261105],\n",
       "       [ 2.94895215, -5.68940829],\n",
       "       [ 2.87152183, -5.6340138 ],\n",
       "       [ 2.87849519, -5.1246479 ],\n",
       "       [ 2.92288105, -5.11733065],\n",
       "       [ 3.10126576, -5.73280374],\n",
       "       [ 2.86370642, -6.13470636],\n",
       "       [ 2.91418362, -6.41474566],\n",
       "       [ 2.83749841, -5.20803203],\n",
       "       [ 2.64434325, -5.39191683],\n",
       "       [ 2.88611463, -5.92152374],\n",
       "       [ 2.83749841, -5.20803203],\n",
       "       [ 2.52950043, -4.83447368],\n",
       "       [ 2.92102007, -5.55078307],\n",
       "       [ 2.74120419, -5.58578315],\n",
       "       [ 2.65913202, -4.38185836],\n",
       "       [ 2.51304665, -4.98041616],\n",
       "       [ 3.105829  , -5.51064099],\n",
       "       [ 3.30251014, -5.75741976],\n",
       "       [ 2.79567791, -5.07204225],\n",
       "       [ 2.97376973, -5.82509128],\n",
       "       [ 2.6710218 , -5.09414739],\n",
       "       [ 2.96865734, -5.90100476],\n",
       "       [ 2.80743078, -5.42973458],\n",
       "       [ 6.79613769, -6.00016292],\n",
       "       [ 6.44375385, -5.63392182],\n",
       "       [ 6.97540442, -5.81891356],\n",
       "       [ 5.6923103 , -4.48911979],\n",
       "       [ 6.59847758, -5.39011412],\n",
       "       [ 6.15177985, -4.89740025],\n",
       "       [ 6.60656681, -5.59861494],\n",
       "       [ 4.75987596, -4.31361622],\n",
       "       [ 6.55464088, -5.54368064],\n",
       "       [ 5.50115303, -4.59414886],\n",
       "       [ 5.0002569 , -4.05223178],\n",
       "       [ 6.02244116, -5.21243963],\n",
       "       [ 5.77367885, -4.76683043],\n",
       "       [ 6.49538764, -5.19036331],\n",
       "       [ 5.3364791 , -5.06290816],\n",
       "       [ 6.43891604, -5.78295994],\n",
       "       [ 6.17093589, -4.96274744],\n",
       "       [ 5.74588368, -4.9828019 ],\n",
       "       [ 6.45370481, -4.77290147],\n",
       "       [ 5.5545895 , -4.73323428],\n",
       "       [ 6.62758382, -5.23050972],\n",
       "       [ 5.86812967, -5.2478999 ],\n",
       "       [ 6.80781195, -4.98716221],\n",
       "       [ 6.43184575, -5.13233337],\n",
       "       [ 6.22535131, -5.46510288],\n",
       "       [ 6.41098396, -5.64433471],\n",
       "       [ 6.84238452, -5.55939325],\n",
       "       [ 7.06873937, -5.58211632],\n",
       "       [ 6.32379865, -5.15239216],\n",
       "       [ 5.20400834, -4.94963712],\n",
       "       [ 5.44100021, -4.6121858 ],\n",
       "       [ 5.31945861, -4.63723319],\n",
       "       [ 5.64633805, -5.00301409],\n",
       "       [ 6.89008008, -4.89351859],\n",
       "       [ 6.09861795, -4.83143946],\n",
       "       [ 6.31854859, -5.50977769],\n",
       "       [ 6.73177206, -5.72275907],\n",
       "       [ 6.32421089, -4.94404473],\n",
       "       [ 5.75653826, -5.0479957 ],\n",
       "       [ 5.67585653, -4.63506226],\n",
       "       [ 5.97437409, -4.64519718],\n",
       "       [ 6.40150354, -5.28091129],\n",
       "       [ 5.74022215, -4.91246611],\n",
       "       [ 4.80426181, -4.30629897],\n",
       "       [ 5.86687614, -4.81150524],\n",
       "       [ 5.84247005, -5.10354359],\n",
       "       [ 5.88658133, -5.02310171],\n",
       "       [ 6.15303338, -5.33379491],\n",
       "       [ 4.60287976, -4.56315501],\n",
       "       [ 5.80915101, -4.96770721],\n",
       "       [ 8.04307008, -5.30288149],\n",
       "       [ 6.92541532, -4.73979867],\n",
       "       [ 8.12782771, -5.65665902],\n",
       "       [ 7.48215804, -5.13359804],\n",
       "       [ 7.86110108, -5.27284118],\n",
       "       [ 8.90822302, -5.86189178],\n",
       "       [ 6.03072634, -4.12337204],\n",
       "       [ 8.44334819, -5.66710074],\n",
       "       [ 7.83101589, -5.06917556],\n",
       "       [ 8.42947733, -6.09510436],\n",
       "       [ 7.17327804, -5.55676213],\n",
       "       [ 7.31368355, -5.09856912],\n",
       "       [ 7.67672196, -5.53000401],\n",
       "       [ 6.85593732, -4.53830831],\n",
       "       [ 7.0966104 , -4.77541668],\n",
       "       [ 7.41608668, -5.43354272],\n",
       "       [ 7.46059188, -5.35545399],\n",
       "       [ 9.00010848, -6.48626828],\n",
       "       [ 9.30602996, -5.5679893 ],\n",
       "       [ 6.80967292, -4.55370979],\n",
       "       [ 7.93951036, -5.6915057 ],\n",
       "       [ 6.70944047, -4.70914477],\n",
       "       [ 9.01060858, -5.7714972 ],\n",
       "       [ 6.89901135, -5.11069274],\n",
       "       [ 7.78719675, -5.64811026],\n",
       "       [ 8.12553693, -5.87309068],\n",
       "       [ 6.76896828, -5.13558673],\n",
       "       [ 6.80201275, -5.19829848],\n",
       "       [ 7.63419708, -5.10386885],\n",
       "       [ 7.8989075 , -5.77724298],\n",
       "       [ 8.35230402, -5.68746632],\n",
       "       [ 8.743686  , -6.68524777],\n",
       "       [ 7.67008147, -5.0963982 ],\n",
       "       [ 6.9544457 , -5.17092244],\n",
       "       [ 7.2909832 , -4.81325894],\n",
       "       [ 8.58786472, -6.00048817],\n",
       "       [ 7.65632995, -5.45363034],\n",
       "       [ 7.41620602, -5.36277124],\n",
       "       [ 6.68019657, -5.15022123],\n",
       "       [ 7.61899683, -5.68620598],\n",
       "       [ 7.82564649, -5.49733258],\n",
       "       [ 7.43379398, -5.72399491],\n",
       "       [ 6.92541532, -4.73979867],\n",
       "       [ 8.07466581, -5.59069823],\n",
       "       [ 7.93073432, -5.61822767],\n",
       "       [ 7.45536015, -5.50213895],\n",
       "       [ 7.03700673, -4.93970288],\n",
       "       [ 7.27538903, -5.39324292],\n",
       "       [ 7.41297217, -5.43060048],\n",
       "       [ 6.90100923, -5.03183702]])"
      ]
     },
     "execution_count": 57,
     "metadata": {},
     "output_type": "execute_result"
    }
   ],
   "source": [
    "X_transformed.shape\n",
    "X_transformed"
   ]
  },
  {
   "cell_type": "markdown",
   "metadata": {},
   "source": [
    "## <a name=\"section1.7\"></a> <font color='#559E54'> 1.7 - Visualization Transformed Data"
   ]
  },
  {
   "cell_type": "code",
   "execution_count": 58,
   "metadata": {},
   "outputs": [
    {
     "data": {
      "text/plain": [
       "Text(0.5,1,'Original Data')"
      ]
     },
     "execution_count": 58,
     "metadata": {},
     "output_type": "execute_result"
    },
    {
     "data": {
      "image/png": "[encoded data removed]",
      "text/plain": [
       "<matplotlib.figure.Figure at 0x10d7eec50>"
      ]
     },
     "metadata": {},
     "output_type": "display_data"
    }
   ],
   "source": [
    "import matplotlib.pyplot as plt\n",
    "%matplotlib inline\n",
    "\n",
    "plt.scatter(X[:, 0], X[:, 1], s=50, alpha=0.5);\n",
    "plt.title('Original Data')"
   ]
  },
  {
   "cell_type": "code",
   "execution_count": 59,
   "metadata": {},
   "outputs": [
    {
     "data": {
      "text/plain": [
       "Text(0.5,1,'PCA Transformed')"
      ]
     },
     "execution_count": 59,
     "metadata": {},
     "output_type": "execute_result"
    },
    {
     "data": {
      "image/png": "[encoded data removed]",
      "text/plain": [
       "<matplotlib.figure.Figure at 0x1a13e61358>"
      ]
     },
     "metadata": {},
     "output_type": "display_data"
    }
   ],
   "source": [
    "plt.scatter(X_transformed[:, 0], X_transformed[:, 1], s=50, alpha=0.5);\n",
    "plt.title('PCA Transformed')"
   ]
  },
  {
   "cell_type": "markdown",
   "metadata": {},
   "source": [
    "---"
   ]
  },
  {
   "cell_type": "markdown",
   "metadata": {},
   "source": [
    "# <a name='section2'> </a><font color='#347B98'> 2. Principal Component Analysis with Sklearn"
   ]
  },
  {
   "cell_type": "markdown",
   "metadata": {},
   "source": [
    "## $\\Delta$ 2.1 - Load iris data"
   ]
  },
  {
   "cell_type": "code",
   "execution_count": 60,
   "metadata": {},
   "outputs": [
    {
     "data": {
      "text/plain": [
       "array([5.1, 3.5, 1.4, 0.2])"
      ]
     },
     "execution_count": 60,
     "metadata": {},
     "output_type": "execute_result"
    }
   ],
   "source": [
    "import numpy as np\n",
    "import sklearn.datasets, sklearn.decomposition\n",
    "\n",
    "# Load iris data\n",
    "X = sklearn.datasets.load_iris().data\n",
    "X.shape\n",
    "X[0,:]"
   ]
  },
  {
   "cell_type": "markdown",
   "metadata": {},
   "source": [
    "## $\\Delta$ 2.2 - Standardize\n",
    "\n",
    "> Standardization of your numeric column is recommended for PCA"
   ]
  },
  {
   "cell_type": "code",
   "execution_count": 61,
   "metadata": {},
   "outputs": [],
   "source": [
    "from sklearn.preprocessing import StandardScaler\n",
    "X_std = StandardScaler().fit_transform(X)"
   ]
  },
  {
   "cell_type": "markdown",
   "metadata": {},
   "source": [
    "## $\\Delta$ 2.3 - Fit PCA transformer"
   ]
  },
  {
   "cell_type": "code",
   "execution_count": 62,
   "metadata": {},
   "outputs": [
    {
     "data": {
      "text/plain": [
       "PCA(copy=True, iterated_power='auto', n_components=None, random_state=None,\n",
       "  svd_solver='auto', tol=0.0, whiten=False)"
      ]
     },
     "execution_count": 62,
     "metadata": {},
     "output_type": "execute_result"
    }
   ],
   "source": [
    "# Fit PCA\n",
    "pca = sklearn.decomposition.PCA()\n",
    "pca.fit(X_std)"
   ]
  },
  {
   "cell_type": "code",
   "execution_count": 63,
   "metadata": {},
   "outputs": [
    {
     "data": {
      "text/plain": [
       "array([[5.1, 3.5, 1.4, 0.2],\n",
       "       [4.9, 3. , 1.4, 0.2],\n",
       "       [4.7, 3.2, 1.3, 0.2],\n",
       "       [4.6, 3.1, 1.5, 0.2],\n",
       "       [5. , 3.6, 1.4, 0.2],\n",
       "       [5.4, 3.9, 1.7, 0.4],\n",
       "       [4.6, 3.4, 1.4, 0.3],\n",
       "       [5. , 3.4, 1.5, 0.2],\n",
       "       [4.4, 2.9, 1.4, 0.2],\n",
       "       [4.9, 3.1, 1.5, 0.1]])"
      ]
     },
     "execution_count": 63,
     "metadata": {},
     "output_type": "execute_result"
    }
   ],
   "source": [
    "X[:10]"
   ]
  },
  {
   "cell_type": "code",
   "execution_count": 64,
   "metadata": {},
   "outputs": [
    {
     "data": {
      "text/plain": [
       "array([[-0.90068117,  1.03205722, -1.3412724 , -1.31297673],\n",
       "       [-1.14301691, -0.1249576 , -1.3412724 , -1.31297673],\n",
       "       [-1.38535265,  0.33784833, -1.39813811, -1.31297673],\n",
       "       [-1.50652052,  0.10644536, -1.2844067 , -1.31297673],\n",
       "       [-1.02184904,  1.26346019, -1.3412724 , -1.31297673],\n",
       "       [-0.53717756,  1.95766909, -1.17067529, -1.05003079],\n",
       "       [-1.50652052,  0.80065426, -1.3412724 , -1.18150376],\n",
       "       [-1.02184904,  0.80065426, -1.2844067 , -1.31297673],\n",
       "       [-1.74885626, -0.35636057, -1.3412724 , -1.31297673],\n",
       "       [-1.14301691,  0.10644536, -1.2844067 , -1.4444497 ]])"
      ]
     },
     "execution_count": 64,
     "metadata": {},
     "output_type": "execute_result"
    }
   ],
   "source": [
    "X_std[:10]"
   ]
  },
  {
   "cell_type": "code",
   "execution_count": 65,
   "metadata": {},
   "outputs": [
    {
     "data": {
      "text/plain": [
       "array([1., 1., 1., 1.])"
      ]
     },
     "execution_count": 65,
     "metadata": {},
     "output_type": "execute_result"
    }
   ],
   "source": [
    "X_std.std(axis=0)"
   ]
  },
  {
   "cell_type": "code",
   "execution_count": 66,
   "metadata": {},
   "outputs": [
    {
     "data": {
      "text/plain": [
       "array([-1.69031455e-15, -1.63702385e-15, -1.48251781e-15, -1.62314606e-15])"
      ]
     },
     "execution_count": 66,
     "metadata": {},
     "output_type": "execute_result"
    }
   ],
   "source": [
    "X_std.mean(axis=0)"
   ]
  },
  {
   "cell_type": "markdown",
   "metadata": {},
   "source": [
    "## $\\Delta$ 2.4 - Apply the PCA transformer"
   ]
  },
  {
   "cell_type": "code",
   "execution_count": 67,
   "metadata": {},
   "outputs": [
    {
     "data": {
      "text/plain": [
       "array([[-2.26454173,  0.5057039 , -0.12194335, -0.02307332],\n",
       "       [-2.0864255 , -0.65540473, -0.22725083, -0.10320824],\n",
       "       [-2.36795045, -0.31847731,  0.05147962, -0.02782523],\n",
       "       [-2.30419716, -0.57536771,  0.09886044,  0.06631146],\n",
       "       [-2.38877749,  0.6747674 ,  0.02142785,  0.03739729],\n",
       "       [-2.07053681,  1.51854856,  0.03068426, -0.00439877],\n",
       "       [-2.44571134,  0.07456268,  0.34219764,  0.03809657],\n",
       "       [-2.23384186,  0.24761393, -0.08257446,  0.02550516],\n",
       "       [-2.34195768, -1.09514636,  0.1535624 ,  0.02679383],\n",
       "       [-2.18867576, -0.44862905, -0.24655952,  0.0399073 ]])"
      ]
     },
     "execution_count": 67,
     "metadata": {},
     "output_type": "execute_result"
    }
   ],
   "source": [
    "X_transformed_sk = pca.transform(X_std)\n",
    "X_transformed_sk[:10]"
   ]
  },
  {
   "cell_type": "code",
   "execution_count": 68,
   "metadata": {},
   "outputs": [
    {
     "data": {
      "text/plain": [
       "Text(0.5,1,'Original Data')"
      ]
     },
     "execution_count": 68,
     "metadata": {},
     "output_type": "execute_result"
    },
    {
     "data": {
      "image/png": "[encoded data removed]",
      "text/plain": [
       "<matplotlib.figure.Figure at 0x1a140abd30>"
      ]
     },
     "metadata": {},
     "output_type": "display_data"
    }
   ],
   "source": [
    "plt.scatter(X[:, 0], X[:, 1], s=50, alpha=0.5);\n",
    "plt.title('Original Data')"
   ]
  },
  {
   "cell_type": "code",
   "execution_count": 69,
   "metadata": {},
   "outputs": [
    {
     "data": {
      "text/plain": [
       "Text(0.5,1,'PCA Transformed')"
      ]
     },
     "execution_count": 69,
     "metadata": {},
     "output_type": "execute_result"
    },
    {
     "data": {
      "image/png": "[encoded data removed]",
      "text/plain": [
       "<matplotlib.figure.Figure at 0x1a13ef7a90>"
      ]
     },
     "metadata": {},
     "output_type": "display_data"
    }
   ],
   "source": [
    "import matplotlib.pyplot as plt\n",
    "%matplotlib inline\n",
    "\n",
    "plt.scatter(X_transformed_sk[:, 0], X_transformed_sk[:, 1], s=50, alpha=0.5);\n",
    "plt.title('PCA Transformed')"
   ]
  },
  {
   "cell_type": "markdown",
   "metadata": {},
   "source": [
    "## $\\Delta$ 2.5 - Reconstruction original data"
   ]
  },
  {
   "cell_type": "code",
   "execution_count": 48,
   "metadata": {},
   "outputs": [
    {
     "data": {
      "text/plain": [
       "array([[-0.90068117,  1.03205722, -1.3412724 , -1.31297673],\n",
       "       [-1.14301691, -0.1249576 , -1.3412724 , -1.31297673],\n",
       "       [-1.38535265,  0.33784833, -1.39813811, -1.31297673],\n",
       "       [-1.50652052,  0.10644536, -1.2844067 , -1.31297673],\n",
       "       [-1.02184904,  1.26346019, -1.3412724 , -1.31297673],\n",
       "       [-0.53717756,  1.95766909, -1.17067529, -1.05003079],\n",
       "       [-1.50652052,  0.80065426, -1.3412724 , -1.18150376],\n",
       "       [-1.02184904,  0.80065426, -1.2844067 , -1.31297673],\n",
       "       [-1.74885626, -0.35636057, -1.3412724 , -1.31297673],\n",
       "       [-1.14301691,  0.10644536, -1.2844067 , -1.4444497 ]])"
      ]
     },
     "execution_count": 48,
     "metadata": {},
     "output_type": "execute_result"
    }
   ],
   "source": [
    "X_std[:10]"
   ]
  },
  {
   "cell_type": "markdown",
   "metadata": {},
   "source": [
    "##### If we use all the PCs to reconstruct the original data, we get exactly the same data as what we put into the PCA transformer"
   ]
  },
  {
   "cell_type": "code",
   "execution_count": 49,
   "metadata": {},
   "outputs": [
    {
     "name": "stdout",
     "output_type": "stream",
     "text": [
      "[[-0.90068117  1.03205722 -1.3412724  -1.31297673]\n",
      " [-1.14301691 -0.1249576  -1.3412724  -1.31297673]\n",
      " [-1.38535265  0.33784833 -1.39813811 -1.31297673]\n",
      " [-1.50652052  0.10644536 -1.2844067  -1.31297673]\n",
      " [-1.02184904  1.26346019 -1.3412724  -1.31297673]\n",
      " [-0.53717756  1.95766909 -1.17067529 -1.05003079]\n",
      " [-1.50652052  0.80065426 -1.3412724  -1.18150376]\n",
      " [-1.02184904  0.80065426 -1.2844067  -1.31297673]\n",
      " [-1.74885626 -0.35636057 -1.3412724  -1.31297673]\n",
      " [-1.14301691  0.10644536 -1.2844067  -1.4444497 ]]\n"
     ]
    }
   ],
   "source": [
    "# Select components and reconstruct\n",
    "nComp = 4\n",
    "Xhat = np.dot(X_transformed_sk[:,:nComp], pca.components_[:nComp,:])\n",
    "\n",
    "mu = np.mean(X_std, axis=0)\n",
    "Xhat += mu\n",
    "print(Xhat[:10])"
   ]
  },
  {
   "cell_type": "markdown",
   "metadata": {},
   "source": [
    "##### If we use reduced PCs to reconstruct the original data, we will only get approximated original data"
   ]
  },
  {
   "cell_type": "code",
   "execution_count": 50,
   "metadata": {},
   "outputs": [
    {
     "name": "stdout",
     "output_type": "stream",
     "text": [
      "[[-0.99464948  1.06443573 -1.30560624 -1.24776881]\n",
      " [-1.33390869 -0.05714369 -1.2265688  -1.22297912]\n",
      " [-1.35552506  0.32884265 -1.38309889 -1.36017238]\n",
      " [-1.41786717  0.07428633 -1.35146108 -1.3409175 ]\n",
      " [-0.99660128  1.25363164 -1.37425242 -1.30697852]\n",
      " [-0.51620615  1.95078853 -1.17147437 -1.07178148]\n",
      " [-1.24980914  0.71310207 -1.42000663 -1.37844378]\n",
      " [-1.07470438  0.81747392 -1.29320617 -1.24728778]\n",
      " [-1.63111533 -0.39685376 -1.38437415 -1.39627698]\n",
      " [-1.31033493  0.16116699 -1.28164028 -1.26728661]]\n"
     ]
    }
   ],
   "source": [
    "# Select components and reconstruct\n",
    "nComp = 2\n",
    "Xhat = np.dot(pca.transform(X_std)[:,:nComp], pca.components_[:nComp,:])\n",
    "\n",
    "mu = np.mean(X_std, axis=0)\n",
    "Xhat += mu\n",
    "print(Xhat[:10])"
   ]
  },
  {
   "cell_type": "code",
   "execution_count": null,
   "metadata": {},
   "outputs": [],
   "source": []
  }
 ],
 "metadata": {
  "anaconda-cloud": {},
  "kernelspec": {
   "display_name": "Python 3",
   "language": "python",
   "name": "python3"
  },
  "language_info": {
   "codemirror_mode": {
    "name": "ipython",
    "version": 3
   },
   "file_extension": ".py",
   "mimetype": "text/x-python",
   "name": "python",
   "nbconvert_exporter": "python",
   "pygments_lexer": "ipython3",
   "version": "3.7.2"
  },
  "toc": {
   "base_numbering": 1,
   "nav_menu": {},
   "number_sections": false,
   "sideBar": true,
   "skip_h1_title": false,
   "title_cell": "Table of Contents",
   "title_sidebar": "Contents",
   "toc_cell": false,
   "toc_position": {},
   "toc_section_display": true,
   "toc_window_display": true
  },
  "widgets": {
   "state": {},
   "version": "1.1.2"
  }
 },
 "nbformat": 4,
 "nbformat_minor": 2
}
