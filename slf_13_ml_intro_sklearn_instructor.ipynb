{
 "cells": [
  {
   "cell_type": "markdown",
   "metadata": {},
   "source": [
    "<br>\n",
    "<p style=\"text-align: left;\"><img src='https://s3.amazonaws.com/weclouddata/images/logos/sunlife_logo.png' width='35%'></p>\n",
    "<p style=\"text-align:left;\"><font size='10'><b> Machine Learning Introduction - Scikit-learn API</b></font> </p><br> <font color='#559E54' size=6>Instructor Copy</font> </p>\n",
    "<h2 align='left' > Sunlife Data Science Training </h2>\n",
    "\n",
    "<h4 align='left'>  Prepared by: <img src='https://s3.amazonaws.com/weclouddata/images/logos/wcd_logo.png' width='15%'>\n",
    "\n",
    "---\n",
    "\n"
   ]
  },
  {
   "cell_type": "markdown",
   "metadata": {},
   "source": [
    "# <a name=\"toc-13\"></a> Table of contents \n",
    "1. [Data Preparation](#data-prep)\n",
    "2. [Data Exploration](#data-explore)\n",
    "3. [Train Test Split](#train-test-split)\n",
    "4. [Feature Proprocessing](#feature-processing)\n",
    "5. [Modeling Fitting](#model-fitting)\n",
    "6. [Model Evaluation](#model-evaluation)\n",
    "7. [Hyper-parameter Tuning](#parameter-tuning)\n",
    "8. [Cross-validation](#cross-validation)"
   ]
  },
  {
   "cell_type": "code",
   "execution_count": 2,
   "metadata": {},
   "outputs": [
    {
     "name": "stderr",
     "output_type": "stream",
     "text": [
      "/usr/lib64/python3.5/importlib/_bootstrap.py:222: RuntimeWarning: numpy.dtype size changed, may indicate binary incompatibility. Expected 96, got 88\n",
      "  return f(*args, **kwds)\n"
     ]
    }
   ],
   "source": [
    "%matplotlib inline\n",
    "import matplotlib.pylab as plt\n",
    "import seaborn as sns\n",
    "import numpy as np\n",
    "import pandas as pd\n",
    "\n",
    "from sklearn.ensemble import RandomForestClassifier, GradientBoostingClassifier, AdaBoostClassifier\n",
    "from sklearn.model_selection import train_test_split, KFold\n",
    "from sklearn.metrics import roc_auc_score"
   ]
  },
  {
   "cell_type": "markdown",
   "metadata": {},
   "source": [
    "# <a name=\"data-prep\"></a><font color='#347B98'> 1. Data Preparation </font> <font size='3'>[Back to TOC](#toc-13)</font>\n",
    "\n",
    "In scikit-learn, we chose a representation of data that is as close as possible to the matrix representation. Datasets are encoded as NumPy multidimensional arrays for dense data and SciPy sparse matrices for sparse data\n",
    "\n",
    "<img src='https://s3.amazonaws.com/weclouddata/images/python/ml_data_extraction.png' width='50%'>\n",
    "\n",
    "One of the most critical steps in machine learning and predictive modeling is to create the modeling dataset. For classic machine learning problems, we usually prepare the data into a structured table that has **`one row per user|document|image`**, and the **`columns representing the features`**, and **`one of the columns representing the labels|target`1**. \n",
    "<img src='https://s3.amazonaws.com/weclouddata/images/python/ml_model_dataset.png' width='50%'>"
   ]
  },
  {
   "cell_type": "markdown",
   "metadata": {},
   "source": [
    "## $\\Delta$ 1.1 Load data"
   ]
  },
  {
   "cell_type": "markdown",
   "metadata": {},
   "source": [
    "Load the data from `sklearn.datasets`, and create test and train sets.\n"
   ]
  },
  {
   "cell_type": "code",
   "execution_count": 4,
   "metadata": {},
   "outputs": [],
   "source": [
    "from sklearn import datasets\n",
    "\n",
    "iris = pd.read_csv('https://s3.amazonaws.com/weclouddata/datasets/random/iris/iris.csv')"
   ]
  },
  {
   "cell_type": "code",
   "execution_count": 5,
   "metadata": {},
   "outputs": [
    {
     "data": {
      "text/html": [
       "<div>\n",
       "<style scoped>\n",
       "    .dataframe tbody tr th:only-of-type {\n",
       "        vertical-align: middle;\n",
       "    }\n",
       "\n",
       "    .dataframe tbody tr th {\n",
       "        vertical-align: top;\n",
       "    }\n",
       "\n",
       "    .dataframe thead th {\n",
       "        text-align: right;\n",
       "    }\n",
       "</style>\n",
       "<table border=\"1\" class=\"dataframe\">\n",
       "  <thead>\n",
       "    <tr style=\"text-align: right;\">\n",
       "      <th></th>\n",
       "      <th>Sepal.Length</th>\n",
       "      <th>Sepal.Width</th>\n",
       "      <th>Petal.Length</th>\n",
       "      <th>Petal.Width</th>\n",
       "      <th>Species</th>\n",
       "    </tr>\n",
       "  </thead>\n",
       "  <tbody>\n",
       "    <tr>\n",
       "      <th>0</th>\n",
       "      <td>5.1</td>\n",
       "      <td>3.5</td>\n",
       "      <td>1.4</td>\n",
       "      <td>0.2</td>\n",
       "      <td>setosa</td>\n",
       "    </tr>\n",
       "    <tr>\n",
       "      <th>1</th>\n",
       "      <td>4.9</td>\n",
       "      <td>3.0</td>\n",
       "      <td>1.4</td>\n",
       "      <td>0.2</td>\n",
       "      <td>setosa</td>\n",
       "    </tr>\n",
       "    <tr>\n",
       "      <th>2</th>\n",
       "      <td>4.7</td>\n",
       "      <td>3.2</td>\n",
       "      <td>1.3</td>\n",
       "      <td>0.2</td>\n",
       "      <td>setosa</td>\n",
       "    </tr>\n",
       "    <tr>\n",
       "      <th>3</th>\n",
       "      <td>4.6</td>\n",
       "      <td>3.1</td>\n",
       "      <td>1.5</td>\n",
       "      <td>0.2</td>\n",
       "      <td>setosa</td>\n",
       "    </tr>\n",
       "    <tr>\n",
       "      <th>4</th>\n",
       "      <td>5.0</td>\n",
       "      <td>3.6</td>\n",
       "      <td>1.4</td>\n",
       "      <td>0.2</td>\n",
       "      <td>setosa</td>\n",
       "    </tr>\n",
       "  </tbody>\n",
       "</table>\n",
       "</div>"
      ],
      "text/plain": [
       "   Sepal.Length  Sepal.Width  Petal.Length  Petal.Width Species\n",
       "0           5.1          3.5           1.4          0.2  setosa\n",
       "1           4.9          3.0           1.4          0.2  setosa\n",
       "2           4.7          3.2           1.3          0.2  setosa\n",
       "3           4.6          3.1           1.5          0.2  setosa\n",
       "4           5.0          3.6           1.4          0.2  setosa"
      ]
     },
     "execution_count": 5,
     "metadata": {},
     "output_type": "execute_result"
    }
   ],
   "source": [
    "iris.head()"
   ]
  },
  {
   "cell_type": "markdown",
   "metadata": {},
   "source": [
    "## $\\Delta$ 1.2 - Understand iris data\n"
   ]
  },
  {
   "cell_type": "markdown",
   "metadata": {},
   "source": [
    "### <font color='#FC7307'> $\\delta$ Understand the shape of the input data\n",
    "    \n",
    "Question:\n",
    "1. What is the shape of this dataset?\n",
    "2. How many features? Get a list of feature names"
   ]
  },
  {
   "cell_type": "code",
   "execution_count": 6,
   "metadata": {},
   "outputs": [
    {
     "data": {
      "text/plain": [
       "(150, 5)"
      ]
     },
     "execution_count": 6,
     "metadata": {},
     "output_type": "execute_result"
    }
   ],
   "source": [
    "iris.shape"
   ]
  },
  {
   "cell_type": "code",
   "execution_count": 5,
   "metadata": {},
   "outputs": [
    {
     "data": {
      "text/plain": [
       "array(['sepal length (cm)', 'sepal width (cm)', 'petal length (cm)',\n",
       "       'petal width (cm)'], dtype=object)"
      ]
     },
     "execution_count": 5,
     "metadata": {},
     "output_type": "execute_result"
    }
   ],
   "source": [
    "iris.columns.values[:-1]"
   ]
  },
  {
   "cell_type": "code",
   "execution_count": 8,
   "metadata": {},
   "outputs": [
    {
     "name": "stdout",
     "output_type": "stream",
     "text": [
      "input data dimension: 5\n",
      "input data records: 150\n",
      "feature names: ['Sepal.Length' 'Sepal.Width' 'Petal.Length' 'Petal.Width' 'Species']\n"
     ]
    },
    {
     "data": {
      "text/html": [
       "<div>\n",
       "<style scoped>\n",
       "    .dataframe tbody tr th:only-of-type {\n",
       "        vertical-align: middle;\n",
       "    }\n",
       "\n",
       "    .dataframe tbody tr th {\n",
       "        vertical-align: top;\n",
       "    }\n",
       "\n",
       "    .dataframe thead th {\n",
       "        text-align: right;\n",
       "    }\n",
       "</style>\n",
       "<table border=\"1\" class=\"dataframe\">\n",
       "  <thead>\n",
       "    <tr style=\"text-align: right;\">\n",
       "      <th></th>\n",
       "      <th>Sepal.Length</th>\n",
       "      <th>Sepal.Width</th>\n",
       "      <th>Petal.Length</th>\n",
       "      <th>Petal.Width</th>\n",
       "      <th>Species</th>\n",
       "    </tr>\n",
       "  </thead>\n",
       "  <tbody>\n",
       "    <tr>\n",
       "      <th>0</th>\n",
       "      <td>5.1</td>\n",
       "      <td>3.5</td>\n",
       "      <td>1.4</td>\n",
       "      <td>0.2</td>\n",
       "      <td>setosa</td>\n",
       "    </tr>\n",
       "    <tr>\n",
       "      <th>1</th>\n",
       "      <td>4.9</td>\n",
       "      <td>3.0</td>\n",
       "      <td>1.4</td>\n",
       "      <td>0.2</td>\n",
       "      <td>setosa</td>\n",
       "    </tr>\n",
       "    <tr>\n",
       "      <th>2</th>\n",
       "      <td>4.7</td>\n",
       "      <td>3.2</td>\n",
       "      <td>1.3</td>\n",
       "      <td>0.2</td>\n",
       "      <td>setosa</td>\n",
       "    </tr>\n",
       "    <tr>\n",
       "      <th>3</th>\n",
       "      <td>4.6</td>\n",
       "      <td>3.1</td>\n",
       "      <td>1.5</td>\n",
       "      <td>0.2</td>\n",
       "      <td>setosa</td>\n",
       "    </tr>\n",
       "    <tr>\n",
       "      <th>4</th>\n",
       "      <td>5.0</td>\n",
       "      <td>3.6</td>\n",
       "      <td>1.4</td>\n",
       "      <td>0.2</td>\n",
       "      <td>setosa</td>\n",
       "    </tr>\n",
       "  </tbody>\n",
       "</table>\n",
       "</div>"
      ],
      "text/plain": [
       "   Sepal.Length  Sepal.Width  Petal.Length  Petal.Width Species\n",
       "0           5.1          3.5           1.4          0.2  setosa\n",
       "1           4.9          3.0           1.4          0.2  setosa\n",
       "2           4.7          3.2           1.3          0.2  setosa\n",
       "3           4.6          3.1           1.5          0.2  setosa\n",
       "4           5.0          3.6           1.4          0.2  setosa"
      ]
     },
     "execution_count": 8,
     "metadata": {},
     "output_type": "execute_result"
    }
   ],
   "source": [
    "##################################\n",
    "### Your Code Below\n",
    "################################## \n",
    "\n",
    "print (\"input data dimension: {}\".format(iris.shape[1]))\n",
    "print (\"input data records: {}\".format(iris.shape[0]))\n",
    "print (\"feature names: {}\".format(iris.columns.values))\n",
    "\n",
    "iris.head()"
   ]
  },
  {
   "cell_type": "markdown",
   "metadata": {},
   "source": [
    "### <font color='#FC7307'> $\\delta$ Explore the target variable\n",
    "Question:\n",
    "1. What is the shape of the target variable?\n",
    "2. How many unique categories does the `target` column have? \n",
    "3. Is the `target` categorical or numerical?"
   ]
  },
  {
   "cell_type": "code",
   "execution_count": 18,
   "metadata": {},
   "outputs": [],
   "source": [
    "iris.rename(columns={'Species':'target'}, inplace=True)"
   ]
  },
  {
   "cell_type": "code",
   "execution_count": 19,
   "metadata": {},
   "outputs": [
    {
     "name": "stdout",
     "output_type": "stream",
     "text": [
      "target data format: <class 'pandas.core.series.Series'>\n",
      "target variable shape: (150,)\n",
      "number of target classes: 3\n",
      "target variable unique values: ['setosa' 'versicolor' 'virginica']\n"
     ]
    },
    {
     "data": {
      "text/plain": [
       "0    setosa\n",
       "1    setosa\n",
       "2    setosa\n",
       "3    setosa\n",
       "4    setosa\n",
       "Name: target, dtype: object"
      ]
     },
     "execution_count": 19,
     "metadata": {},
     "output_type": "execute_result"
    }
   ],
   "source": [
    "##################################\n",
    "### Your Code Below\n",
    "################################## \n",
    "\n",
    "# explore the target variable\n",
    "\n",
    "print (\"target data format: {}\".format(type(iris.target)))\n",
    "print (\"target variable shape: {}\".format(iris.target.shape))\n",
    "print (\"number of target classes: {}\".format(iris.target.nunique()))\n",
    "print (\"target variable unique values: {}\".format(np.unique(iris.target, return_index=False)))\n",
    "\n",
    "iris.target[:5]"
   ]
  },
  {
   "cell_type": "markdown",
   "metadata": {},
   "source": [
    "### <font color='#FC7307'> $\\delta$ Define the feature dataset"
   ]
  },
  {
   "cell_type": "code",
   "execution_count": 20,
   "metadata": {},
   "outputs": [],
   "source": [
    "data = iris.loc[:, iris.columns.drop('target')]"
   ]
  },
  {
   "cell_type": "code",
   "execution_count": 21,
   "metadata": {},
   "outputs": [
    {
     "data": {
      "text/html": [
       "<div>\n",
       "<style scoped>\n",
       "    .dataframe tbody tr th:only-of-type {\n",
       "        vertical-align: middle;\n",
       "    }\n",
       "\n",
       "    .dataframe tbody tr th {\n",
       "        vertical-align: top;\n",
       "    }\n",
       "\n",
       "    .dataframe thead th {\n",
       "        text-align: right;\n",
       "    }\n",
       "</style>\n",
       "<table border=\"1\" class=\"dataframe\">\n",
       "  <thead>\n",
       "    <tr style=\"text-align: right;\">\n",
       "      <th></th>\n",
       "      <th>Sepal.Length</th>\n",
       "      <th>Sepal.Width</th>\n",
       "      <th>Petal.Length</th>\n",
       "      <th>Petal.Width</th>\n",
       "    </tr>\n",
       "  </thead>\n",
       "  <tbody>\n",
       "    <tr>\n",
       "      <th>0</th>\n",
       "      <td>5.1</td>\n",
       "      <td>3.5</td>\n",
       "      <td>1.4</td>\n",
       "      <td>0.2</td>\n",
       "    </tr>\n",
       "    <tr>\n",
       "      <th>1</th>\n",
       "      <td>4.9</td>\n",
       "      <td>3.0</td>\n",
       "      <td>1.4</td>\n",
       "      <td>0.2</td>\n",
       "    </tr>\n",
       "    <tr>\n",
       "      <th>2</th>\n",
       "      <td>4.7</td>\n",
       "      <td>3.2</td>\n",
       "      <td>1.3</td>\n",
       "      <td>0.2</td>\n",
       "    </tr>\n",
       "    <tr>\n",
       "      <th>3</th>\n",
       "      <td>4.6</td>\n",
       "      <td>3.1</td>\n",
       "      <td>1.5</td>\n",
       "      <td>0.2</td>\n",
       "    </tr>\n",
       "    <tr>\n",
       "      <th>4</th>\n",
       "      <td>5.0</td>\n",
       "      <td>3.6</td>\n",
       "      <td>1.4</td>\n",
       "      <td>0.2</td>\n",
       "    </tr>\n",
       "  </tbody>\n",
       "</table>\n",
       "</div>"
      ],
      "text/plain": [
       "   Sepal.Length  Sepal.Width  Petal.Length  Petal.Width\n",
       "0           5.1          3.5           1.4          0.2\n",
       "1           4.9          3.0           1.4          0.2\n",
       "2           4.7          3.2           1.3          0.2\n",
       "3           4.6          3.1           1.5          0.2\n",
       "4           5.0          3.6           1.4          0.2"
      ]
     },
     "execution_count": 21,
     "metadata": {},
     "output_type": "execute_result"
    }
   ],
   "source": [
    "data.head()"
   ]
  },
  {
   "cell_type": "markdown",
   "metadata": {},
   "source": [
    "## $\\Delta$ 1.3 Define Target Variable"
   ]
  },
  {
   "cell_type": "markdown",
   "metadata": {},
   "source": [
    "### <font color='#FC7307'> $\\delta$ Define the target variable\n",
    "\n",
    "> In this example, the target variable has 3 levels, we will map the values into 2 distinct values (`0 vs 1`) so that we can train binary classifiers\n",
    "\n",
    "Question:\n",
    "1. Convert target column to numeric target based on the following mapping `{'setosa': 0, 'versicolor':0, 'virginica':1}`"
   ]
  },
  {
   "cell_type": "code",
   "execution_count": 22,
   "metadata": {},
   "outputs": [],
   "source": [
    "##################################\n",
    "### Your Code Below\n",
    "##################################\n",
    "\n",
    "# value mapping\n",
    "# {'setosa': 0, 'versicolor':0, 'virginica':1}\n",
    "\n",
    "target = pd.Series(iris.target).map({'setosa': 0, 'versicolor':0, 'virginica':1}).to_frame().rename(columns={0:'target'})"
   ]
  },
  {
   "cell_type": "code",
   "execution_count": 23,
   "metadata": {},
   "outputs": [
    {
     "data": {
      "text/html": [
       "<div>\n",
       "<style scoped>\n",
       "    .dataframe tbody tr th:only-of-type {\n",
       "        vertical-align: middle;\n",
       "    }\n",
       "\n",
       "    .dataframe tbody tr th {\n",
       "        vertical-align: top;\n",
       "    }\n",
       "\n",
       "    .dataframe thead th {\n",
       "        text-align: right;\n",
       "    }\n",
       "</style>\n",
       "<table border=\"1\" class=\"dataframe\">\n",
       "  <thead>\n",
       "    <tr style=\"text-align: right;\">\n",
       "      <th></th>\n",
       "      <th>target</th>\n",
       "    </tr>\n",
       "  </thead>\n",
       "  <tbody>\n",
       "    <tr>\n",
       "      <th>145</th>\n",
       "      <td>1</td>\n",
       "    </tr>\n",
       "    <tr>\n",
       "      <th>146</th>\n",
       "      <td>1</td>\n",
       "    </tr>\n",
       "    <tr>\n",
       "      <th>147</th>\n",
       "      <td>1</td>\n",
       "    </tr>\n",
       "    <tr>\n",
       "      <th>148</th>\n",
       "      <td>1</td>\n",
       "    </tr>\n",
       "    <tr>\n",
       "      <th>149</th>\n",
       "      <td>1</td>\n",
       "    </tr>\n",
       "  </tbody>\n",
       "</table>\n",
       "</div>"
      ],
      "text/plain": [
       "     target\n",
       "145       1\n",
       "146       1\n",
       "147       1\n",
       "148       1\n",
       "149       1"
      ]
     },
     "execution_count": 23,
     "metadata": {},
     "output_type": "execute_result"
    }
   ],
   "source": [
    "target.tail()"
   ]
  },
  {
   "cell_type": "markdown",
   "metadata": {},
   "source": [
    "---\n",
    "# <a name=\"data-explore\"></a><font color='#347B98'> 2. Data Exploration </font> <font size='3'>[Back to TOC](#toc-13)</font>\n",
    "\n",
    "EDA (Exploratory Data Analysis) is a critical step in successful data mining. Data Scientists will gain significant intuition about the data that helps them decide the methodologies they choose for feature engineering and modeling. It typically involves univariate analysis (histograms, boxplots, etc.) and multivariate plotting. \n",
    "\n",
    "<img src='https://s3.amazonaws.com/weclouddata/images/python/ml_data_exploration.png' width='50%'>"
   ]
  },
  {
   "cell_type": "markdown",
   "metadata": {},
   "source": [
    "### <font color='#FC7307'> $\\delta$ Know your target distribution\n",
    "\n",
    "> It is important at this stage to explore and understand your target distribution. This helps us determine if we\\'re facing a imbalanced data problem. Rebalancing the target distribution is required for some algorithms. \n",
    "\n",
    "**Question**\n",
    "1. Plot the target variable distribution using `matplotlib` or `pd.series.plot()`"
   ]
  },
  {
   "cell_type": "code",
   "execution_count": 24,
   "metadata": {},
   "outputs": [
    {
     "data": {
      "text/plain": [
       "<matplotlib.axes._subplots.AxesSubplot at 0x7fdf3700f128>"
      ]
     },
     "execution_count": 24,
     "metadata": {},
     "output_type": "execute_result"
    },
    {
     "data": {
      "image/png": "[encoded data removed]",
      "text/plain": [
       "<Figure size 576x360 with 1 Axes>"
      ]
     },
     "metadata": {
      "needs_background": "light"
     },
     "output_type": "display_data"
    }
   ],
   "source": [
    "##################################\n",
    "### Your Code Below\n",
    "##################################\n",
    "\n",
    "(target['target'].value_counts()/target.size).plot(kind='bar', title='Target Distribution', figsize=(8,5))"
   ]
  },
  {
   "cell_type": "markdown",
   "metadata": {},
   "source": [
    "### <font color='#FC7307'> $\\delta$ Describe Numeric Features\n",
    "\n",
    "**Question**\n",
    "- For all numeric columns, print the `size, min, max, std, 25%, 50%, 70%`\n",
    "\n",
    "HINT:\n",
    "> `describe`"
   ]
  },
  {
   "cell_type": "code",
   "execution_count": 25,
   "metadata": {
    "scrolled": true
   },
   "outputs": [
    {
     "data": {
      "text/html": [
       "<div>\n",
       "<style scoped>\n",
       "    .dataframe tbody tr th:only-of-type {\n",
       "        vertical-align: middle;\n",
       "    }\n",
       "\n",
       "    .dataframe tbody tr th {\n",
       "        vertical-align: top;\n",
       "    }\n",
       "\n",
       "    .dataframe thead th {\n",
       "        text-align: right;\n",
       "    }\n",
       "</style>\n",
       "<table border=\"1\" class=\"dataframe\">\n",
       "  <thead>\n",
       "    <tr style=\"text-align: right;\">\n",
       "      <th></th>\n",
       "      <th>Sepal.Length</th>\n",
       "      <th>Sepal.Width</th>\n",
       "      <th>Petal.Length</th>\n",
       "      <th>Petal.Width</th>\n",
       "    </tr>\n",
       "  </thead>\n",
       "  <tbody>\n",
       "    <tr>\n",
       "      <th>count</th>\n",
       "      <td>150.00</td>\n",
       "      <td>150.00</td>\n",
       "      <td>150.00</td>\n",
       "      <td>150.00</td>\n",
       "    </tr>\n",
       "    <tr>\n",
       "      <th>mean</th>\n",
       "      <td>5.84</td>\n",
       "      <td>3.06</td>\n",
       "      <td>3.76</td>\n",
       "      <td>1.20</td>\n",
       "    </tr>\n",
       "    <tr>\n",
       "      <th>std</th>\n",
       "      <td>0.83</td>\n",
       "      <td>0.44</td>\n",
       "      <td>1.77</td>\n",
       "      <td>0.76</td>\n",
       "    </tr>\n",
       "    <tr>\n",
       "      <th>min</th>\n",
       "      <td>4.30</td>\n",
       "      <td>2.00</td>\n",
       "      <td>1.00</td>\n",
       "      <td>0.10</td>\n",
       "    </tr>\n",
       "    <tr>\n",
       "      <th>25%</th>\n",
       "      <td>5.10</td>\n",
       "      <td>2.80</td>\n",
       "      <td>1.60</td>\n",
       "      <td>0.30</td>\n",
       "    </tr>\n",
       "    <tr>\n",
       "      <th>50%</th>\n",
       "      <td>5.80</td>\n",
       "      <td>3.00</td>\n",
       "      <td>4.35</td>\n",
       "      <td>1.30</td>\n",
       "    </tr>\n",
       "    <tr>\n",
       "      <th>75%</th>\n",
       "      <td>6.40</td>\n",
       "      <td>3.30</td>\n",
       "      <td>5.10</td>\n",
       "      <td>1.80</td>\n",
       "    </tr>\n",
       "    <tr>\n",
       "      <th>max</th>\n",
       "      <td>7.90</td>\n",
       "      <td>4.40</td>\n",
       "      <td>6.90</td>\n",
       "      <td>2.50</td>\n",
       "    </tr>\n",
       "  </tbody>\n",
       "</table>\n",
       "</div>"
      ],
      "text/plain": [
       "       Sepal.Length  Sepal.Width  Petal.Length  Petal.Width\n",
       "count        150.00       150.00        150.00       150.00\n",
       "mean           5.84         3.06          3.76         1.20\n",
       "std            0.83         0.44          1.77         0.76\n",
       "min            4.30         2.00          1.00         0.10\n",
       "25%            5.10         2.80          1.60         0.30\n",
       "50%            5.80         3.00          4.35         1.30\n",
       "75%            6.40         3.30          5.10         1.80\n",
       "max            7.90         4.40          6.90         2.50"
      ]
     },
     "execution_count": 25,
     "metadata": {},
     "output_type": "execute_result"
    }
   ],
   "source": [
    "##################################\n",
    "### Your Code Below\n",
    "##################################\n",
    "\n",
    "data.describe().round(2)"
   ]
  },
  {
   "cell_type": "markdown",
   "metadata": {},
   "source": [
    "### <font color='#FC7307'> $\\delta$ Univariate - Histograms\n",
    "    \n",
    "**Questions**\n",
    "\n",
    "* Plot the `histogram` of each numeric feature\n",
    "* (Optional) How do we automatically get subplots of all numeric features?\n",
    "\n",
    "HINT:\n",
    "> `df.hist()`"
   ]
  },
  {
   "cell_type": "code",
   "execution_count": 26,
   "metadata": {},
   "outputs": [
    {
     "name": "stderr",
     "output_type": "stream",
     "text": [
      "/folders/myfolders/.local/lib/python3.5/site-packages/matplotlib/axes/_axes.py:6521: MatplotlibDeprecationWarning: \n",
      "The 'normed' kwarg was deprecated in Matplotlib 2.1 and will be removed in 3.1. Use 'density' instead.\n",
      "  alternative=\"'density'\", removal=\"3.1\")\n",
      "/folders/myfolders/.local/lib/python3.5/site-packages/matplotlib/axes/_axes.py:6521: MatplotlibDeprecationWarning: \n",
      "The 'normed' kwarg was deprecated in Matplotlib 2.1 and will be removed in 3.1. Use 'density' instead.\n",
      "  alternative=\"'density'\", removal=\"3.1\")\n",
      "/folders/myfolders/.local/lib/python3.5/site-packages/matplotlib/axes/_axes.py:6521: MatplotlibDeprecationWarning: \n",
      "The 'normed' kwarg was deprecated in Matplotlib 2.1 and will be removed in 3.1. Use 'density' instead.\n",
      "  alternative=\"'density'\", removal=\"3.1\")\n",
      "/folders/myfolders/.local/lib/python3.5/site-packages/matplotlib/axes/_axes.py:6521: MatplotlibDeprecationWarning: \n",
      "The 'normed' kwarg was deprecated in Matplotlib 2.1 and will be removed in 3.1. Use 'density' instead.\n",
      "  alternative=\"'density'\", removal=\"3.1\")\n"
     ]
    },
    {
     "data": {
      "image/png": "[encoded data removed]",
      "text/plain": [
       "<Figure size 864x576 with 6 Axes>"
      ]
     },
     "metadata": {
      "needs_background": "light"
     },
     "output_type": "display_data"
    }
   ],
   "source": [
    "##################################\n",
    "### Your Code Below\n",
    "##################################\n",
    "\n",
    "import math\n",
    "\n",
    "num_features = [data.columns[i] for i in range(len(data.columns)) if data.dtypes[i]!='O']\n",
    "\n",
    "n_num_cols = len(num_features)\n",
    "n_subplot_cols = 3\n",
    "n_subplot_rows = math.ceil(n_num_cols / n_subplot_cols)\n",
    "fig_width = 4\n",
    "\n",
    "#print(n_subplot_rows)\n",
    "#print(n_subplot_cols)\n",
    "\n",
    "figure, axes = plt.subplots(n_subplot_rows,\n",
    "                            n_subplot_cols, \n",
    "                            figsize=(n_subplot_cols * fig_width, n_subplot_rows * fig_width)\n",
    "                           )\n",
    "figure.suptitle('Histogram of Numeric Features', fontsize=16)\n",
    "\n",
    "if n_subplot_cols > 1 and n_subplot_rows > 1:\n",
    "    for ix_col in range(n_num_cols):\n",
    "        ix_ax_row = ix_col // n_subplot_cols \n",
    "        ix_ax_col = ix_col % n_subplot_cols\n",
    "        n, bins, patches = axes[ix_ax_row][ix_ax_col].hist(data.iloc[:,ix_col], \n",
    "                                                           bins=50, \n",
    "                                                           normed=1, \n",
    "                                                           facecolor='g', \n",
    "                                                           alpha=0.6)\n",
    "        axes[ix_ax_row][ix_ax_col].set_title('Feature: {}'.format(num_features[ix_col]))\n",
    "else:\n",
    "    for ix_col in range(n_num_cols):\n",
    "        n, bins, patches = axes[ix_col].hist(data.iloc[:,ix_col], \n",
    "                                             bins=50, \n",
    "                                             normed=1, \n",
    "                                             facecolor='g', \n",
    "                                             alpha=0.6)\n",
    "        axes[ix_col].set_title('Feature: {}'.format(num_features[ix_col]))\n",
    "\n",
    "plt.show()"
   ]
  },
  {
   "cell_type": "markdown",
   "metadata": {},
   "source": [
    "### <font color='#FC7307'> $\\delta$ Univariate - Boxplot\n",
    "    \n",
    "**Question**\n",
    "- Use `seaborn`'s `sns.boxplot` to plot the boxplot "
   ]
  },
  {
   "cell_type": "code",
   "execution_count": 27,
   "metadata": {},
   "outputs": [
    {
     "data": {
      "image/png": "[encoded data removed]",
      "text/plain": [
       "<Figure size 720x576 with 1 Axes>"
      ]
     },
     "metadata": {},
     "output_type": "display_data"
    }
   ],
   "source": [
    "##################################\n",
    "### Your Code Below\n",
    "##################################\n",
    "\n",
    "sns.set(rc={'figure.figsize':(10, 8)})\n",
    "sns.set_style(\"whitegrid\", {'axes.grid' : False})\n",
    "\n",
    "plt.suptitle('Boxplot', fontsize=20)\n",
    "\n",
    "_ = sns.boxplot(data=data, \n",
    "                orient=\"v\", \n",
    "                palette=\"Set2\")"
   ]
  },
  {
   "cell_type": "markdown",
   "metadata": {},
   "source": [
    "### <font color='#FC7307'> $\\delta$ Scatter Matrix"
   ]
  },
  {
   "cell_type": "markdown",
   "metadata": {},
   "source": [
    "#### Scatterplot"
   ]
  },
  {
   "cell_type": "code",
   "execution_count": 31,
   "metadata": {},
   "outputs": [
    {
     "name": "stderr",
     "output_type": "stream",
     "text": [
      "'c' argument looks like a single numeric RGB or RGBA sequence, which should be avoided as value-mapping will have precedence in case its length matches with 'x' & 'y'.  Please use a 2-D array with a single row if you really want to specify the same RGB or RGBA value for all points.\n"
     ]
    },
    {
     "data": {
      "image/png": "[encoded data removed]",
      "text/plain": [
       "<Figure size 432x288 with 1 Axes>"
      ]
     },
     "metadata": {},
     "output_type": "display_data"
    }
   ],
   "source": [
    "data.plot.scatter(x=\"Sepal.Length\", y=\"Sepal.Width\", figsize=(6,4))\n",
    "\n",
    "plt.show()"
   ]
  },
  {
   "cell_type": "markdown",
   "metadata": {},
   "source": [
    "#### Scatter Matrix"
   ]
  },
  {
   "cell_type": "code",
   "execution_count": 32,
   "metadata": {},
   "outputs": [
    {
     "data": {
      "text/plain": [
       "Text(0.5, 0.98, 'Scatter-Matrix')"
      ]
     },
     "execution_count": 32,
     "metadata": {},
     "output_type": "execute_result"
    },
    {
     "data": {
      "image/png": "[encoded data removed]",
      "text/plain": [
       "<Figure size 720x720 with 25 Axes>"
      ]
     },
     "metadata": {},
     "output_type": "display_data"
    }
   ],
   "source": [
    "from pandas.plotting import scatter_matrix\n",
    "scatter_matrix = scatter_matrix(pd.merge(data, target, left_index=True, right_index=True), alpha=0.5, figsize=(10,10), diagonal='kde')\n",
    "plt.suptitle('Scatter-Matrix', fontsize=20)"
   ]
  },
  {
   "cell_type": "markdown",
   "metadata": {},
   "source": [
    "#### Scatterplot with target class overlay"
   ]
  },
  {
   "cell_type": "code",
   "execution_count": 34,
   "metadata": {},
   "outputs": [
    {
     "name": "stderr",
     "output_type": "stream",
     "text": [
      "/folders/myfolders/.local/lib/python3.5/site-packages/seaborn/axisgrid.py:230: UserWarning: The `size` paramter has been renamed to `height`; please update your code.\n",
      "  warnings.warn(msg, UserWarning)\n"
     ]
    },
    {
     "data": {
      "image/png": "[encoded data removed]",
      "text/plain": [
       "<Figure size 478.6x432 with 1 Axes>"
      ]
     },
     "metadata": {},
     "output_type": "display_data"
    }
   ],
   "source": [
    "plt.style.use('ggplot')\n",
    "\n",
    "sns.set(rc={'figure.figsize':(10, 8)})\n",
    "\n",
    "(sns.FacetGrid(data.merge(target, left_index=True, right_index=True), \n",
    "               hue='target',\n",
    "               size=6)\n",
    "    .map(plt.scatter, \"Sepal.Length\", \"Sepal.Width\")\n",
    "    .add_legend()\n",
    ")\n",
    "plt.show()"
   ]
  },
  {
   "cell_type": "markdown",
   "metadata": {},
   "source": [
    "---\n",
    "# <a name=\"train-test-split\"></a><font color='#347B98'> 3. Train/Test Split </font> <font size='3'>[Back to TOC](#toc-13)</font>\n",
    "\n",
    "    \n",
    "<img src='https://s3.amazonaws.com/weclouddata/images/python/ml_train_test_split.png' width='40%'>"
   ]
  },
  {
   "cell_type": "code",
   "execution_count": 35,
   "metadata": {},
   "outputs": [
    {
     "data": {
      "text/html": [
       "<div>\n",
       "<style scoped>\n",
       "    .dataframe tbody tr th:only-of-type {\n",
       "        vertical-align: middle;\n",
       "    }\n",
       "\n",
       "    .dataframe tbody tr th {\n",
       "        vertical-align: top;\n",
       "    }\n",
       "\n",
       "    .dataframe thead th {\n",
       "        text-align: right;\n",
       "    }\n",
       "</style>\n",
       "<table border=\"1\" class=\"dataframe\">\n",
       "  <thead>\n",
       "    <tr style=\"text-align: right;\">\n",
       "      <th></th>\n",
       "      <th>Sepal.Length</th>\n",
       "      <th>Sepal.Width</th>\n",
       "      <th>Petal.Length</th>\n",
       "      <th>Petal.Width</th>\n",
       "    </tr>\n",
       "  </thead>\n",
       "  <tbody>\n",
       "    <tr>\n",
       "      <th>0</th>\n",
       "      <td>5.1</td>\n",
       "      <td>3.5</td>\n",
       "      <td>1.4</td>\n",
       "      <td>0.2</td>\n",
       "    </tr>\n",
       "    <tr>\n",
       "      <th>1</th>\n",
       "      <td>4.9</td>\n",
       "      <td>3.0</td>\n",
       "      <td>1.4</td>\n",
       "      <td>0.2</td>\n",
       "    </tr>\n",
       "    <tr>\n",
       "      <th>2</th>\n",
       "      <td>4.7</td>\n",
       "      <td>3.2</td>\n",
       "      <td>1.3</td>\n",
       "      <td>0.2</td>\n",
       "    </tr>\n",
       "    <tr>\n",
       "      <th>3</th>\n",
       "      <td>4.6</td>\n",
       "      <td>3.1</td>\n",
       "      <td>1.5</td>\n",
       "      <td>0.2</td>\n",
       "    </tr>\n",
       "    <tr>\n",
       "      <th>4</th>\n",
       "      <td>5.0</td>\n",
       "      <td>3.6</td>\n",
       "      <td>1.4</td>\n",
       "      <td>0.2</td>\n",
       "    </tr>\n",
       "  </tbody>\n",
       "</table>\n",
       "</div>"
      ],
      "text/plain": [
       "   Sepal.Length  Sepal.Width  Petal.Length  Petal.Width\n",
       "0           5.1          3.5           1.4          0.2\n",
       "1           4.9          3.0           1.4          0.2\n",
       "2           4.7          3.2           1.3          0.2\n",
       "3           4.6          3.1           1.5          0.2\n",
       "4           5.0          3.6           1.4          0.2"
      ]
     },
     "execution_count": 35,
     "metadata": {},
     "output_type": "execute_result"
    }
   ],
   "source": [
    "data.head()"
   ]
  },
  {
   "cell_type": "code",
   "execution_count": 36,
   "metadata": {},
   "outputs": [
    {
     "data": {
      "text/html": [
       "<div>\n",
       "<style scoped>\n",
       "    .dataframe tbody tr th:only-of-type {\n",
       "        vertical-align: middle;\n",
       "    }\n",
       "\n",
       "    .dataframe tbody tr th {\n",
       "        vertical-align: top;\n",
       "    }\n",
       "\n",
       "    .dataframe thead th {\n",
       "        text-align: right;\n",
       "    }\n",
       "</style>\n",
       "<table border=\"1\" class=\"dataframe\">\n",
       "  <thead>\n",
       "    <tr style=\"text-align: right;\">\n",
       "      <th></th>\n",
       "      <th>target</th>\n",
       "    </tr>\n",
       "  </thead>\n",
       "  <tbody>\n",
       "    <tr>\n",
       "      <th>0</th>\n",
       "      <td>0</td>\n",
       "    </tr>\n",
       "    <tr>\n",
       "      <th>1</th>\n",
       "      <td>0</td>\n",
       "    </tr>\n",
       "    <tr>\n",
       "      <th>2</th>\n",
       "      <td>0</td>\n",
       "    </tr>\n",
       "    <tr>\n",
       "      <th>3</th>\n",
       "      <td>0</td>\n",
       "    </tr>\n",
       "    <tr>\n",
       "      <th>4</th>\n",
       "      <td>0</td>\n",
       "    </tr>\n",
       "  </tbody>\n",
       "</table>\n",
       "</div>"
      ],
      "text/plain": [
       "   target\n",
       "0       0\n",
       "1       0\n",
       "2       0\n",
       "3       0\n",
       "4       0"
      ]
     },
     "execution_count": 36,
     "metadata": {},
     "output_type": "execute_result"
    }
   ],
   "source": [
    "target.head()"
   ]
  },
  {
   "cell_type": "markdown",
   "metadata": {},
   "source": [
    "## $\\Delta$ 3.1 - Train Test Split"
   ]
  },
  {
   "cell_type": "markdown",
   "metadata": {},
   "source": [
    "### <font color='#FC7307'> $\\delta$ Train/Test Split\n",
    "    \n",
    "- Create training/testing splits by leveraging sklearn's `train_test_split` function"
   ]
  },
  {
   "cell_type": "code",
   "execution_count": 37,
   "metadata": {},
   "outputs": [
    {
     "name": "stdout",
     "output_type": "stream",
     "text": [
      "(150, 4)\n",
      "(150,)\n"
     ]
    }
   ],
   "source": [
    "data = data.values\n",
    "target = target.values.ravel()\n",
    "print(data.shape)\n",
    "print(target.shape)"
   ]
  },
  {
   "cell_type": "code",
   "execution_count": 38,
   "metadata": {},
   "outputs": [],
   "source": [
    "from sklearn.model_selection import train_test_split\n",
    "\n",
    "##################################\n",
    "### Your Code Below\n",
    "##################################\n",
    "\n",
    "X_train, X_test, y_train, y_test = train_test_split(data, target, test_size=0.3, shuffle=True, random_state=2018)"
   ]
  },
  {
   "cell_type": "code",
   "execution_count": 39,
   "metadata": {},
   "outputs": [
    {
     "name": "stdout",
     "output_type": "stream",
     "text": [
      "training X data shape: 105\n",
      "testing X data shape: 45\n",
      "training y data shape: 105\n",
      "testing y data shape: 45\n"
     ]
    }
   ],
   "source": [
    "print (\"training X data shape: {}\".format(len(X_train)))\n",
    "print (\"testing X data shape: {}\".format(len(X_test)))\n",
    "\n",
    "print (\"training y data shape: {}\".format(len(y_train)))\n",
    "print (\"testing y data shape: {}\".format(len(y_test)))"
   ]
  },
  {
   "cell_type": "markdown",
   "metadata": {},
   "source": [
    "---\n",
    "# <a name=\"feature-processing\"></a><font color='#347B98'> 4. Feature Preprocessing & Engineering </font> <font size='3'>[Back to TOC](#toc-13)</font>\n",
    "\n",
    "<img src='https://s3.amazonaws.com/weclouddata/images/python/ml_feature_engineering.png' width='50%'>"
   ]
  },
  {
   "cell_type": "markdown",
   "metadata": {},
   "source": [
    "## $\\Delta$ 4.1 `Normalization`"
   ]
  },
  {
   "cell_type": "markdown",
   "metadata": {},
   "source": [
    "To standardize the input X train to zero mean and unit variance before fitting the estimator, we can try the `StandardScaler()`"
   ]
  },
  {
   "cell_type": "markdown",
   "metadata": {},
   "source": [
    "### <font color='#FC7307'> $\\delta$ Instantiate the scaler"
   ]
  },
  {
   "cell_type": "code",
   "execution_count": 40,
   "metadata": {},
   "outputs": [
    {
     "name": "stdout",
     "output_type": "stream",
     "text": [
      "StandardScaler(copy=True, with_mean=True, with_std=True)\n"
     ]
    }
   ],
   "source": [
    "from sklearn.preprocessing import StandardScaler\n",
    "scaler = StandardScaler()\n",
    "\n",
    "print (scaler)"
   ]
  },
  {
   "cell_type": "code",
   "execution_count": 41,
   "metadata": {},
   "outputs": [],
   "source": [
    "#help(scaler)"
   ]
  },
  {
   "cell_type": "markdown",
   "metadata": {},
   "source": [
    "### <font color='#FC7307'> $\\delta$ `fit` the transformer"
   ]
  },
  {
   "cell_type": "code",
   "execution_count": 42,
   "metadata": {},
   "outputs": [
    {
     "name": "stdout",
     "output_type": "stream",
     "text": [
      "Help on method fit in module sklearn.preprocessing.data:\n",
      "\n",
      "fit(X, y=None) method of sklearn.preprocessing.data.StandardScaler instance\n",
      "    Compute the mean and std to be used for later scaling.\n",
      "    \n",
      "    Parameters\n",
      "    ----------\n",
      "    X : {array-like, sparse matrix}, shape [n_samples, n_features]\n",
      "        The data used to compute the mean and standard deviation\n",
      "        used for later scaling along the features axis.\n",
      "    \n",
      "    y\n",
      "        Ignored\n",
      "\n"
     ]
    }
   ],
   "source": [
    "help(scaler.fit)"
   ]
  },
  {
   "cell_type": "code",
   "execution_count": 43,
   "metadata": {},
   "outputs": [
    {
     "data": {
      "text/plain": [
       "StandardScaler(copy=True, with_mean=True, with_std=True)"
      ]
     },
     "execution_count": 43,
     "metadata": {},
     "output_type": "execute_result"
    }
   ],
   "source": [
    "scaler.fit(X_train)"
   ]
  },
  {
   "cell_type": "code",
   "execution_count": 44,
   "metadata": {},
   "outputs": [
    {
     "name": "stdout",
     "output_type": "stream",
     "text": [
      "[0.81375366 0.39716227 1.73342857 0.74184669]\n",
      "[5.89047619 3.03047619 3.84666667 1.22666667]\n",
      "[0.66219501 0.15773787 3.0047746  0.55033651]\n"
     ]
    }
   ],
   "source": [
    "# get StandardScaler transformer stats\n",
    "print (scaler.scale_)\n",
    "print (scaler.mean_)\n",
    "print (scaler.var_)"
   ]
  },
  {
   "cell_type": "markdown",
   "metadata": {},
   "source": [
    "### <font color='#FC7307'> $\\delta$ Apply the transformations on both training and testing sets"
   ]
  },
  {
   "cell_type": "markdown",
   "metadata": {},
   "source": [
    "#### Scale the training data"
   ]
  },
  {
   "cell_type": "code",
   "execution_count": 45,
   "metadata": {},
   "outputs": [
    {
     "name": "stdout",
     "output_type": "stream",
     "text": [
      "training data: \n",
      " [[5.7 3.8 1.7 0.3]\n",
      " [6.3 3.3 4.7 1.6]\n",
      " [6.9 3.2 5.7 2.3]\n",
      " [5.7 3.  4.2 1.2]\n",
      " [6.9 3.1 4.9 1.5]]\n",
      "training data after transformation: \n",
      " [[-0.23407107  1.93755517 -1.2383935  -1.24913501]\n",
      " [ 0.5032528   0.6786239   0.49228064  0.50324864]\n",
      " [ 1.24057668  0.42683765  1.06917203  1.44683983]\n",
      " [-0.23407107 -0.07673486  0.20383495 -0.03594633]\n",
      " [ 1.24057668  0.1750514   0.60765892  0.36844989]]\n"
     ]
    }
   ],
   "source": [
    "X_train_scale = scaler.transform(X_train)\n",
    "\n",
    "print (\"training data: \\n {}\".format(X_train[:5, :]))\n",
    "print (\"training data after transformation: \\n {}\".format(X_train_scale[:5, :]))"
   ]
  },
  {
   "cell_type": "markdown",
   "metadata": {},
   "source": [
    "#### Scale the testing data"
   ]
  },
  {
   "cell_type": "code",
   "execution_count": 46,
   "metadata": {},
   "outputs": [],
   "source": [
    "X_test_scale = scaler.transform(X_test)"
   ]
  },
  {
   "cell_type": "code",
   "execution_count": 47,
   "metadata": {},
   "outputs": [
    {
     "name": "stdout",
     "output_type": "stream",
     "text": [
      "testing data: \n",
      " [[5.4 3.4 1.7 0.2]\n",
      " [5.5 2.3 4.  1.3]\n",
      " [5.6 3.  4.5 1.5]\n",
      " [6.  2.2 4.  1. ]\n",
      " [5.1 3.7 1.5 0.4]]\n",
      "testing data after transformation: \n",
      " [[-0.60273301  0.93041016 -1.2383935  -1.38393375]\n",
      " [-0.4798457  -1.83923863  0.08845668  0.09885241]\n",
      " [-0.35695838 -0.07673486  0.37690237  0.36844989]\n",
      " [ 0.13459087 -2.09102489  0.08845668 -0.30554381]\n",
      " [-0.97139495  1.68576892 -1.35377177 -1.11433626]]\n"
     ]
    }
   ],
   "source": [
    "print (\"testing data: \\n {}\".format(X_test[:5, :]))\n",
    "print (\"testing data after transformation: \\n {}\".format(X_test_scale[:5, :]))"
   ]
  },
  {
   "cell_type": "markdown",
   "metadata": {},
   "source": [
    "#### Validating the scaled features"
   ]
  },
  {
   "cell_type": "code",
   "execution_count": 48,
   "metadata": {},
   "outputs": [
    {
     "data": {
      "text/plain": [
       "array([-4.41974499e-16, -1.66929962e-16,  4.56777473e-16,  1.14194368e-16])"
      ]
     },
     "execution_count": 48,
     "metadata": {},
     "output_type": "execute_result"
    }
   ],
   "source": [
    "X_train_scale[:,:].mean(axis=0)"
   ]
  },
  {
   "cell_type": "code",
   "execution_count": 49,
   "metadata": {},
   "outputs": [
    {
     "data": {
      "text/plain": [
       "array([1., 1., 1., 1.])"
      ]
     },
     "execution_count": 49,
     "metadata": {},
     "output_type": "execute_result"
    }
   ],
   "source": [
    "X_train_scale[:,:].std(axis=0)"
   ]
  },
  {
   "cell_type": "markdown",
   "metadata": {},
   "source": [
    "---\n",
    "\n",
    "# <a name=\"model-fitting\"></a><font color='#347B98'> 5. Modeling Fitting</font> <font size='3'>[Back to TOC](#toc-13)</font>\n",
    "\n",
    "<img src='https://s3.amazonaws.com/weclouddata/images/python/ml_sklearn_cheat_sheet.png' width='50%'>"
   ]
  },
  {
   "cell_type": "markdown",
   "metadata": {},
   "source": [
    "## $\\Delta$ 5.1 - Scikit-learn Estimator"
   ]
  },
  {
   "cell_type": "markdown",
   "metadata": {},
   "source": [
    "The estimator interface defines instantiation mechanisms of objects and exposes a fit method for learning a model from training data.   \n",
    "All supervised and unsupervised learning algorithms are offered as objects implementing this interface. \n",
    "- Estimator initialization and actual learning are strictly separated\n",
    "- The `constructor of an estimator does not see any actual data`, nor does it perform any actual learning. \n",
    "  - All it does is attach the given parameters to the object. \n",
    "- Actual learning is performed by the **`fit`** method. This method is called with training data (trainX, trainY). \n",
    "\n",
    "As a convention, the parameters learned by an estimator are exposed as public attributes with `names suffixed with a trailing underscore`(e.g., coef_ for the learned coefficients of a linear model), again to facilitate model inspection. \n"
   ]
  },
  {
   "cell_type": "markdown",
   "metadata": {},
   "source": [
    "## $\\Delta$ 5.2 - KNN Estimator"
   ]
  },
  {
   "cell_type": "code",
   "execution_count": 50,
   "metadata": {},
   "outputs": [],
   "source": [
    "# import the KNN model\n",
    "import sklearn\n",
    "from sklearn.neighbors import KNeighborsClassifier"
   ]
  },
  {
   "cell_type": "markdown",
   "metadata": {},
   "source": [
    "### <font color='#FC7307'> $\\delta$ Instantiate a KNN model"
   ]
  },
  {
   "cell_type": "markdown",
   "metadata": {},
   "source": [
    "Here is a [tutorial](https://kevinzakka.github.io/2016/07/13/k-nearest-neighbor/) on K-Nearest-Neighbors (KNN)."
   ]
  },
  {
   "cell_type": "code",
   "execution_count": 51,
   "metadata": {},
   "outputs": [
    {
     "name": "stdout",
     "output_type": "stream",
     "text": [
      "KNN Classifer with Default Setting: \n",
      " KNeighborsClassifier(algorithm='auto', leaf_size=30, metric='minkowski',\n",
      "           metric_params=None, n_jobs=None, n_neighbors=10, p=2,\n",
      "           weights='uniform')\n"
     ]
    }
   ],
   "source": [
    "# instantiate knn classifier with default setting\n",
    "knn = KNeighborsClassifier(n_neighbors=10)\n",
    "print (\"KNN Classifer with Default Setting: \\n {}\".format(knn))"
   ]
  },
  {
   "cell_type": "code",
   "execution_count": 52,
   "metadata": {},
   "outputs": [],
   "source": [
    "# get help on model parameters\n",
    "#help(knn)"
   ]
  },
  {
   "cell_type": "code",
   "execution_count": 53,
   "metadata": {},
   "outputs": [],
   "source": [
    "#help(sklearn.neighbors.DistanceMetric)"
   ]
  },
  {
   "cell_type": "markdown",
   "metadata": {},
   "source": [
    "### <font color='#FC7307'> $\\delta$ Fit an estimator\n"
   ]
  },
  {
   "cell_type": "markdown",
   "metadata": {},
   "source": [
    "[Sklearn documents on KNN](http://scikit-learn.org/stable/modules/generated/sklearn.neighbors.KNeighborsClassifier.html)"
   ]
  },
  {
   "cell_type": "code",
   "execution_count": 54,
   "metadata": {},
   "outputs": [
    {
     "data": {
      "text/plain": [
       "array([0, 0, 1, 0, 0, 0, 0, 0, 0, 0, 0, 0, 0, 0, 0, 0, 1, 0, 0, 0, 1, 1,\n",
       "       0, 1, 1, 0, 1, 0, 1, 0, 0, 0, 0, 0, 0, 0, 0, 0, 0, 1, 1, 1, 0, 0,\n",
       "       0, 0, 0, 0, 0, 0, 0, 0, 0, 0, 0, 1, 1, 0, 1, 1, 0, 0, 1, 1, 1, 1,\n",
       "       0, 0, 0, 1, 0, 0, 1, 0, 0, 0, 0, 1, 0, 1, 0, 0, 0, 1, 1, 1, 1, 0,\n",
       "       1, 0, 1, 0, 0, 1, 1, 0, 1, 0, 0, 0, 0, 0, 1, 0, 1])"
      ]
     },
     "execution_count": 54,
     "metadata": {},
     "output_type": "execute_result"
    }
   ],
   "source": [
    "y_train"
   ]
  },
  {
   "cell_type": "code",
   "execution_count": 55,
   "metadata": {},
   "outputs": [
    {
     "data": {
      "text/plain": [
       "KNeighborsClassifier(algorithm='auto', leaf_size=30, metric='minkowski',\n",
       "           metric_params=None, n_jobs=None, n_neighbors=10, p=2,\n",
       "           weights='uniform')"
      ]
     },
     "execution_count": 55,
     "metadata": {},
     "output_type": "execute_result"
    }
   ],
   "source": [
    "knn.fit(X_train, y_train)"
   ]
  },
  {
   "cell_type": "code",
   "execution_count": 56,
   "metadata": {},
   "outputs": [
    {
     "name": "stdout",
     "output_type": "stream",
     "text": [
      "distance to k neighbors: [[3.96358424 4.03608721 4.13884042 4.27317212 4.31277173 4.36921045\n",
      "  4.40113622 4.41927596 4.45533388 4.47325385]]\n",
      "indices of the k nearest neighbors: [[60 91 95 10 38 71 73 78 18  6]]\n"
     ]
    }
   ],
   "source": [
    "kneighbors = knn.kneighbors([[1.0, 1.0, 1.0, 1.0]])\n",
    "print (\"distance to k neighbors: {}\".format(kneighbors[0]))\n",
    "print (\"indices of the k nearest neighbors: {}\".format(kneighbors[1]))\n",
    "# note that k = 5 (as default)"
   ]
  },
  {
   "cell_type": "markdown",
   "metadata": {},
   "source": [
    "### <font color='#FC7307'> $\\delta$ Make Predictions\n"
   ]
  },
  {
   "cell_type": "code",
   "execution_count": 57,
   "metadata": {},
   "outputs": [
    {
     "data": {
      "text/plain": [
       "array([0, 0, 1, 0, 0, 0, 0, 0, 0, 0, 0, 0, 0, 0, 0, 0, 1, 0, 0, 0, 1, 1,\n",
       "       0, 1, 1, 0, 1, 0, 1, 0, 0, 0, 0, 0, 0, 0, 0, 0, 0, 1, 1, 1, 0, 0,\n",
       "       0, 0, 1, 0, 0, 0, 0, 0, 0, 0, 0, 1, 1, 0, 1, 1, 0, 0, 1, 1, 1, 1,\n",
       "       0, 0, 0, 1, 0, 0, 1, 0, 0, 0, 0, 1, 0, 1, 0, 0, 1, 1, 1, 1, 1, 0,\n",
       "       1, 0, 1, 0, 0, 1, 1, 0, 1, 0, 0, 0, 0, 0, 1, 0, 1])"
      ]
     },
     "execution_count": 57,
     "metadata": {},
     "output_type": "execute_result"
    }
   ],
   "source": [
    "knn.predict(X_train)"
   ]
  },
  {
   "cell_type": "markdown",
   "metadata": {},
   "source": [
    "---\n",
    "# <a name=\"model-evaluation\"></a><font color='#347B98'> 6. Model Evaluation </font> <font size='3'>[Back to TOC](#toc-13)</font>\n",
    "\n",
    "    \n",
    "<img src='https://s3.amazonaws.com/weclouddata/images/python/ml_model_evaluation.png' width='30%' align='left'><img src='https://s3.amazonaws.com/weclouddata/images/python/ml_model_evaluation_cross_validation.png' width='30%' align='center'>"
   ]
  },
  {
   "cell_type": "markdown",
   "metadata": {},
   "source": [
    "## $\\Delta$ 6.1 - Generate model predictions"
   ]
  },
  {
   "cell_type": "markdown",
   "metadata": {},
   "source": [
    "### <font color='#FC7307'> $\\delta$ Generate predictions"
   ]
  },
  {
   "cell_type": "code",
   "execution_count": 58,
   "metadata": {
    "scrolled": true
   },
   "outputs": [],
   "source": [
    "# make predictions on testing set\n",
    "predictions = knn.predict(X_test)"
   ]
  },
  {
   "cell_type": "code",
   "execution_count": 59,
   "metadata": {},
   "outputs": [
    {
     "name": "stdout",
     "output_type": "stream",
     "text": [
      "model predictions on test data: \n",
      " [0 0 0 0 0 0 1 0 1 0 0 1 1 1 0 1 1 0 0 0 0 0 1 0 0 1 0 0 1 0 0 0 0 0 1 0 0\n",
      " 0 0 0 0 1 1 1 0]\n"
     ]
    }
   ],
   "source": [
    "print (\"model predictions on test data: \\n {}\".format(predictions))"
   ]
  },
  {
   "cell_type": "markdown",
   "metadata": {},
   "source": [
    "## $\\Delta$ 6.2 - Evaluate prediction results"
   ]
  },
  {
   "cell_type": "markdown",
   "metadata": {},
   "source": [
    "### <font color='#FC7307'> $\\delta$ Evaluate prediction results"
   ]
  },
  {
   "cell_type": "code",
   "execution_count": 60,
   "metadata": {},
   "outputs": [
    {
     "data": {
      "text/plain": [
       "array([0, 0, 0, 0, 0, 0, 1, 0, 1, 0, 0, 1, 1, 1, 0, 1, 1, 0, 0, 0, 0, 0,\n",
       "       1, 0, 0, 1, 0, 0, 1, 0, 0, 1, 0, 0, 1, 0, 0, 0, 0, 0, 0, 1, 1, 1,\n",
       "       1])"
      ]
     },
     "execution_count": 60,
     "metadata": {},
     "output_type": "execute_result"
    }
   ],
   "source": [
    "# Check out the real target on test set\n",
    "y_test"
   ]
  },
  {
   "cell_type": "code",
   "execution_count": 61,
   "metadata": {},
   "outputs": [
    {
     "data": {
      "text/plain": [
       "array([0, 0, 0, 0, 0, 0, 1, 0, 1, 0, 0, 1, 1, 1, 0, 1, 1, 0, 0, 0, 0, 0,\n",
       "       1, 0, 0, 1, 0, 0, 1, 0, 0, 0, 0, 0, 1, 0, 0, 0, 0, 0, 0, 1, 1, 1,\n",
       "       0])"
      ]
     },
     "execution_count": 61,
     "metadata": {},
     "output_type": "execute_result"
    }
   ],
   "source": [
    "predictions"
   ]
  },
  {
   "cell_type": "code",
   "execution_count": 62,
   "metadata": {},
   "outputs": [
    {
     "data": {
      "text/plain": [
       "array([ True,  True,  True,  True,  True,  True,  True,  True,  True,\n",
       "        True,  True,  True,  True,  True,  True,  True,  True,  True,\n",
       "        True,  True,  True,  True,  True,  True,  True,  True,  True,\n",
       "        True,  True,  True,  True, False,  True,  True,  True,  True,\n",
       "        True,  True,  True,  True,  True,  True,  True,  True, False])"
      ]
     },
     "execution_count": 62,
     "metadata": {},
     "output_type": "execute_result"
    }
   ],
   "source": [
    "# compare predictions against real value\n",
    "predictions == y_test"
   ]
  },
  {
   "cell_type": "code",
   "execution_count": 63,
   "metadata": {},
   "outputs": [
    {
     "name": "stdout",
     "output_type": "stream",
     "text": [
      "0.9555555555555556\n"
     ]
    }
   ],
   "source": [
    "# Print out the accuracy of the classifier on the test set\n",
    "accuracy = sum(predictions == y_test) / float(len(y_test))\n",
    "print (accuracy)"
   ]
  },
  {
   "cell_type": "code",
   "execution_count": 64,
   "metadata": {},
   "outputs": [
    {
     "name": "stdout",
     "output_type": "stream",
     "text": [
      "The knn model correctly classified 43 cases\n",
      "Model accuracy is: 0.9555555555555556\n"
     ]
    }
   ],
   "source": [
    "print (\"The knn model correctly classified {} cases\".format(sum(predictions == y_test)))\n",
    "print (\"Model accuracy is: {}\".format(accuracy))"
   ]
  },
  {
   "cell_type": "markdown",
   "metadata": {},
   "source": [
    "### <font color='#FC7307'> $\\delta$ Evaluate accuracy with `score` function"
   ]
  },
  {
   "cell_type": "code",
   "execution_count": 65,
   "metadata": {},
   "outputs": [
    {
     "data": {
      "text/plain": [
       "0.9555555555555556"
      ]
     },
     "execution_count": 65,
     "metadata": {},
     "output_type": "execute_result"
    }
   ],
   "source": [
    "knn.score(X_test, y_test)"
   ]
  },
  {
   "cell_type": "code",
   "execution_count": 66,
   "metadata": {},
   "outputs": [],
   "source": [
    "#help(knn.score)"
   ]
  },
  {
   "cell_type": "markdown",
   "metadata": {},
   "source": [
    "** Questions **\n",
    "\n",
    "- Fit a KNN (k=10) model on the normalized training data (`X_train_scale`)\n",
    "- Evaluate the model and see if the results get better"
   ]
  },
  {
   "cell_type": "code",
   "execution_count": 67,
   "metadata": {},
   "outputs": [
    {
     "name": "stdout",
     "output_type": "stream",
     "text": [
      "0.9777777777777777\n"
     ]
    }
   ],
   "source": [
    "##################################\n",
    "### Your Code Below\n",
    "##################################\n",
    "\n",
    "knn = KNeighborsClassifier(n_neighbors=10)\n",
    "knn.fit(X_train_scale, y_train)\n",
    "prediction_scale = knn.predict(X_test_scale)\n",
    "accuracy = sum(prediction_scale == y_test) / float(len(y_test))\n",
    "print (accuracy)"
   ]
  },
  {
   "cell_type": "code",
   "execution_count": 68,
   "metadata": {},
   "outputs": [
    {
     "data": {
      "text/plain": [
       "0.9777777777777777"
      ]
     },
     "execution_count": 68,
     "metadata": {},
     "output_type": "execute_result"
    }
   ],
   "source": [
    "knn.score(X_test_scale, y_test)"
   ]
  },
  {
   "cell_type": "markdown",
   "metadata": {},
   "source": [
    "---\n",
    "# <a name=\"parameter-tuning\"></a><font color='#347B98'> 7. Hyperparameter Tuning </font> <font size='3'>[Back to TOC](#toc-13)</font>\n"
   ]
  },
  {
   "cell_type": "markdown",
   "metadata": {},
   "source": [
    "## 7.1 - Parameter Search\n",
    "<img src='https://s3.amazonaws.com/weclouddata/images/python/ml_gridsearch.png' width='50%'>"
   ]
  },
  {
   "cell_type": "markdown",
   "metadata": {},
   "source": [
    "Define a function `parameter_search_knn` that takes in a parameter k and returns a tuple of `(k, accuracy)`. Note that we'll load the data from `sklearn.datasets`, and we'll create train and test splits using `sklearn.cross_validation.train_test_split`."
   ]
  },
  {
   "cell_type": "code",
   "execution_count": 69,
   "metadata": {},
   "outputs": [],
   "source": [
    "def parameter_search_knn(X_train, y_train, X_test, y_test, k):\n",
    "    # Build the model\n",
    "    knn = KNeighborsClassifier(n_neighbors=k)\n",
    "    knn.fit(X_train, y_train)\n",
    "    \n",
    "    # Calculate predictions and accuracy\n",
    "    predictions = knn.predict(X_test)\n",
    "    accuracy = (predictions == y_test).sum() / float(len(y_test))\n",
    "    \n",
    "    return (k, accuracy)   "
   ]
  },
  {
   "cell_type": "markdown",
   "metadata": {},
   "source": [
    "Now we'll run a grid search for k from 1 to 10.\n"
   ]
  },
  {
   "cell_type": "code",
   "execution_count": 70,
   "metadata": {},
   "outputs": [],
   "source": [
    "hist = []\n",
    "for n in range(1,21):\n",
    "    hist.append(parameter_search_knn(X_train_scale, y_train, X_test_scale, y_test, n))"
   ]
  },
  {
   "cell_type": "code",
   "execution_count": 71,
   "metadata": {},
   "outputs": [
    {
     "data": {
      "text/plain": [
       "[(1, 0.9555555555555556),\n",
       " (2, 0.9555555555555556),\n",
       " (3, 0.9777777777777777),\n",
       " (4, 0.9555555555555556),\n",
       " (5, 0.9777777777777777),\n",
       " (6, 0.9555555555555556),\n",
       " (7, 0.9555555555555556),\n",
       " (8, 0.9555555555555556),\n",
       " (9, 0.9777777777777777),\n",
       " (10, 0.9777777777777777),\n",
       " (11, 0.9777777777777777),\n",
       " (12, 0.9777777777777777),\n",
       " (13, 0.9777777777777777),\n",
       " (14, 0.9555555555555556),\n",
       " (15, 0.9777777777777777),\n",
       " (16, 0.9777777777777777),\n",
       " (17, 0.9777777777777777),\n",
       " (18, 0.9777777777777777),\n",
       " (19, 0.9777777777777777),\n",
       " (20, 0.9333333333333333)]"
      ]
     },
     "execution_count": 71,
     "metadata": {},
     "output_type": "execute_result"
    }
   ],
   "source": [
    "hist"
   ]
  },
  {
   "cell_type": "code",
   "execution_count": 72,
   "metadata": {},
   "outputs": [
    {
     "name": "stdout",
     "output_type": "stream",
     "text": [
      "model 1, accuracy: 0.9555555555555556\n",
      "model 2, accuracy: 0.9555555555555556\n",
      "model 3, accuracy: 0.9777777777777777\n",
      "model 4, accuracy: 0.9555555555555556\n",
      "model 5, accuracy: 0.9777777777777777\n",
      "model 6, accuracy: 0.9555555555555556\n",
      "model 7, accuracy: 0.9555555555555556\n",
      "model 8, accuracy: 0.9555555555555556\n",
      "model 9, accuracy: 0.9777777777777777\n",
      "model 10, accuracy: 0.9777777777777777\n",
      "model 11, accuracy: 0.9777777777777777\n",
      "model 12, accuracy: 0.9777777777777777\n",
      "model 13, accuracy: 0.9777777777777777\n",
      "model 14, accuracy: 0.9555555555555556\n",
      "model 15, accuracy: 0.9777777777777777\n",
      "model 16, accuracy: 0.9777777777777777\n",
      "model 17, accuracy: 0.9777777777777777\n",
      "model 18, accuracy: 0.9777777777777777\n",
      "model 19, accuracy: 0.9777777777777777\n",
      "model 20, accuracy: 0.9333333333333333\n"
     ]
    }
   ],
   "source": [
    "for model in hist:\n",
    "    print (\"model {0}, accuracy: {1}\".format(model[0], model[1]))"
   ]
  },
  {
   "cell_type": "code",
   "execution_count": 73,
   "metadata": {},
   "outputs": [
    {
     "data": {
      "text/plain": [
       "<matplotlib.axes._subplots.AxesSubplot at 0x7fdf32667048>"
      ]
     },
     "execution_count": 73,
     "metadata": {},
     "output_type": "execute_result"
    },
    {
     "data": {
      "image/png": "[encoded data removed]",
      "text/plain": [
       "<Figure size 504x360 with 1 Axes>"
      ]
     },
     "metadata": {},
     "output_type": "display_data"
    }
   ],
   "source": [
    "plt.suptitle('KNN - Gridsearch (Accuracy)')\n",
    "pd.Series([x[1] for x in hist], index=range(1,21,1)).plot(figsize=(7,5))"
   ]
  },
  {
   "cell_type": "markdown",
   "metadata": {},
   "source": [
    "---"
   ]
  },
  {
   "cell_type": "markdown",
   "metadata": {},
   "source": [
    "# <a name=\"cross-validation\"></a><font color='#347B98'> 8. Cross-Validation </font> <font size='3'>[Back to TOC](#toc-13)</font>\n",
    "\n",
    "    \n",
    "Reference: https://sebastianraschka.com/blog/2016/model-evaluation-selection-part3.html\n",
    "\n",
    "<img src='https://s3.amazonaws.com/weclouddata/images/python/ml_cross_validation.png' width='50%'>"
   ]
  },
  {
   "cell_type": "markdown",
   "metadata": {},
   "source": [
    "## $\\Delta$ 8.1 - Cross-Validation"
   ]
  },
  {
   "cell_type": "markdown",
   "metadata": {},
   "source": [
    "Now we'll use sklearn.cross_validation.KFold to evaluate our model using 10-fold cross validation. First, generate the 10 folds using KFold.\n",
    "\n",
    "Read more: [cross-validation: evaluating estimator performance](http://scikit-learn.org/stable/modules/cross_validation.html)"
   ]
  },
  {
   "cell_type": "markdown",
   "metadata": {},
   "source": [
    "### <font color='#FC7307'> Generating the K Folds"
   ]
  },
  {
   "cell_type": "code",
   "execution_count": 113,
   "metadata": {},
   "outputs": [],
   "source": [
    "#help(KFold)"
   ]
  },
  {
   "cell_type": "code",
   "execution_count": 74,
   "metadata": {},
   "outputs": [],
   "source": [
    "from sklearn.model_selection import KFold\n",
    "\n",
    "# Create indicies for 10-fold cross validation\n",
    "kf = KFold(n_splits=5, random_state=2018, shuffle=True)"
   ]
  },
  {
   "cell_type": "code",
   "execution_count": 75,
   "metadata": {},
   "outputs": [
    {
     "data": {
      "text/plain": [
       "KFold(n_splits=5, random_state=2018, shuffle=True)"
      ]
     },
     "execution_count": 75,
     "metadata": {},
     "output_type": "execute_result"
    }
   ],
   "source": [
    "kf"
   ]
  },
  {
   "cell_type": "markdown",
   "metadata": {},
   "source": [
    "### <font color='#FC7307'> Peeking into the KFolds"
   ]
  },
  {
   "cell_type": "code",
   "execution_count": 76,
   "metadata": {},
   "outputs": [
    {
     "name": "stdout",
     "output_type": "stream",
     "text": [
      "Fold 1 \n",
      "----------\n",
      "\n",
      "TRAIN: [  0   1   3   4   5   6   8   9  10  12  13  14  15  16  19  20  21  22\n",
      "  24  25  26  27  28  29  30  31  34  35  36  37  38  39  40  41  42  44\n",
      "  45  46  47  48  49  50  51  52  53  54  55  56  57  58  59  60  61  63\n",
      "  64  66  67  69  71  72  75  77  78  79  81  82  83  84  85  87  88  89\n",
      "  90  91  92  94  95  96  97  98 100 102 103 104] \n",
      "TEST: [  2   7  11  17  18  23  32  33  43  62  65  68  70  73  74  76  80  86\n",
      "  93  99 101] \n",
      "\n",
      "TRAIN SIZE: 84  |  TEST SIZE: 21 \n",
      "\n",
      "Fold 2 \n",
      "----------\n",
      "\n",
      "TRAIN: [  0   1   2   3   4   6   7   8   9  10  11  12  13  16  17  18  19  20\n",
      "  21  22  23  24  25  26  28  29  31  32  33  34  35  38  39  40  42  43\n",
      "  45  47  49  50  53  54  55  58  59  60  62  63  64  65  66  68  69  70\n",
      "  71  72  73  74  75  76  77  78  79  80  81  83  84  85  86  87  88  89\n",
      "  90  92  93  94  95  96  97  98  99 101 102 103] \n",
      "TEST: [  5  14  15  27  30  36  37  41  44  46  48  51  52  56  57  61  67  82\n",
      "  91 100 104] \n",
      "\n",
      "TRAIN SIZE: 84  |  TEST SIZE: 21 \n",
      "\n",
      "Fold 3 \n",
      "----------\n",
      "\n",
      "TRAIN: [  0   2   5   6   7   9  11  13  14  15  17  18  20  21  22  23  25  26\n",
      "  27  28  29  30  31  32  33  35  36  37  38  40  41  42  43  44  45  46\n",
      "  47  48  49  51  52  53  56  57  60  61  62  65  67  68  69  70  71  72\n",
      "  73  74  75  76  77  78  80  81  82  83  84  85  86  87  88  89  90  91\n",
      "  93  94  95  96  97  98  99 100 101 102 103 104] \n",
      "TEST: [ 1  3  4  8 10 12 16 19 24 34 39 50 54 55 58 59 63 64 66 79 92] \n",
      "\n",
      "TRAIN SIZE: 84  |  TEST SIZE: 21 \n",
      "\n",
      "Fold 4 \n",
      "----------\n",
      "\n",
      "TRAIN: [  0   1   2   3   4   5   6   7   8   9  10  11  12  14  15  16  17  18\n",
      "  19  20  21  22  23  24  25  27  28  30  31  32  33  34  36  37  39  41\n",
      "  42  43  44  46  47  48  50  51  52  54  55  56  57  58  59  60  61  62\n",
      "  63  64  65  66  67  68  70  73  74  75  76  79  80  81  82  86  87  91\n",
      "  92  93  94  96  97  98  99 100 101 102 103 104] \n",
      "TEST: [13 26 29 35 38 40 45 49 53 69 71 72 77 78 83 84 85 88 89 90 95] \n",
      "\n",
      "TRAIN SIZE: 84  |  TEST SIZE: 21 \n",
      "\n",
      "Fold 5 \n",
      "----------\n",
      "\n",
      "TRAIN: [  1   2   3   4   5   7   8  10  11  12  13  14  15  16  17  18  19  23\n",
      "  24  26  27  29  30  32  33  34  35  36  37  38  39  40  41  43  44  45\n",
      "  46  48  49  50  51  52  53  54  55  56  57  58  59  61  62  63  64  65\n",
      "  66  67  68  69  70  71  72  73  74  76  77  78  79  80  82  83  84  85\n",
      "  86  88  89  90  91  92  93  95  99 100 101 104] \n",
      "TEST: [  0   6   9  20  21  22  25  28  31  42  47  60  75  81  87  94  96  97\n",
      "  98 102 103] \n",
      "\n",
      "TRAIN SIZE: 84  |  TEST SIZE: 21 \n",
      "\n"
     ]
    }
   ],
   "source": [
    "X = X_train.copy()\n",
    "y = y_train.copy()\n",
    "for i, (cv_train_index, cv_test_index) in enumerate(kf.split(X)):\n",
    "    cv_X_train, cv_X_test = X[cv_train_index], X[cv_test_index]\n",
    "    cv_y_train, cv_y_test = y[cv_train_index], y[cv_test_index]\n",
    "    print(\"Fold {} \\n----------\\n\".format(i+1))\n",
    "    print(\"TRAIN:\", cv_train_index, '\\n' \"TEST:\", cv_test_index, '\\n')\n",
    "    print(\"TRAIN SIZE:\", len(cv_train_index), ' | ', 'TEST SIZE:', len(cv_test_index), '\\n')"
   ]
  },
  {
   "cell_type": "markdown",
   "metadata": {},
   "source": [
    "### <font color='#FC7307'> Run Cross-Validation with KNN"
   ]
  },
  {
   "cell_type": "markdown",
   "metadata": {},
   "source": [
    "Create a function that runs nearest neighbors based on the fold information passed in. Note that we'll have the function return an np.array which provides us with additional functionality that we'll take advantage of in a couple steps."
   ]
  },
  {
   "cell_type": "code",
   "execution_count": 77,
   "metadata": {},
   "outputs": [],
   "source": [
    "import numpy as np\n",
    "\n",
    "def nfold_cv_knn(foldsindex, X, y):\n",
    "    # Assign training and test sets from irisBroadcast using trainIndex and testIndex\n",
    "    trainIndex = foldsindex[0]\n",
    "    testIndex = foldsindex[1]\n",
    "    XTrain = X[trainIndex]\n",
    "    yTrain = y[trainIndex]\n",
    "    XTest = X[testIndex]\n",
    "    yTest = y[testIndex]\n",
    "    \n",
    "    # Build the model\n",
    "    knn = KNeighborsClassifier(n_neighbors=5)\n",
    "    knn.fit(XTrain, yTrain)\n",
    "    \n",
    "    # Calculate predictions\n",
    "    predictions = knn.predict(XTest)\n",
    "    \n",
    "    # Compute the number of correct predictions and total predictions\n",
    "    correct = (predictions == yTest).sum() \n",
    "    total = len(testIndex)\n",
    "    \n",
    "    # Return an np.array of the number of correct predictions and total predictions\n",
    "    return np.array([correct, total])"
   ]
  },
  {
   "cell_type": "markdown",
   "metadata": {},
   "source": [
    "Computer nearest neighbors using each fold.\n"
   ]
  },
  {
   "cell_type": "code",
   "execution_count": 78,
   "metadata": {},
   "outputs": [],
   "source": [
    "# run KNN classifiers on the folds\n",
    "cv_out = []\n",
    "\n",
    "X = X_train.copy()\n",
    "y = y_train.copy()\n",
    "\n",
    "for fold in kf.split(X):\n",
    "    cv_out.append(nfold_cv_knn(fold, X, y))"
   ]
  },
  {
   "cell_type": "code",
   "execution_count": 79,
   "metadata": {},
   "outputs": [
    {
     "data": {
      "text/plain": [
       "[array([20, 21]),\n",
       " array([18, 21]),\n",
       " array([20, 21]),\n",
       " array([20, 21]),\n",
       " array([21, 21])]"
      ]
     },
     "execution_count": 79,
     "metadata": {},
     "output_type": "execute_result"
    }
   ],
   "source": [
    "cv_out"
   ]
  },
  {
   "cell_type": "code",
   "execution_count": 80,
   "metadata": {},
   "outputs": [
    {
     "name": "stdout",
     "output_type": "stream",
     "text": [
      "correct / total\n",
      "[20 21]\n",
      "[18 21]\n",
      "[20 21]\n",
      "[20 21]\n",
      "[21 21]\n"
     ]
    }
   ],
   "source": [
    "# Run nearest neighbors on each of the folds\n",
    "print('correct / total\\n' + '\\n'.join(map(str, cv_out)))"
   ]
  },
  {
   "cell_type": "markdown",
   "metadata": {},
   "source": [
    "Now aggregate the results from the folds to see overall accuracy"
   ]
  },
  {
   "cell_type": "code",
   "execution_count": 81,
   "metadata": {},
   "outputs": [
    {
     "data": {
      "text/plain": [
       "(5, 2)"
      ]
     },
     "execution_count": 81,
     "metadata": {},
     "output_type": "execute_result"
    }
   ],
   "source": [
    "np.array(cv_out).shape"
   ]
  },
  {
   "cell_type": "code",
   "execution_count": 82,
   "metadata": {},
   "outputs": [
    {
     "name": "stdout",
     "output_type": "stream",
     "text": [
      "0.9428571428571428\n"
     ]
    }
   ],
   "source": [
    "# Print the cross-valiation results\n",
    "\n",
    "correct = np.array(cv_out)[:, 0].sum()\n",
    "total = np.array(cv_out)[:, 1].sum()\n",
    "\n",
    "print(correct / float(total))"
   ]
  },
  {
   "cell_type": "code",
   "execution_count": null,
   "metadata": {},
   "outputs": [],
   "source": []
  },
  {
   "cell_type": "markdown",
   "metadata": {},
   "source": [
    "## $\\Delta$ Exercises\n",
    "\n",
    "Try to fit a logistic regression model to classify iris data\n",
    "    1. import LogisticRegression from scikit-learns linear model module \n",
    "    2. construct a LR model \n",
    "    3. fit the model on training \n",
    "    4. generate prediction and then evaluate model accurary\n",
    "    5. try cross-validation on the Logistic Regression model and evaluate the result"
   ]
  },
  {
   "cell_type": "code",
   "execution_count": 124,
   "metadata": {},
   "outputs": [],
   "source": [
    "##############################\n",
    "## Your Code Here\n",
    "##############################"
   ]
  },
  {
   "cell_type": "code",
   "execution_count": 83,
   "metadata": {},
   "outputs": [
    {
     "name": "stderr",
     "output_type": "stream",
     "text": [
      "/usr/lib64/python3.5/importlib/_bootstrap.py:222: RuntimeWarning: numpy.dtype size changed, may indicate binary incompatibility. Expected 96, got 88\n",
      "  return f(*args, **kwds)\n"
     ]
    }
   ],
   "source": [
    "from sklearn.linear_model import LogisticRegression"
   ]
  },
  {
   "cell_type": "code",
   "execution_count": 84,
   "metadata": {},
   "outputs": [],
   "source": [
    "#help(LogisticRegression)"
   ]
  },
  {
   "cell_type": "code",
   "execution_count": 85,
   "metadata": {},
   "outputs": [],
   "source": [
    "lr = LogisticRegression(C=10)"
   ]
  },
  {
   "cell_type": "code",
   "execution_count": 86,
   "metadata": {},
   "outputs": [
    {
     "name": "stderr",
     "output_type": "stream",
     "text": [
      "/folders/myfolders/.local/lib/python3.5/site-packages/sklearn/linear_model/logistic.py:433: FutureWarning: Default solver will be changed to 'lbfgs' in 0.22. Specify a solver to silence this warning.\n",
      "  FutureWarning)\n"
     ]
    },
    {
     "data": {
      "text/plain": [
       "LogisticRegression(C=10, class_weight=None, dual=False, fit_intercept=True,\n",
       "          intercept_scaling=1, max_iter=100, multi_class='warn',\n",
       "          n_jobs=None, penalty='l2', random_state=None, solver='warn',\n",
       "          tol=0.0001, verbose=0, warm_start=False)"
      ]
     },
     "execution_count": 86,
     "metadata": {},
     "output_type": "execute_result"
    }
   ],
   "source": [
    "lr.fit(X_train_scale, y_train)"
   ]
  },
  {
   "cell_type": "code",
   "execution_count": 87,
   "metadata": {},
   "outputs": [],
   "source": [
    "lr_predictions = lr.predict(X_test_scale)\n",
    "accuracy = (lr_predictions == y_test).sum() / float(len(y_test))"
   ]
  },
  {
   "cell_type": "code",
   "execution_count": 88,
   "metadata": {},
   "outputs": [
    {
     "name": "stdout",
     "output_type": "stream",
     "text": [
      "Logistic Regression Accuracy: 1.0\n"
     ]
    }
   ],
   "source": [
    "print(\"Logistic Regression Accuracy: {}\".format(accuracy))"
   ]
  },
  {
   "cell_type": "code",
   "execution_count": 89,
   "metadata": {},
   "outputs": [],
   "source": [
    "import numpy as np\n",
    "\n",
    "def nfold_cv_lr(foldsindex, X, y):\n",
    "    # Assign training and test sets from irisBroadcast using trainIndex and testIndex\n",
    "    trainIndex = foldsindex[0]\n",
    "    testIndex = foldsindex[1]\n",
    "    XTrain = X[trainIndex]\n",
    "    yTrain = y[trainIndex]\n",
    "    XTest = X[testIndex]\n",
    "    yTest = y[testIndex]\n",
    "    \n",
    "    # Build the model\n",
    "    lr = LogisticRegression(C=10)\n",
    "    lr.fit(XTrain, yTrain)\n",
    "    \n",
    "    # Calculate predictions\n",
    "    predictions = lr.predict(XTest)\n",
    "    \n",
    "    # Compute the number of correct predictions and total predictions\n",
    "    correct = (predictions == yTest).sum() \n",
    "    total = len(testIndex)\n",
    "    \n",
    "    # Return an np.array of the number of correct predictions and total predictions\n",
    "    return np.array([correct, total])"
   ]
  },
  {
   "cell_type": "code",
   "execution_count": 90,
   "metadata": {},
   "outputs": [
    {
     "name": "stderr",
     "output_type": "stream",
     "text": [
      "/folders/myfolders/.local/lib/python3.5/site-packages/sklearn/linear_model/logistic.py:433: FutureWarning: Default solver will be changed to 'lbfgs' in 0.22. Specify a solver to silence this warning.\n",
      "  FutureWarning)\n",
      "/folders/myfolders/.local/lib/python3.5/site-packages/sklearn/linear_model/logistic.py:433: FutureWarning: Default solver will be changed to 'lbfgs' in 0.22. Specify a solver to silence this warning.\n",
      "  FutureWarning)\n",
      "/folders/myfolders/.local/lib/python3.5/site-packages/sklearn/linear_model/logistic.py:433: FutureWarning: Default solver will be changed to 'lbfgs' in 0.22. Specify a solver to silence this warning.\n",
      "  FutureWarning)\n",
      "/folders/myfolders/.local/lib/python3.5/site-packages/sklearn/linear_model/logistic.py:433: FutureWarning: Default solver will be changed to 'lbfgs' in 0.22. Specify a solver to silence this warning.\n",
      "  FutureWarning)\n",
      "/folders/myfolders/.local/lib/python3.5/site-packages/sklearn/linear_model/logistic.py:433: FutureWarning: Default solver will be changed to 'lbfgs' in 0.22. Specify a solver to silence this warning.\n",
      "  FutureWarning)\n"
     ]
    }
   ],
   "source": [
    "# run LR classifiers on the folds\n",
    "lr_cv_out = []\n",
    "\n",
    "X = X_train.copy()\n",
    "y = y_train.copy()\n",
    "\n",
    "for fold in kf.split(X):\n",
    "    lr_cv_out.append(nfold_cv_lr(fold, X, y))"
   ]
  },
  {
   "cell_type": "code",
   "execution_count": 91,
   "metadata": {},
   "outputs": [
    {
     "data": {
      "text/plain": [
       "[array([21, 21]),\n",
       " array([19, 21]),\n",
       " array([20, 21]),\n",
       " array([21, 21]),\n",
       " array([20, 21])]"
      ]
     },
     "execution_count": 91,
     "metadata": {},
     "output_type": "execute_result"
    }
   ],
   "source": [
    "lr_cv_out"
   ]
  },
  {
   "cell_type": "code",
   "execution_count": 92,
   "metadata": {},
   "outputs": [
    {
     "name": "stdout",
     "output_type": "stream",
     "text": [
      "0.9619047619047619\n"
     ]
    }
   ],
   "source": [
    "\n",
    "correct = np.array(lr_cv_out)[:, 0].sum()\n",
    "total = np.array(lr_cv_out)[:, 1].sum()\n",
    "\n",
    "print(correct / float(total))"
   ]
  }
 ],
 "metadata": {
  "anaconda-cloud": {},
  "kernelspec": {
   "display_name": "Python 3",
   "language": "python",
   "name": "python3"
  },
  "language_info": {
   "codemirror_mode": {
    "name": "ipython",
    "version": 3
   },
   "file_extension": ".py",
   "mimetype": "text/x-python",
   "name": "python",
   "nbconvert_exporter": "python",
   "pygments_lexer": "ipython3",
   "version": "3.5.5"
  }
 },
 "nbformat": 4,
 "nbformat_minor": 2
}
