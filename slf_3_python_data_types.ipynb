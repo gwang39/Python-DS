{
 "cells": [
  {
   "cell_type": "markdown",
   "metadata": {},
   "source": [
    "<br>\n",
    "<p style=\"text-align: left;\"><img src='https://s3.amazonaws.com/weclouddata/images/logos/sunlife_logo.png' width='35%'></p>\n",
    "<p style=\"text-align:left;\"><font size='15'><b> Python Data Types</b></font> </p>\n",
    "<h2 align='left' > Sunlife Data Science Training </h2>\n",
    "\n",
    "<h4 align='left'>  Prepared by: <img src='https://s3.amazonaws.com/weclouddata/images/logos/wcd_logo.png' width='15%'>\n",
    "\n",
    "---"
   ]
  },
  {
   "cell_type": "markdown",
   "metadata": {},
   "source": [
    "# <a name=\"toc-3\"></a> Table of contents \n",
    "\n",
    "1. [Python Data Type: List](#list)\n",
    "2. [Python Data Type: Tuple](#tuple)\n",
    "3. [Python Data Type: Set](#set)\n",
    "4. [Python Data Type: Dictionary](#dictionary)"
   ]
  },
  {
   "cell_type": "markdown",
   "metadata": {},
   "source": [
    "# <a name=\"list\"></a><font color='#347B98'> 1. Python Data Structure: List </font> <font size='3'>[Back to TOC](#toc-3)</font>\n",
    "    \n",
    "> * How to create a list?\n",
    "> * How to access elements from a list?\n",
    ">  * List Index\n",
    ">  * Negative Indexing\n",
    "> * How to slice lists in Python?\n",
    "> * How to change or add elements to a list?\n",
    "> * How to delete or remove elements from a list?\n",
    "> * Python List Methods\n",
    "> * List Comprehension\n",
    "> * Other List Operations in Python\n",
    "\n",
    "## $\\Delta$ 1.1 List Creation\n"
   ]
  },
  {
   "cell_type": "markdown",
   "metadata": {},
   "source": [
    "### <font color='#FC7307'> Example 1 </font>"
   ]
  },
  {
   "cell_type": "code",
   "execution_count": 16,
   "metadata": {},
   "outputs": [
    {
     "data": {
      "text/plain": [
       "[]"
      ]
     },
     "execution_count": 16,
     "metadata": {},
     "output_type": "execute_result"
    }
   ],
   "source": [
    "# empty list\n",
    "my_list = []\n",
    "my_list"
   ]
  },
  {
   "cell_type": "code",
   "execution_count": 17,
   "metadata": {},
   "outputs": [
    {
     "data": {
      "text/plain": [
       "[1, 2, 3]"
      ]
     },
     "execution_count": 17,
     "metadata": {},
     "output_type": "execute_result"
    }
   ],
   "source": [
    "# list of integers\n",
    "my_list = [1, 2, 3]\n",
    "\n",
    "my_list"
   ]
  },
  {
   "cell_type": "code",
   "execution_count": 18,
   "metadata": {},
   "outputs": [
    {
     "data": {
      "text/plain": [
       "[1, 'Hello', 3.4]"
      ]
     },
     "execution_count": 18,
     "metadata": {},
     "output_type": "execute_result"
    }
   ],
   "source": [
    "# list with mixed datatypes\n",
    "my_list = [1, \"Hello\", 3.4]\n",
    "\n",
    "my_list"
   ]
  },
  {
   "cell_type": "code",
   "execution_count": 19,
   "metadata": {},
   "outputs": [
    {
     "data": {
      "text/plain": [
       "['mouse', [8, 4, 6], ['a']]"
      ]
     },
     "execution_count": 19,
     "metadata": {},
     "output_type": "execute_result"
    }
   ],
   "source": [
    "# nested list\n",
    "my_list = [\"mouse\", [8, 4, 6], ['a']]\n",
    "my_list"
   ]
  },
  {
   "cell_type": "markdown",
   "metadata": {},
   "source": [
    "### <font color='#FC7307'> Example 2 - Tweets </font>"
   ]
  },
  {
   "cell_type": "code",
   "execution_count": 20,
   "metadata": {},
   "outputs": [],
   "source": [
    "tweets = [\"2018-05-28 02:18:18\t1000924194492899329\t@Rxchel_R @CanadianTire yes it isssss... i like dad jokes... not puns, dad jokes...\tAmelia Clarke\",\n",
    "\"2018-05-28 02:16:17\t1000923683723055104\t@loveodinandfen @CanadianTire Lol it’s not that good but thanks 😂\tRachel R\",\n",
    "\"2018-05-28 02:16:03\t1000923627729096704\t@CanadianTire @MLB What did the glove say to the baseball before the game started? I'll catch ya later! #AllStarDadJoke\tEva\"\n",
    "]"
   ]
  },
  {
   "cell_type": "code",
   "execution_count": 21,
   "metadata": {},
   "outputs": [
    {
     "data": {
      "text/plain": [
       "['2018-05-28 02:18:18\\t1000924194492899329\\t@Rxchel_R @CanadianTire yes it isssss... i like dad jokes... not puns, dad jokes...\\tAmelia Clarke',\n",
       " '2018-05-28 02:16:17\\t1000923683723055104\\t@loveodinandfen @CanadianTire Lol it’s not that good but thanks 😂\\tRachel R',\n",
       " \"2018-05-28 02:16:03\\t1000923627729096704\\t@CanadianTire @MLB What did the glove say to the baseball before the game started? I'll catch ya later! #AllStarDadJoke\\tEva\"]"
      ]
     },
     "execution_count": 21,
     "metadata": {},
     "output_type": "execute_result"
    }
   ],
   "source": [
    "tweets"
   ]
  },
  {
   "cell_type": "code",
   "execution_count": 22,
   "metadata": {},
   "outputs": [
    {
     "data": {
      "text/plain": [
       "3"
      ]
     },
     "execution_count": 22,
     "metadata": {},
     "output_type": "execute_result"
    }
   ],
   "source": [
    "len(tweets)"
   ]
  },
  {
   "cell_type": "markdown",
   "metadata": {},
   "source": [
    "---"
   ]
  },
  {
   "cell_type": "markdown",
   "metadata": {},
   "source": [
    "## $\\Delta$ 1.2 Indexing\n",
    "\n",
    "We can use the index operator `[]` to access an item in a list. Index starts from **`0`**. So, `a list having 5 elements will have index from 0 to 4`.\n",
    "\n",
    "Trying to access an element other that this will raise an `IndexError`. The index must be an integer. We can't use float or other types, this will result into TypeError.\n"
   ]
  },
  {
   "cell_type": "code",
   "execution_count": 23,
   "metadata": {},
   "outputs": [],
   "source": [
    "tweets = [\"2018-05-28 02:18:18\t1000924194492899329\t@Rxchel_R @CanadianTire yes it isssss... i like dad jokes... not puns, dad jokes...\tAmelia Clarke\",\n",
    "\"2018-05-28 02:16:17\t1000923683723055104\t@loveodinandfen @CanadianTire Lol it’s not that good but thanks 😂\tRachel R\",\n",
    "\"2018-05-28 02:16:03\t1000923627729096704\t@CanadianTire @MLB What did the glove say to the baseball before the game started? I'll catch ya later! #AllStarDadJoke\tEva\"\n",
    "]\n"
   ]
  },
  {
   "cell_type": "code",
   "execution_count": 24,
   "metadata": {},
   "outputs": [
    {
     "ename": "IndexError",
     "evalue": "list index out of range",
     "output_type": "error",
     "traceback": [
      "\u001b[0;31m---------------------------------------------------------------------------\u001b[0m",
      "\u001b[0;31mIndexError\u001b[0m                                Traceback (most recent call last)",
      "\u001b[0;32m<ipython-input-24-c736733c1e72>\u001b[0m in \u001b[0;36m<module>\u001b[0;34m\u001b[0m\n\u001b[0;32m----> 1\u001b[0;31m \u001b[0mtweets\u001b[0m\u001b[0;34m[\u001b[0m\u001b[0;36m6\u001b[0m\u001b[0;34m]\u001b[0m\u001b[0;34m\u001b[0m\u001b[0m\n\u001b[0m",
      "\u001b[0;31mIndexError\u001b[0m: list index out of range"
     ]
    }
   ],
   "source": [
    "tweets[6]"
   ]
  },
  {
   "cell_type": "markdown",
   "metadata": {},
   "source": [
    "### Get the first tweet"
   ]
  },
  {
   "cell_type": "code",
   "execution_count": 6,
   "metadata": {},
   "outputs": [
    {
     "data": {
      "text/plain": [
       "'2018-05-28 02:18:18\\t1000924194492899329\\t@Rxchel_R @CanadianTire yes it isssss... i like dad jokes... not puns, dad jokes...\\tAmelia Clarke'"
      ]
     },
     "execution_count": 6,
     "metadata": {},
     "output_type": "execute_result"
    }
   ],
   "source": [
    "tweets[0]"
   ]
  },
  {
   "cell_type": "code",
   "execution_count": 7,
   "metadata": {},
   "outputs": [
    {
     "data": {
      "text/plain": [
       "str"
      ]
     },
     "execution_count": 7,
     "metadata": {},
     "output_type": "execute_result"
    }
   ],
   "source": [
    "type(tweets[0])"
   ]
  },
  {
   "cell_type": "markdown",
   "metadata": {},
   "source": [
    "### Split the tweet string by tab `\\t`\n",
    "> Note: each element in the tweet list is a string that is delimited by `\\t`"
   ]
  },
  {
   "cell_type": "code",
   "execution_count": 25,
   "metadata": {},
   "outputs": [],
   "source": [
    "first_tweet = tweets[0].split('\\t')"
   ]
  },
  {
   "cell_type": "code",
   "execution_count": 26,
   "metadata": {},
   "outputs": [
    {
     "data": {
      "text/plain": [
       "['2018-05-28 02:18:18',\n",
       " '1000924194492899329',\n",
       " '@Rxchel_R @CanadianTire yes it isssss... i like dad jokes... not puns, dad jokes...',\n",
       " 'Amelia Clarke']"
      ]
     },
     "execution_count": 26,
     "metadata": {},
     "output_type": "execute_result"
    }
   ],
   "source": [
    "first_tweet"
   ]
  },
  {
   "cell_type": "code",
   "execution_count": 9,
   "metadata": {},
   "outputs": [
    {
     "data": {
      "text/plain": [
       "list"
      ]
     },
     "execution_count": 9,
     "metadata": {},
     "output_type": "execute_result"
    }
   ],
   "source": [
    "type(first_tweet)"
   ]
  },
  {
   "cell_type": "code",
   "execution_count": 10,
   "metadata": {},
   "outputs": [
    {
     "data": {
      "text/plain": [
       "'Amelia Clarke'"
      ]
     },
     "execution_count": 10,
     "metadata": {},
     "output_type": "execute_result"
    }
   ],
   "source": [
    "first_tweet[3]"
   ]
  },
  {
   "cell_type": "markdown",
   "metadata": {},
   "source": [
    "### Get the user who tweeted the first tweet"
   ]
  },
  {
   "cell_type": "code",
   "execution_count": 11,
   "metadata": {},
   "outputs": [
    {
     "data": {
      "text/plain": [
       "'Amelia Clarke'"
      ]
     },
     "execution_count": 11,
     "metadata": {},
     "output_type": "execute_result"
    }
   ],
   "source": [
    "first_tweet[3]"
   ]
  },
  {
   "cell_type": "markdown",
   "metadata": {},
   "source": [
    "## $\\Delta$ 1.3 Slicing\n",
    "\n",
    "> We can access a range of items in a list by using the slicing operator (colon)."
   ]
  },
  {
   "cell_type": "markdown",
   "metadata": {},
   "source": [
    "### <font color='#FC7307'> Example 1  </font>"
   ]
  },
  {
   "cell_type": "code",
   "execution_count": 27,
   "metadata": {},
   "outputs": [],
   "source": [
    "my_list = ['s','u','n','l','i','f','e']"
   ]
  },
  {
   "cell_type": "code",
   "execution_count": 29,
   "metadata": {},
   "outputs": [
    {
     "name": "stdout",
     "output_type": "stream",
     "text": [
      "['s', 'u', 'n', 'l']\n"
     ]
    }
   ],
   "source": [
    "# elements 1st to 4th\n",
    "print(my_list[:4])"
   ]
  },
  {
   "cell_type": "code",
   "execution_count": 31,
   "metadata": {},
   "outputs": [
    {
     "name": "stdout",
     "output_type": "stream",
     "text": [
      "['s', 'u']\n"
     ]
    }
   ],
   "source": [
    "# elements from beginning to -5\n",
    "print(my_list[:-5])"
   ]
  },
  {
   "cell_type": "code",
   "execution_count": 32,
   "metadata": {},
   "outputs": [
    {
     "name": "stdout",
     "output_type": "stream",
     "text": [
      "['l', 'i', 'f', 'e']\n"
     ]
    }
   ],
   "source": [
    "# elements from -4 to the end\n",
    "print(my_list[-4:])"
   ]
  },
  {
   "cell_type": "code",
   "execution_count": 33,
   "metadata": {},
   "outputs": [
    {
     "name": "stdout",
     "output_type": "stream",
     "text": [
      "['s', 'u', 'n', 'l', 'i', 'f', 'e']\n"
     ]
    }
   ],
   "source": [
    "# elements beginning to end\n",
    "print(my_list[:])"
   ]
  },
  {
   "cell_type": "markdown",
   "metadata": {},
   "source": [
    "### <font color='#FC7307'> Example 2 - tweets </font>"
   ]
  },
  {
   "cell_type": "code",
   "execution_count": 34,
   "metadata": {},
   "outputs": [],
   "source": [
    "tweets = [\"2018-05-28 02:18:18\t1000924194492899329\t@Rxchel_R @CanadianTire yes it isssss... i like dad jokes... not puns, dad jokes...\tAmelia Clarke\",\n",
    "\"2018-05-28 02:16:17\t1000923683723055104\t@loveodinandfen @CanadianTire Lol it’s not that good but thanks 😂\tRachel R\",\n",
    "\"2018-05-28 02:16:03\t1000923627729096704\t@CanadianTire @MLB What did the glove say to the baseball before the game started? I'll catch ya later! #AllStarDadJoke\tEva\",\n",
    "\"2018-05-28 01:28:29\t1000911656875053057\t@CanadianTire @MLB #AllStarDadJoke What did the buffalo say to his son when he was leaving for school? Bison.\tK a t i e\",\n",
    "\"2018-05-28 01:27:56\t1000911517280124928\t@CanadianTire @MLB What do you call cheese that isn’t yours? Nacho Cheese\tNate Hiltz\",\n",
    "\"2018-05-28 01:18:07\t1000909046373756928\tMy @CanadianTire #AllStarDadJoke is: Why does a chicken coop have 2 doors? Cuz if it had 4 it would be a chicken sedan!\tMac\",\n",
    "\"2018-05-28 01:16:04\t1000908531149623296\t@CanadianTire #AllStarDadJoke Which superhero is the best at baseball? ... Batman\tAliya D\",\n",
    "\"2018-05-28 01:15:50\t1000908473096269825\t@putouturlights @Rad_NikkiYVR Hubby said it was cheaper at the store though! https://t.co/66VLL5VCvN\tAlli G\",\n",
    "\"2018-05-28 01:13:32\t1000907893489655808\tMy @CanadianTire #AllStarDadJoke is: why was the cemetery so popular? People were just dying to get in.\tNicholas Mitchell\",\n",
    "\"2018-05-28 01:09:54\t1000906979399749632\tMy @CanadianTire #AllStarDadJoke is: when he sings songs he thinks he knows the words to...like back at one....i th… https://t.co/sQNIGTLrmR\tJason Fleming\",\n",
    "\"2018-05-28 00:54:14\t1000903034719932416\t@CanadianTire #allstardadjoke \\\"Why is one side of a flying-v always longer than the other? There's more geese\\\"\tKatie Chartrand\"\n",
    "]\n"
   ]
  },
  {
   "cell_type": "code",
   "execution_count": 35,
   "metadata": {},
   "outputs": [
    {
     "data": {
      "text/plain": [
       "['2018-05-28 02:16:17\\t1000923683723055104\\t@loveodinandfen @CanadianTire Lol it’s not that good but thanks 😂\\tRachel R',\n",
       " \"2018-05-28 02:16:03\\t1000923627729096704\\t@CanadianTire @MLB What did the glove say to the baseball before the game started? I'll catch ya later! #AllStarDadJoke\\tEva\"]"
      ]
     },
     "execution_count": 35,
     "metadata": {},
     "output_type": "execute_result"
    }
   ],
   "source": [
    "tweets[1:3]"
   ]
  },
  {
   "cell_type": "code",
   "execution_count": null,
   "metadata": {},
   "outputs": [],
   "source": []
  },
  {
   "cell_type": "markdown",
   "metadata": {},
   "source": [
    "## $\\Delta$ 1.4 Update List\n",
    "\n",
    "> **`List are mutable`**, meaning, their elements can be changed unlike string or tuple.\n",
    ">  * We can use assignment operator (=) to change an item or a range of items.\n",
    "\n",
    "### List methods\n",
    "> *`append()` - Add an element to the end of the list   \n",
    "\n",
    "> *`extend()` - Add all elements of a list to the another list    \n",
    "\n",
    "> *`insert()` - Insert an item at the defined index    \n",
    "\n",
    "> *`remove()` - Removes an item from the list    \n",
    "\n",
    "> *`pop()` - Removes and returns an element at the given index      \n",
    "\n",
    "> *`clear()` - Removes all items from the list    \n",
    "\n",
    "> *`index()` - Returns the index of the first matched item    \n",
    "\n",
    "> *`count()` - Returns the count of number of items passed as an argument    \n",
    "\n",
    "> *`sort()` - Sort items in a list in ascending order    \n",
    "\n",
    "> *`reverse()` - Reverse the order of items in the list    \n",
    "\n",
    "> *`copy()` - Returns a shallow copy of the list    "
   ]
  },
  {
   "cell_type": "markdown",
   "metadata": {},
   "source": [
    "### Make changes to a list"
   ]
  },
  {
   "cell_type": "code",
   "execution_count": 36,
   "metadata": {},
   "outputs": [],
   "source": [
    "odd = [2, 4, 6, 8]"
   ]
  },
  {
   "cell_type": "code",
   "execution_count": 37,
   "metadata": {},
   "outputs": [
    {
     "name": "stdout",
     "output_type": "stream",
     "text": [
      "[1, 4, 6, 8]\n"
     ]
    }
   ],
   "source": [
    "# change the 1st item    \n",
    "odd[0] = 1            \n",
    "\n",
    "print(odd)"
   ]
  },
  {
   "cell_type": "code",
   "execution_count": 38,
   "metadata": {},
   "outputs": [
    {
     "name": "stdout",
     "output_type": "stream",
     "text": [
      "[1, 3, 5, 7]\n"
     ]
    }
   ],
   "source": [
    "# change 2nd to 4th items\n",
    "odd[1:4] = [3, 5, 7]  \n",
    "\n",
    "print(odd)           "
   ]
  },
  {
   "cell_type": "markdown",
   "metadata": {},
   "source": [
    "### Append element to a list"
   ]
  },
  {
   "cell_type": "code",
   "execution_count": 39,
   "metadata": {},
   "outputs": [],
   "source": [
    "odd = [1, 3, 5]"
   ]
  },
  {
   "cell_type": "code",
   "execution_count": 40,
   "metadata": {},
   "outputs": [
    {
     "name": "stdout",
     "output_type": "stream",
     "text": [
      "[1, 3, 5, 7]\n"
     ]
    }
   ],
   "source": [
    "odd.append(7)\n",
    "\n",
    "print(odd)"
   ]
  },
  {
   "cell_type": "code",
   "execution_count": 41,
   "metadata": {},
   "outputs": [],
   "source": [
    "even = [2, 4, 6, 8]"
   ]
  },
  {
   "cell_type": "code",
   "execution_count": 42,
   "metadata": {},
   "outputs": [],
   "source": [
    "odd.extend(even)"
   ]
  },
  {
   "cell_type": "code",
   "execution_count": 43,
   "metadata": {},
   "outputs": [],
   "source": [
    "for e in even:\n",
    "    odd.append(e)"
   ]
  },
  {
   "cell_type": "code",
   "execution_count": 44,
   "metadata": {},
   "outputs": [
    {
     "data": {
      "text/plain": [
       "[1, 3, 5, 7, 2, 4, 6, 8, 2, 4, 6, 8]"
      ]
     },
     "execution_count": 44,
     "metadata": {},
     "output_type": "execute_result"
    }
   ],
   "source": [
    "odd"
   ]
  },
  {
   "cell_type": "code",
   "execution_count": 45,
   "metadata": {},
   "outputs": [
    {
     "data": {
      "text/plain": [
       "[1, 3, 5, 7, 2, 4, 6, 8, 2, 4, 6, 8]"
      ]
     },
     "execution_count": 45,
     "metadata": {},
     "output_type": "execute_result"
    }
   ],
   "source": [
    "odd"
   ]
  },
  {
   "cell_type": "code",
   "execution_count": 46,
   "metadata": {},
   "outputs": [],
   "source": [
    "odd.append([9])"
   ]
  },
  {
   "cell_type": "code",
   "execution_count": 47,
   "metadata": {},
   "outputs": [
    {
     "data": {
      "text/plain": [
       "[1, 3, 5, 7, 2, 4, 6, 8, 2, 4, 6, 8, [9]]"
      ]
     },
     "execution_count": 47,
     "metadata": {},
     "output_type": "execute_result"
    }
   ],
   "source": [
    "odd"
   ]
  },
  {
   "cell_type": "code",
   "execution_count": 48,
   "metadata": {},
   "outputs": [],
   "source": [
    "odd.extend([7, 9, 11])"
   ]
  },
  {
   "cell_type": "code",
   "execution_count": 49,
   "metadata": {},
   "outputs": [
    {
     "data": {
      "text/plain": [
       "[1, 3, 5, 7, 2, 4, 6, 8, 2, 4, 6, 8, [9], 7, 9, 11]"
      ]
     },
     "execution_count": 49,
     "metadata": {},
     "output_type": "execute_result"
    }
   ],
   "source": [
    "odd"
   ]
  },
  {
   "cell_type": "code",
   "execution_count": 50,
   "metadata": {},
   "outputs": [],
   "source": [
    "participants = ['jack', 'shaohua', 'rong']\n",
    "min = 3\n",
    "courses = 'big data'"
   ]
  },
  {
   "cell_type": "code",
   "execution_count": 51,
   "metadata": {},
   "outputs": [],
   "source": [
    "training = []\n",
    "training.append(courses)"
   ]
  },
  {
   "cell_type": "code",
   "execution_count": 52,
   "metadata": {},
   "outputs": [],
   "source": [
    "training.append(min)"
   ]
  },
  {
   "cell_type": "code",
   "execution_count": 53,
   "metadata": {},
   "outputs": [],
   "source": [
    "training.append(participants)"
   ]
  },
  {
   "cell_type": "code",
   "execution_count": 54,
   "metadata": {},
   "outputs": [
    {
     "data": {
      "text/plain": [
       "['big data', 3, ['jack', 'shaohua', 'rong']]"
      ]
     },
     "execution_count": 54,
     "metadata": {},
     "output_type": "execute_result"
    }
   ],
   "source": [
    "training"
   ]
  },
  {
   "cell_type": "markdown",
   "metadata": {},
   "source": [
    "### Extend a list by adding another list"
   ]
  },
  {
   "cell_type": "code",
   "execution_count": 55,
   "metadata": {},
   "outputs": [],
   "source": [
    "odd = [1, 3, 5]"
   ]
  },
  {
   "cell_type": "code",
   "execution_count": 56,
   "metadata": {},
   "outputs": [
    {
     "name": "stdout",
     "output_type": "stream",
     "text": [
      "[1, 3, 5, 9, 11, 13]\n"
     ]
    }
   ],
   "source": [
    "odd.extend([9, 11, 13])\n",
    "\n",
    "print(odd)"
   ]
  },
  {
   "cell_type": "markdown",
   "metadata": {},
   "source": [
    "### Insert element into a list"
   ]
  },
  {
   "cell_type": "code",
   "execution_count": 57,
   "metadata": {},
   "outputs": [
    {
     "name": "stdout",
     "output_type": "stream",
     "text": [
      "[1, 3, 9]\n"
     ]
    }
   ],
   "source": [
    "odd = [1, 9]\n",
    "odd.insert(1,3)\n",
    "\n",
    "# Output: [1, 3, 9] \n",
    "print(odd)"
   ]
  },
  {
   "cell_type": "markdown",
   "metadata": {},
   "source": [
    "### Delete elements from a list using `del`\n",
    "> We can delete one or more items from a list using the keyword **`del`**. It can even delete the list entirely.\n",
    "> * `del` removes the item at a specific index:"
   ]
  },
  {
   "cell_type": "code",
   "execution_count": 62,
   "metadata": {},
   "outputs": [],
   "source": [
    "my_list = ['s','u','n','l','i','f','e']"
   ]
  },
  {
   "cell_type": "code",
   "execution_count": 63,
   "metadata": {},
   "outputs": [
    {
     "name": "stdout",
     "output_type": "stream",
     "text": [
      "['s', 'u', 'l', 'i', 'f', 'e']\n"
     ]
    }
   ],
   "source": [
    "# delete one item\n",
    "del my_list[2]\n",
    "\n",
    "print(my_list)"
   ]
  },
  {
   "cell_type": "code",
   "execution_count": 64,
   "metadata": {},
   "outputs": [
    {
     "name": "stdout",
     "output_type": "stream",
     "text": [
      "['s', 'u', 'f', 'e']\n"
     ]
    }
   ],
   "source": [
    "# delete multiple items\n",
    "del my_list[2:4]  \n",
    "\n",
    "print(my_list)"
   ]
  },
  {
   "cell_type": "code",
   "execution_count": 65,
   "metadata": {},
   "outputs": [
    {
     "ename": "NameError",
     "evalue": "name 'my_list' is not defined",
     "output_type": "error",
     "traceback": [
      "\u001b[0;31m---------------------------------------------------------------------------\u001b[0m",
      "\u001b[0;31mNameError\u001b[0m                                 Traceback (most recent call last)",
      "\u001b[0;32m<ipython-input-65-481bd0993362>\u001b[0m in \u001b[0;36m<module>\u001b[0;34m\u001b[0m\n\u001b[1;32m      3\u001b[0m \u001b[0;34m\u001b[0m\u001b[0m\n\u001b[1;32m      4\u001b[0m \u001b[0;31m# Error: List not defined\u001b[0m\u001b[0;34m\u001b[0m\u001b[0;34m\u001b[0m\u001b[0m\n\u001b[0;32m----> 5\u001b[0;31m \u001b[0mprint\u001b[0m\u001b[0;34m(\u001b[0m\u001b[0mmy_list\u001b[0m\u001b[0;34m)\u001b[0m\u001b[0;34m\u001b[0m\u001b[0m\n\u001b[0m",
      "\u001b[0;31mNameError\u001b[0m: name 'my_list' is not defined"
     ]
    }
   ],
   "source": [
    "# delete entire list\n",
    "del my_list       \n",
    "\n",
    "# Error: List not defined\n",
    "print(my_list)"
   ]
  },
  {
   "cell_type": "markdown",
   "metadata": {},
   "source": [
    "### Delete items from a list using `remove`\n",
    "> `remove` removes the first matching value, not a specific index"
   ]
  },
  {
   "cell_type": "code",
   "execution_count": 66,
   "metadata": {},
   "outputs": [],
   "source": [
    "my_list = ['d','a','t','a','s','c','i','e','n','c','e']"
   ]
  },
  {
   "cell_type": "code",
   "execution_count": 67,
   "metadata": {},
   "outputs": [
    {
     "name": "stdout",
     "output_type": "stream",
     "text": [
      "['d', 't', 'a', 's', 'c', 'i', 'e', 'n', 'c', 'e']\n"
     ]
    }
   ],
   "source": [
    "# remove an element from a list\n",
    "my_list.remove('a')\n",
    "\n",
    "print(my_list)"
   ]
  },
  {
   "cell_type": "markdown",
   "metadata": {},
   "source": [
    "### Delete items from a list using `remove` and `pop`\n",
    "> `pop` removes the item at a specific index and returns it."
   ]
  },
  {
   "cell_type": "code",
   "execution_count": 68,
   "metadata": {},
   "outputs": [
    {
     "name": "stdout",
     "output_type": "stream",
     "text": [
      "t\n",
      "['d', 'a', 's', 'c', 'i', 'e', 'n', 'c', 'e']\n"
     ]
    }
   ],
   "source": [
    "print(my_list.pop(1))\n",
    "print(my_list)"
   ]
  },
  {
   "cell_type": "code",
   "execution_count": 70,
   "metadata": {},
   "outputs": [
    {
     "name": "stdout",
     "output_type": "stream",
     "text": [
      "c\n",
      "['d', 'a', 's', 'c', 'i', 'e', 'n']\n"
     ]
    }
   ],
   "source": [
    "print(my_list.pop()) # removes the last item\n",
    "print(my_list)"
   ]
  },
  {
   "cell_type": "markdown",
   "metadata": {},
   "source": [
    "### Clear a list"
   ]
  },
  {
   "cell_type": "code",
   "execution_count": 71,
   "metadata": {},
   "outputs": [
    {
     "name": "stdout",
     "output_type": "stream",
     "text": [
      "[]\n"
     ]
    }
   ],
   "source": [
    "# clear a list\n",
    "my_list.clear()\n",
    "\n",
    "print(my_list)"
   ]
  },
  {
   "cell_type": "markdown",
   "metadata": {},
   "source": [
    "## $\\Delta$ 1.5 List Comprehension\n",
    "\n",
    "> `List comprehension` is an elegant and concise way to create new list from an existing list in Python.\n",
    "\n",
    "> `List Comprehension` returns a new list"
   ]
  },
  {
   "cell_type": "markdown",
   "metadata": {},
   "source": [
    "### <font color='#FC7307'> Example 1 </font>"
   ]
  },
  {
   "cell_type": "code",
   "execution_count": 72,
   "metadata": {},
   "outputs": [
    {
     "name": "stdout",
     "output_type": "stream",
     "text": [
      "[1, 2, 4, 8, 16, 32, 64, 128, 256, 512]\n"
     ]
    }
   ],
   "source": [
    "pow2 = [2 ** x for x in range(10)]\n",
    "print(pow2)"
   ]
  },
  {
   "cell_type": "markdown",
   "metadata": {},
   "source": [
    "### <font color='#FC7307'> Example 2 - tweets </font>\n",
    "\n",
    "Task: get all username from the list of tweets and put them in a new list"
   ]
  },
  {
   "cell_type": "code",
   "execution_count": 73,
   "metadata": {},
   "outputs": [],
   "source": [
    "tweets = [\"2018-05-28 02:18:18\t1000924194492899329\t@Rxchel_R @CanadianTire yes it isssss... i like dad jokes... not puns, dad jokes...\tAmelia Clarke\",\n",
    "\"2018-05-28 02:16:17\t1000923683723055104\t@loveodinandfen @CanadianTire Lol it’s not that good but thanks 😂\tRachel R\",\n",
    "\"2018-05-28 02:16:03\t1000923627729096704\t@CanadianTire @MLB What did the glove say to the baseball before the game started? I'll catch ya later! #AllStarDadJoke\tEva\",\n",
    "\"2018-05-28 01:28:29\t1000911656875053057\t@CanadianTire @MLB #AllStarDadJoke What did the buffalo say to his son when he was leaving for school? Bison.\tK a t i e\",\n",
    "\"2018-05-28 01:27:56\t1000911517280124928\t@CanadianTire @MLB What do you call cheese that isn’t yours? Nacho Cheese\tNate Hiltz\",\n",
    "\"2018-05-28 01:18:07\t1000909046373756928\tMy @CanadianTire #AllStarDadJoke is: Why does a chicken coop have 2 doors? Cuz if it had 4 it would be a chicken sedan!\tMac\",\n",
    "\"2018-05-28 01:16:04\t1000908531149623296\t@CanadianTire #AllStarDadJoke Which superhero is the best at baseball? ... Batman\tAliya D\",\n",
    "\"2018-05-28 01:15:50\t1000908473096269825\t@putouturlights @Rad_NikkiYVR Hubby said it was cheaper at the store though! https://t.co/66VLL5VCvN\tAlli G\",\n",
    "\"2018-05-28 01:13:32\t1000907893489655808\tMy @CanadianTire #AllStarDadJoke is: why was the cemetery so popular? People were just dying to get in.\tNicholas Mitchell\",\n",
    "\"2018-05-28 01:09:54\t1000906979399749632\tMy @CanadianTire #AllStarDadJoke is: when he sings songs he thinks he knows the words to...like back at one....i th… https://t.co/sQNIGTLrmR\tJason Fleming\",\n",
    "\"2018-05-28 00:54:14\t1000903034719932416\t@CanadianTire #allstardadjoke \\\"Why is one side of a flying-v always longer than the other? There's more geese\\\"\tKatie Chartrand\"\n",
    "]"
   ]
  },
  {
   "cell_type": "markdown",
   "metadata": {},
   "source": [
    "#### Solutions 1 - `for loop`"
   ]
  },
  {
   "cell_type": "code",
   "execution_count": 74,
   "metadata": {},
   "outputs": [],
   "source": [
    "usernames = []\n",
    "\n",
    "for tweet in tweets:\n",
    "    username = tweet.split('\\t')[-1]\n",
    "    usernames.append(username)\n",
    "    "
   ]
  },
  {
   "cell_type": "code",
   "execution_count": 75,
   "metadata": {},
   "outputs": [
    {
     "name": "stdout",
     "output_type": "stream",
     "text": [
      "['Amelia Clarke', 'Rachel R', 'Eva', 'K a t i e', 'Nate Hiltz', 'Mac', 'Aliya D', 'Alli G', 'Nicholas Mitchell', 'Jason Fleming', 'Katie Chartrand']\n"
     ]
    }
   ],
   "source": [
    "print(usernames)"
   ]
  },
  {
   "cell_type": "markdown",
   "metadata": {},
   "source": [
    "#### Solution 2 - List Comprehension"
   ]
  },
  {
   "cell_type": "code",
   "execution_count": 30,
   "metadata": {},
   "outputs": [],
   "source": [
    "### Your Code Here\n",
    "\n",
    "\n"
   ]
  },
  {
   "cell_type": "code",
   "execution_count": 31,
   "metadata": {},
   "outputs": [
    {
     "name": "stdout",
     "output_type": "stream",
     "text": [
      "['Amelia Clarke', 'Rachel R', 'Eva', 'K a t i e', 'Nate Hiltz', 'Mac', 'Aliya D', 'Alli G', 'Nicholas Mitchell', 'Jason Fleming', 'Katie Chartrand']\n"
     ]
    }
   ],
   "source": [
    "print(usernames)"
   ]
  },
  {
   "cell_type": "markdown",
   "metadata": {},
   "source": [
    "## $\\Delta$ 1.6 List Membership\n",
    "> We can test if an item exists in a list or not, using the keyword in."
   ]
  },
  {
   "cell_type": "markdown",
   "metadata": {},
   "source": [
    "### <font color='#FC7307'> Example 1 </font>"
   ]
  },
  {
   "cell_type": "code",
   "execution_count": 76,
   "metadata": {},
   "outputs": [],
   "source": [
    "participants = ['Jack', 'Vinny','Shaohua','Adam']"
   ]
  },
  {
   "cell_type": "code",
   "execution_count": 77,
   "metadata": {},
   "outputs": [
    {
     "data": {
      "text/plain": [
       "True"
      ]
     },
     "execution_count": 77,
     "metadata": {},
     "output_type": "execute_result"
    }
   ],
   "source": [
    "# check membership\n",
    "\n",
    "'Vinny' in participants"
   ]
  },
  {
   "cell_type": "code",
   "execution_count": 78,
   "metadata": {},
   "outputs": [
    {
     "data": {
      "text/plain": [
       "True"
      ]
     },
     "execution_count": 78,
     "metadata": {},
     "output_type": "execute_result"
    }
   ],
   "source": [
    "('Shaohua' in participants) == True"
   ]
  },
  {
   "cell_type": "markdown",
   "metadata": {},
   "source": [
    "### <font color='#FC7307'> Example 2 - Tweets </font>\n",
    "\n",
    "Question: extract all tweets that have @MLB mentions"
   ]
  },
  {
   "cell_type": "code",
   "execution_count": 79,
   "metadata": {},
   "outputs": [
    {
     "name": "stdout",
     "output_type": "stream",
     "text": [
      "['@Rxchel_R @CanadianTire yes it isssss... i like dad jokes... not puns, dad jokes...', '@loveodinandfen @CanadianTire Lol it’s not that good but thanks 😂', \"@CanadianTire @MLB What did the glove say to the baseball before the game started? I'll catch ya later! #AllStarDadJoke\", '@CanadianTire @MLB #AllStarDadJoke What did the buffalo say to his son when he was leaving for school? Bison.', '@CanadianTire @MLB What do you call cheese that isn’t yours? Nacho Cheese', 'My @CanadianTire #AllStarDadJoke is: Why does a chicken coop have 2 doors? Cuz if it had 4 it would be a chicken sedan!', '@CanadianTire #AllStarDadJoke Which superhero is the best at baseball? ... Batman', '@putouturlights @Rad_NikkiYVR Hubby said it was cheaper at the store though! https://t.co/66VLL5VCvN', 'My @CanadianTire #AllStarDadJoke is: why was the cemetery so popular? People were just dying to get in.', 'My @CanadianTire #AllStarDadJoke is: when he sings songs he thinks he knows the words to...like back at one....i th… https://t.co/sQNIGTLrmR', '@CanadianTire #allstardadjoke \"Why is one side of a flying-v always longer than the other? There\\'s more geese\"']\n"
     ]
    }
   ],
   "source": [
    "text = [tweet.split('\\t')[2] for tweet in tweets]\n",
    "print(text)"
   ]
  },
  {
   "cell_type": "code",
   "execution_count": 124,
   "metadata": {},
   "outputs": [
    {
     "data": {
      "text/plain": [
       "11"
      ]
     },
     "execution_count": 124,
     "metadata": {},
     "output_type": "execute_result"
    }
   ],
   "source": [
    "len(text)"
   ]
  },
  {
   "cell_type": "code",
   "execution_count": 80,
   "metadata": {},
   "outputs": [
    {
     "data": {
      "text/plain": [
       "list"
      ]
     },
     "execution_count": 80,
     "metadata": {},
     "output_type": "execute_result"
    }
   ],
   "source": [
    "type(text)"
   ]
  },
  {
   "cell_type": "markdown",
   "metadata": {},
   "source": [
    "#### Solution 1: for loop"
   ]
  },
  {
   "cell_type": "code",
   "execution_count": 81,
   "metadata": {},
   "outputs": [],
   "source": [
    "tweet_mlb = []\n",
    "\n",
    "for t in text:\n",
    "    if '@MLB' in t:\n",
    "        tweet_mlb.append(t)"
   ]
  },
  {
   "cell_type": "code",
   "execution_count": 82,
   "metadata": {},
   "outputs": [
    {
     "data": {
      "text/plain": [
       "[\"@CanadianTire @MLB What did the glove say to the baseball before the game started? I'll catch ya later! #AllStarDadJoke\",\n",
       " '@CanadianTire @MLB #AllStarDadJoke What did the buffalo say to his son when he was leaving for school? Bison.',\n",
       " '@CanadianTire @MLB What do you call cheese that isn’t yours? Nacho Cheese']"
      ]
     },
     "execution_count": 82,
     "metadata": {},
     "output_type": "execute_result"
    }
   ],
   "source": [
    "tweet_mlb"
   ]
  },
  {
   "cell_type": "markdown",
   "metadata": {},
   "source": [
    "#### Solution 2: list comprehension"
   ]
  },
  {
   "cell_type": "code",
   "execution_count": 131,
   "metadata": {},
   "outputs": [],
   "source": [
    "### your code below\n",
    "\n",
    "\n"
   ]
  },
  {
   "cell_type": "code",
   "execution_count": 132,
   "metadata": {},
   "outputs": [
    {
     "data": {
      "text/plain": [
       "[\"@CanadianTire @MLB What did the glove say to the baseball before the game started? I'll catch ya later! #AllStarDadJoke\",\n",
       " '@CanadianTire @MLB #AllStarDadJoke What did the buffalo say to his son when he was leaving for school? Bison.',\n",
       " '@CanadianTire @MLB What do you call cheese that isn’t yours? Nacho Cheese']"
      ]
     },
     "execution_count": 132,
     "metadata": {},
     "output_type": "execute_result"
    }
   ],
   "source": [
    "tweet_mlb"
   ]
  },
  {
   "cell_type": "markdown",
   "metadata": {},
   "source": [
    "## $\\Delta$ 1.7 Other built-in list functions\n",
    "> * `all()`\tReturn True if all elements of the list are true (or if the list is empty).  \n",
    "\n",
    "> * `any()`\tReturn True if any element of the list is true. If the list is empty, return False.  \n",
    "\n",
    "> * `enumerate()`\tReturn an enumerate object. It contains the index and value of all the items of list as a tuple.  \n",
    "\n",
    "> * `len()`\tReturn the length (the number of items) in the list.  \n",
    "\n",
    "> * `list()`\tConvert an iterable (tuple, string, set, dictionary) to a list.  \n",
    "\n",
    "> * `max()`\tReturn the largest item in the list.  \n",
    "\n",
    "> * `min()`\tReturn the smallest item in the list  \n",
    "\n",
    "> * `sorted()`\tReturn a new sorted list (does not sort the list itself).  \n",
    "\n",
    "> * `sum()`\tReturn the sum of all elements in the list."
   ]
  },
  {
   "cell_type": "markdown",
   "metadata": {},
   "source": [
    "---"
   ]
  },
  {
   "cell_type": "markdown",
   "metadata": {},
   "source": [
    "# <a name=\"tuple\"></a><font color='#347B98'> 2. Python Data Structure: Tuple </font> <font size='3'>[Back to TOC](#toc-3)</font>\n",
    "\n",
    "    \n",
    "In Python programming, a tuple is similar to a list. The difference between the two is that `we cannot change the elements of a tuple once it is assigned` whereas in a list, elements can be changed.\n",
    "\n",
    "### Advantages of Tuple over List \n",
    "Since, tuples are quite similiar to lists, both of them are used in similar situations as well.\n",
    "\n",
    "However, there are certain advantages of implementing a tuple over a list. Below listed are some of the main advantages:\n",
    "* We generally use tuple for heterogeneous (different) datatypes and list for homogeneous (similar) datatypes.\n",
    "* Since tuple are immutable, iterating through tuple is faster than with list. So there is a slight performance boost.\n",
    "* Tuples that contain immutable elements can be used as key for a dictionary. With list, this is not possible.\n",
    "* If you have data that doesn't change, implementing it as tuple will guarantee that it remains write-protected.\n",
    "\n",
    "## $\\Delta$ 2.1 Creating a tuple\n"
   ]
  },
  {
   "cell_type": "code",
   "execution_count": 83,
   "metadata": {},
   "outputs": [
    {
     "name": "stdout",
     "output_type": "stream",
     "text": [
      "()\n"
     ]
    }
   ],
   "source": [
    "# empty tuple\n",
    "my_tuple = ()\n",
    "print(my_tuple)"
   ]
  },
  {
   "cell_type": "code",
   "execution_count": 84,
   "metadata": {},
   "outputs": [
    {
     "name": "stdout",
     "output_type": "stream",
     "text": [
      "(1, 2, 3)\n"
     ]
    }
   ],
   "source": [
    "# tuple having integers\n",
    "my_tuple = (1, 2, 3)\n",
    "print(my_tuple)"
   ]
  },
  {
   "cell_type": "code",
   "execution_count": 85,
   "metadata": {},
   "outputs": [
    {
     "name": "stdout",
     "output_type": "stream",
     "text": [
      "(1, 'Hello', 3.4)\n"
     ]
    }
   ],
   "source": [
    "# tuple with mixed datatypes\n",
    "my_tuple = (1, \"Hello\", 3.4)\n",
    "print(my_tuple)"
   ]
  },
  {
   "cell_type": "code",
   "execution_count": 87,
   "metadata": {},
   "outputs": [
    {
     "name": "stdout",
     "output_type": "stream",
     "text": [
      "('sunlife', 'weclouddata', 'shaohua zhang', ['Gui', 'James', 'Rui', 'Peter'])\n"
     ]
    }
   ],
   "source": [
    "# nested tuple\n",
    "ds_training = (\"sunlife\", 'weclouddata', 'shaohua zhang', ['Gui', 'James', 'Rui', 'Peter'])\n",
    "print(ds_training)"
   ]
  },
  {
   "cell_type": "markdown",
   "metadata": {},
   "source": [
    "## $\\Delta$ 2.2 Accessing elements in a tuple\n"
   ]
  },
  {
   "cell_type": "markdown",
   "metadata": {},
   "source": [
    "We can use the `index operator []` to access an item in a tuple where the index starts from 0.\n",
    "* A tuple having 6 elements will have index from 0 to 5. Trying to access an element other that (6, 7,...) will raise an IndexError."
   ]
  },
  {
   "cell_type": "code",
   "execution_count": 88,
   "metadata": {},
   "outputs": [],
   "source": [
    "ds_training = (\"sunlife\", 'weclouddata', 'shaohua zhang', ['Vinny', 'Rong', 'Ella', 'Alina'])"
   ]
  },
  {
   "cell_type": "code",
   "execution_count": 89,
   "metadata": {},
   "outputs": [
    {
     "name": "stdout",
     "output_type": "stream",
     "text": [
      "['Vinny', 'Rong', 'Ella', 'Alina']\n"
     ]
    }
   ],
   "source": [
    "participants = ds_training[3]\n",
    "print(participants)"
   ]
  },
  {
   "cell_type": "markdown",
   "metadata": {},
   "source": [
    "## $\\Delta$ 2.3 Changing a tuple\n",
    "\n",
    "Unlike lists, `tuples are immutable`.\n",
    "> This means that elements of a tuple cannot be changed once it has been assigned.   \n",
    "> But, if the element is itself a mutable datatype like list, its nested items can be changed."
   ]
  },
  {
   "cell_type": "markdown",
   "metadata": {},
   "source": [
    "### Modify a tuple???"
   ]
  },
  {
   "cell_type": "code",
   "execution_count": 90,
   "metadata": {},
   "outputs": [],
   "source": [
    "ds_training = (\"sunlife\", 'weclouddata', 'shaohua zhang', ['Vinny', 'Rong', 'Ella', 'Alina'])"
   ]
  },
  {
   "cell_type": "code",
   "execution_count": 91,
   "metadata": {},
   "outputs": [
    {
     "ename": "TypeError",
     "evalue": "'tuple' object does not support item assignment",
     "output_type": "error",
     "traceback": [
      "\u001b[0;31m---------------------------------------------------------------------------\u001b[0m",
      "\u001b[0;31mTypeError\u001b[0m                                 Traceback (most recent call last)",
      "\u001b[0;32m<ipython-input-91-0bef3d62779b>\u001b[0m in \u001b[0;36m<module>\u001b[0;34m\u001b[0m\n\u001b[1;32m      1\u001b[0m \u001b[0;31m# expect an error\u001b[0m\u001b[0;34m\u001b[0m\u001b[0;34m\u001b[0m\u001b[0m\n\u001b[0;32m----> 2\u001b[0;31m \u001b[0mds_training\u001b[0m\u001b[0;34m[\u001b[0m\u001b[0;36m0\u001b[0m\u001b[0;34m]\u001b[0m \u001b[0;34m=\u001b[0m \u001b[0;34m'sunlife'\u001b[0m\u001b[0;34m\u001b[0m\u001b[0m\n\u001b[0m",
      "\u001b[0;31mTypeError\u001b[0m: 'tuple' object does not support item assignment"
     ]
    }
   ],
   "source": [
    "# expect an error \n",
    "ds_training[0] = 'sunlife'"
   ]
  },
  {
   "cell_type": "markdown",
   "metadata": {},
   "source": [
    "### Modify element in a tuple when the element is a mutable datatype like like"
   ]
  },
  {
   "cell_type": "code",
   "execution_count": 92,
   "metadata": {},
   "outputs": [],
   "source": [
    "ds_training[3].extend(['Coco','Marry','Alex'])"
   ]
  },
  {
   "cell_type": "code",
   "execution_count": 93,
   "metadata": {},
   "outputs": [
    {
     "data": {
      "text/plain": [
       "('sunlife',\n",
       " 'weclouddata',\n",
       " 'shaohua zhang',\n",
       " ['Vinny', 'Rong', 'Ella', 'Alina', 'Coco', 'Marry', 'Alex'])"
      ]
     },
     "execution_count": 93,
     "metadata": {},
     "output_type": "execute_result"
    }
   ],
   "source": [
    "ds_training"
   ]
  },
  {
   "cell_type": "markdown",
   "metadata": {},
   "source": [
    "## $\\Delta$ 2.4 Tuple Membership\n"
   ]
  },
  {
   "cell_type": "code",
   "execution_count": 94,
   "metadata": {},
   "outputs": [
    {
     "data": {
      "text/plain": [
       "True"
      ]
     },
     "execution_count": 94,
     "metadata": {},
     "output_type": "execute_result"
    }
   ],
   "source": [
    "'weclouddata' in ds_training"
   ]
  },
  {
   "cell_type": "code",
   "execution_count": 95,
   "metadata": {
    "scrolled": true
   },
   "outputs": [
    {
     "data": {
      "text/plain": [
       "False"
      ]
     },
     "execution_count": 95,
     "metadata": {},
     "output_type": "execute_result"
    }
   ],
   "source": [
    "'Owen' in ds_training[3]"
   ]
  },
  {
   "cell_type": "markdown",
   "metadata": {},
   "source": [
    "## $\\Delta$ 2.4 Tuple vs List"
   ]
  },
  {
   "cell_type": "markdown",
   "metadata": {},
   "source": [
    "### Tuple vs List - Performance\n",
    "> <font color='#D61A46'> In this example, we see that iterating over a tuple is much faster than iterating over a list </font>"
   ]
  },
  {
   "cell_type": "code",
   "execution_count": null,
   "metadata": {},
   "outputs": [],
   "source": [
    "my_list = list(range(100000000))\n",
    "my_tuple = tuple(my_list)\n",
    "my_set = set(my_list)"
   ]
  },
  {
   "cell_type": "code",
   "execution_count": null,
   "metadata": {},
   "outputs": [],
   "source": [
    "%%timeit\n",
    "if 9999 in my_list:\n",
    "    pass"
   ]
  },
  {
   "cell_type": "code",
   "execution_count": 107,
   "metadata": {},
   "outputs": [
    {
     "name": "stdout",
     "output_type": "stream",
     "text": [
      "94.1 µs ± 5.53 µs per loop (mean ± std. dev. of 7 runs, 1000 loops each)\n"
     ]
    }
   ],
   "source": [
    "%%timeit\n",
    "if 9999 in my_tuple:\n",
    "    pass"
   ]
  },
  {
   "cell_type": "code",
   "execution_count": 110,
   "metadata": {},
   "outputs": [
    {
     "name": "stdout",
     "output_type": "stream",
     "text": [
      "51.5 ns ± 14.5 ns per loop (mean ± std. dev. of 7 runs, 10000000 loops each)\n"
     ]
    }
   ],
   "source": [
    "%%timeit\n",
    "if 9999 in my_set:\n",
    "    pass"
   ]
  },
  {
   "cell_type": "code",
   "execution_count": 213,
   "metadata": {},
   "outputs": [],
   "source": [
    "del my_list\n",
    "del my_tuple"
   ]
  },
  {
   "cell_type": "markdown",
   "metadata": {},
   "source": [
    "> <font color='#D61A46'> In this test, `tuple` membership check is slightly faster. But it also consumes less memory by removing the ability to modify them after creation\n"
   ]
  },
  {
   "cell_type": "markdown",
   "metadata": {},
   "source": [
    "---\n",
    "# <a name=\"set\"></a><font color='#347B98'> 3. Python Data Structure: Set </font> <font size='3'>[Back to TOC](#toc-3)</font>\n",
    "\n",
    "    \n",
    "A set is an `unordered collection of items`. Every element is `unique (no duplicates)` and must be `immutable` (which cannot be changed).\n",
    "* However, the set itself is mutable. We can add or remove items from it.\n",
    "\n",
    "Sets can be used to perform mathematical set operations like:\n",
    "* `union`, \n",
    "* `intersection`, \n",
    "* `symmetric difference`,\n",
    "* etc.\n",
    "\n",
    "## $\\Delta$ 3.1 Creating a `set`\n"
   ]
  },
  {
   "cell_type": "markdown",
   "metadata": {},
   "source": [
    "A `set` is created by placing all the items (elements) inside `curly braces {}`, separated by comma or by using the built-in function `set()`.\n",
    "\n",
    "It can have any number of items and they may be of different types (integer, float, tuple, string etc.). \n",
    "> <font color='#D61A46'> But a set cannot have a mutable element, like list, set or dictionary, as its element.</font>"
   ]
  },
  {
   "cell_type": "markdown",
   "metadata": {},
   "source": [
    "### Create a `set`"
   ]
  },
  {
   "cell_type": "code",
   "execution_count": 96,
   "metadata": {},
   "outputs": [
    {
     "name": "stdout",
     "output_type": "stream",
     "text": [
      "{1, 2, 3}\n"
     ]
    }
   ],
   "source": [
    "# set of integers\n",
    "my_set = {1, 2, 3}\n",
    "print(my_set)"
   ]
  },
  {
   "cell_type": "code",
   "execution_count": 97,
   "metadata": {},
   "outputs": [
    {
     "name": "stdout",
     "output_type": "stream",
     "text": [
      "{1.0, 'Hello', (1, 2, 3)}\n"
     ]
    }
   ],
   "source": [
    "# set of mixed datatypes\n",
    "my_set = {1.0, \"Hello\", (1, 2, 3)}\n",
    "print(my_set)"
   ]
  },
  {
   "cell_type": "markdown",
   "metadata": {},
   "source": [
    "### Trying to create a set with mutable element will fail"
   ]
  },
  {
   "cell_type": "code",
   "execution_count": 98,
   "metadata": {},
   "outputs": [
    {
     "ename": "TypeError",
     "evalue": "unhashable type: 'list'",
     "output_type": "error",
     "traceback": [
      "\u001b[0;31m---------------------------------------------------------------------------\u001b[0m",
      "\u001b[0;31mTypeError\u001b[0m                                 Traceback (most recent call last)",
      "\u001b[0;32m<ipython-input-98-679dfc839509>\u001b[0m in \u001b[0;36m<module>\u001b[0;34m\u001b[0m\n\u001b[0;32m----> 1\u001b[0;31m \u001b[0mmy_set\u001b[0m \u001b[0;34m=\u001b[0m \u001b[0;34m{\u001b[0m\u001b[0;36m1.0\u001b[0m\u001b[0;34m,\u001b[0m \u001b[0;34m\"Hello\"\u001b[0m\u001b[0;34m,\u001b[0m \u001b[0;34m[\u001b[0m\u001b[0;36m1\u001b[0m\u001b[0;34m,\u001b[0m \u001b[0;36m2\u001b[0m\u001b[0;34m,\u001b[0m \u001b[0;36m3\u001b[0m\u001b[0;34m]\u001b[0m\u001b[0;34m}\u001b[0m\u001b[0;34m\u001b[0m\u001b[0m\n\u001b[0m\u001b[1;32m      2\u001b[0m \u001b[0mprint\u001b[0m\u001b[0;34m(\u001b[0m\u001b[0mmy_set\u001b[0m\u001b[0;34m)\u001b[0m\u001b[0;34m\u001b[0m\u001b[0m\n",
      "\u001b[0;31mTypeError\u001b[0m: unhashable type: 'list'"
     ]
    }
   ],
   "source": [
    "my_set = {1.0, \"Hello\", [1, 2, 3]}\n",
    "print(my_set)"
   ]
  },
  {
   "cell_type": "markdown",
   "metadata": {},
   "source": [
    "### Make set from a list"
   ]
  },
  {
   "cell_type": "code",
   "execution_count": 99,
   "metadata": {},
   "outputs": [
    {
     "name": "stdout",
     "output_type": "stream",
     "text": [
      "['Jack', 'Owen', 'Owen', 'Mark', 'Marry', 'Rob', 'Marry', 'Rob']\n"
     ]
    }
   ],
   "source": [
    "participants = ['Jack','Owen','Owen','Mark','Marry','Rob','Marry','Rob']\n",
    "print(participants)"
   ]
  },
  {
   "cell_type": "code",
   "execution_count": 100,
   "metadata": {},
   "outputs": [
    {
     "name": "stdout",
     "output_type": "stream",
     "text": [
      "{'Jack', 'Owen', 'Rob', 'Marry', 'Mark'}\n"
     ]
    }
   ],
   "source": [
    "participants_set = set(participants)\n",
    "print(participants_set)"
   ]
  },
  {
   "cell_type": "markdown",
   "metadata": {},
   "source": [
    "> It is quite common to use `set` to remove duplicates from a list\n"
   ]
  },
  {
   "cell_type": "markdown",
   "metadata": {},
   "source": [
    "## $\\Delta$ 3.2 Accessing/Changing a `set`\n",
    "\n",
    "> `set` object does not support indexing\n",
    "\n",
    "> you can use `update()`, `add()` to update a `set`"
   ]
  },
  {
   "cell_type": "markdown",
   "metadata": {},
   "source": [
    "### `set` does not support indexing"
   ]
  },
  {
   "cell_type": "code",
   "execution_count": 102,
   "metadata": {},
   "outputs": [],
   "source": [
    "participants = ['Jack','Owen','Owen','Mark','Marry','Rob','Marry','Rob']\n",
    "participants_set = set(participants)"
   ]
  },
  {
   "cell_type": "code",
   "execution_count": 103,
   "metadata": {},
   "outputs": [
    {
     "ename": "TypeError",
     "evalue": "'set' object does not support indexing",
     "output_type": "error",
     "traceback": [
      "\u001b[0;31m---------------------------------------------------------------------------\u001b[0m",
      "\u001b[0;31mTypeError\u001b[0m                                 Traceback (most recent call last)",
      "\u001b[0;32m<ipython-input-103-404cfda0e957>\u001b[0m in \u001b[0;36m<module>\u001b[0;34m\u001b[0m\n\u001b[0;32m----> 1\u001b[0;31m \u001b[0mparticipants_set\u001b[0m\u001b[0;34m[\u001b[0m\u001b[0;36m0\u001b[0m\u001b[0;34m]\u001b[0m\u001b[0;34m\u001b[0m\u001b[0m\n\u001b[0m",
      "\u001b[0;31mTypeError\u001b[0m: 'set' object does not support indexing"
     ]
    }
   ],
   "source": [
    "participants_set[0]"
   ]
  },
  {
   "cell_type": "code",
   "execution_count": 104,
   "metadata": {},
   "outputs": [
    {
     "data": {
      "text/plain": [
       "{'Jack', 'Mark', 'Marry', 'Owen', 'Rob'}"
      ]
     },
     "execution_count": 104,
     "metadata": {},
     "output_type": "execute_result"
    }
   ],
   "source": [
    "participants_set"
   ]
  },
  {
   "cell_type": "markdown",
   "metadata": {},
   "source": [
    "### `add()` an item to `set`"
   ]
  },
  {
   "cell_type": "code",
   "execution_count": 105,
   "metadata": {},
   "outputs": [
    {
     "name": "stdout",
     "output_type": "stream",
     "text": [
      "{'Jack', 'Rob', 'Mark', 'Coco', 'Marry', 'Owen'}\n"
     ]
    }
   ],
   "source": [
    "participants_set.add('Coco')\n",
    "print(participants_set)"
   ]
  },
  {
   "cell_type": "markdown",
   "metadata": {},
   "source": [
    "<font color='#D61A46'> Element that exists in a `set` will be ignored </font>"
   ]
  },
  {
   "cell_type": "code",
   "execution_count": 106,
   "metadata": {},
   "outputs": [],
   "source": [
    "participants_set.add('Larry')"
   ]
  },
  {
   "cell_type": "code",
   "execution_count": 107,
   "metadata": {},
   "outputs": [
    {
     "data": {
      "text/plain": [
       "{'Coco', 'Jack', 'Larry', 'Mark', 'Marry', 'Owen', 'Rob'}"
      ]
     },
     "execution_count": 107,
     "metadata": {},
     "output_type": "execute_result"
    }
   ],
   "source": [
    "participants_set"
   ]
  },
  {
   "cell_type": "markdown",
   "metadata": {},
   "source": [
    "### Add multiple elements with `update()`"
   ]
  },
  {
   "cell_type": "code",
   "execution_count": 108,
   "metadata": {},
   "outputs": [
    {
     "name": "stdout",
     "output_type": "stream",
     "text": [
      "{'Jack', 'Rob', 'Mark', 'Juan', 'Coco', 'Larry', 'Marry', 'Austin', 'Owen', 'Alex'}\n"
     ]
    }
   ],
   "source": [
    "participants_set.update(['Austin','Alex','Juan'])\n",
    "print(participants_set)"
   ]
  },
  {
   "cell_type": "markdown",
   "metadata": {},
   "source": [
    "## $\\Delta$ 3.3 `set` operations\n",
    "\n",
    "Sets can be used to carry out mathematical set operations like `union`, `intersection`, `difference` and `symmetric difference`. We can do this with operators or methods."
   ]
  },
  {
   "cell_type": "markdown",
   "metadata": {},
   "source": [
    "### `set` Union"
   ]
  },
  {
   "cell_type": "code",
   "execution_count": 109,
   "metadata": {},
   "outputs": [],
   "source": [
    "ds_track_1 = set(['Mark','Owen','Hari','Davin','Austin','Kunal','Alina','Andrew','Jiasen','Alex','Chang','Coco','Mykyta','Juan'])\n",
    "ds_track_2 = set(['Julian','Danielle','Akanksha'])\n",
    "bi_track_1 = set(['Robert','Banson','Dan'])\n",
    "bi_track_2 = set(['Eugene','Laavan'])"
   ]
  },
  {
   "cell_type": "code",
   "execution_count": 111,
   "metadata": {},
   "outputs": [
    {
     "name": "stdout",
     "output_type": "stream",
     "text": [
      "DS Track has 17 participants.\n"
     ]
    }
   ],
   "source": [
    "ds_track = ds_track_1.union(ds_track_2)\n",
    "print('DS Track has {} participants.'.format(len(ds_track)))"
   ]
  },
  {
   "cell_type": "code",
   "execution_count": 112,
   "metadata": {},
   "outputs": [
    {
     "name": "stdout",
     "output_type": "stream",
     "text": [
      "BI Track has 5 participants.\n"
     ]
    }
   ],
   "source": [
    "bi_track = bi_track_1.union(bi_track_2)\n",
    "print('BI Track has {} participants.'.format(len(bi_track)))"
   ]
  },
  {
   "cell_type": "markdown",
   "metadata": {},
   "source": [
    "### `set` Intersection"
   ]
  },
  {
   "cell_type": "code",
   "execution_count": 113,
   "metadata": {},
   "outputs": [],
   "source": [
    "ds_track_courses = set(['toolbox','ds','machine learning','big data','model deployment'])\n",
    "bi_track_courses = set(['toolbox','ds','big data'])"
   ]
  },
  {
   "cell_type": "code",
   "execution_count": 114,
   "metadata": {},
   "outputs": [
    {
     "name": "stdout",
     "output_type": "stream",
     "text": [
      "All participants need to attend 3 courses: {'big data', 'toolbox', 'ds'}\n"
     ]
    }
   ],
   "source": [
    "common_courses = ds_track_courses.intersection(bi_track_courses)\n",
    "print('All participants need to attend {} courses: {}'.format(len(common_courses), common_courses))"
   ]
  },
  {
   "cell_type": "markdown",
   "metadata": {},
   "source": [
    "### `set` Difference"
   ]
  },
  {
   "cell_type": "code",
   "execution_count": 115,
   "metadata": {},
   "outputs": [],
   "source": [
    "ds_track_courses = set(['toolbox','ds','machine learning','big data','model deployment'])\n",
    "bi_track_courses = set(['toolbox','ds','big data'])"
   ]
  },
  {
   "cell_type": "code",
   "execution_count": 116,
   "metadata": {},
   "outputs": [
    {
     "name": "stdout",
     "output_type": "stream",
     "text": [
      "DS track participants will also need to complete 2 more courses: {'model deployment', 'machine learning'}\n"
     ]
    }
   ],
   "source": [
    "diff_courses = ds_track_courses.difference(bi_track_courses)\n",
    "print('DS track participants will also need to complete {} more courses: {}'.format(len(diff_courses), diff_courses))"
   ]
  },
  {
   "cell_type": "markdown",
   "metadata": {},
   "source": [
    "## $\\Delta$ 3.4 List vs Set - Performance"
   ]
  },
  {
   "cell_type": "code",
   "execution_count": 260,
   "metadata": {},
   "outputs": [],
   "source": [
    "my_list = list(range(100000000))\n",
    "my_set = set(my_list)"
   ]
  },
  {
   "cell_type": "markdown",
   "metadata": {},
   "source": [
    "### Search for an item near the beginning of the list/set"
   ]
  },
  {
   "cell_type": "code",
   "execution_count": 261,
   "metadata": {},
   "outputs": [
    {
     "name": "stdout",
     "output_type": "stream",
     "text": [
      "110 µs ± 4.69 µs per loop (mean ± std. dev. of 7 runs, 10000 loops each)\n"
     ]
    }
   ],
   "source": [
    "%%timeit\n",
    "if 9999 in my_list:\n",
    "    pass"
   ]
  },
  {
   "cell_type": "code",
   "execution_count": 262,
   "metadata": {},
   "outputs": [
    {
     "name": "stdout",
     "output_type": "stream",
     "text": [
      "59.4 ns ± 12.8 ns per loop (mean ± std. dev. of 7 runs, 10000000 loops each)\n"
     ]
    }
   ],
   "source": [
    "%%timeit\n",
    "if 9999 in my_set:\n",
    "    pass"
   ]
  },
  {
   "cell_type": "markdown",
   "metadata": {},
   "source": [
    "### Search for an item near the end of the list\n",
    "\n",
    "> <font color='#D61A46'> We notice that list search time increases as the index grows bigger. But the search speed is near constant for set </font>"
   ]
  },
  {
   "cell_type": "code",
   "execution_count": 263,
   "metadata": {},
   "outputs": [
    {
     "name": "stdout",
     "output_type": "stream",
     "text": [
      "1.31 s ± 243 ms per loop (mean ± std. dev. of 7 runs, 1 loop each)\n"
     ]
    }
   ],
   "source": [
    "%%timeit\n",
    "if 99999999 in my_list:\n",
    "    pass"
   ]
  },
  {
   "cell_type": "code",
   "execution_count": 264,
   "metadata": {},
   "outputs": [
    {
     "name": "stdout",
     "output_type": "stream",
     "text": [
      "62.2 ns ± 24.1 ns per loop (mean ± std. dev. of 7 runs, 1000000 loops each)\n"
     ]
    }
   ],
   "source": [
    "%%timeit\n",
    "if 99999999 in my_set:\n",
    "    pass"
   ]
  },
  {
   "cell_type": "markdown",
   "metadata": {},
   "source": [
    "---    \n",
    "# <a name=\"dictionary\"></a><font color='#347B98'> 4. Python Data Structure: Dictionary </font> <font size='3'>[Back to TOC](#toc-3)</font>\n",
    "    \n",
    "Python dictionary is an `unordered collection of items`. While other compound data types have only value as an element, a dictionary has a key: value pair.\n",
    "* Dictionaries are optimized to retrieve values when the key is known.\n",
    "\n",
    "## $\\Delta$ 4.1 Creating a dictionary\n",
    "\n",
    "Creating a dictionary is as simple as placing items inside ·curly braces {}· separated by comma.\n",
    "\n",
    "An item has a key and the corresponding value expressed as a pair, ·key: value·.\n",
    "\n",
    "While values can be of any data type and can repeat, keys must be of immutable type (string, number or tuple with immutable elements) and must be unique.\n"
   ]
  },
  {
   "cell_type": "markdown",
   "metadata": {},
   "source": [
    "### <font color='#FC7307'> Example 1 </font>"
   ]
  },
  {
   "cell_type": "code",
   "execution_count": 117,
   "metadata": {},
   "outputs": [],
   "source": [
    "# empty dictionary\n",
    "my_dictionary = {}"
   ]
  },
  {
   "cell_type": "code",
   "execution_count": 118,
   "metadata": {},
   "outputs": [
    {
     "name": "stdout",
     "output_type": "stream",
     "text": [
      "{1: 'apple', 2: 'ball'}\n"
     ]
    }
   ],
   "source": [
    "# dictionary with integer keys\n",
    "my_dictionary = {1: 'apple', 2: 'ball'}\n",
    "\n",
    "print(my_dictionary)"
   ]
  },
  {
   "cell_type": "code",
   "execution_count": 119,
   "metadata": {},
   "outputs": [
    {
     "name": "stdout",
     "output_type": "stream",
     "text": [
      "{1: [2, 4, 3], 'name': 'John'}\n"
     ]
    }
   ],
   "source": [
    "# dictionary with mixed keys\n",
    "my_dictionary = {'name': 'John', 1: [2, 4, 3]}\n",
    "\n",
    "print(my_dictionary)"
   ]
  },
  {
   "cell_type": "code",
   "execution_count": 120,
   "metadata": {},
   "outputs": [
    {
     "name": "stdout",
     "output_type": "stream",
     "text": [
      "{1: 'apple', 2: 'ball'}\n"
     ]
    }
   ],
   "source": [
    "# using dict()\n",
    "my_dictionary = dict({1:'apple', 2:'ball'})\n",
    "\n",
    "print(my_dictionary)"
   ]
  },
  {
   "cell_type": "code",
   "execution_count": 121,
   "metadata": {},
   "outputs": [
    {
     "name": "stdout",
     "output_type": "stream",
     "text": [
      "{1: 'apple', 2: 'ball'}\n"
     ]
    }
   ],
   "source": [
    "# from sequence having each item as a pair\n",
    "my_dictionary = dict([(1,'apple'), (2,'ball')])\n",
    "\n",
    "print(my_dictionary)"
   ]
  },
  {
   "cell_type": "markdown",
   "metadata": {},
   "source": [
    "### <font color='#FC7307'> Example 2 - Tweets JSON </font>\n",
    "* Loading dictionary from a JSON file"
   ]
  },
  {
   "cell_type": "code",
   "execution_count": 123,
   "metadata": {},
   "outputs": [],
   "source": [
    "import json\n",
    "tweet_json = open('./tweets_json.txt', 'r', encoding='utf-8')\n",
    "tweets = tweet_json.readlines()\n",
    "tweet_json.close()"
   ]
  },
  {
   "cell_type": "code",
   "execution_count": 124,
   "metadata": {},
   "outputs": [],
   "source": [
    "tweets"
   ]
  },
  {
   "cell_type": "code",
   "execution_count": 125,
   "metadata": {},
   "outputs": [
    {
     "data": {
      "text/plain": [
       "'{\"created_at\": \"2018-05-28 05:44:48\", \"id\": \"1000976161432719362\", \"text\": \"My @CanadianTire #AllStarDadJoke is: My son asked me if I could stop  singing Oasis lyrics in public all the time. I said maybe.....\", \"screen_name\": \"Dan Thompson\", \"geo\": \"\"}\\n'"
      ]
     },
     "execution_count": 125,
     "metadata": {},
     "output_type": "execute_result"
    }
   ],
   "source": [
    "tweets[0]"
   ]
  },
  {
   "cell_type": "code",
   "execution_count": 126,
   "metadata": {},
   "outputs": [
    {
     "data": {
      "text/plain": [
       "str"
      ]
     },
     "execution_count": 126,
     "metadata": {},
     "output_type": "execute_result"
    }
   ],
   "source": [
    "type(tweets[0])"
   ]
  },
  {
   "cell_type": "code",
   "execution_count": 127,
   "metadata": {},
   "outputs": [],
   "source": [
    "import json"
   ]
  },
  {
   "cell_type": "code",
   "execution_count": 128,
   "metadata": {},
   "outputs": [
    {
     "data": {
      "text/plain": [
       "{'created_at': '2018-05-28 05:44:48',\n",
       " 'geo': '',\n",
       " 'id': '1000976161432719362',\n",
       " 'screen_name': 'Dan Thompson',\n",
       " 'text': 'My @CanadianTire #AllStarDadJoke is: My son asked me if I could stop  singing Oasis lyrics in public all the time. I said maybe.....'}"
      ]
     },
     "execution_count": 128,
     "metadata": {},
     "output_type": "execute_result"
    }
   ],
   "source": [
    "json.loads(tweets[0])"
   ]
  },
  {
   "cell_type": "code",
   "execution_count": 129,
   "metadata": {},
   "outputs": [
    {
     "data": {
      "text/plain": [
       "dict"
      ]
     },
     "execution_count": 129,
     "metadata": {},
     "output_type": "execute_result"
    }
   ],
   "source": [
    "type(json.loads(tweets[0]))"
   ]
  },
  {
   "cell_type": "markdown",
   "metadata": {},
   "source": [
    "## $\\Delta$ 4.2 Accessing a dictionary"
   ]
  },
  {
   "cell_type": "code",
   "execution_count": 130,
   "metadata": {},
   "outputs": [],
   "source": [
    "import json\n",
    "tweet_json = open('./tweets_json.txt', 'r', encoding='utf-8')\n",
    "tweets = tweet_json.readlines()\n",
    "tweet_json.close()"
   ]
  },
  {
   "cell_type": "code",
   "execution_count": 131,
   "metadata": {},
   "outputs": [
    {
     "data": {
      "text/plain": [
       "'{\"created_at\": \"2018-05-28 05:44:48\", \"id\": \"1000976161432719362\", \"text\": \"My @CanadianTire #AllStarDadJoke is: My son asked me if I could stop  singing Oasis lyrics in public all the time. I said maybe.....\", \"screen_name\": \"Dan Thompson\", \"geo\": \"\"}\\n'"
      ]
     },
     "execution_count": 131,
     "metadata": {},
     "output_type": "execute_result"
    }
   ],
   "source": [
    "tweets[0]"
   ]
  },
  {
   "cell_type": "code",
   "execution_count": 132,
   "metadata": {},
   "outputs": [],
   "source": [
    "tweet0 = json.loads(tweets[0])"
   ]
  },
  {
   "cell_type": "code",
   "execution_count": 133,
   "metadata": {},
   "outputs": [
    {
     "data": {
      "text/plain": [
       "dict_keys(['screen_name', 'id', 'geo', 'text', 'created_at'])"
      ]
     },
     "execution_count": 133,
     "metadata": {},
     "output_type": "execute_result"
    }
   ],
   "source": [
    "tweet0.keys()"
   ]
  },
  {
   "cell_type": "code",
   "execution_count": 134,
   "metadata": {},
   "outputs": [
    {
     "data": {
      "text/plain": [
       "'2018-05-28 05:44:48'"
      ]
     },
     "execution_count": 134,
     "metadata": {},
     "output_type": "execute_result"
    }
   ],
   "source": [
    "tweet0['created_at']"
   ]
  },
  {
   "cell_type": "code",
   "execution_count": 135,
   "metadata": {},
   "outputs": [
    {
     "data": {
      "text/plain": [
       "'My @CanadianTire #AllStarDadJoke is: My son asked me if I could stop  singing Oasis lyrics in public all the time. I said maybe.....'"
      ]
     },
     "execution_count": 135,
     "metadata": {},
     "output_type": "execute_result"
    }
   ],
   "source": [
    "tweet0['text']"
   ]
  },
  {
   "cell_type": "markdown",
   "metadata": {},
   "source": [
    "### Get a list of all users"
   ]
  },
  {
   "cell_type": "code",
   "execution_count": 136,
   "metadata": {},
   "outputs": [],
   "source": [
    "usernames = []\n",
    "\n",
    "for tweet in tweets:\n",
    "    tweet_dict = json.loads(tweet)\n",
    "    usernames.append(tweet_dict['screen_name'])"
   ]
  },
  {
   "cell_type": "code",
   "execution_count": 137,
   "metadata": {},
   "outputs": [
    {
     "data": {
      "text/plain": [
       "500"
      ]
     },
     "execution_count": 137,
     "metadata": {},
     "output_type": "execute_result"
    }
   ],
   "source": [
    "len(usernames)"
   ]
  },
  {
   "cell_type": "code",
   "execution_count": 138,
   "metadata": {},
   "outputs": [
    {
     "data": {
      "text/plain": [
       "['Dan Thompson',\n",
       " 'BC Wheelchair Bball',\n",
       " 'Devon Stearns',\n",
       " 'Good Russian Orthodox Cat Girl(boy)',\n",
       " 'g',\n",
       " 'Brooke Battaglin',\n",
       " '0206tita',\n",
       " 'HealthandBeautyGirl',\n",
       " 'Abi To',\n",
       " 'ad2oke',\n",
       " 'Steve Yanover',\n",
       " 'Abi To',\n",
       " 'Nathan Mackie',\n",
       " 'Steve Cooke',\n",
       " 'Starry_Staz',\n",
       " 'Starry_Staz',\n",
       " 'Catgirl33',\n",
       " 'Breanna Stangeland',\n",
       " 'whateva 〽aine',\n",
       " 'Amelia Clarke',\n",
       " 'Rachel R',\n",
       " 'Eva',\n",
       " 'Amelia Clarke',\n",
       " 'Rachel R',\n",
       " 'JCStew',\n",
       " 'Manuel Vizcaya',\n",
       " 'Vincent Iozzo',\n",
       " 'Lyn',\n",
       " 'Adam Rivers',\n",
       " 'Meagan',\n",
       " 'josie',\n",
       " 'Danielle Koehler',\n",
       " 'Fred',\n",
       " 'Brian Hwang',\n",
       " 'K a t i e',\n",
       " 'Nate Hiltz',\n",
       " 'Mac',\n",
       " 'Aliya D',\n",
       " 'Alli G',\n",
       " 'Nicholas Mitchell',\n",
       " 'Jason Fleming',\n",
       " 'Katie Chartrand',\n",
       " 'Marcel de Hêtre',\n",
       " 'Justin Lockhart',\n",
       " 'Steve',\n",
       " 'Travis Belleau 🎮',\n",
       " 'JB sparrow',\n",
       " 'Alex McLean',\n",
       " 'Alicia Price',\n",
       " 'Noelle',\n",
       " 'Big Meal',\n",
       " 'Big Meal',\n",
       " 'J.C. Hannigan',\n",
       " 'Helen Liang',\n",
       " 'Helen Liang',\n",
       " 'Helen Liang',\n",
       " 'Helen Liang',\n",
       " 'Helen Liang',\n",
       " 'Anthony',\n",
       " 'Helen Liang',\n",
       " 'Gerry Paille',\n",
       " 'Dan Kennedy',\n",
       " 'Jason hansen',\n",
       " '« ODJ »',\n",
       " 'Morris Elfenbaum',\n",
       " 'Eric',\n",
       " 'Jeremy Fister',\n",
       " 'Jocelyn Lehman',\n",
       " 'Alien',\n",
       " '¯\\\\_(ツ)_/¯',\n",
       " 'Ms. Howard',\n",
       " 'Amber Bertling',\n",
       " 'Mark Dionne',\n",
       " 'JB sparrow',\n",
       " 'Emily Bain',\n",
       " 'KG Contest share',\n",
       " 'Deborah C',\n",
       " 'Kira',\n",
       " 'Lindsay',\n",
       " 'Ang',\n",
       " 'Ang',\n",
       " 'Ang',\n",
       " 'Drix',\n",
       " 'Rob Shubaly',\n",
       " 'Majin Gir',\n",
       " 'James Swartz',\n",
       " 'bladegod',\n",
       " 'G m',\n",
       " 'Jeremy Gillam',\n",
       " 'Alain Lambert',\n",
       " 'Canadian Tire',\n",
       " 'EastCoastMama',\n",
       " 'Kris Mychasiw',\n",
       " 'Sharilyn',\n",
       " 'Cheryl Germain',\n",
       " 'Leanne',\n",
       " 'Amanda Williams',\n",
       " 'Duane Doupe️ 🇨🇦🏳️\\u200d🌈',\n",
       " 'Duane Doupe️ 🇨🇦🏳️\\u200d🌈',\n",
       " 'Erika Rowe',\n",
       " 'Lisa E',\n",
       " 'BTC',\n",
       " 'Cory ChaulK',\n",
       " 'Jesse A. Fraser',\n",
       " 'Keith The Hawk',\n",
       " 'Shaz',\n",
       " 'dani alejandra',\n",
       " 'REiz',\n",
       " 'Laurie Sarkadi',\n",
       " 'Canadian Tire',\n",
       " 'K Critchley',\n",
       " 'Mike Mottishaw',\n",
       " 'Ethan Black',\n",
       " 'Paul karas',\n",
       " 'SueeffitStevens',\n",
       " 'Sarah Merrick',\n",
       " 'Kyle McCrea',\n",
       " 'Tebo Samaniego',\n",
       " 'Bobby Umar | Keynote Speaker',\n",
       " \"Emmett's ABCs\",\n",
       " 'Bobby Umar | Keynote Speaker',\n",
       " 'Happy Dancer',\n",
       " 'SarahJFerg',\n",
       " 'theroyalfdn',\n",
       " 'Canadian Tire',\n",
       " 'Helen Liang',\n",
       " 'brodaho',\n",
       " 'Blair Qualey',\n",
       " 'Jacob Fluter',\n",
       " 'Cathy Portt',\n",
       " 'George W Park',\n",
       " 'Vanessa Ricci',\n",
       " 'rhonda',\n",
       " 'Big Meal',\n",
       " 'NerdWordApparel',\n",
       " 'nikkiss',\n",
       " 'Ryan Gass',\n",
       " 'Bradley Ronald',\n",
       " 'ChuckCanada',\n",
       " 'Canadian Tire',\n",
       " 'Patrik Darabont',\n",
       " 'RCX',\n",
       " 'Renee Lee',\n",
       " 'Theresa Tahara',\n",
       " 'james morrow',\n",
       " 'Cole Fletcher-Jules',\n",
       " 'Tara L',\n",
       " 'Shaz',\n",
       " 'Nemanja Vujović',\n",
       " 'Tracy McKinnon',\n",
       " 'Richard May',\n",
       " 'm boule',\n",
       " 'K Augusta',\n",
       " 'm boule',\n",
       " 'm boule',\n",
       " 'Amy Heffernan',\n",
       " 'Shannon Quinn',\n",
       " 'Elaine Paul',\n",
       " 'Matt Morton',\n",
       " 'Chris Noor Campaign',\n",
       " 'Nickolai Rolheisov',\n",
       " 'Penny',\n",
       " 'Fasano Pie Company',\n",
       " 'Canadian Tire',\n",
       " 'Fire-ED Community',\n",
       " 'J.C. Hannigan',\n",
       " 'Elizabeth V',\n",
       " '👑Amanda Granata👑',\n",
       " 'Canadian Tire',\n",
       " 'Wayne Power',\n",
       " 'Nancy Popovich',\n",
       " 'Kristie✨',\n",
       " 'JWard',\n",
       " 'Denise Jackson',\n",
       " 'Denise Jackson',\n",
       " 'Susan',\n",
       " 'gnomeoffender',\n",
       " 'Andrea Wakelin',\n",
       " 'DICKY',\n",
       " 'Trevor',\n",
       " 'Alaynelangford 🇨🇦',\n",
       " 'Amy R',\n",
       " 'Alana',\n",
       " 'Jasmin Rebeiro',\n",
       " 'Veronica Edelman',\n",
       " 'Luis Villavicencio',\n",
       " 'Richard Lee',\n",
       " 'Ryan Fujimoto',\n",
       " 'Beef',\n",
       " 'Mrs. Brough',\n",
       " 'Mrs. Brough',\n",
       " 'Prince Charles-B',\n",
       " 'Garry Duke',\n",
       " 'Ronnie Sweeney',\n",
       " 'Lynnette',\n",
       " 'Ryan Rumball',\n",
       " 'Patrick Farrants',\n",
       " 'Lucia Marques',\n",
       " 'Xavier Kleinermann',\n",
       " 'Sunny',\n",
       " 'Lou Divitcoff',\n",
       " 'Christopher Simon',\n",
       " 'Tansy',\n",
       " 'Alien',\n",
       " 'Benjamin Wilson',\n",
       " 'Tracey Gall',\n",
       " 'Meghan McGonagle',\n",
       " 'Canadian Tire',\n",
       " 'Jenny',\n",
       " '☮♥️ Paula W  ツ',\n",
       " 'Carol Lynne',\n",
       " 'Chantelle Andrews',\n",
       " 'kate',\n",
       " 'James Dunn',\n",
       " 'Lauren',\n",
       " 'D Pop',\n",
       " 'bladegod',\n",
       " 'bladegod',\n",
       " 'dayton hill',\n",
       " 'Paige 🇨🇦',\n",
       " 'Robert Tailleur',\n",
       " 'Sondra Borden',\n",
       " 'You know who',\n",
       " 'Joey',\n",
       " 'matt',\n",
       " 'Slappa',\n",
       " 'Wendy Sears',\n",
       " 'Michelle',\n",
       " 'ASAD USMANI',\n",
       " 'Natalie M',\n",
       " 'Andrea van Vugt',\n",
       " 'Ottawa Paw Pantry',\n",
       " 'John Harkiolakis',\n",
       " 'ObiWanNadobi',\n",
       " 'trevor tompkins',\n",
       " 'shannon',\n",
       " 'Oliviaclow',\n",
       " 'Oliviaclow',\n",
       " 'Gino LaMangia',\n",
       " 'Rebecca R',\n",
       " 'HappyGoLuckyGrace',\n",
       " 'Jaimie Montgomery',\n",
       " 'Katrin',\n",
       " 'Tyler',\n",
       " 'Wyatt Kemball',\n",
       " 'Srdjan Soso',\n",
       " 'Wyatt Kemball',\n",
       " 'BïgPïtâ 🙈',\n",
       " 'CANADA',\n",
       " 'Shannon Heyman',\n",
       " 'Rachel',\n",
       " 'Clay Connor',\n",
       " 'Sylvain Simard',\n",
       " 'Lance Beauparlant',\n",
       " 'Corinne Napier',\n",
       " 'KJ',\n",
       " 'Maryanne',\n",
       " 'Maryanne',\n",
       " 'Emily Chessell',\n",
       " 'Jack Daniel',\n",
       " 'Jean-Pierre Leboeuf',\n",
       " 'Amanda Lorbetski',\n",
       " 'Russ Holland',\n",
       " 'Brandon Nickel',\n",
       " 'Pelham Panthers Minor Hockey',\n",
       " 'Elcid Barrett',\n",
       " 'Liam Burke',\n",
       " 'Culpana Group',\n",
       " 'Benoit Huot',\n",
       " 'Mario',\n",
       " 'FireFrons',\n",
       " 'Douglas Randell',\n",
       " 'Elyse V',\n",
       " 'Elyse V',\n",
       " 'Lance Beauparlant',\n",
       " 'Jeff Smith',\n",
       " 'Milan',\n",
       " 'Ottawa Tool Library',\n",
       " 'Oldies 100.9',\n",
       " 'Mr. Darling',\n",
       " 'Tania Sterling, Ed D',\n",
       " 'Mr. Murphy',\n",
       " 'ChiHockey1013',\n",
       " 'Nuhbraskuh',\n",
       " 'Pierre le Houte',\n",
       " 'The Albion Centre',\n",
       " 'Jumpstart',\n",
       " 'Jumpstart',\n",
       " 'ScottSchram',\n",
       " 'OneAbility',\n",
       " 'Do The Daniel',\n",
       " 'S.M.',\n",
       " 'David Cropp',\n",
       " 'Lori',\n",
       " 'Lurk 🇨🇦🎮',\n",
       " 'Nathan',\n",
       " 'Nathan',\n",
       " 'Back Nine Brewing',\n",
       " 'Island Prostate Cent',\n",
       " 'Yann Le Borgne',\n",
       " 'Bridget Howe',\n",
       " 'Kamloops YMCA-YWCA',\n",
       " 'Pelham Panthers Minor Hockey',\n",
       " 'Tim Bennett',\n",
       " 'CC',\n",
       " 'Don Spinks',\n",
       " 'zoya f.',\n",
       " 'Josh',\n",
       " 'Ryan',\n",
       " 'Nicole',\n",
       " 'Len C',\n",
       " 'Stephane Frenette',\n",
       " 'Jack.',\n",
       " 'Kev',\n",
       " 'Taran Lihaven',\n",
       " 'CPL Punishment🙉🙈',\n",
       " 'Kamscan',\n",
       " 'Prince Charles-B',\n",
       " 'Kamloops YMCA-YWCA',\n",
       " 'Canadian Tire',\n",
       " 'Vieira',\n",
       " 'BADDFXSH',\n",
       " 'Vieira',\n",
       " 'Aaron Lavado',\n",
       " 'Devon Geiger',\n",
       " 'Paul R Borthwick',\n",
       " 'Devon Geiger',\n",
       " 'Devon Geiger',\n",
       " 'matthew beardsley',\n",
       " 'Brian Smith',\n",
       " 'Bicycle Seen 🌤️🚴',\n",
       " 'Brian Smith',\n",
       " 'Green Team BC',\n",
       " 'James Brown',\n",
       " 'James Brown',\n",
       " 'Alison Pardy',\n",
       " 'Alison Pardy',\n",
       " 'Rob Annan',\n",
       " 'Alexander Galant',\n",
       " 'Bill Trot',\n",
       " 'michel belleau',\n",
       " 'Tammy J Clifford',\n",
       " 'Robert Doane',\n",
       " 'Brooke 💫',\n",
       " 'QEH Foundation',\n",
       " 'Pierre le Houte',\n",
       " 'J. C. Brown',\n",
       " 'GRC Prince George',\n",
       " 'Prince George RCMP',\n",
       " 'reilly the positive sign girl',\n",
       " 'Rob Graham',\n",
       " 'Bevan Enterprises',\n",
       " 'A-A Ron!!!',\n",
       " 'L.A Bowden',\n",
       " 'Tannik’s Keepsakes',\n",
       " 'realSteveSchindler',\n",
       " 'George Maclagan',\n",
       " 'Bryan Stewart',\n",
       " 'Mark Morrissey',\n",
       " 'Marco Selvaggi',\n",
       " 'blythe',\n",
       " 'blythe',\n",
       " 'Mark Hanson',\n",
       " '(Miss) Edie the Pug',\n",
       " 'Ross',\n",
       " 'Mark Hanson',\n",
       " 'Ned',\n",
       " 'Hannah🎈',\n",
       " 'PJXM News',\n",
       " 'Chris “Minister of Smartarsery”',\n",
       " '(Miss) Edie the Pug',\n",
       " 'Emma Dailey',\n",
       " 'Pierre Ladouceur',\n",
       " 'Paul Foote',\n",
       " 'Mike',\n",
       " 'Jennifer Kimball',\n",
       " 'Lana Collins ABC, MC',\n",
       " 'Jumpstart',\n",
       " 'Jumpstart',\n",
       " 'Jumpstart',\n",
       " 'Bruce Ideson',\n",
       " 'Don Spinks',\n",
       " 'DJ Egun',\n",
       " 'Tim Bennett',\n",
       " 'Robert Doane',\n",
       " 'Big Country 93.1',\n",
       " 'Lorenzo Cabason',\n",
       " 'Erika Komori',\n",
       " 'Randall Sharp',\n",
       " 'Ethan Black',\n",
       " 'GRC Prince George',\n",
       " 'Prince George RCMP',\n",
       " 'Paul Foote',\n",
       " 'Ericka Beckman',\n",
       " 'Uxbridge Hort Soc',\n",
       " 'Cody Tylers',\n",
       " 'Graham Johnston',\n",
       " 'Kakwxo',\n",
       " 'ServiceMaster PEI',\n",
       " 'Demerits Targaryen',\n",
       " 'Kristyn Coley',\n",
       " \"Spock's Nephew\",\n",
       " '℃ β⊙δ',\n",
       " 'Sébastien Benoit',\n",
       " '⚠️Niagara 411 News⚠️',\n",
       " 'Ontario Junior B Lax',\n",
       " 'The Rock NL',\n",
       " 'sean binns',\n",
       " 'HockeyNutCanuck',\n",
       " 'Brian',\n",
       " 'L.A Bowden',\n",
       " 'Welland Generals',\n",
       " 'Canadian Tire',\n",
       " 'Welland Jr Canadians',\n",
       " 'Nick Philbin⚾️',\n",
       " 'Canadian Tire',\n",
       " '99MamaBear 🕯',\n",
       " 'Canadian Tire',\n",
       " 'Mark Malloch',\n",
       " 'QuestionForAll',\n",
       " 'Welland Firefighters',\n",
       " 'ERL Callbeck',\n",
       " 'Alik D',\n",
       " 'WheelchairTennis CAN',\n",
       " 'Rob Hamilton',\n",
       " 'Paul Childerhose',\n",
       " 'Marleigh Leaman',\n",
       " 'Canadian Tire',\n",
       " 'Canadian Tire',\n",
       " 'Canadian Tire',\n",
       " 'Phil X',\n",
       " 'David Dunphy',\n",
       " 'Hawkey Fan',\n",
       " 'SuMo',\n",
       " '사라',\n",
       " 'Shane Beals',\n",
       " 'SPRINGBOX',\n",
       " 'Teresa Martin',\n",
       " 'QEH Foundation',\n",
       " 'zo',\n",
       " 'Andrew Hall',\n",
       " 'Downhome Publishing',\n",
       " 'Downhome Publishing',\n",
       " 'Janice Stuckless',\n",
       " 'Janice Stuckless',\n",
       " 'Sue Vecchione',\n",
       " 'Canadian Tire',\n",
       " 'Brian Ellsworth',\n",
       " 'Canadian Tire',\n",
       " 'Justin Welch',\n",
       " 'blythe',\n",
       " 'Watercolors4U',\n",
       " \"Kiki's Keys\",\n",
       " 'Eric Mack',\n",
       " 'Madeline Grabowski',\n",
       " '℃ β⊙δ',\n",
       " 'Canadian Tire',\n",
       " 'Canadian Tire',\n",
       " 'ashley everett',\n",
       " 'Hande Bilhan',\n",
       " 'Benoit Huot',\n",
       " 'Shauna Quinn',\n",
       " 'A Bassingthwaighte',\n",
       " \"IT'S OFFSZN, HAWKS FAM! — News & player sightings!\",\n",
       " 'Lisa Mason',\n",
       " 'Cheshire',\n",
       " 'Zach',\n",
       " 'Daniel Miller',\n",
       " 'Emma Walpole',\n",
       " 'Andrew Pepper',\n",
       " 'FabFowers',\n",
       " 'Natalie',\n",
       " 'Margarida Domingos',\n",
       " 'Leonard McAuliffe',\n",
       " 'Sleeps To Go',\n",
       " 'Ashley #reptourtampa🐍',\n",
       " 'Hockey Calgary',\n",
       " 'Hockey Calgary',\n",
       " 'Hockey Calgary',\n",
       " 'Frank',\n",
       " 'Hockey Calgary',\n",
       " 'Meghan',\n",
       " 'Meghan',\n",
       " 'KissedByFire',\n",
       " 'LandlordSuccess',\n",
       " 'Lolo | 🏒',\n",
       " 'caps year!!!',\n",
       " 'Jones',\n",
       " 'JustinTheSpace2',\n",
       " '⭐️ 🌷Bibi 🌷⭐️',\n",
       " 'YV',\n",
       " 'YV',\n",
       " 'Adam Newton',\n",
       " 'e - Carlo Perez🏒',\n",
       " 'Common Mann',\n",
       " 'Tara Fillion',\n",
       " 'Rebecca Paradis',\n",
       " 'Paul Ryan MacKenzie',\n",
       " 'Carlene S',\n",
       " 'jim hamilton']"
      ]
     },
     "execution_count": 138,
     "metadata": {},
     "output_type": "execute_result"
    }
   ],
   "source": [
    "usernames"
   ]
  },
  {
   "cell_type": "code",
   "execution_count": 139,
   "metadata": {},
   "outputs": [
    {
     "data": {
      "text/plain": [
       "415"
      ]
     },
     "execution_count": 139,
     "metadata": {},
     "output_type": "execute_result"
    }
   ],
   "source": [
    "len(set(usernames))"
   ]
  },
  {
   "cell_type": "markdown",
   "metadata": {},
   "source": [
    "## $\\Delta$ 4.3 Changing a dictionary\n"
   ]
  },
  {
   "cell_type": "markdown",
   "metadata": {},
   "source": [
    "### Modify a dictionary item"
   ]
  },
  {
   "cell_type": "code",
   "execution_count": 140,
   "metadata": {},
   "outputs": [],
   "source": [
    "import json\n",
    "tweet_json = open('./tweets_json.txt', 'r', encoding='utf-8')\n",
    "tweets = tweet_json.readlines()\n",
    "tweet_json.close()"
   ]
  },
  {
   "cell_type": "code",
   "execution_count": 141,
   "metadata": {},
   "outputs": [],
   "source": [
    "tweet0 = json.loads(tweets[0])"
   ]
  },
  {
   "cell_type": "code",
   "execution_count": 142,
   "metadata": {},
   "outputs": [
    {
     "data": {
      "text/plain": [
       "{'created_at': '2018-05-28 05:44:48',\n",
       " 'geo': '',\n",
       " 'id': '1000976161432719362',\n",
       " 'screen_name': 'Dan Thompson',\n",
       " 'text': 'My @CanadianTire #AllStarDadJoke is: My son asked me if I could stop  singing Oasis lyrics in public all the time. I said maybe.....'}"
      ]
     },
     "execution_count": 142,
     "metadata": {},
     "output_type": "execute_result"
    }
   ],
   "source": [
    "tweet0"
   ]
  },
  {
   "cell_type": "code",
   "execution_count": 143,
   "metadata": {},
   "outputs": [
    {
     "data": {
      "text/plain": [
       "dict_keys(['screen_name', 'id', 'geo', 'text', 'created_at'])"
      ]
     },
     "execution_count": 143,
     "metadata": {},
     "output_type": "execute_result"
    }
   ],
   "source": [
    "tweet0.keys()"
   ]
  },
  {
   "cell_type": "markdown",
   "metadata": {},
   "source": [
    "### Remove an item"
   ]
  },
  {
   "cell_type": "code",
   "execution_count": 144,
   "metadata": {},
   "outputs": [
    {
     "data": {
      "text/plain": [
       "{'created_at': '2018-05-28 05:44:48',\n",
       " 'geo': '',\n",
       " 'screen_name': 'Dan Thompson',\n",
       " 'text': 'My @CanadianTire #AllStarDadJoke is: My son asked me if I could stop  singing Oasis lyrics in public all the time. I said maybe.....'}"
      ]
     },
     "execution_count": 144,
     "metadata": {},
     "output_type": "execute_result"
    }
   ],
   "source": [
    "tweet0.pop('id')\n",
    "tweet0"
   ]
  },
  {
   "cell_type": "code",
   "execution_count": 145,
   "metadata": {},
   "outputs": [
    {
     "data": {
      "text/plain": [
       "dict_keys(['screen_name', 'geo', 'text', 'created_at'])"
      ]
     },
     "execution_count": 145,
     "metadata": {},
     "output_type": "execute_result"
    }
   ],
   "source": [
    "tweet0.keys()"
   ]
  },
  {
   "cell_type": "code",
   "execution_count": 146,
   "metadata": {},
   "outputs": [
    {
     "data": {
      "text/plain": [
       "{'created_at': '2018-05-28 05:44:48',\n",
       " 'geo': '',\n",
       " 'text': 'My @CanadianTire #AllStarDadJoke is: My son asked me if I could stop  singing Oasis lyrics in public all the time. I said maybe.....'}"
      ]
     },
     "execution_count": 146,
     "metadata": {},
     "output_type": "execute_result"
    }
   ],
   "source": [
    "tweet0.popitem()\n",
    "tweet0"
   ]
  },
  {
   "cell_type": "code",
   "execution_count": 147,
   "metadata": {},
   "outputs": [
    {
     "ename": "KeyError",
     "evalue": "'screen_name'",
     "output_type": "error",
     "traceback": [
      "\u001b[0;31m---------------------------------------------------------------------------\u001b[0m",
      "\u001b[0;31mKeyError\u001b[0m                                  Traceback (most recent call last)",
      "\u001b[0;32m<ipython-input-147-5fe4ac34e4a8>\u001b[0m in \u001b[0;36m<module>\u001b[0;34m\u001b[0m\n\u001b[0;32m----> 1\u001b[0;31m \u001b[0;32mdel\u001b[0m \u001b[0mtweet0\u001b[0m\u001b[0;34m[\u001b[0m\u001b[0;34m'screen_name'\u001b[0m\u001b[0;34m]\u001b[0m\u001b[0;34m\u001b[0m\u001b[0m\n\u001b[0m\u001b[1;32m      2\u001b[0m \u001b[0mtweet0\u001b[0m\u001b[0;34m\u001b[0m\u001b[0m\n",
      "\u001b[0;31mKeyError\u001b[0m: 'screen_name'"
     ]
    }
   ],
   "source": [
    "del tweet0['screen_name']\n",
    "tweet0"
   ]
  },
  {
   "cell_type": "markdown",
   "metadata": {},
   "source": [
    "### Clear a dictioanry"
   ]
  },
  {
   "cell_type": "code",
   "execution_count": 148,
   "metadata": {},
   "outputs": [],
   "source": [
    "tweet0.clear()"
   ]
  },
  {
   "cell_type": "code",
   "execution_count": 149,
   "metadata": {},
   "outputs": [
    {
     "data": {
      "text/plain": [
       "dict_items([])"
      ]
     },
     "execution_count": 149,
     "metadata": {},
     "output_type": "execute_result"
    }
   ],
   "source": [
    "tweet0.items()"
   ]
  },
  {
   "cell_type": "markdown",
   "metadata": {},
   "source": [
    "## $\\Delta$ 4.5 Dictionary Methods\n",
    "\n",
    "> `clear()`\tRemove all items form the dictionary. \n",
    "\n",
    "> `copy()`\tReturn a shallow copy of the dictionary.  \n",
    "\n",
    "> `fromkeys(seq[, v])`\tReturn a new dictionary with keys from seq and value equal to v (defaults to None).  \n",
    "\n",
    "> `get(key[,d])`\tReturn the value of key. If key doesnot exit, return d (defaults to None).  \n",
    "\n",
    "> `items()`\tReturn a new view of the dictionary's items (key, value).  \n",
    "\n",
    "> `keys()`\tReturn a new view of the dictionary's keys.  \n",
    "\n",
    "> `pop(key[,d])`\tRemove the item with key and return its value or d if key is not found. If d is not provided and key is not found, raises KeyError.  \n",
    "\n",
    "> `popitem()`\tRemove and return an arbitary item (key, value). Raises KeyError if the dictionary is empty.  \n",
    "\n",
    "> `setdefault(key[,d])`\tIf key is in the dictionary, return its value. If not, insert key with a value of d and return d (defaults to None).  \n",
    "\n",
    "> `update([other])`\tUpdate the dictionary with the key/value pairs from other, overwriting existing keys.  \n",
    "\n",
    "> `values()`\tReturn a new view of the dictionary's values"
   ]
  },
  {
   "cell_type": "markdown",
   "metadata": {},
   "source": [
    "### Get a list of keys of a dictionary with `keys()`"
   ]
  },
  {
   "cell_type": "code",
   "execution_count": 150,
   "metadata": {},
   "outputs": [],
   "source": [
    "import json\n",
    "tweet_json = open('./tweets_json.txt', 'r', encoding='utf-8')\n",
    "tweets = tweet_json.readlines()\n",
    "tweet_json.close()\n",
    "\n",
    "tweet0 = json.loads(tweets[0])"
   ]
  },
  {
   "cell_type": "code",
   "execution_count": 151,
   "metadata": {},
   "outputs": [
    {
     "name": "stdout",
     "output_type": "stream",
     "text": [
      "dict_keys(['screen_name', 'id', 'geo', 'text', 'created_at'])\n"
     ]
    }
   ],
   "source": [
    "tweet_keys = tweet0.keys()\n",
    "print(tweet_keys)"
   ]
  },
  {
   "cell_type": "markdown",
   "metadata": {},
   "source": [
    "### Get a list of values of a dictionary with `values()`"
   ]
  },
  {
   "cell_type": "code",
   "execution_count": 152,
   "metadata": {},
   "outputs": [
    {
     "name": "stdout",
     "output_type": "stream",
     "text": [
      "dict_values(['Dan Thompson', '1000976161432719362', '', 'My @CanadianTire #AllStarDadJoke is: My son asked me if I could stop  singing Oasis lyrics in public all the time. I said maybe.....', '2018-05-28 05:44:48'])\n"
     ]
    }
   ],
   "source": [
    "tweet_values = tweet0.values()\n",
    "print(tweet_values)"
   ]
  },
  {
   "cell_type": "markdown",
   "metadata": {},
   "source": [
    "### <font color='559E54'> Converting a list of keys and a list of values to a dictionary </font>"
   ]
  },
  {
   "cell_type": "code",
   "execution_count": 153,
   "metadata": {},
   "outputs": [
    {
     "data": {
      "text/plain": [
       "{'created_at': '2018-05-28 05:44:48',\n",
       " 'geo': '',\n",
       " 'id': '1000976161432719362',\n",
       " 'screen_name': 'Dan Thompson',\n",
       " 'text': 'My @CanadianTire #AllStarDadJoke is: My son asked me if I could stop  singing Oasis lyrics in public all the time. I said maybe.....'}"
      ]
     },
     "execution_count": 153,
     "metadata": {},
     "output_type": "execute_result"
    }
   ],
   "source": [
    "tweet = dict(zip(tweet_keys, tweet_values))\n",
    "tweet"
   ]
  },
  {
   "cell_type": "markdown",
   "metadata": {},
   "source": [
    "## $\\Delta$ 4.6 Dictionary Membership\n"
   ]
  },
  {
   "cell_type": "code",
   "execution_count": 154,
   "metadata": {},
   "outputs": [
    {
     "data": {
      "text/plain": [
       "{'created_at': '2018-05-28 05:44:48',\n",
       " 'geo': '',\n",
       " 'id': '1000976161432719362',\n",
       " 'screen_name': 'Dan Thompson',\n",
       " 'text': 'My @CanadianTire #AllStarDadJoke is: My son asked me if I could stop  singing Oasis lyrics in public all the time. I said maybe.....'}"
      ]
     },
     "execution_count": 154,
     "metadata": {},
     "output_type": "execute_result"
    }
   ],
   "source": [
    "tweet0"
   ]
  },
  {
   "cell_type": "code",
   "execution_count": 155,
   "metadata": {},
   "outputs": [],
   "source": [
    "if 'mentions' not in tweet0:\n",
    "    tweet0['mentions'] = ['@CanadianTire']"
   ]
  },
  {
   "cell_type": "code",
   "execution_count": 156,
   "metadata": {},
   "outputs": [
    {
     "data": {
      "text/plain": [
       "{'created_at': '2018-05-28 05:44:48',\n",
       " 'geo': '',\n",
       " 'id': '1000976161432719362',\n",
       " 'mentions': ['@CanadianTire'],\n",
       " 'screen_name': 'Dan Thompson',\n",
       " 'text': 'My @CanadianTire #AllStarDadJoke is: My son asked me if I could stop  singing Oasis lyrics in public all the time. I said maybe.....'}"
      ]
     },
     "execution_count": 156,
     "metadata": {},
     "output_type": "execute_result"
    }
   ],
   "source": [
    "tweet0"
   ]
  },
  {
   "cell_type": "code",
   "execution_count": 157,
   "metadata": {},
   "outputs": [
    {
     "data": {
      "text/plain": [
       "False"
      ]
     },
     "execution_count": 157,
     "metadata": {},
     "output_type": "execute_result"
    }
   ],
   "source": [
    "'url' in tweet0"
   ]
  },
  {
   "cell_type": "code",
   "execution_count": 158,
   "metadata": {},
   "outputs": [
    {
     "data": {
      "text/plain": [
       "True"
      ]
     },
     "execution_count": 158,
     "metadata": {},
     "output_type": "execute_result"
    }
   ],
   "source": [
    "'id' in tweet0"
   ]
  },
  {
   "cell_type": "markdown",
   "metadata": {},
   "source": [
    "## $\\Delta$ 4.7 Dictionary Comrephension\n",
    "\n",
    "Dictionary comprehension is an elegant and concise way to create new dictionary from an iterable in Python.\n",
    "> Dictionary comprehension consists of an expression pair `(key: value)` followed by for statement inside curly braces {}.\n",
    "\n"
   ]
  },
  {
   "cell_type": "markdown",
   "metadata": {},
   "source": [
    "### <font color='#FC7307'> Example 1 </font>"
   ]
  },
  {
   "cell_type": "code",
   "execution_count": 159,
   "metadata": {},
   "outputs": [
    {
     "data": {
      "text/plain": [
       "[0, 1, 4, 9, 16, 25]"
      ]
     },
     "execution_count": 159,
     "metadata": {},
     "output_type": "execute_result"
    }
   ],
   "source": [
    "squares_list = [x**2 for x in range(6)]\n",
    "squares_list"
   ]
  },
  {
   "cell_type": "code",
   "execution_count": 160,
   "metadata": {},
   "outputs": [
    {
     "name": "stdout",
     "output_type": "stream",
     "text": [
      "{0: 0, 1: 1, 2: 4, 3: 9, 4: 16, 5: 25}\n"
     ]
    }
   ],
   "source": [
    "squares = {x: x**2 for x in range(6)}\n",
    "\n",
    "print(squares)"
   ]
  },
  {
   "cell_type": "markdown",
   "metadata": {},
   "source": [
    "### <font color='#FC7307'> Example 2</font>"
   ]
  },
  {
   "cell_type": "code",
   "execution_count": 162,
   "metadata": {},
   "outputs": [],
   "source": [
    "keys = ['participants', 'client', 'vendor', 'courses']\n",
    "values = [('Gui','James','Lisa','Allen'), 'sunlife','wcd',['python','ds','machine learning','big data']]"
   ]
  },
  {
   "cell_type": "code",
   "execution_count": 163,
   "metadata": {},
   "outputs": [],
   "source": [
    "ds_training_dict = {keys[i] : values[i] for i in range(len(keys))}"
   ]
  },
  {
   "cell_type": "code",
   "execution_count": 164,
   "metadata": {},
   "outputs": [
    {
     "data": {
      "text/plain": [
       "{'client': 'sunlife',\n",
       " 'courses': ['python', 'ds', 'machine learning', 'big data'],\n",
       " 'participants': ('Gui', 'James', 'Lisa', 'Allen'),\n",
       " 'vendor': 'wcd'}"
      ]
     },
     "execution_count": 164,
     "metadata": {},
     "output_type": "execute_result"
    }
   ],
   "source": [
    "ds_training_dict"
   ]
  },
  {
   "cell_type": "code",
   "execution_count": null,
   "metadata": {},
   "outputs": [],
   "source": []
  }
 ],
 "metadata": {
  "kernelspec": {
   "display_name": "Python 3",
   "language": "python",
   "name": "python3"
  },
  "language_info": {
   "codemirror_mode": {
    "name": "ipython",
    "version": 3
   },
   "file_extension": ".py",
   "mimetype": "text/x-python",
   "name": "python",
   "nbconvert_exporter": "python",
   "pygments_lexer": "ipython3",
   "version": "3.7.1"
  }
 },
 "nbformat": 4,
 "nbformat_minor": 2
}
