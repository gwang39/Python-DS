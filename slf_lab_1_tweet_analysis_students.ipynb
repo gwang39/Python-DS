{
 "cells": [
  {
   "cell_type": "markdown",
   "metadata": {},
   "source": [
    "\n",
    "\n",
    "<br>\n",
    "<p style=\"text-align: left;\"><img src='https://s3.amazonaws.com/weclouddata/images/logos/sunlife_logo.png' width='35%'></p>\n",
    "<p style=\"text-align:left;\"><font size='15'><b> Python Lab - Twitter Data Analysis</b></font> <font color='#FC7307' size=6>Student Copy</font></p>\n",
    "<h2 align='left' > Sunlife Data Science Training </h2>\n",
    "\n",
    "<h4 align='left'>  Prepared by: <img src='https://s3.amazonaws.com/weclouddata/images/logos/wcd_logo.png' width='15%'>\n",
    "\n",
    "---\n",
    "    \n",
    "<p style=\"text-align: left;\"> \n",
    "    <h3>Manipulating Tweets with Python</h3> <br>\n",
    "    1. File Handling <br>\n",
    "    2. Strings <br>\n",
    "    3. For loop <br>\n",
    "    4. List & List comprehension <br>\n",
    "    5. Dictionary (wordcount)  \n",
    "</p>"
   ]
  },
  {
   "cell_type": "markdown",
   "metadata": {},
   "source": [
    "# 1. Python File Handling\n",
    "Whatever analysis you do, the first step is to access the data. The data can be opened from a file, read from a database or created programmatically. In this exercise, we will learn how to read data from a file and write data to a file. \n",
    "\n",
    "* The `open()` function opens and returns a file handle that can be used to read or write a file in the usual way. \n",
    "* The code **`f = open('filepath/filename', 'r')`** opens the file into the variable **`f`**, ready for reading operations, and use **`f.close()`** when finished. \n",
    "  * 'r' when the file will only be read\n",
    "  * 'w' for only writing (an existing file with the same name will be erased)\n",
    "  * 'a' opens the file for appending; any data written to the file is automatically added to the end. \n",
    "  * 'r+' opens the file for both reading and writing.\n",
    "  * 'b' binary mode\n",
    "  * The special mode 'rU' is the \"Universal\" option for text files where it's smart about converting different line-endings so they always come through as a simple '\\n'. "
   ]
  },
  {
   "cell_type": "code",
   "execution_count": 1,
   "metadata": {},
   "outputs": [
    {
     "name": "stdout",
     "output_type": "stream",
     "text": [
      "--2019-05-01 12:16:05--  https://s3.amazonaws.com/weclouddata/datasets/random/tweets_parsed.txt\n",
      "Resolving s3.amazonaws.com... 52.216.114.69\n",
      "Connecting to s3.amazonaws.com|52.216.114.69|:443... connected.\n",
      "HTTP request sent, awaiting response... 200 OK\n",
      "Length: 86538 (85K) [text/plain]\n",
      "Saving to: “tweets_parsed.txt.1”\n",
      "\n",
      "100%[======================================>] 86,538      --.-K/s   in 0.003s  \n",
      "\n",
      "2019-05-01 12:16:05 (30.1 MB/s) - “tweets_parsed.txt.1” saved [86538/86538]\n",
      "\n",
      "--2019-05-01 12:16:05--  http://./\n",
      "Resolving .... failed: No address associated with hostname.\n",
      "wget: unable to resolve host address “.”\n",
      "FINISHED --2019-05-01 12:16:05--\n",
      "Downloaded: 1 files, 85K in 0.003s (30.1 MB/s)\n"
     ]
    }
   ],
   "source": [
    "!wget 'https://s3.amazonaws.com/weclouddata/datasets/random/tweets_parsed.txt' .\n",
    "!wget 'https://s3.amazonaws.com/weclouddata/datasets/random/tweets_json.txt' ."
   ]
  },
  {
   "cell_type": "markdown",
   "metadata": {},
   "source": [
    "##  1.1 Read File One Line At a Time\n"
   ]
  },
  {
   "cell_type": "code",
   "execution_count": 2,
   "metadata": {},
   "outputs": [],
   "source": [
    "# Read File One Line At a Time\n",
    "\n",
    "filename = './tweets_parsed.txt'\n",
    "\n",
    "f = open(filename, 'r', encoding=\"utf-8\")      # open the file for read"
   ]
  },
  {
   "cell_type": "code",
   "execution_count": 5,
   "metadata": {},
   "outputs": [],
   "source": [
    "for line in f:\n",
    "    print(line)"
   ]
  },
  {
   "cell_type": "markdown",
   "metadata": {},
   "source": [
    "### $\\Delta$ Exercise 1.1: Print the first 5 rows "
   ]
  },
  {
   "cell_type": "code",
   "execution_count": null,
   "metadata": {},
   "outputs": [],
   "source": [
    "# Read File One Line At a Time\n",
    "\n",
    "filename = './tweets_parsed.txt'\n",
    "\n",
    "f = open(filename, 'r', encoding=\"utf-8\")      # open the file for read\n",
    "\n",
    "###############################\n",
    "# Insert your code block here\n",
    "###############################\n",
    "\n",
    "        \n",
    "f.close()                                      # close the file"
   ]
  },
  {
   "cell_type": "markdown",
   "metadata": {},
   "source": [
    "## 1.2 Read File into Memory as a List"
   ]
  },
  {
   "cell_type": "code",
   "execution_count": null,
   "metadata": {},
   "outputs": [],
   "source": [
    "import sys\n",
    "\n",
    "filename_twitter = './tweets_parsed.txt'\n",
    "\n",
    "f = open(filename_twitter, 'r', encoding='utf-8')     \n",
    "lines = f.readlines()"
   ]
  },
  {
   "cell_type": "code",
   "execution_count": null,
   "metadata": {},
   "outputs": [],
   "source": [
    "# Read File Into Memory First\n",
    "import sys\n",
    "\n",
    "filename_twitter = './tweets_parsed.txt'\n",
    "\n",
    "f = open(filename_twitter, 'r', encoding='latin-1')     \n",
    "lines = f.readlines()      # In this case, the lines are read into memory as a list\n",
    "print (lines)\n",
    "print (\"data type of lines: {0}\".format(type(lines)))\n",
    "f.close()\n",
    "    "
   ]
  },
  {
   "cell_type": "code",
   "execution_count": null,
   "metadata": {},
   "outputs": [],
   "source": []
  },
  {
   "cell_type": "markdown",
   "metadata": {},
   "source": [
    "## 1.3 Write to a File"
   ]
  },
  {
   "cell_type": "code",
   "execution_count": null,
   "metadata": {},
   "outputs": [],
   "source": [
    "# Write file\n",
    "import sys\n",
    "\n",
    "filename_twitter = './tweets_parsed.txt'\n",
    "filename_output = './tweets_parsed_5.txt'\n",
    "\n",
    "twitter = open(filename_twitter, 'r', encoding=\"utf-8\")     # open the file\n",
    "output = open(filename_output, 'w', encoding=\"utf-8\")     # open the file for writing data\n",
    "\n",
    "\n",
    "nrows = 0\n",
    "for z in twitter:               # read into memory one line at a time, will never run out of memory!!!\n",
    "    nrows += 1\n",
    "    if nrows < 5:\n",
    "        output.write(z)\n",
    "        \n",
    "twitter.close()\n",
    "output.close()\n",
    "# Note that you just wrote data to a file named \"text.txt\". You don't see any output"
   ]
  },
  {
   "cell_type": "code",
   "execution_count": null,
   "metadata": {},
   "outputs": [],
   "source": []
  },
  {
   "cell_type": "markdown",
   "metadata": {},
   "source": [
    "# 2. String Manipulation\n"
   ]
  },
  {
   "cell_type": "markdown",
   "metadata": {},
   "source": [
    "## 2.1 String Slicing and Indexing"
   ]
  },
  {
   "cell_type": "code",
   "execution_count": 1,
   "metadata": {},
   "outputs": [
    {
     "name": "stdout",
     "output_type": "stream",
     "text": [
      "amelia clarke\n",
      "rachel r\n",
      "eva\n",
      "amelia clarke\n"
     ]
    }
   ],
   "source": [
    "# Read File One Line At a Time\n",
    "\n",
    "filename = './tweets_parsed_5.txt'\n",
    "\n",
    "f = open(filename, 'r', encoding=\"utf-8\")      # open the file for read\n",
    "\n",
    "for line in f:               # read into memory one line at a time, will never run out of memory!!!\n",
    "    line_list = line.lower().split('\\t')\n",
    "    username = line_list[-1].strip()\n",
    "    print(username)\n",
    "\n",
    "f.close()                    # close the file"
   ]
  },
  {
   "cell_type": "markdown",
   "metadata": {},
   "source": [
    "### $\\Delta$ Exercise 2.1 - Get all retweets and print\n"
   ]
  },
  {
   "cell_type": "code",
   "execution_count": null,
   "metadata": {},
   "outputs": [],
   "source": [
    "# Read File One Line At a Time\n",
    "\n",
    "filename = './tweets_parsed.txt'\n",
    "\n",
    "f = open(filename, 'r', encoding=\"utf-8\")      # open the file for read\n",
    "\n",
    "for line in f:               # read into memory one line at a time, will never run out of memory!!!\n",
    "    line_list = line.lower().split('\\t')\n",
    "    tweet = line_list[-2]\n",
    "    #print(tweet)\n",
    "    \n",
    "    ###############################\n",
    "    # Insert your code block here\n",
    "    ###############################\n",
    "    \n",
    "f.close()                    # close the file"
   ]
  },
  {
   "cell_type": "markdown",
   "metadata": {},
   "source": [
    "## 2.2 String Methods"
   ]
  },
  {
   "cell_type": "markdown",
   "metadata": {},
   "source": [
    "`\n",
    "s.lower()  \n",
    "s.upper()   \n",
    "s.capitalize()        \n",
    "s.strip()   \n",
    "s.isalpha()  \n",
    "s.isdigit()  \n",
    "s.isspace()  \n",
    "s.startswith()  \n",
    "s.endswith()  \n",
    "s.replace()\n",
    "s.split()\n",
    "s.join()\n",
    "`"
   ]
  },
  {
   "cell_type": "markdown",
   "metadata": {},
   "source": [
    "### $\\Delta$ 2.2 Exercise 1 - Find all retweets that startswith \"rt \""
   ]
  },
  {
   "cell_type": "code",
   "execution_count": null,
   "metadata": {},
   "outputs": [],
   "source": [
    "filename = './tweets_parsed.txt'\n",
    "\n",
    "f = open(filename, 'r', encoding=\"utf-8\")      # open the file for read\n",
    "\n",
    "for line in f:               # read into memory one line at a time, will never run out of memory!!!\n",
    "    line_list = line.lower().split('\\t')\n",
    "    tweet = line_list[-2]\n",
    "    \n",
    "    ###############################\n",
    "    # Insert your code block below\n",
    "    ###############################\n",
    "\n",
    "f.close()                    # close the file"
   ]
  },
  {
   "cell_type": "markdown",
   "metadata": {},
   "source": [
    "### $\\Delta$ 2.2 Exercise 2 - Find all tweets that contain hashtag \"#allstardadjoke\""
   ]
  },
  {
   "cell_type": "code",
   "execution_count": null,
   "metadata": {},
   "outputs": [],
   "source": [
    "filename = './tweets_parsed.txt'\n",
    "\n",
    "f = open(filename, 'r', encoding=\"utf-8\")      # open the file for read\n",
    "\n",
    "dadjoke_tweets = []\n",
    "for line in f:               # read into memory one line at a time, will never run out of memory!!!\n",
    "    line_list = line.lower().split('\\t')\n",
    "    tweet = line_list[-2]\n",
    "    ###############################\n",
    "    # Insert your code block below\n",
    "    ###############################\n",
    "\n",
    "\n",
    "f.close()                    # close the file"
   ]
  },
  {
   "cell_type": "code",
   "execution_count": null,
   "metadata": {},
   "outputs": [],
   "source": [
    "print(len(dadjoke_tweets))"
   ]
  },
  {
   "cell_type": "code",
   "execution_count": null,
   "metadata": {},
   "outputs": [],
   "source": [
    "dadjoke_tweets[12]"
   ]
  },
  {
   "cell_type": "markdown",
   "metadata": {},
   "source": [
    "### $\\Delta$ 2.2 Exercise 3 - Use string.join() method to join `id' and screen_name` into a string"
   ]
  },
  {
   "cell_type": "code",
   "execution_count": null,
   "metadata": {},
   "outputs": [],
   "source": [
    "filename = './tweets_parsed.txt'\n",
    "\n",
    "f = open(filename, 'r', encoding=\"utf-8\")      # open the file for read\n",
    "\n",
    "for line in f:               # read into memory one line at a time, will never run out of memory!!!\n",
    "    line_list = line.lower().split('\\t')\n",
    "    id = line_list[1]\n",
    "    name = line_list[-1].strip()\n",
    "    ###############################\n",
    "    # Insert your code block below\n",
    "    ###############################\n",
    "\n",
    "f.close()                    # close the file"
   ]
  },
  {
   "cell_type": "markdown",
   "metadata": {},
   "source": [
    "---\n",
    "# 3. List and List Comprehension\n"
   ]
  },
  {
   "cell_type": "markdown",
   "metadata": {},
   "source": [
    "**`List`** is probably one of the most important containers in python. \n",
    "To learn more about list: [Google Python Class on List](https://developers.google.com/edu/python/lists)\n",
    "\n",
    "Key things to master:\n",
    "1. Iterate through list elements\n",
    "2. Sorting a list\n",
    "3. List Comprehension"
   ]
  },
  {
   "cell_type": "markdown",
   "metadata": {},
   "source": [
    "## 3.1 - Sort a list of hashtags by count in reverse order"
   ]
  },
  {
   "cell_type": "code",
   "execution_count": null,
   "metadata": {},
   "outputs": [],
   "source": [
    "help(sorted)"
   ]
  },
  {
   "cell_type": "code",
   "execution_count": 11,
   "metadata": {},
   "outputs": [
    {
     "data": {
      "text/plain": [
       "[('#20bottlesatatime', 4),\n",
       " ('#AllStarDadJoke', 230),\n",
       " ('#BBQ', 2),\n",
       " ('#CarWash', 5),\n",
       " ('#Charlottetown', 6),\n",
       " ('#CityofPG', 4),\n",
       " ('#Fire', 2),\n",
       " ('#FireFighters', 4),\n",
       " ('#JumpstartDay', 8),\n",
       " ('#JumpstartMonth', 36),\n",
       " ('#Kamloops', 4),\n",
       " ('#KamloopsY', 2),\n",
       " ('#Music', 2),\n",
       " ('#PEI', 6),\n",
       " ('#PrinceGeorge', 4),\n",
       " ('#SilentAuction', 2),\n",
       " ('#Tantallon', 4),\n",
       " ('#Woofstock2018', 2),\n",
       " ('#springboxwa', 3),\n",
       " ('#wet', 4)]"
      ]
     },
     "execution_count": 11,
     "metadata": {},
     "output_type": "execute_result"
    }
   ],
   "source": [
    "top_hashtags = [('#AllStarDadJoke', 230),\n",
    " ('#JumpstartMonth', 36),\n",
    " ('#JumpstartDay', 8),\n",
    " ('#Charlottetown', 6),\n",
    " ('#PEI', 6),\n",
    " ('#CarWash', 5),\n",
    " ('#FireFighters', 4),\n",
    " ('#CityofPG', 4),\n",
    " ('#PrinceGeorge', 4),\n",
    " ('#wet', 4),\n",
    " ('#Kamloops', 4),\n",
    " ('#20bottlesatatime', 4),\n",
    " ('#Tantallon', 4),\n",
    " ('#springboxwa', 3),\n",
    " ('#KamloopsY', 2),\n",
    " ('#Woofstock2018', 2),\n",
    " ('#Music', 2),\n",
    " ('#BBQ', 2),\n",
    " ('#SilentAuction', 2),\n",
    " ('#Fire', 2)]\n",
    "\n",
    "top_hashtags_sorted = sorted(top_hashtags, key=lambda x: x[1], reverse=True)\n",
    "top_hashtags_sorted"
   ]
  },
  {
   "cell_type": "markdown",
   "metadata": {},
   "source": [
    "## 3.2 - Iterate through a list with for loop"
   ]
  },
  {
   "cell_type": "code",
   "execution_count": null,
   "metadata": {},
   "outputs": [],
   "source": [
    "# Remove the '#' from hashtags\n",
    "top_tags = []\n",
    "for ht in top_hashtags:\n",
    "    tag = ht[0].replace('#', '')\n",
    "    top_tags.append(tag)\n",
    "    \n",
    "print(top_tags)\n",
    "sorted(top_tags, reverse=True)"
   ]
  },
  {
   "cell_type": "markdown",
   "metadata": {},
   "source": [
    "### $\\Delta$ Exercise 3.2 - Remove '#' from hashtags using list comprehension"
   ]
  },
  {
   "cell_type": "markdown",
   "metadata": {},
   "source": [
    "###### Expected output\n",
    "`['AllStarDadJoke',\n",
    " 'JumpstartMonth',\n",
    " 'JumpstartDay',\n",
    " 'Charlottetown',\n",
    " 'PEI',\n",
    " 'CarWash',\n",
    " 'FireFighters',\n",
    " 'CityofPG',\n",
    " 'PrinceGeorge',\n",
    " 'wet',\n",
    " 'Kamloops',\n",
    " '20bottlesatatime',\n",
    " 'Tantallon',\n",
    " 'springboxwa',\n",
    " 'KamloopsY',\n",
    " 'Woofstock2018',\n",
    " 'Music',\n",
    " 'BBQ',\n",
    " 'SilentAuction',\n",
    " 'Fire']`"
   ]
  },
  {
   "cell_type": "code",
   "execution_count": null,
   "metadata": {},
   "outputs": [],
   "source": [
    "###############################\n",
    "# Insert your code block below\n",
    "###############################\n",
    "\n"
   ]
  },
  {
   "cell_type": "markdown",
   "metadata": {},
   "source": []
  },
  {
   "cell_type": "markdown",
   "metadata": {},
   "source": [
    "# 4. Dictionary\n",
    "\n",
    "Python's efficient key/value hash table structure is called a \"dict\" and we use a key to retrieve corresponding values stored in a \"dict\""
   ]
  },
  {
   "cell_type": "code",
   "execution_count": null,
   "metadata": {},
   "outputs": [],
   "source": [
    "top_hashtags_dict = {'#AllStarDadJoke': 230, '#JumpstartMonth': 36, '#JumpstartDay': 8, '#Charlottetown': 6, '#PEI': 6, '#CarWash': 5, '#FireFighters': 4, '#CityofPG': 4, '#PrinceGeorge': 4, '#wet': 4, '#Kamloops': 4, '#20bottlesatatime': 4, '#Tantallon': 4, '#springboxwa': 3, '#KamloopsY': 2, '#Woofstock2018': 2, '#Music': 2, '#BBQ': 2, '#SilentAuction': 2, '#Fire': 2}"
   ]
  },
  {
   "cell_type": "code",
   "execution_count": null,
   "metadata": {},
   "outputs": [],
   "source": [
    "top_hashtags_dict"
   ]
  },
  {
   "cell_type": "markdown",
   "metadata": {},
   "source": [
    "## 4.1 Access dictionary keys and values"
   ]
  },
  {
   "cell_type": "code",
   "execution_count": null,
   "metadata": {},
   "outputs": [],
   "source": [
    "top_hashtags_dict = {'#AllStarDadJoke': 230, '#JumpstartMonth': 36, '#JumpstartDay': 8, '#Charlottetown': 6, '#PEI': 6, '#CarWash': 5, '#FireFighters': 4, '#CityofPG': 4, '#PrinceGeorge': 4, '#wet': 4, '#Kamloops': 4, '#20bottlesatatime': 4, '#Tantallon': 4, '#springboxwa': 3, '#KamloopsY': 2, '#Woofstock2018': 2, '#Music': 2, '#BBQ': 2, '#SilentAuction': 2, '#Fire': 2}\n",
    "\n",
    "# get a list of all hashtags (keys)\n",
    "top_keys = top_hashtags_dict.keys()\n",
    "print(top_keys)\n",
    "\n",
    "\n",
    "# get a list of all counts for the hashtags\n",
    "top_values = top_hashtags_dict.values()\n",
    "print(top_values)\n",
    "\n",
    "# get the count of a specific hashtag\n",
    "\n",
    "top_hashtags_dict['#BBQ']"
   ]
  },
  {
   "cell_type": "code",
   "execution_count": null,
   "metadata": {},
   "outputs": [],
   "source": [
    "top_hashtags_dict.items()"
   ]
  },
  {
   "cell_type": "markdown",
   "metadata": {},
   "source": [
    "## 4.2 Calculate word counts for all hashtags"
   ]
  },
  {
   "cell_type": "code",
   "execution_count": 12,
   "metadata": {},
   "outputs": [],
   "source": [
    "\"\"\" Extract all hashtags from a twitter file \"\"\"\n",
    "\n",
    "import re\n",
    "\n",
    "f = open('./tweets_parsed.txt', encoding=\"utf-8\")\n",
    "text = f.read()\n"
   ]
  },
  {
   "cell_type": "code",
   "execution_count": null,
   "metadata": {},
   "outputs": [],
   "source": [
    "hashtag_list = re.findall(r'#\\w*', text)\n",
    "\n",
    "hashtag_cnt = {}\n",
    "\n",
    "###############################\n",
    "# Insert your code block below\n",
    "###############################\n",
    "\n",
    "sorted(hashtag_cnt.items(), key=lambda x: x[1], reverse=True)[:20]"
   ]
  },
  {
   "cell_type": "markdown",
   "metadata": {},
   "source": [
    "### $\\Omega$ Alternative solution: dictionary comprehension"
   ]
  },
  {
   "cell_type": "code",
   "execution_count": null,
   "metadata": {
    "scrolled": true
   },
   "outputs": [],
   "source": [
    "\"\"\" Extract all hashtags from a twitter file \"\"\"\n",
    "\n",
    "import re\n",
    "\n",
    "f = open('./tweets_parsed.txt', encoding=\"utf-8\")\n",
    "text = f.read()\n",
    "\n",
    "hashtag_list = re.findall(r'#\\w*', text)\n",
    "\n",
    "d = {}\n",
    "\n",
    "###############################\n",
    "# Insert your code block below\n",
    "###############################\n"
   ]
  },
  {
   "cell_type": "code",
   "execution_count": null,
   "metadata": {},
   "outputs": [],
   "source": [
    "sorted(d.items(), key=lambda x: x[1], reverse=True)[:20]"
   ]
  },
  {
   "cell_type": "markdown",
   "metadata": {},
   "source": [
    "### $\\Omega$ Alternative solution: using dictionary `Counter()` "
   ]
  },
  {
   "cell_type": "code",
   "execution_count": 24,
   "metadata": {},
   "outputs": [],
   "source": [
    "\"\"\" Extract all hashtags from a twitter file \"\"\"\n",
    "\n",
    "import re\n",
    "\n",
    "f = open('./tweets_parsed.txt', encoding=\"utf-8\")\n",
    "text = f.read()\n",
    "\n",
    "hashtag_list = re.findall(r'#\\w*', text)"
   ]
  },
  {
   "cell_type": "code",
   "execution_count": null,
   "metadata": {},
   "outputs": [],
   "source": [
    "from collections import Counter\n",
    "\n",
    "###############################\n",
    "# Insert your code block below\n",
    "###############################\n"
   ]
  },
  {
   "cell_type": "code",
   "execution_count": null,
   "metadata": {},
   "outputs": [],
   "source": [
    "sorted(hashtag_cnt.items(), key=lambda x: x[1], reverse=True)[:20]"
   ]
  },
  {
   "cell_type": "code",
   "execution_count": null,
   "metadata": {},
   "outputs": [],
   "source": []
  }
 ],
 "metadata": {
  "anaconda-cloud": {},
  "kernelspec": {
   "display_name": "Python 3",
   "language": "python",
   "name": "python3"
  },
  "language_info": {
   "codemirror_mode": {
    "name": "ipython",
    "version": 3
   },
   "file_extension": ".py",
   "mimetype": "text/x-python",
   "name": "python",
   "nbconvert_exporter": "python",
   "pygments_lexer": "ipython3",
   "version": "3.7.1"
  }
 },
 "nbformat": 4,
 "nbformat_minor": 2
}
